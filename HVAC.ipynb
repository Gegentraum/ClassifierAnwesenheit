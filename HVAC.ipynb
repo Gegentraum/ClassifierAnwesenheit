{
 "cells": [
  {
   "cell_type": "code",
   "execution_count": 572,
   "metadata": {
    "scrolled": false
   },
   "outputs": [
    {
     "data": {
      "text/html": [
       "<div>\n",
       "<style scoped>\n",
       "    .dataframe tbody tr th:only-of-type {\n",
       "        vertical-align: middle;\n",
       "    }\n",
       "\n",
       "    .dataframe tbody tr th {\n",
       "        vertical-align: top;\n",
       "    }\n",
       "\n",
       "    .dataframe thead th {\n",
       "        text-align: right;\n",
       "    }\n",
       "</style>\n",
       "<table border=\"1\" class=\"dataframe\">\n",
       "  <thead>\n",
       "    <tr style=\"text-align: right;\">\n",
       "      <th></th>\n",
       "      <th>Temperatur</th>\n",
       "      <th>Luftfeuchtigkeit</th>\n",
       "      <th>CO2</th>\n",
       "      <th>Arbeitszeit</th>\n",
       "    </tr>\n",
       "    <tr>\n",
       "      <th>Datum</th>\n",
       "      <th></th>\n",
       "      <th></th>\n",
       "      <th></th>\n",
       "      <th></th>\n",
       "    </tr>\n",
       "  </thead>\n",
       "  <tbody>\n",
       "    <tr>\n",
       "      <th>2017-02-04 00:01:00</th>\n",
       "      <td>20.050000</td>\n",
       "      <td>33.545000</td>\n",
       "      <td>507.000000</td>\n",
       "      <td>False</td>\n",
       "    </tr>\n",
       "    <tr>\n",
       "      <th>2017-02-04 00:02:00</th>\n",
       "      <td>20.033333</td>\n",
       "      <td>33.626667</td>\n",
       "      <td>505.333333</td>\n",
       "      <td>False</td>\n",
       "    </tr>\n",
       "    <tr>\n",
       "      <th>2017-02-04 00:03:00</th>\n",
       "      <td>20.000000</td>\n",
       "      <td>33.590000</td>\n",
       "      <td>505.500000</td>\n",
       "      <td>False</td>\n",
       "    </tr>\n",
       "    <tr>\n",
       "      <th>2017-02-04 00:04:00</th>\n",
       "      <td>20.000000</td>\n",
       "      <td>33.645000</td>\n",
       "      <td>504.500000</td>\n",
       "      <td>False</td>\n",
       "    </tr>\n",
       "    <tr>\n",
       "      <th>2017-02-04 00:04:59</th>\n",
       "      <td>20.000000</td>\n",
       "      <td>33.626667</td>\n",
       "      <td>504.666667</td>\n",
       "      <td>False</td>\n",
       "    </tr>\n",
       "    <tr>\n",
       "      <th>...</th>\n",
       "      <td>...</td>\n",
       "      <td>...</td>\n",
       "      <td>...</td>\n",
       "      <td>...</td>\n",
       "    </tr>\n",
       "    <tr>\n",
       "      <th>2017-02-08 09:15:00</th>\n",
       "      <td>20.815000</td>\n",
       "      <td>27.717500</td>\n",
       "      <td>1505.250000</td>\n",
       "      <td>True</td>\n",
       "    </tr>\n",
       "    <tr>\n",
       "      <th>2017-02-08 09:16:00</th>\n",
       "      <td>20.865000</td>\n",
       "      <td>27.745000</td>\n",
       "      <td>1514.500000</td>\n",
       "      <td>True</td>\n",
       "    </tr>\n",
       "    <tr>\n",
       "      <th>2017-02-08 09:16:59</th>\n",
       "      <td>20.890000</td>\n",
       "      <td>27.745000</td>\n",
       "      <td>1521.500000</td>\n",
       "      <td>True</td>\n",
       "    </tr>\n",
       "    <tr>\n",
       "      <th>2017-02-08 09:17:59</th>\n",
       "      <td>20.890000</td>\n",
       "      <td>28.022500</td>\n",
       "      <td>1632.000000</td>\n",
       "      <td>True</td>\n",
       "    </tr>\n",
       "    <tr>\n",
       "      <th>2017-02-08 09:19:00</th>\n",
       "      <td>21.000000</td>\n",
       "      <td>28.100000</td>\n",
       "      <td>1864.000000</td>\n",
       "      <td>True</td>\n",
       "    </tr>\n",
       "  </tbody>\n",
       "</table>\n",
       "<p>6312 rows × 4 columns</p>\n",
       "</div>"
      ],
      "text/plain": [
       "                     Temperatur  Luftfeuchtigkeit          CO2  Arbeitszeit\n",
       "Datum                                                                      \n",
       "2017-02-04 00:01:00   20.050000         33.545000   507.000000        False\n",
       "2017-02-04 00:02:00   20.033333         33.626667   505.333333        False\n",
       "2017-02-04 00:03:00   20.000000         33.590000   505.500000        False\n",
       "2017-02-04 00:04:00   20.000000         33.645000   504.500000        False\n",
       "2017-02-04 00:04:59   20.000000         33.626667   504.666667        False\n",
       "...                         ...               ...          ...          ...\n",
       "2017-02-08 09:15:00   20.815000         27.717500  1505.250000         True\n",
       "2017-02-08 09:16:00   20.865000         27.745000  1514.500000         True\n",
       "2017-02-08 09:16:59   20.890000         27.745000  1521.500000         True\n",
       "2017-02-08 09:17:59   20.890000         28.022500  1632.000000         True\n",
       "2017-02-08 09:19:00   21.000000         28.100000  1864.000000         True\n",
       "\n",
       "[6312 rows x 4 columns]"
      ]
     },
     "execution_count": 572,
     "metadata": {},
     "output_type": "execute_result"
    }
   ],
   "source": [
    "import pandas as pd\n",
    "import plotly.express as px\n",
    "import datetime as dt\n",
    "df = pd.read_csv(\"train.csv\",index_col=0)\n",
    "df.Datum = pd.to_datetime(df[\"Datum\"])\n",
    "df.set_index(df[\"Datum\"],inplace=True)\n",
    "\n",
    "df[\"Arbeitszeit\"] = (df[\"Datum\"].dt.hour.between(8,17))&(df[\"Datum\"].dt.dayofweek < 5)&~((df[\"Datum\"].dt.hour==13)&(df[\"Datum\"].dt.minute.between(0,20)))\n",
    "df.drop([\"Datum\",\"Wassergehalt\"],axis=1,inplace=True)\n",
    "df.dropna(inplace=True)\n",
    "\n",
    "\n",
    "df_test = pd.read_csv(\"test.csv\",index_col=0)\n",
    "df_test.Datum = pd.to_datetime(df_test[\"Datum\"])\n",
    "df_test.set_index(df_test[\"Datum\"],inplace=True)\n",
    "df_test[\"Arbeitszeit\"] = (df_test[\"Datum\"].dt.hour.between(8,17))&(df_test[\"Datum\"].dt.dayofweek < 5)&~((df_test[\"Datum\"].dt.hour==13)&(df_test[\"Datum\"].dt.minute.between(0,20)))\n",
    "df_test.drop([\"Datum\",\"Wassergehalt\"],axis=1,inplace=True)\n",
    "df_test.dropna(inplace=True)\n",
    "\n",
    "df_test"
   ]
  },
  {
   "cell_type": "code",
   "execution_count": 573,
   "metadata": {
    "scrolled": true
   },
   "outputs": [
    {
     "data": {
      "text/html": [
       "<div>\n",
       "<style scoped>\n",
       "    .dataframe tbody tr th:only-of-type {\n",
       "        vertical-align: middle;\n",
       "    }\n",
       "\n",
       "    .dataframe tbody tr th {\n",
       "        vertical-align: top;\n",
       "    }\n",
       "\n",
       "    .dataframe thead th {\n",
       "        text-align: right;\n",
       "    }\n",
       "</style>\n",
       "<table border=\"1\" class=\"dataframe\">\n",
       "  <thead>\n",
       "    <tr style=\"text-align: right;\">\n",
       "      <th></th>\n",
       "      <th>Temperatur</th>\n",
       "      <th>Luftfeuchtigkeit</th>\n",
       "      <th>CO2</th>\n",
       "      <th>Anwesenheit</th>\n",
       "    </tr>\n",
       "  </thead>\n",
       "  <tbody>\n",
       "    <tr>\n",
       "      <th>count</th>\n",
       "      <td>14225.000000</td>\n",
       "      <td>14225.000000</td>\n",
       "      <td>14225.000000</td>\n",
       "      <td>14225.000000</td>\n",
       "    </tr>\n",
       "    <tr>\n",
       "      <th>mean</th>\n",
       "      <td>21.005722</td>\n",
       "      <td>25.941156</td>\n",
       "      <td>628.075549</td>\n",
       "      <td>0.256591</td>\n",
       "    </tr>\n",
       "    <tr>\n",
       "      <th>std</th>\n",
       "      <td>1.148986</td>\n",
       "      <td>4.581969</td>\n",
       "      <td>279.382924</td>\n",
       "      <td>0.436767</td>\n",
       "    </tr>\n",
       "    <tr>\n",
       "      <th>min</th>\n",
       "      <td>19.000000</td>\n",
       "      <td>16.745000</td>\n",
       "      <td>412.750000</td>\n",
       "      <td>0.000000</td>\n",
       "    </tr>\n",
       "    <tr>\n",
       "      <th>25%</th>\n",
       "      <td>20.290000</td>\n",
       "      <td>22.675000</td>\n",
       "      <td>446.000000</td>\n",
       "      <td>0.000000</td>\n",
       "    </tr>\n",
       "    <tr>\n",
       "      <th>50%</th>\n",
       "      <td>20.830000</td>\n",
       "      <td>25.722500</td>\n",
       "      <td>512.000000</td>\n",
       "      <td>0.000000</td>\n",
       "    </tr>\n",
       "    <tr>\n",
       "      <th>75%</th>\n",
       "      <td>21.700000</td>\n",
       "      <td>28.650000</td>\n",
       "      <td>694.750000</td>\n",
       "      <td>1.000000</td>\n",
       "    </tr>\n",
       "    <tr>\n",
       "      <th>max</th>\n",
       "      <td>24.408333</td>\n",
       "      <td>39.117500</td>\n",
       "      <td>2028.500000</td>\n",
       "      <td>1.000000</td>\n",
       "    </tr>\n",
       "  </tbody>\n",
       "</table>\n",
       "</div>"
      ],
      "text/plain": [
       "         Temperatur  Luftfeuchtigkeit           CO2   Anwesenheit\n",
       "count  14225.000000      14225.000000  14225.000000  14225.000000\n",
       "mean      21.005722         25.941156    628.075549      0.256591\n",
       "std        1.148986          4.581969    279.382924      0.436767\n",
       "min       19.000000         16.745000    412.750000      0.000000\n",
       "25%       20.290000         22.675000    446.000000      0.000000\n",
       "50%       20.830000         25.722500    512.000000      0.000000\n",
       "75%       21.700000         28.650000    694.750000      1.000000\n",
       "max       24.408333         39.117500   2028.500000      1.000000"
      ]
     },
     "execution_count": 573,
     "metadata": {},
     "output_type": "execute_result"
    }
   ],
   "source": [
    "df.describe()"
   ]
  },
  {
   "cell_type": "markdown",
   "metadata": {},
   "source": [
    "## Ausreißer werden entfernt\n",
    "- macht keinen großen Unterschied für die Performance aber etwas sauberer\n",
    "- fehlende Werte füllen wir nicht auf weil es nicht genug Daten gibt um sie verlässlich intelligent zu füllen\n"
   ]
  },
  {
   "cell_type": "code",
   "execution_count": 574,
   "metadata": {},
   "outputs": [],
   "source": [
    "features = [\"Luftfeuchtigkeit\", \"Temperatur\", \"CO2\"]\n",
    "for feature in features:\n",
    "    df[f\"Ausreisserdropper{feature}\"] = df[feature]/df[feature].shift(1)\n",
    "#    df = df[~df[\"Ausreisserdropper\"].between(0.998,1.002)]\n",
    "#    cols = ['col_1', 'col_2'] # one or more\n",
    "    Q1 = df[f\"Ausreisserdropper{feature}\"].quantile(0.04)\n",
    "    Q3 = df[f\"Ausreisserdropper{feature}\"].quantile(0.96)\n",
    "    IQR = Q3 - Q1\n",
    "    df = df[~((df[f\"Ausreisserdropper{feature}\"] < (Q1 - 1.5 * IQR)) |(df[f\"Ausreisserdropper{feature}\"] > (Q3 + 1.5 * IQR)))]\n",
    "#px.histogram(df[~df[\"Ausreisserdropper\"].between(0.996,1.004)],x=\"Ausreisserdropper\")\n",
    "df.drop(columns=[\"AusreisserdropperTemperatur\",\"AusreisserdropperLuftfeuchtigkeit\",\"AusreisserdropperCO2\"],inplace=True)\n",
    "df.dropna(inplace=True)\n",
    "\n",
    "df['Date'] = df.index.date\n",
    "mask = df.Date != pd.to_datetime('2017-02-02')\n",
    "df = df[mask]\n",
    "df.drop([\"Date\"],axis=1,inplace=True)"
   ]
  },
  {
   "cell_type": "code",
   "execution_count": 575,
   "metadata": {},
   "outputs": [
    {
     "data": {
      "text/plain": [
       "<matplotlib.axes._subplots.AxesSubplot at 0x23537fdaee0>"
      ]
     },
     "execution_count": 575,
     "metadata": {},
     "output_type": "execute_result"
    },
    {
     "data": {
      "image/png": "[encoded data removed]",
      "text/plain": [
       "<Figure size 432x288 with 2 Axes>"
      ]
     },
     "metadata": {
      "needs_background": "light"
     },
     "output_type": "display_data"
    }
   ],
   "source": [
    "from seaborn import heatmap, color_palette\n",
    "#heatmap(df.drop(columns=\"Anwesenheit\").corr(),annot=True,cmap=color_palette(\"PiYG\", 12))\n",
    "heatmap(df.corr(),annot=True,cmap=color_palette(\"PiYG\", 12))\n",
    "\n",
    "#heatmap(df_test.corr(),annot=True,cmap=color_palette(\"PiYG\", 12)) \n",
    "#Negativer statt positiver Zusammenhang für Luftfeuchtigkeit und CO2 bei den echten Testdaten!"
   ]
  },
  {
   "cell_type": "code",
   "execution_count": 576,
   "metadata": {
    "scrolled": false
   },
   "outputs": [
    {
     "data": {
      "application/vnd.plotly.v1+json": {
       "config": {
        "plotlyServerURL": "https://plot.ly"
       },
       "data": [
        {
         "alignmentgroup": "True",
         "hovertemplate": "Datum=%{x}<br>CO2=%{y}<br>Anwesenheit=%{marker.color}<extra></extra>",
         "legendgroup": "",
         "marker": {
          "color": [
           1,
           1,
           1,
           0.6101694915254238,
           0.08333333333333333,
           0,
           0,
           0,
           0,
           0,
           0,
           0,
           0,
           0,
           0,
           0,
           0,
           0.3442622950819672,
           1,
           0.9666666666666667,
           1,
           0.9830508474576272,
           0.95,
           0.5409836065573771,
           1,
           1,
           1,
           1,
           0.21666666666666667,
           0,
           0,
           0,
           0,
           0,
           0,
           0,
           0,
           0,
           0,
           0,
           0,
           0.29508196721311475,
           0.847457627118644,
           0.9666666666666667,
           1,
           null,
           null,
           null,
           null,
           null,
           null,
           1,
           0.11666666666666667,
           0,
           0,
           0,
           0,
           0,
           0,
           0,
           0,
           0,
           0,
           0,
           0,
           0.32786885245901637,
           0.9830508474576272,
           1,
           0.9344262295081968,
           1,
           0.75,
           0.11475409836065574,
           0.8103448275862069,
           1,
           1,
           1,
           0.08333333333333333,
           0,
           0,
           0,
           0,
           0,
           0,
           0,
           0,
           0,
           0,
           0,
           0,
           0.21311475409836064,
           1,
           1,
           1,
           0.9310344827586207,
           0.9,
           0.6229508196721312,
           1,
           1,
           1,
           1,
           0.11666666666666667,
           0,
           0,
           0,
           0,
           0,
           0,
           0,
           0,
           0,
           0,
           0,
           0,
           0,
           0,
           0,
           0,
           0,
           0,
           0,
           0,
           0,
           0,
           0,
           0,
           0,
           0,
           0,
           0,
           0,
           0,
           0,
           0,
           0,
           0,
           0,
           0,
           0,
           0,
           0,
           0,
           0,
           0,
           0,
           0,
           0,
           0,
           0,
           0,
           0,
           0,
           0,
           0,
           0,
           0,
           0,
           0,
           0,
           0,
           0,
           0,
           0,
           0.2033898305084746,
           1,
           1,
           1,
           1,
           0.6229508196721312,
           1,
           1,
           1,
           1,
           0.08333333333333333,
           0,
           0,
           0,
           0,
           0,
           0,
           0,
           0,
           0,
           0,
           0,
           0,
           0,
           0.3389830508474576,
           1,
           null,
           null,
           null,
           null,
           null,
           null,
           null,
           null,
           null,
           null,
           null,
           null,
           null,
           null,
           null,
           null,
           null,
           null,
           null,
           null,
           null,
           null,
           null,
           null,
           null,
           null,
           null,
           null,
           1,
           0.9491525423728814,
           1,
           1,
           0.5,
           0,
           0,
           0,
           0,
           0,
           null,
           null,
           null,
           null,
           null,
           null,
           null,
           null,
           null,
           null,
           null,
           null,
           null,
           null,
           null,
           null,
           null,
           null,
           null,
           null,
           null,
           null,
           null,
           null,
           0,
           0,
           0,
           0,
           0,
           0,
           0,
           0,
           0.01694915254237288,
           0.9833333333333333,
           0.9180327868852459,
           1,
           1,
           0.26229508196721313,
           1,
           1,
           1,
           0.9661016949152542,
           0.1,
           0,
           0,
           0,
           0,
           0,
           0
          ],
          "coloraxis": "coloraxis",
          "pattern": {
           "shape": ""
          }
         },
         "name": "",
         "offsetgroup": "",
         "orientation": "v",
         "showlegend": false,
         "textposition": "auto",
         "type": "bar",
         "x": [
          "2017-01-23T14:00:00",
          "2017-01-23T15:00:00",
          "2017-01-23T16:00:00",
          "2017-01-23T17:00:00",
          "2017-01-23T18:00:00",
          "2017-01-23T19:00:00",
          "2017-01-23T20:00:00",
          "2017-01-23T21:00:00",
          "2017-01-23T22:00:00",
          "2017-01-23T23:00:00",
          "2017-01-24T00:00:00",
          "2017-01-24T01:00:00",
          "2017-01-24T02:00:00",
          "2017-01-24T03:00:00",
          "2017-01-24T04:00:00",
          "2017-01-24T05:00:00",
          "2017-01-24T06:00:00",
          "2017-01-24T07:00:00",
          "2017-01-24T08:00:00",
          "2017-01-24T09:00:00",
          "2017-01-24T10:00:00",
          "2017-01-24T11:00:00",
          "2017-01-24T12:00:00",
          "2017-01-24T13:00:00",
          "2017-01-24T14:00:00",
          "2017-01-24T15:00:00",
          "2017-01-24T16:00:00",
          "2017-01-24T17:00:00",
          "2017-01-24T18:00:00",
          "2017-01-24T19:00:00",
          "2017-01-24T20:00:00",
          "2017-01-24T21:00:00",
          "2017-01-24T22:00:00",
          "2017-01-24T23:00:00",
          "2017-01-25T00:00:00",
          "2017-01-25T01:00:00",
          "2017-01-25T02:00:00",
          "2017-01-25T03:00:00",
          "2017-01-25T04:00:00",
          "2017-01-25T05:00:00",
          "2017-01-25T06:00:00",
          "2017-01-25T07:00:00",
          "2017-01-25T08:00:00",
          "2017-01-25T09:00:00",
          "2017-01-25T10:00:00",
          "2017-01-25T11:00:00",
          "2017-01-25T12:00:00",
          "2017-01-25T13:00:00",
          "2017-01-25T14:00:00",
          "2017-01-25T15:00:00",
          "2017-01-25T16:00:00",
          "2017-01-25T17:00:00",
          "2017-01-25T18:00:00",
          "2017-01-25T19:00:00",
          "2017-01-25T20:00:00",
          "2017-01-25T21:00:00",
          "2017-01-25T22:00:00",
          "2017-01-25T23:00:00",
          "2017-01-26T00:00:00",
          "2017-01-26T01:00:00",
          "2017-01-26T02:00:00",
          "2017-01-26T03:00:00",
          "2017-01-26T04:00:00",
          "2017-01-26T05:00:00",
          "2017-01-26T06:00:00",
          "2017-01-26T07:00:00",
          "2017-01-26T08:00:00",
          "2017-01-26T09:00:00",
          "2017-01-26T10:00:00",
          "2017-01-26T11:00:00",
          "2017-01-26T12:00:00",
          "2017-01-26T13:00:00",
          "2017-01-26T14:00:00",
          "2017-01-26T15:00:00",
          "2017-01-26T16:00:00",
          "2017-01-26T17:00:00",
          "2017-01-26T18:00:00",
          "2017-01-26T19:00:00",
          "2017-01-26T20:00:00",
          "2017-01-26T21:00:00",
          "2017-01-26T22:00:00",
          "2017-01-26T23:00:00",
          "2017-01-27T00:00:00",
          "2017-01-27T01:00:00",
          "2017-01-27T02:00:00",
          "2017-01-27T03:00:00",
          "2017-01-27T04:00:00",
          "2017-01-27T05:00:00",
          "2017-01-27T06:00:00",
          "2017-01-27T07:00:00",
          "2017-01-27T08:00:00",
          "2017-01-27T09:00:00",
          "2017-01-27T10:00:00",
          "2017-01-27T11:00:00",
          "2017-01-27T12:00:00",
          "2017-01-27T13:00:00",
          "2017-01-27T14:00:00",
          "2017-01-27T15:00:00",
          "2017-01-27T16:00:00",
          "2017-01-27T17:00:00",
          "2017-01-27T18:00:00",
          "2017-01-27T19:00:00",
          "2017-01-27T20:00:00",
          "2017-01-27T21:00:00",
          "2017-01-27T22:00:00",
          "2017-01-27T23:00:00",
          "2017-01-28T00:00:00",
          "2017-01-28T01:00:00",
          "2017-01-28T02:00:00",
          "2017-01-28T03:00:00",
          "2017-01-28T04:00:00",
          "2017-01-28T05:00:00",
          "2017-01-28T06:00:00",
          "2017-01-28T07:00:00",
          "2017-01-28T08:00:00",
          "2017-01-28T09:00:00",
          "2017-01-28T10:00:00",
          "2017-01-28T11:00:00",
          "2017-01-28T12:00:00",
          "2017-01-28T13:00:00",
          "2017-01-28T14:00:00",
          "2017-01-28T15:00:00",
          "2017-01-28T16:00:00",
          "2017-01-28T17:00:00",
          "2017-01-28T18:00:00",
          "2017-01-28T19:00:00",
          "2017-01-28T20:00:00",
          "2017-01-28T21:00:00",
          "2017-01-28T22:00:00",
          "2017-01-28T23:00:00",
          "2017-01-29T00:00:00",
          "2017-01-29T01:00:00",
          "2017-01-29T02:00:00",
          "2017-01-29T03:00:00",
          "2017-01-29T04:00:00",
          "2017-01-29T05:00:00",
          "2017-01-29T06:00:00",
          "2017-01-29T07:00:00",
          "2017-01-29T08:00:00",
          "2017-01-29T09:00:00",
          "2017-01-29T10:00:00",
          "2017-01-29T11:00:00",
          "2017-01-29T12:00:00",
          "2017-01-29T13:00:00",
          "2017-01-29T14:00:00",
          "2017-01-29T15:00:00",
          "2017-01-29T16:00:00",
          "2017-01-29T17:00:00",
          "2017-01-29T18:00:00",
          "2017-01-29T19:00:00",
          "2017-01-29T20:00:00",
          "2017-01-29T21:00:00",
          "2017-01-29T22:00:00",
          "2017-01-29T23:00:00",
          "2017-01-30T00:00:00",
          "2017-01-30T01:00:00",
          "2017-01-30T02:00:00",
          "2017-01-30T03:00:00",
          "2017-01-30T04:00:00",
          "2017-01-30T05:00:00",
          "2017-01-30T06:00:00",
          "2017-01-30T07:00:00",
          "2017-01-30T08:00:00",
          "2017-01-30T09:00:00",
          "2017-01-30T10:00:00",
          "2017-01-30T11:00:00",
          "2017-01-30T12:00:00",
          "2017-01-30T13:00:00",
          "2017-01-30T14:00:00",
          "2017-01-30T15:00:00",
          "2017-01-30T16:00:00",
          "2017-01-30T17:00:00",
          "2017-01-30T18:00:00",
          "2017-01-30T19:00:00",
          "2017-01-30T20:00:00",
          "2017-01-30T21:00:00",
          "2017-01-30T22:00:00",
          "2017-01-30T23:00:00",
          "2017-01-31T00:00:00",
          "2017-01-31T01:00:00",
          "2017-01-31T02:00:00",
          "2017-01-31T03:00:00",
          "2017-01-31T04:00:00",
          "2017-01-31T05:00:00",
          "2017-01-31T06:00:00",
          "2017-01-31T07:00:00",
          "2017-01-31T08:00:00",
          "2017-01-31T09:00:00",
          "2017-01-31T10:00:00",
          "2017-01-31T11:00:00",
          "2017-01-31T12:00:00",
          "2017-01-31T13:00:00",
          "2017-01-31T14:00:00",
          "2017-01-31T15:00:00",
          "2017-01-31T16:00:00",
          "2017-01-31T17:00:00",
          "2017-01-31T18:00:00",
          "2017-01-31T19:00:00",
          "2017-01-31T20:00:00",
          "2017-01-31T21:00:00",
          "2017-01-31T22:00:00",
          "2017-01-31T23:00:00",
          "2017-02-01T00:00:00",
          "2017-02-01T01:00:00",
          "2017-02-01T02:00:00",
          "2017-02-01T03:00:00",
          "2017-02-01T04:00:00",
          "2017-02-01T05:00:00",
          "2017-02-01T06:00:00",
          "2017-02-01T07:00:00",
          "2017-02-01T08:00:00",
          "2017-02-01T09:00:00",
          "2017-02-01T10:00:00",
          "2017-02-01T11:00:00",
          "2017-02-01T12:00:00",
          "2017-02-01T13:00:00",
          "2017-02-01T14:00:00",
          "2017-02-01T15:00:00",
          "2017-02-01T16:00:00",
          "2017-02-01T17:00:00",
          "2017-02-01T18:00:00",
          "2017-02-01T19:00:00",
          "2017-02-01T20:00:00",
          "2017-02-01T21:00:00",
          "2017-02-01T22:00:00",
          "2017-02-01T23:00:00",
          "2017-02-02T00:00:00",
          "2017-02-02T01:00:00",
          "2017-02-02T02:00:00",
          "2017-02-02T03:00:00",
          "2017-02-02T04:00:00",
          "2017-02-02T05:00:00",
          "2017-02-02T06:00:00",
          "2017-02-02T07:00:00",
          "2017-02-02T08:00:00",
          "2017-02-02T09:00:00",
          "2017-02-02T10:00:00",
          "2017-02-02T11:00:00",
          "2017-02-02T12:00:00",
          "2017-02-02T13:00:00",
          "2017-02-02T14:00:00",
          "2017-02-02T15:00:00",
          "2017-02-02T16:00:00",
          "2017-02-02T17:00:00",
          "2017-02-02T18:00:00",
          "2017-02-02T19:00:00",
          "2017-02-02T20:00:00",
          "2017-02-02T21:00:00",
          "2017-02-02T22:00:00",
          "2017-02-02T23:00:00",
          "2017-02-03T00:00:00",
          "2017-02-03T01:00:00",
          "2017-02-03T02:00:00",
          "2017-02-03T03:00:00",
          "2017-02-03T04:00:00",
          "2017-02-03T05:00:00",
          "2017-02-03T06:00:00",
          "2017-02-03T07:00:00",
          "2017-02-03T08:00:00",
          "2017-02-03T09:00:00",
          "2017-02-03T10:00:00",
          "2017-02-03T11:00:00",
          "2017-02-03T12:00:00",
          "2017-02-03T13:00:00",
          "2017-02-03T14:00:00",
          "2017-02-03T15:00:00",
          "2017-02-03T16:00:00",
          "2017-02-03T17:00:00",
          "2017-02-03T18:00:00",
          "2017-02-03T19:00:00",
          "2017-02-03T20:00:00",
          "2017-02-03T21:00:00",
          "2017-02-03T22:00:00",
          "2017-02-03T23:00:00",
          "2017-02-04T00:00:00"
         ],
         "xaxis": "x",
         "y": [
          909.7608395989977,
          1102.7884236453203,
          979.5660031225607,
          822.5628531073445,
          720.4002777777779,
          584.9442622950819,
          513.7556497175141,
          480.2852777777778,
          461.3918032786885,
          451.98361581920904,
          449.3913888888889,
          447.2434426229508,
          440.80197740112993,
          435.19444444444446,
          434.9852459016393,
          435.7980225988701,
          434.8838888888888,
          460.6071038251367,
          651.5615819209038,
          867.7397222222222,
          1115.0882123341146,
          1168.0533696529458,
          1039.7058333333334,
          932.6276346604216,
          1055.239023405972,
          1307.314563492064,
          1375.6773224043714,
          1327.8728813559321,
          1107.8875,
          849.151912568306,
          706.3036723163841,
          623.0158333333335,
          578.8797222222221,
          557.9206214689266,
          542.3211111111111,
          517.8759562841531,
          494.0302259887005,
          481.02456349206346,
          469.461475409836,
          464.17994350282476,
          464.39638888888896,
          486.0581967213114,
          683.0298224374495,
          920.1085317460316,
          1134.4313399778518,
          null,
          null,
          null,
          null,
          null,
          null,
          705.8333333333334,
          655.7277777777779,
          572.3989071038251,
          521.04802259887,
          493.7986111111112,
          476.87295081967216,
          466.2528248587571,
          453.8722222222222,
          444.03749999999997,
          440.32203389830505,
          442.44444444444434,
          443.83743169398906,
          447.6059322033898,
          451.0694444444444,
          473.3715846994536,
          681.8347457627119,
          952.6006944444446,
          1030.2800546448088,
          1099.6652298850574,
          1080.2216666666666,
          907.146174863388,
          914.9663793103447,
          1085.4249999999997,
          1065.1325136612022,
          940.8587570621469,
          728.3222222222224,
          538.0122950819672,
          479.7313218390804,
          464.5388888888889,
          454.4016393442623,
          445.1638418079096,
          444.3263888888888,
          438.79644808743166,
          434.1864406779662,
          432.50277777777774,
          433.08469945355193,
          432.6257062146893,
          433.0388888888889,
          443.84972677595636,
          589.7867231638418,
          757.5741666666668,
          839.651912568306,
          815.7387931034484,
          792.3819444444446,
          665.5092896174863,
          756.3361581920905,
          891.6,
          904.0830601092896,
          862.5833333333333,
          681.3319444444443,
          514.6733333333333,
          459.91807909604523,
          445.33611111111105,
          439.71857923497276,
          437.39971751412435,
          437.43194444444447,
          437.38251366120215,
          438.30508474576277,
          438.88749999999993,
          441.7021857923497,
          442.6610169491526,
          445.4652777777777,
          449.4303278688525,
          453.9241379310344,
          456.71916666666664,
          459.6475409836066,
          455.0576271186441,
          450.7302259887007,
          444.4590163934426,
          441.82627118644075,
          441.0944444444444,
          438.85983606557375,
          437.4110169491526,
          436.7375,
          440.7923497267759,
          441.69067796610165,
          440.02083333333337,
          437.81420765027326,
          438.04802259887015,
          438.38472222222225,
          438.28278688524597,
          437.77683615819205,
          436.86944444444447,
          435.6844262295081,
          433.8615819209039,
          433.62361111111113,
          433.15300546448094,
          434.3474576271187,
          432.52250000000004,
          431.7142076502733,
          431.4350282485875,
          427.5833333333333,
          425.1693989071038,
          421.8449152542374,
          421.80277777777786,
          422.15833333333336,
          424.3742937853108,
          427.22222222222223,
          435.4207650273225,
          441.96551724137925,
          448.5555555555556,
          449.6571038251366,
          452.40960451977395,
          459.8305555555555,
          462.59562841530055,
          469.49717514124296,
          470.1333333333333,
          467.3661202185793,
          462.1129943502824,
          464.2161016949152,
          468.9138888888889,
          479.15819209039546,
          812.9462500000002,
          1204.8245901639348,
          1415.986440677966,
          1385.9777777777779,
          1171.0521857923495,
          1350.6336257309943,
          1759.5491666666667,
          1974.175683060109,
          1960.3149717514118,
          1552.2930555555554,
          1143.9713114754104,
          875.0254237288135,
          691.9459064327486,
          584.9360119047619,
          524.1567796610169,
          487.42514124293785,
          467.4508196721311,
          457.36440677966095,
          451.42222222222216,
          446.5505464480875,
          447.1963276836157,
          449.0611111111111,
          451.23770491803276,
          468.4717514124294,
          676.5239898989898,
          null,
          null,
          null,
          null,
          null,
          null,
          null,
          null,
          null,
          null,
          null,
          null,
          null,
          null,
          null,
          null,
          null,
          null,
          null,
          null,
          null,
          null,
          null,
          null,
          null,
          null,
          null,
          null,
          1023.6388888888889,
          951.1200564971751,
          780.9931693989072,
          735.5522598870057,
          604.5216666666668,
          537.2986111111111,
          505.50454545454545,
          489.86755952380946,
          490.00292397660814,
          497.3084795321638,
          null,
          null,
          null,
          null,
          null,
          null,
          null,
          null,
          null,
          null,
          null,
          null,
          null,
          null,
          null,
          null,
          null,
          null,
          null,
          null,
          null,
          null,
          null,
          null,
          572.2455357142858,
          577.4152298850576,
          578.1336477987421,
          579.6408045977012,
          576.8477011494252,
          564.2470238095237,
          541.7833333333333,
          523.7622950819673,
          516.4209039548022,
          575.8,
          615.5475409836065,
          696.7932203389831,
          629.8536111111111,
          564.2035519125684,
          561.7461988304093,
          576.5449999999998,
          608.792349726776,
          597.8785310734464,
          553.6999999999999,
          515.7418032786885,
          512.2655367231639,
          511.03611111111115,
          510.9699453551912,
          506.98870056497174,
          505.5
         ],
         "yaxis": "y"
        }
       ],
       "layout": {
        "barmode": "relative",
        "coloraxis": {
         "colorbar": {
          "title": {
           "text": "Anwesenheit"
          }
         },
         "colorscale": [
          [
           0,
           "#0d0887"
          ],
          [
           0.1111111111111111,
           "#46039f"
          ],
          [
           0.2222222222222222,
           "#7201a8"
          ],
          [
           0.3333333333333333,
           "#9c179e"
          ],
          [
           0.4444444444444444,
           "#bd3786"
          ],
          [
           0.5555555555555556,
           "#d8576b"
          ],
          [
           0.6666666666666666,
           "#ed7953"
          ],
          [
           0.7777777777777778,
           "#fb9f3a"
          ],
          [
           0.8888888888888888,
           "#fdca26"
          ],
          [
           1,
           "#f0f921"
          ]
         ]
        },
        "legend": {
         "tracegroupgap": 0
        },
        "margin": {
         "t": 60
        },
        "template": {
         "data": {
          "bar": [
           {
            "error_x": {
             "color": "#2a3f5f"
            },
            "error_y": {
             "color": "#2a3f5f"
            },
            "marker": {
             "line": {
              "color": "#E5ECF6",
              "width": 0.5
             },
             "pattern": {
              "fillmode": "overlay",
              "size": 10,
              "solidity": 0.2
             }
            },
            "type": "bar"
           }
          ],
          "barpolar": [
           {
            "marker": {
             "line": {
              "color": "#E5ECF6",
              "width": 0.5
             },
             "pattern": {
              "fillmode": "overlay",
              "size": 10,
              "solidity": 0.2
             }
            },
            "type": "barpolar"
           }
          ],
          "carpet": [
           {
            "aaxis": {
             "endlinecolor": "#2a3f5f",
             "gridcolor": "white",
             "linecolor": "white",
             "minorgridcolor": "white",
             "startlinecolor": "#2a3f5f"
            },
            "baxis": {
             "endlinecolor": "#2a3f5f",
             "gridcolor": "white",
             "linecolor": "white",
             "minorgridcolor": "white",
             "startlinecolor": "#2a3f5f"
            },
            "type": "carpet"
           }
          ],
          "choropleth": [
           {
            "colorbar": {
             "outlinewidth": 0,
             "ticks": ""
            },
            "type": "choropleth"
           }
          ],
          "contour": [
           {
            "colorbar": {
             "outlinewidth": 0,
             "ticks": ""
            },
            "colorscale": [
             [
              0,
              "#0d0887"
             ],
             [
              0.1111111111111111,
              "#46039f"
             ],
             [
              0.2222222222222222,
              "#7201a8"
             ],
             [
              0.3333333333333333,
              "#9c179e"
             ],
             [
              0.4444444444444444,
              "#bd3786"
             ],
             [
              0.5555555555555556,
              "#d8576b"
             ],
             [
              0.6666666666666666,
              "#ed7953"
             ],
             [
              0.7777777777777778,
              "#fb9f3a"
             ],
             [
              0.8888888888888888,
              "#fdca26"
             ],
             [
              1,
              "#f0f921"
             ]
            ],
            "type": "contour"
           }
          ],
          "contourcarpet": [
           {
            "colorbar": {
             "outlinewidth": 0,
             "ticks": ""
            },
            "type": "contourcarpet"
           }
          ],
          "heatmap": [
           {
            "colorbar": {
             "outlinewidth": 0,
             "ticks": ""
            },
            "colorscale": [
             [
              0,
              "#0d0887"
             ],
             [
              0.1111111111111111,
              "#46039f"
             ],
             [
              0.2222222222222222,
              "#7201a8"
             ],
             [
              0.3333333333333333,
              "#9c179e"
             ],
             [
              0.4444444444444444,
              "#bd3786"
             ],
             [
              0.5555555555555556,
              "#d8576b"
             ],
             [
              0.6666666666666666,
              "#ed7953"
             ],
             [
              0.7777777777777778,
              "#fb9f3a"
             ],
             [
              0.8888888888888888,
              "#fdca26"
             ],
             [
              1,
              "#f0f921"
             ]
            ],
            "type": "heatmap"
           }
          ],
          "heatmapgl": [
           {
            "colorbar": {
             "outlinewidth": 0,
             "ticks": ""
            },
            "colorscale": [
             [
              0,
              "#0d0887"
             ],
             [
              0.1111111111111111,
              "#46039f"
             ],
             [
              0.2222222222222222,
              "#7201a8"
             ],
             [
              0.3333333333333333,
              "#9c179e"
             ],
             [
              0.4444444444444444,
              "#bd3786"
             ],
             [
              0.5555555555555556,
              "#d8576b"
             ],
             [
              0.6666666666666666,
              "#ed7953"
             ],
             [
              0.7777777777777778,
              "#fb9f3a"
             ],
             [
              0.8888888888888888,
              "#fdca26"
             ],
             [
              1,
              "#f0f921"
             ]
            ],
            "type": "heatmapgl"
           }
          ],
          "histogram": [
           {
            "marker": {
             "pattern": {
              "fillmode": "overlay",
              "size": 10,
              "solidity": 0.2
             }
            },
            "type": "histogram"
           }
          ],
          "histogram2d": [
           {
            "colorbar": {
             "outlinewidth": 0,
             "ticks": ""
            },
            "colorscale": [
             [
              0,
              "#0d0887"
             ],
             [
              0.1111111111111111,
              "#46039f"
             ],
             [
              0.2222222222222222,
              "#7201a8"
             ],
             [
              0.3333333333333333,
              "#9c179e"
             ],
             [
              0.4444444444444444,
              "#bd3786"
             ],
             [
              0.5555555555555556,
              "#d8576b"
             ],
             [
              0.6666666666666666,
              "#ed7953"
             ],
             [
              0.7777777777777778,
              "#fb9f3a"
             ],
             [
              0.8888888888888888,
              "#fdca26"
             ],
             [
              1,
              "#f0f921"
             ]
            ],
            "type": "histogram2d"
           }
          ],
          "histogram2dcontour": [
           {
            "colorbar": {
             "outlinewidth": 0,
             "ticks": ""
            },
            "colorscale": [
             [
              0,
              "#0d0887"
             ],
             [
              0.1111111111111111,
              "#46039f"
             ],
             [
              0.2222222222222222,
              "#7201a8"
             ],
             [
              0.3333333333333333,
              "#9c179e"
             ],
             [
              0.4444444444444444,
              "#bd3786"
             ],
             [
              0.5555555555555556,
              "#d8576b"
             ],
             [
              0.6666666666666666,
              "#ed7953"
             ],
             [
              0.7777777777777778,
              "#fb9f3a"
             ],
             [
              0.8888888888888888,
              "#fdca26"
             ],
             [
              1,
              "#f0f921"
             ]
            ],
            "type": "histogram2dcontour"
           }
          ],
          "mesh3d": [
           {
            "colorbar": {
             "outlinewidth": 0,
             "ticks": ""
            },
            "type": "mesh3d"
           }
          ],
          "parcoords": [
           {
            "line": {
             "colorbar": {
              "outlinewidth": 0,
              "ticks": ""
             }
            },
            "type": "parcoords"
           }
          ],
          "pie": [
           {
            "automargin": true,
            "type": "pie"
           }
          ],
          "scatter": [
           {
            "marker": {
             "colorbar": {
              "outlinewidth": 0,
              "ticks": ""
             }
            },
            "type": "scatter"
           }
          ],
          "scatter3d": [
           {
            "line": {
             "colorbar": {
              "outlinewidth": 0,
              "ticks": ""
             }
            },
            "marker": {
             "colorbar": {
              "outlinewidth": 0,
              "ticks": ""
             }
            },
            "type": "scatter3d"
           }
          ],
          "scattercarpet": [
           {
            "marker": {
             "colorbar": {
              "outlinewidth": 0,
              "ticks": ""
             }
            },
            "type": "scattercarpet"
           }
          ],
          "scattergeo": [
           {
            "marker": {
             "colorbar": {
              "outlinewidth": 0,
              "ticks": ""
             }
            },
            "type": "scattergeo"
           }
          ],
          "scattergl": [
           {
            "marker": {
             "colorbar": {
              "outlinewidth": 0,
              "ticks": ""
             }
            },
            "type": "scattergl"
           }
          ],
          "scattermapbox": [
           {
            "marker": {
             "colorbar": {
              "outlinewidth": 0,
              "ticks": ""
             }
            },
            "type": "scattermapbox"
           }
          ],
          "scatterpolar": [
           {
            "marker": {
             "colorbar": {
              "outlinewidth": 0,
              "ticks": ""
             }
            },
            "type": "scatterpolar"
           }
          ],
          "scatterpolargl": [
           {
            "marker": {
             "colorbar": {
              "outlinewidth": 0,
              "ticks": ""
             }
            },
            "type": "scatterpolargl"
           }
          ],
          "scatterternary": [
           {
            "marker": {
             "colorbar": {
              "outlinewidth": 0,
              "ticks": ""
             }
            },
            "type": "scatterternary"
           }
          ],
          "surface": [
           {
            "colorbar": {
             "outlinewidth": 0,
             "ticks": ""
            },
            "colorscale": [
             [
              0,
              "#0d0887"
             ],
             [
              0.1111111111111111,
              "#46039f"
             ],
             [
              0.2222222222222222,
              "#7201a8"
             ],
             [
              0.3333333333333333,
              "#9c179e"
             ],
             [
              0.4444444444444444,
              "#bd3786"
             ],
             [
              0.5555555555555556,
              "#d8576b"
             ],
             [
              0.6666666666666666,
              "#ed7953"
             ],
             [
              0.7777777777777778,
              "#fb9f3a"
             ],
             [
              0.8888888888888888,
              "#fdca26"
             ],
             [
              1,
              "#f0f921"
             ]
            ],
            "type": "surface"
           }
          ],
          "table": [
           {
            "cells": {
             "fill": {
              "color": "#EBF0F8"
             },
             "line": {
              "color": "white"
             }
            },
            "header": {
             "fill": {
              "color": "#C8D4E3"
             },
             "line": {
              "color": "white"
             }
            },
            "type": "table"
           }
          ]
         },
         "layout": {
          "annotationdefaults": {
           "arrowcolor": "#2a3f5f",
           "arrowhead": 0,
           "arrowwidth": 1
          },
          "autotypenumbers": "strict",
          "coloraxis": {
           "colorbar": {
            "outlinewidth": 0,
            "ticks": ""
           }
          },
          "colorscale": {
           "diverging": [
            [
             0,
             "#8e0152"
            ],
            [
             0.1,
             "#c51b7d"
            ],
            [
             0.2,
             "#de77ae"
            ],
            [
             0.3,
             "#f1b6da"
            ],
            [
             0.4,
             "#fde0ef"
            ],
            [
             0.5,
             "#f7f7f7"
            ],
            [
             0.6,
             "#e6f5d0"
            ],
            [
             0.7,
             "#b8e186"
            ],
            [
             0.8,
             "#7fbc41"
            ],
            [
             0.9,
             "#4d9221"
            ],
            [
             1,
             "#276419"
            ]
           ],
           "sequential": [
            [
             0,
             "#0d0887"
            ],
            [
             0.1111111111111111,
             "#46039f"
            ],
            [
             0.2222222222222222,
             "#7201a8"
            ],
            [
             0.3333333333333333,
             "#9c179e"
            ],
            [
             0.4444444444444444,
             "#bd3786"
            ],
            [
             0.5555555555555556,
             "#d8576b"
            ],
            [
             0.6666666666666666,
             "#ed7953"
            ],
            [
             0.7777777777777778,
             "#fb9f3a"
            ],
            [
             0.8888888888888888,
             "#fdca26"
            ],
            [
             1,
             "#f0f921"
            ]
           ],
           "sequentialminus": [
            [
             0,
             "#0d0887"
            ],
            [
             0.1111111111111111,
             "#46039f"
            ],
            [
             0.2222222222222222,
             "#7201a8"
            ],
            [
             0.3333333333333333,
             "#9c179e"
            ],
            [
             0.4444444444444444,
             "#bd3786"
            ],
            [
             0.5555555555555556,
             "#d8576b"
            ],
            [
             0.6666666666666666,
             "#ed7953"
            ],
            [
             0.7777777777777778,
             "#fb9f3a"
            ],
            [
             0.8888888888888888,
             "#fdca26"
            ],
            [
             1,
             "#f0f921"
            ]
           ]
          },
          "colorway": [
           "#636efa",
           "#EF553B",
           "#00cc96",
           "#ab63fa",
           "#FFA15A",
           "#19d3f3",
           "#FF6692",
           "#B6E880",
           "#FF97FF",
           "#FECB52"
          ],
          "font": {
           "color": "#2a3f5f"
          },
          "geo": {
           "bgcolor": "white",
           "lakecolor": "white",
           "landcolor": "#E5ECF6",
           "showlakes": true,
           "showland": true,
           "subunitcolor": "white"
          },
          "hoverlabel": {
           "align": "left"
          },
          "hovermode": "closest",
          "mapbox": {
           "style": "light"
          },
          "paper_bgcolor": "white",
          "plot_bgcolor": "#E5ECF6",
          "polar": {
           "angularaxis": {
            "gridcolor": "white",
            "linecolor": "white",
            "ticks": ""
           },
           "bgcolor": "#E5ECF6",
           "radialaxis": {
            "gridcolor": "white",
            "linecolor": "white",
            "ticks": ""
           }
          },
          "scene": {
           "xaxis": {
            "backgroundcolor": "#E5ECF6",
            "gridcolor": "white",
            "gridwidth": 2,
            "linecolor": "white",
            "showbackground": true,
            "ticks": "",
            "zerolinecolor": "white"
           },
           "yaxis": {
            "backgroundcolor": "#E5ECF6",
            "gridcolor": "white",
            "gridwidth": 2,
            "linecolor": "white",
            "showbackground": true,
            "ticks": "",
            "zerolinecolor": "white"
           },
           "zaxis": {
            "backgroundcolor": "#E5ECF6",
            "gridcolor": "white",
            "gridwidth": 2,
            "linecolor": "white",
            "showbackground": true,
            "ticks": "",
            "zerolinecolor": "white"
           }
          },
          "shapedefaults": {
           "line": {
            "color": "#2a3f5f"
           }
          },
          "ternary": {
           "aaxis": {
            "gridcolor": "white",
            "linecolor": "white",
            "ticks": ""
           },
           "baxis": {
            "gridcolor": "white",
            "linecolor": "white",
            "ticks": ""
           },
           "bgcolor": "#E5ECF6",
           "caxis": {
            "gridcolor": "white",
            "linecolor": "white",
            "ticks": ""
           }
          },
          "title": {
           "x": 0.05
          },
          "xaxis": {
           "automargin": true,
           "gridcolor": "white",
           "linecolor": "white",
           "ticks": "",
           "title": {
            "standoff": 15
           },
           "zerolinecolor": "white",
           "zerolinewidth": 2
          },
          "yaxis": {
           "automargin": true,
           "gridcolor": "white",
           "linecolor": "white",
           "ticks": "",
           "title": {
            "standoff": 15
           },
           "zerolinecolor": "white",
           "zerolinewidth": 2
          }
         }
        },
        "xaxis": {
         "anchor": "y",
         "domain": [
          0,
          1
         ],
         "title": {
          "text": "Datum"
         }
        },
        "yaxis": {
         "anchor": "x",
         "domain": [
          0,
          1
         ],
         "title": {
          "text": "CO2"
         }
        }
       }
      },
      "text/html": [
       "<div>                            <div id=\"6c13f80d-97bf-4f64-8053-192610ca5782\" class=\"plotly-graph-div\" style=\"height:525px; width:100%;\"></div>            <script type=\"text/javascript\">                require([\"plotly\"], function(Plotly) {                    window.PLOTLYENV=window.PLOTLYENV || {};                                    if (document.getElementById(\"6c13f80d-97bf-4f64-8053-192610ca5782\")) {                    Plotly.newPlot(                        \"6c13f80d-97bf-4f64-8053-192610ca5782\",                        [{\"alignmentgroup\":\"True\",\"hovertemplate\":\"Datum=%{x}<br>CO2=%{y}<br>Anwesenheit=%{marker.color}<extra></extra>\",\"legendgroup\":\"\",\"marker\":{\"color\":[1.0,1.0,1.0,0.6101694915254238,0.08333333333333333,0.0,0.0,0.0,0.0,0.0,0.0,0.0,0.0,0.0,0.0,0.0,0.0,0.3442622950819672,1.0,0.9666666666666667,1.0,0.9830508474576272,0.95,0.5409836065573771,1.0,1.0,1.0,1.0,0.21666666666666667,0.0,0.0,0.0,0.0,0.0,0.0,0.0,0.0,0.0,0.0,0.0,0.0,0.29508196721311475,0.847457627118644,0.9666666666666667,1.0,null,null,null,null,null,null,1.0,0.11666666666666667,0.0,0.0,0.0,0.0,0.0,0.0,0.0,0.0,0.0,0.0,0.0,0.0,0.32786885245901637,0.9830508474576272,1.0,0.9344262295081968,1.0,0.75,0.11475409836065574,0.8103448275862069,1.0,1.0,1.0,0.08333333333333333,0.0,0.0,0.0,0.0,0.0,0.0,0.0,0.0,0.0,0.0,0.0,0.0,0.21311475409836064,1.0,1.0,1.0,0.9310344827586207,0.9,0.6229508196721312,1.0,1.0,1.0,1.0,0.11666666666666667,0.0,0.0,0.0,0.0,0.0,0.0,0.0,0.0,0.0,0.0,0.0,0.0,0.0,0.0,0.0,0.0,0.0,0.0,0.0,0.0,0.0,0.0,0.0,0.0,0.0,0.0,0.0,0.0,0.0,0.0,0.0,0.0,0.0,0.0,0.0,0.0,0.0,0.0,0.0,0.0,0.0,0.0,0.0,0.0,0.0,0.0,0.0,0.0,0.0,0.0,0.0,0.0,0.0,0.0,0.0,0.0,0.0,0.0,0.0,0.0,0.0,0.2033898305084746,1.0,1.0,1.0,1.0,0.6229508196721312,1.0,1.0,1.0,1.0,0.08333333333333333,0.0,0.0,0.0,0.0,0.0,0.0,0.0,0.0,0.0,0.0,0.0,0.0,0.0,0.3389830508474576,1.0,null,null,null,null,null,null,null,null,null,null,null,null,null,null,null,null,null,null,null,null,null,null,null,null,null,null,null,null,1.0,0.9491525423728814,1.0,1.0,0.5,0.0,0.0,0.0,0.0,0.0,null,null,null,null,null,null,null,null,null,null,null,null,null,null,null,null,null,null,null,null,null,null,null,null,0.0,0.0,0.0,0.0,0.0,0.0,0.0,0.0,0.01694915254237288,0.9833333333333333,0.9180327868852459,1.0,1.0,0.26229508196721313,1.0,1.0,1.0,0.9661016949152542,0.1,0.0,0.0,0.0,0.0,0.0,0.0],\"coloraxis\":\"coloraxis\",\"pattern\":{\"shape\":\"\"}},\"name\":\"\",\"offsetgroup\":\"\",\"orientation\":\"v\",\"showlegend\":false,\"textposition\":\"auto\",\"type\":\"bar\",\"x\":[\"2017-01-23T14:00:00\",\"2017-01-23T15:00:00\",\"2017-01-23T16:00:00\",\"2017-01-23T17:00:00\",\"2017-01-23T18:00:00\",\"2017-01-23T19:00:00\",\"2017-01-23T20:00:00\",\"2017-01-23T21:00:00\",\"2017-01-23T22:00:00\",\"2017-01-23T23:00:00\",\"2017-01-24T00:00:00\",\"2017-01-24T01:00:00\",\"2017-01-24T02:00:00\",\"2017-01-24T03:00:00\",\"2017-01-24T04:00:00\",\"2017-01-24T05:00:00\",\"2017-01-24T06:00:00\",\"2017-01-24T07:00:00\",\"2017-01-24T08:00:00\",\"2017-01-24T09:00:00\",\"2017-01-24T10:00:00\",\"2017-01-24T11:00:00\",\"2017-01-24T12:00:00\",\"2017-01-24T13:00:00\",\"2017-01-24T14:00:00\",\"2017-01-24T15:00:00\",\"2017-01-24T16:00:00\",\"2017-01-24T17:00:00\",\"2017-01-24T18:00:00\",\"2017-01-24T19:00:00\",\"2017-01-24T20:00:00\",\"2017-01-24T21:00:00\",\"2017-01-24T22:00:00\",\"2017-01-24T23:00:00\",\"2017-01-25T00:00:00\",\"2017-01-25T01:00:00\",\"2017-01-25T02:00:00\",\"2017-01-25T03:00:00\",\"2017-01-25T04:00:00\",\"2017-01-25T05:00:00\",\"2017-01-25T06:00:00\",\"2017-01-25T07:00:00\",\"2017-01-25T08:00:00\",\"2017-01-25T09:00:00\",\"2017-01-25T10:00:00\",\"2017-01-25T11:00:00\",\"2017-01-25T12:00:00\",\"2017-01-25T13:00:00\",\"2017-01-25T14:00:00\",\"2017-01-25T15:00:00\",\"2017-01-25T16:00:00\",\"2017-01-25T17:00:00\",\"2017-01-25T18:00:00\",\"2017-01-25T19:00:00\",\"2017-01-25T20:00:00\",\"2017-01-25T21:00:00\",\"2017-01-25T22:00:00\",\"2017-01-25T23:00:00\",\"2017-01-26T00:00:00\",\"2017-01-26T01:00:00\",\"2017-01-26T02:00:00\",\"2017-01-26T03:00:00\",\"2017-01-26T04:00:00\",\"2017-01-26T05:00:00\",\"2017-01-26T06:00:00\",\"2017-01-26T07:00:00\",\"2017-01-26T08:00:00\",\"2017-01-26T09:00:00\",\"2017-01-26T10:00:00\",\"2017-01-26T11:00:00\",\"2017-01-26T12:00:00\",\"2017-01-26T13:00:00\",\"2017-01-26T14:00:00\",\"2017-01-26T15:00:00\",\"2017-01-26T16:00:00\",\"2017-01-26T17:00:00\",\"2017-01-26T18:00:00\",\"2017-01-26T19:00:00\",\"2017-01-26T20:00:00\",\"2017-01-26T21:00:00\",\"2017-01-26T22:00:00\",\"2017-01-26T23:00:00\",\"2017-01-27T00:00:00\",\"2017-01-27T01:00:00\",\"2017-01-27T02:00:00\",\"2017-01-27T03:00:00\",\"2017-01-27T04:00:00\",\"2017-01-27T05:00:00\",\"2017-01-27T06:00:00\",\"2017-01-27T07:00:00\",\"2017-01-27T08:00:00\",\"2017-01-27T09:00:00\",\"2017-01-27T10:00:00\",\"2017-01-27T11:00:00\",\"2017-01-27T12:00:00\",\"2017-01-27T13:00:00\",\"2017-01-27T14:00:00\",\"2017-01-27T15:00:00\",\"2017-01-27T16:00:00\",\"2017-01-27T17:00:00\",\"2017-01-27T18:00:00\",\"2017-01-27T19:00:00\",\"2017-01-27T20:00:00\",\"2017-01-27T21:00:00\",\"2017-01-27T22:00:00\",\"2017-01-27T23:00:00\",\"2017-01-28T00:00:00\",\"2017-01-28T01:00:00\",\"2017-01-28T02:00:00\",\"2017-01-28T03:00:00\",\"2017-01-28T04:00:00\",\"2017-01-28T05:00:00\",\"2017-01-28T06:00:00\",\"2017-01-28T07:00:00\",\"2017-01-28T08:00:00\",\"2017-01-28T09:00:00\",\"2017-01-28T10:00:00\",\"2017-01-28T11:00:00\",\"2017-01-28T12:00:00\",\"2017-01-28T13:00:00\",\"2017-01-28T14:00:00\",\"2017-01-28T15:00:00\",\"2017-01-28T16:00:00\",\"2017-01-28T17:00:00\",\"2017-01-28T18:00:00\",\"2017-01-28T19:00:00\",\"2017-01-28T20:00:00\",\"2017-01-28T21:00:00\",\"2017-01-28T22:00:00\",\"2017-01-28T23:00:00\",\"2017-01-29T00:00:00\",\"2017-01-29T01:00:00\",\"2017-01-29T02:00:00\",\"2017-01-29T03:00:00\",\"2017-01-29T04:00:00\",\"2017-01-29T05:00:00\",\"2017-01-29T06:00:00\",\"2017-01-29T07:00:00\",\"2017-01-29T08:00:00\",\"2017-01-29T09:00:00\",\"2017-01-29T10:00:00\",\"2017-01-29T11:00:00\",\"2017-01-29T12:00:00\",\"2017-01-29T13:00:00\",\"2017-01-29T14:00:00\",\"2017-01-29T15:00:00\",\"2017-01-29T16:00:00\",\"2017-01-29T17:00:00\",\"2017-01-29T18:00:00\",\"2017-01-29T19:00:00\",\"2017-01-29T20:00:00\",\"2017-01-29T21:00:00\",\"2017-01-29T22:00:00\",\"2017-01-29T23:00:00\",\"2017-01-30T00:00:00\",\"2017-01-30T01:00:00\",\"2017-01-30T02:00:00\",\"2017-01-30T03:00:00\",\"2017-01-30T04:00:00\",\"2017-01-30T05:00:00\",\"2017-01-30T06:00:00\",\"2017-01-30T07:00:00\",\"2017-01-30T08:00:00\",\"2017-01-30T09:00:00\",\"2017-01-30T10:00:00\",\"2017-01-30T11:00:00\",\"2017-01-30T12:00:00\",\"2017-01-30T13:00:00\",\"2017-01-30T14:00:00\",\"2017-01-30T15:00:00\",\"2017-01-30T16:00:00\",\"2017-01-30T17:00:00\",\"2017-01-30T18:00:00\",\"2017-01-30T19:00:00\",\"2017-01-30T20:00:00\",\"2017-01-30T21:00:00\",\"2017-01-30T22:00:00\",\"2017-01-30T23:00:00\",\"2017-01-31T00:00:00\",\"2017-01-31T01:00:00\",\"2017-01-31T02:00:00\",\"2017-01-31T03:00:00\",\"2017-01-31T04:00:00\",\"2017-01-31T05:00:00\",\"2017-01-31T06:00:00\",\"2017-01-31T07:00:00\",\"2017-01-31T08:00:00\",\"2017-01-31T09:00:00\",\"2017-01-31T10:00:00\",\"2017-01-31T11:00:00\",\"2017-01-31T12:00:00\",\"2017-01-31T13:00:00\",\"2017-01-31T14:00:00\",\"2017-01-31T15:00:00\",\"2017-01-31T16:00:00\",\"2017-01-31T17:00:00\",\"2017-01-31T18:00:00\",\"2017-01-31T19:00:00\",\"2017-01-31T20:00:00\",\"2017-01-31T21:00:00\",\"2017-01-31T22:00:00\",\"2017-01-31T23:00:00\",\"2017-02-01T00:00:00\",\"2017-02-01T01:00:00\",\"2017-02-01T02:00:00\",\"2017-02-01T03:00:00\",\"2017-02-01T04:00:00\",\"2017-02-01T05:00:00\",\"2017-02-01T06:00:00\",\"2017-02-01T07:00:00\",\"2017-02-01T08:00:00\",\"2017-02-01T09:00:00\",\"2017-02-01T10:00:00\",\"2017-02-01T11:00:00\",\"2017-02-01T12:00:00\",\"2017-02-01T13:00:00\",\"2017-02-01T14:00:00\",\"2017-02-01T15:00:00\",\"2017-02-01T16:00:00\",\"2017-02-01T17:00:00\",\"2017-02-01T18:00:00\",\"2017-02-01T19:00:00\",\"2017-02-01T20:00:00\",\"2017-02-01T21:00:00\",\"2017-02-01T22:00:00\",\"2017-02-01T23:00:00\",\"2017-02-02T00:00:00\",\"2017-02-02T01:00:00\",\"2017-02-02T02:00:00\",\"2017-02-02T03:00:00\",\"2017-02-02T04:00:00\",\"2017-02-02T05:00:00\",\"2017-02-02T06:00:00\",\"2017-02-02T07:00:00\",\"2017-02-02T08:00:00\",\"2017-02-02T09:00:00\",\"2017-02-02T10:00:00\",\"2017-02-02T11:00:00\",\"2017-02-02T12:00:00\",\"2017-02-02T13:00:00\",\"2017-02-02T14:00:00\",\"2017-02-02T15:00:00\",\"2017-02-02T16:00:00\",\"2017-02-02T17:00:00\",\"2017-02-02T18:00:00\",\"2017-02-02T19:00:00\",\"2017-02-02T20:00:00\",\"2017-02-02T21:00:00\",\"2017-02-02T22:00:00\",\"2017-02-02T23:00:00\",\"2017-02-03T00:00:00\",\"2017-02-03T01:00:00\",\"2017-02-03T02:00:00\",\"2017-02-03T03:00:00\",\"2017-02-03T04:00:00\",\"2017-02-03T05:00:00\",\"2017-02-03T06:00:00\",\"2017-02-03T07:00:00\",\"2017-02-03T08:00:00\",\"2017-02-03T09:00:00\",\"2017-02-03T10:00:00\",\"2017-02-03T11:00:00\",\"2017-02-03T12:00:00\",\"2017-02-03T13:00:00\",\"2017-02-03T14:00:00\",\"2017-02-03T15:00:00\",\"2017-02-03T16:00:00\",\"2017-02-03T17:00:00\",\"2017-02-03T18:00:00\",\"2017-02-03T19:00:00\",\"2017-02-03T20:00:00\",\"2017-02-03T21:00:00\",\"2017-02-03T22:00:00\",\"2017-02-03T23:00:00\",\"2017-02-04T00:00:00\"],\"xaxis\":\"x\",\"y\":[909.7608395989977,1102.7884236453203,979.5660031225607,822.5628531073445,720.4002777777779,584.9442622950819,513.7556497175141,480.2852777777778,461.3918032786885,451.98361581920904,449.3913888888889,447.2434426229508,440.80197740112993,435.19444444444446,434.9852459016393,435.7980225988701,434.8838888888888,460.6071038251367,651.5615819209038,867.7397222222222,1115.0882123341146,1168.0533696529458,1039.7058333333334,932.6276346604216,1055.239023405972,1307.314563492064,1375.6773224043714,1327.8728813559321,1107.8875,849.151912568306,706.3036723163841,623.0158333333335,578.8797222222221,557.9206214689266,542.3211111111111,517.8759562841531,494.0302259887005,481.02456349206346,469.461475409836,464.17994350282476,464.39638888888896,486.0581967213114,683.0298224374495,920.1085317460316,1134.4313399778518,null,null,null,null,null,null,705.8333333333334,655.7277777777779,572.3989071038251,521.04802259887,493.7986111111112,476.87295081967216,466.2528248587571,453.8722222222222,444.03749999999997,440.32203389830505,442.44444444444434,443.83743169398906,447.6059322033898,451.0694444444444,473.3715846994536,681.8347457627119,952.6006944444446,1030.2800546448088,1099.6652298850574,1080.2216666666666,907.146174863388,914.9663793103447,1085.4249999999997,1065.1325136612022,940.8587570621469,728.3222222222224,538.0122950819672,479.7313218390804,464.5388888888889,454.4016393442623,445.1638418079096,444.3263888888888,438.79644808743166,434.1864406779662,432.50277777777774,433.08469945355193,432.6257062146893,433.0388888888889,443.84972677595636,589.7867231638418,757.5741666666668,839.651912568306,815.7387931034484,792.3819444444446,665.5092896174863,756.3361581920905,891.6,904.0830601092896,862.5833333333333,681.3319444444443,514.6733333333333,459.91807909604523,445.33611111111105,439.71857923497276,437.39971751412435,437.43194444444447,437.38251366120215,438.30508474576277,438.88749999999993,441.7021857923497,442.6610169491526,445.4652777777777,449.4303278688525,453.9241379310344,456.71916666666664,459.6475409836066,455.0576271186441,450.7302259887007,444.4590163934426,441.82627118644075,441.0944444444444,438.85983606557375,437.4110169491526,436.7375,440.7923497267759,441.69067796610165,440.02083333333337,437.81420765027326,438.04802259887015,438.38472222222225,438.28278688524597,437.77683615819205,436.86944444444447,435.6844262295081,433.8615819209039,433.62361111111113,433.15300546448094,434.3474576271187,432.52250000000004,431.7142076502733,431.4350282485875,427.5833333333333,425.1693989071038,421.8449152542374,421.80277777777786,422.15833333333336,424.3742937853108,427.22222222222223,435.4207650273225,441.96551724137925,448.5555555555556,449.6571038251366,452.40960451977395,459.8305555555555,462.59562841530055,469.49717514124296,470.1333333333333,467.3661202185793,462.1129943502824,464.2161016949152,468.9138888888889,479.15819209039546,812.9462500000002,1204.8245901639348,1415.986440677966,1385.9777777777779,1171.0521857923495,1350.6336257309943,1759.5491666666667,1974.175683060109,1960.3149717514118,1552.2930555555554,1143.9713114754104,875.0254237288135,691.9459064327486,584.9360119047619,524.1567796610169,487.42514124293785,467.4508196721311,457.36440677966095,451.42222222222216,446.5505464480875,447.1963276836157,449.0611111111111,451.23770491803276,468.4717514124294,676.5239898989898,null,null,null,null,null,null,null,null,null,null,null,null,null,null,null,null,null,null,null,null,null,null,null,null,null,null,null,null,1023.6388888888889,951.1200564971751,780.9931693989072,735.5522598870057,604.5216666666668,537.2986111111111,505.50454545454545,489.86755952380946,490.00292397660814,497.3084795321638,null,null,null,null,null,null,null,null,null,null,null,null,null,null,null,null,null,null,null,null,null,null,null,null,572.2455357142858,577.4152298850576,578.1336477987421,579.6408045977012,576.8477011494252,564.2470238095237,541.7833333333333,523.7622950819673,516.4209039548022,575.8,615.5475409836065,696.7932203389831,629.8536111111111,564.2035519125684,561.7461988304093,576.5449999999998,608.792349726776,597.8785310734464,553.6999999999999,515.7418032786885,512.2655367231639,511.03611111111115,510.9699453551912,506.98870056497174,505.5],\"yaxis\":\"y\"}],                        {\"barmode\":\"relative\",\"coloraxis\":{\"colorbar\":{\"title\":{\"text\":\"Anwesenheit\"}},\"colorscale\":[[0.0,\"#0d0887\"],[0.1111111111111111,\"#46039f\"],[0.2222222222222222,\"#7201a8\"],[0.3333333333333333,\"#9c179e\"],[0.4444444444444444,\"#bd3786\"],[0.5555555555555556,\"#d8576b\"],[0.6666666666666666,\"#ed7953\"],[0.7777777777777778,\"#fb9f3a\"],[0.8888888888888888,\"#fdca26\"],[1.0,\"#f0f921\"]]},\"legend\":{\"tracegroupgap\":0},\"margin\":{\"t\":60},\"template\":{\"data\":{\"bar\":[{\"error_x\":{\"color\":\"#2a3f5f\"},\"error_y\":{\"color\":\"#2a3f5f\"},\"marker\":{\"line\":{\"color\":\"#E5ECF6\",\"width\":0.5},\"pattern\":{\"fillmode\":\"overlay\",\"size\":10,\"solidity\":0.2}},\"type\":\"bar\"}],\"barpolar\":[{\"marker\":{\"line\":{\"color\":\"#E5ECF6\",\"width\":0.5},\"pattern\":{\"fillmode\":\"overlay\",\"size\":10,\"solidity\":0.2}},\"type\":\"barpolar\"}],\"carpet\":[{\"aaxis\":{\"endlinecolor\":\"#2a3f5f\",\"gridcolor\":\"white\",\"linecolor\":\"white\",\"minorgridcolor\":\"white\",\"startlinecolor\":\"#2a3f5f\"},\"baxis\":{\"endlinecolor\":\"#2a3f5f\",\"gridcolor\":\"white\",\"linecolor\":\"white\",\"minorgridcolor\":\"white\",\"startlinecolor\":\"#2a3f5f\"},\"type\":\"carpet\"}],\"choropleth\":[{\"colorbar\":{\"outlinewidth\":0,\"ticks\":\"\"},\"type\":\"choropleth\"}],\"contour\":[{\"colorbar\":{\"outlinewidth\":0,\"ticks\":\"\"},\"colorscale\":[[0.0,\"#0d0887\"],[0.1111111111111111,\"#46039f\"],[0.2222222222222222,\"#7201a8\"],[0.3333333333333333,\"#9c179e\"],[0.4444444444444444,\"#bd3786\"],[0.5555555555555556,\"#d8576b\"],[0.6666666666666666,\"#ed7953\"],[0.7777777777777778,\"#fb9f3a\"],[0.8888888888888888,\"#fdca26\"],[1.0,\"#f0f921\"]],\"type\":\"contour\"}],\"contourcarpet\":[{\"colorbar\":{\"outlinewidth\":0,\"ticks\":\"\"},\"type\":\"contourcarpet\"}],\"heatmap\":[{\"colorbar\":{\"outlinewidth\":0,\"ticks\":\"\"},\"colorscale\":[[0.0,\"#0d0887\"],[0.1111111111111111,\"#46039f\"],[0.2222222222222222,\"#7201a8\"],[0.3333333333333333,\"#9c179e\"],[0.4444444444444444,\"#bd3786\"],[0.5555555555555556,\"#d8576b\"],[0.6666666666666666,\"#ed7953\"],[0.7777777777777778,\"#fb9f3a\"],[0.8888888888888888,\"#fdca26\"],[1.0,\"#f0f921\"]],\"type\":\"heatmap\"}],\"heatmapgl\":[{\"colorbar\":{\"outlinewidth\":0,\"ticks\":\"\"},\"colorscale\":[[0.0,\"#0d0887\"],[0.1111111111111111,\"#46039f\"],[0.2222222222222222,\"#7201a8\"],[0.3333333333333333,\"#9c179e\"],[0.4444444444444444,\"#bd3786\"],[0.5555555555555556,\"#d8576b\"],[0.6666666666666666,\"#ed7953\"],[0.7777777777777778,\"#fb9f3a\"],[0.8888888888888888,\"#fdca26\"],[1.0,\"#f0f921\"]],\"type\":\"heatmapgl\"}],\"histogram\":[{\"marker\":{\"pattern\":{\"fillmode\":\"overlay\",\"size\":10,\"solidity\":0.2}},\"type\":\"histogram\"}],\"histogram2d\":[{\"colorbar\":{\"outlinewidth\":0,\"ticks\":\"\"},\"colorscale\":[[0.0,\"#0d0887\"],[0.1111111111111111,\"#46039f\"],[0.2222222222222222,\"#7201a8\"],[0.3333333333333333,\"#9c179e\"],[0.4444444444444444,\"#bd3786\"],[0.5555555555555556,\"#d8576b\"],[0.6666666666666666,\"#ed7953\"],[0.7777777777777778,\"#fb9f3a\"],[0.8888888888888888,\"#fdca26\"],[1.0,\"#f0f921\"]],\"type\":\"histogram2d\"}],\"histogram2dcontour\":[{\"colorbar\":{\"outlinewidth\":0,\"ticks\":\"\"},\"colorscale\":[[0.0,\"#0d0887\"],[0.1111111111111111,\"#46039f\"],[0.2222222222222222,\"#7201a8\"],[0.3333333333333333,\"#9c179e\"],[0.4444444444444444,\"#bd3786\"],[0.5555555555555556,\"#d8576b\"],[0.6666666666666666,\"#ed7953\"],[0.7777777777777778,\"#fb9f3a\"],[0.8888888888888888,\"#fdca26\"],[1.0,\"#f0f921\"]],\"type\":\"histogram2dcontour\"}],\"mesh3d\":[{\"colorbar\":{\"outlinewidth\":0,\"ticks\":\"\"},\"type\":\"mesh3d\"}],\"parcoords\":[{\"line\":{\"colorbar\":{\"outlinewidth\":0,\"ticks\":\"\"}},\"type\":\"parcoords\"}],\"pie\":[{\"automargin\":true,\"type\":\"pie\"}],\"scatter\":[{\"marker\":{\"colorbar\":{\"outlinewidth\":0,\"ticks\":\"\"}},\"type\":\"scatter\"}],\"scatter3d\":[{\"line\":{\"colorbar\":{\"outlinewidth\":0,\"ticks\":\"\"}},\"marker\":{\"colorbar\":{\"outlinewidth\":0,\"ticks\":\"\"}},\"type\":\"scatter3d\"}],\"scattercarpet\":[{\"marker\":{\"colorbar\":{\"outlinewidth\":0,\"ticks\":\"\"}},\"type\":\"scattercarpet\"}],\"scattergeo\":[{\"marker\":{\"colorbar\":{\"outlinewidth\":0,\"ticks\":\"\"}},\"type\":\"scattergeo\"}],\"scattergl\":[{\"marker\":{\"colorbar\":{\"outlinewidth\":0,\"ticks\":\"\"}},\"type\":\"scattergl\"}],\"scattermapbox\":[{\"marker\":{\"colorbar\":{\"outlinewidth\":0,\"ticks\":\"\"}},\"type\":\"scattermapbox\"}],\"scatterpolar\":[{\"marker\":{\"colorbar\":{\"outlinewidth\":0,\"ticks\":\"\"}},\"type\":\"scatterpolar\"}],\"scatterpolargl\":[{\"marker\":{\"colorbar\":{\"outlinewidth\":0,\"ticks\":\"\"}},\"type\":\"scatterpolargl\"}],\"scatterternary\":[{\"marker\":{\"colorbar\":{\"outlinewidth\":0,\"ticks\":\"\"}},\"type\":\"scatterternary\"}],\"surface\":[{\"colorbar\":{\"outlinewidth\":0,\"ticks\":\"\"},\"colorscale\":[[0.0,\"#0d0887\"],[0.1111111111111111,\"#46039f\"],[0.2222222222222222,\"#7201a8\"],[0.3333333333333333,\"#9c179e\"],[0.4444444444444444,\"#bd3786\"],[0.5555555555555556,\"#d8576b\"],[0.6666666666666666,\"#ed7953\"],[0.7777777777777778,\"#fb9f3a\"],[0.8888888888888888,\"#fdca26\"],[1.0,\"#f0f921\"]],\"type\":\"surface\"}],\"table\":[{\"cells\":{\"fill\":{\"color\":\"#EBF0F8\"},\"line\":{\"color\":\"white\"}},\"header\":{\"fill\":{\"color\":\"#C8D4E3\"},\"line\":{\"color\":\"white\"}},\"type\":\"table\"}]},\"layout\":{\"annotationdefaults\":{\"arrowcolor\":\"#2a3f5f\",\"arrowhead\":0,\"arrowwidth\":1},\"autotypenumbers\":\"strict\",\"coloraxis\":{\"colorbar\":{\"outlinewidth\":0,\"ticks\":\"\"}},\"colorscale\":{\"diverging\":[[0,\"#8e0152\"],[0.1,\"#c51b7d\"],[0.2,\"#de77ae\"],[0.3,\"#f1b6da\"],[0.4,\"#fde0ef\"],[0.5,\"#f7f7f7\"],[0.6,\"#e6f5d0\"],[0.7,\"#b8e186\"],[0.8,\"#7fbc41\"],[0.9,\"#4d9221\"],[1,\"#276419\"]],\"sequential\":[[0.0,\"#0d0887\"],[0.1111111111111111,\"#46039f\"],[0.2222222222222222,\"#7201a8\"],[0.3333333333333333,\"#9c179e\"],[0.4444444444444444,\"#bd3786\"],[0.5555555555555556,\"#d8576b\"],[0.6666666666666666,\"#ed7953\"],[0.7777777777777778,\"#fb9f3a\"],[0.8888888888888888,\"#fdca26\"],[1.0,\"#f0f921\"]],\"sequentialminus\":[[0.0,\"#0d0887\"],[0.1111111111111111,\"#46039f\"],[0.2222222222222222,\"#7201a8\"],[0.3333333333333333,\"#9c179e\"],[0.4444444444444444,\"#bd3786\"],[0.5555555555555556,\"#d8576b\"],[0.6666666666666666,\"#ed7953\"],[0.7777777777777778,\"#fb9f3a\"],[0.8888888888888888,\"#fdca26\"],[1.0,\"#f0f921\"]]},\"colorway\":[\"#636efa\",\"#EF553B\",\"#00cc96\",\"#ab63fa\",\"#FFA15A\",\"#19d3f3\",\"#FF6692\",\"#B6E880\",\"#FF97FF\",\"#FECB52\"],\"font\":{\"color\":\"#2a3f5f\"},\"geo\":{\"bgcolor\":\"white\",\"lakecolor\":\"white\",\"landcolor\":\"#E5ECF6\",\"showlakes\":true,\"showland\":true,\"subunitcolor\":\"white\"},\"hoverlabel\":{\"align\":\"left\"},\"hovermode\":\"closest\",\"mapbox\":{\"style\":\"light\"},\"paper_bgcolor\":\"white\",\"plot_bgcolor\":\"#E5ECF6\",\"polar\":{\"angularaxis\":{\"gridcolor\":\"white\",\"linecolor\":\"white\",\"ticks\":\"\"},\"bgcolor\":\"#E5ECF6\",\"radialaxis\":{\"gridcolor\":\"white\",\"linecolor\":\"white\",\"ticks\":\"\"}},\"scene\":{\"xaxis\":{\"backgroundcolor\":\"#E5ECF6\",\"gridcolor\":\"white\",\"gridwidth\":2,\"linecolor\":\"white\",\"showbackground\":true,\"ticks\":\"\",\"zerolinecolor\":\"white\"},\"yaxis\":{\"backgroundcolor\":\"#E5ECF6\",\"gridcolor\":\"white\",\"gridwidth\":2,\"linecolor\":\"white\",\"showbackground\":true,\"ticks\":\"\",\"zerolinecolor\":\"white\"},\"zaxis\":{\"backgroundcolor\":\"#E5ECF6\",\"gridcolor\":\"white\",\"gridwidth\":2,\"linecolor\":\"white\",\"showbackground\":true,\"ticks\":\"\",\"zerolinecolor\":\"white\"}},\"shapedefaults\":{\"line\":{\"color\":\"#2a3f5f\"}},\"ternary\":{\"aaxis\":{\"gridcolor\":\"white\",\"linecolor\":\"white\",\"ticks\":\"\"},\"baxis\":{\"gridcolor\":\"white\",\"linecolor\":\"white\",\"ticks\":\"\"},\"bgcolor\":\"#E5ECF6\",\"caxis\":{\"gridcolor\":\"white\",\"linecolor\":\"white\",\"ticks\":\"\"}},\"title\":{\"x\":0.05},\"xaxis\":{\"automargin\":true,\"gridcolor\":\"white\",\"linecolor\":\"white\",\"ticks\":\"\",\"title\":{\"standoff\":15},\"zerolinecolor\":\"white\",\"zerolinewidth\":2},\"yaxis\":{\"automargin\":true,\"gridcolor\":\"white\",\"linecolor\":\"white\",\"ticks\":\"\",\"title\":{\"standoff\":15},\"zerolinecolor\":\"white\",\"zerolinewidth\":2}}},\"xaxis\":{\"anchor\":\"y\",\"domain\":[0.0,1.0],\"title\":{\"text\":\"Datum\"}},\"yaxis\":{\"anchor\":\"x\",\"domain\":[0.0,1.0],\"title\":{\"text\":\"CO2\"}}},                        {\"responsive\": true}                    ).then(function(){\n",
       "                            \n",
       "var gd = document.getElementById('6c13f80d-97bf-4f64-8053-192610ca5782');\n",
       "var x = new MutationObserver(function (mutations, observer) {{\n",
       "        var display = window.getComputedStyle(gd).display;\n",
       "        if (!display || display === 'none') {{\n",
       "            console.log([gd, 'removed!']);\n",
       "            Plotly.purge(gd);\n",
       "            observer.disconnect();\n",
       "        }}\n",
       "}});\n",
       "\n",
       "// Listen for the removal of the full notebook cells\n",
       "var notebookContainer = gd.closest('#notebook-container');\n",
       "if (notebookContainer) {{\n",
       "    x.observe(notebookContainer, {childList: true});\n",
       "}}\n",
       "\n",
       "// Listen for the clearing of the current output cell\n",
       "var outputEl = gd.closest('.output');\n",
       "if (outputEl) {{\n",
       "    x.observe(outputEl, {childList: true});\n",
       "}}\n",
       "\n",
       "                        })                };                });            </script>        </div>"
      ]
     },
     "metadata": {},
     "output_type": "display_data"
    }
   ],
   "source": [
    "px.bar(df.resample(\"h\").mean(),y=\"CO2\",color=\"Anwesenheit\")"
   ]
  },
  {
   "cell_type": "markdown",
   "metadata": {},
   "source": [
    "## Funktion fürs Training"
   ]
  },
  {
   "cell_type": "code",
   "execution_count": 578,
   "metadata": {},
   "outputs": [],
   "source": [
    "from sklearn import datasets, linear_model\n",
    "from sklearn.model_selection import train_test_split\n",
    "from sklearn.ensemble import RandomForestRegressor, RandomForestClassifier\n",
    "from sklearn.tree import DecisionTreeClassifier, plot_tree\n",
    "from sklearn.metrics import classification_report, roc_curve, RocCurveDisplay, plot_roc_curve\n",
    "from sklearn.preprocessing import StandardScaler,MinMaxScaler, PolynomialFeatures\n",
    "from sklearn.svm import SVC\n",
    "from xgboost import XGBClassifier\n",
    "import matplotlib.pyplot as plt\n",
    "\n",
    "\n",
    "label = \"Anwesenheit\"\n",
    "\n",
    "def train_model(classifier,label=label,scaler=None):\n",
    "    print(pd.DataFrame(columns=df.columns))\n",
    "    X = df.drop(columns=[label])\n",
    "    y = df[label]\n",
    "    if scaler:\n",
    "        X = scaler().fit_transform(X)\n",
    "    X_train, X_test, y_train, y_test = train_test_split(X,y, test_size=0.25)\n",
    "    \n",
    "    m = classifier(args)\n",
    "    %time m.fit(X_train, y_train)\n",
    "    print(\"Trainingsdaten:\\n\",classification_report(y_train,m.predict(X_train)))\n",
    "    print(\"Testdaten:\\n\",classification_report(y_test,m.predict(X_test),digits=3))\n",
    "    \n",
    "    fpr, tpr, thresholds = roc_curve(y_test,m.predict(X_test))\n",
    "    display = RocCurveDisplay(fpr=fpr, tpr=tpr, roc_auc=auc(fpr, tpr))\n",
    "    display.plot()\n",
    "\n",
    "def report(m):\n",
    "    print(\"Trainingsdaten:\\n\",classification_report(y_train,m.predict(X_train),digits=3))\n",
    "    print(\"Testdaten:\\n\",classification_report(y_test,m.predict(X_test),digits=3))\n",
    "\n",
    "def scale_features(scaler, X_train=X_train, X_test=X_test):\n",
    "    scaler = scaler()\n",
    "    X_train = scaler.fit_transform(X_train)\n",
    "    X_test = scaler.transform(X_test)\n",
    "    return X_train, X_test\n",
    "\n",
    "def test_viz(m):\n",
    "    if 'Anwesenheit' in df_test:\n",
    "        df_test.drop(columns=\"Anwesenheit\",inplace=True)\n",
    "    df_test[\"Anwesenheit\"] = m.predict(df_test)\n",
    "    px.bar(df_test.resample(\"10min\").mean(),y=\"CO2\",color=\"Anwesenheit\").show()\n",
    "    df_test.drop(columns=\"Anwesenheit\",inplace=True)"
   ]
  },
  {
   "cell_type": "markdown",
   "metadata": {},
   "source": [
    "## Logistische Regression"
   ]
  },
  {
   "cell_type": "code",
   "execution_count": 579,
   "metadata": {},
   "outputs": [
    {
     "name": "stdout",
     "output_type": "stream",
     "text": [
      "Empty DataFrame\n",
      "Columns: [Temperatur, Luftfeuchtigkeit, CO2, Anwesenheit, Arbeitszeit]\n",
      "Index: []\n",
      "Wall time: 56 ms\n",
      "Trainingsdaten:\n",
      "               precision    recall  f1-score   support\n",
      "\n",
      "           0      0.980     0.967     0.973      6953\n",
      "           1      0.913     0.947     0.930      2576\n",
      "\n",
      "    accuracy                          0.961      9529\n",
      "   macro avg      0.947     0.957     0.952      9529\n",
      "weighted avg      0.962     0.961     0.962      9529\n",
      "\n",
      "Testdaten:\n",
      "               precision    recall  f1-score   support\n",
      "\n",
      "           0      0.985     0.967     0.976      2362\n",
      "           1      0.908     0.958     0.933       815\n",
      "\n",
      "    accuracy                          0.964      3177\n",
      "   macro avg      0.947     0.962     0.954      3177\n",
      "weighted avg      0.966     0.964     0.965      3177\n",
      "\n"
     ]
    },
    {
     "data": {
      "application/vnd.plotly.v1+json": {
       "config": {
        "plotlyServerURL": "https://plot.ly"
       },
       "data": [
        {
         "alignmentgroup": "True",
         "hovertemplate": "Datum=%{x}<br>CO2=%{y}<br>Anwesenheit=%{marker.color}<extra></extra>",
         "legendgroup": "",
         "marker": {
          "color": [
           0,
           0,
           0,
           0,
           0,
           0,
           0,
           0,
           0,
           0,
           0,
           0,
           0,
           0,
           0,
           0,
           0,
           0,
           0,
           0,
           0,
           0,
           0,
           0,
           0,
           0,
           0,
           0,
           0,
           0,
           0,
           0,
           0,
           0,
           0,
           0,
           0,
           0,
           0,
           0,
           0,
           0,
           0,
           0,
           0,
           0,
           0,
           0,
           0,
           0,
           0,
           0,
           0,
           0,
           0,
           0,
           0,
           0,
           0,
           0,
           0,
           0,
           0,
           0,
           0,
           0,
           0,
           0,
           0,
           0,
           0,
           0,
           0,
           0,
           0,
           0,
           0,
           0,
           0,
           0,
           0,
           0,
           0,
           0,
           0,
           0,
           0,
           0,
           0,
           0,
           0,
           0,
           0,
           0,
           0,
           0,
           0,
           0,
           0,
           0,
           0,
           0,
           0,
           0,
           0,
           0,
           0,
           0,
           0,
           0,
           0,
           0,
           0,
           0,
           0,
           0,
           0,
           0,
           0,
           0,
           0,
           0,
           0,
           0,
           0,
           0,
           0,
           0,
           0,
           0,
           0,
           0,
           0,
           0,
           0,
           0,
           0,
           0,
           0,
           0,
           0,
           0,
           0,
           0,
           0,
           0,
           0,
           0,
           0,
           0,
           0,
           0,
           0,
           0,
           0,
           0,
           0,
           0,
           0,
           0,
           0,
           0,
           0,
           0,
           0,
           0,
           0,
           0,
           0,
           0,
           0,
           0,
           0,
           0,
           0,
           0,
           0,
           0,
           0,
           0,
           0,
           0,
           0,
           0,
           0,
           0,
           0,
           0,
           0,
           0,
           0,
           0,
           0,
           0,
           0,
           0,
           0,
           0,
           0,
           0,
           0,
           0,
           0,
           0,
           0,
           0,
           0,
           0,
           0,
           0,
           0,
           0,
           0,
           0,
           0,
           0,
           0,
           0,
           0,
           0,
           0,
           0,
           0,
           0,
           0,
           0,
           0,
           0,
           0,
           0,
           0,
           0,
           0,
           0,
           0,
           0,
           0,
           0,
           0,
           0,
           0,
           0,
           0,
           0,
           0,
           0,
           0,
           0,
           0,
           0,
           0,
           0,
           0,
           0,
           0,
           0,
           0,
           0,
           0,
           0,
           0,
           0,
           0,
           0,
           0,
           0,
           0,
           0,
           0,
           0,
           0,
           0,
           0,
           0,
           0,
           0,
           0,
           0,
           0,
           0,
           0,
           0,
           0,
           0,
           0,
           0,
           0,
           0,
           0,
           0,
           0,
           0,
           0,
           0,
           0,
           0,
           0,
           0,
           0,
           0,
           0,
           0,
           0,
           0,
           0,
           0,
           0,
           0,
           0,
           0,
           0,
           0,
           0,
           0,
           0,
           0,
           0,
           0,
           0,
           0,
           0,
           0,
           0,
           0,
           0,
           0,
           0,
           0,
           0,
           0,
           0,
           0,
           0,
           0,
           0,
           0,
           1,
           1,
           1,
           1,
           1,
           1,
           1,
           1,
           1,
           1,
           1,
           1,
           1,
           1,
           1,
           1,
           1,
           1,
           1,
           1,
           1,
           1,
           1,
           1,
           1,
           1,
           1,
           1,
           1,
           1,
           0,
           0,
           0.9,
           1,
           1,
           1,
           1,
           1,
           1,
           1,
           1,
           1,
           1,
           1,
           1,
           1,
           1,
           1,
           1,
           1,
           1,
           1,
           1,
           1,
           1,
           1,
           1,
           1,
           1,
           1,
           0,
           0,
           0,
           0,
           0,
           0,
           0,
           0,
           0,
           0,
           0,
           0,
           0,
           0,
           0,
           0,
           0,
           0,
           0,
           0,
           0,
           0,
           0,
           0,
           0,
           0,
           0,
           0,
           0,
           0,
           0,
           0,
           0,
           0,
           0,
           0,
           0,
           0,
           0,
           0,
           0,
           0,
           0,
           0,
           0,
           0,
           0,
           0,
           0,
           0,
           0,
           0,
           0,
           0,
           0,
           0,
           0,
           0,
           0,
           0,
           0,
           0,
           0,
           0,
           0,
           0,
           0,
           0,
           0,
           0,
           0,
           0,
           0,
           0,
           0,
           0,
           0,
           0,
           0,
           0,
           0,
           0,
           0,
           0,
           1,
           1,
           1,
           1,
           1,
           1,
           1,
           1,
           1,
           1,
           1,
           1,
           1,
           1,
           1,
           1,
           1,
           1,
           1,
           1,
           1,
           1,
           1,
           1,
           1,
           1,
           1,
           1,
           1,
           1,
           0,
           0,
           0.9,
           1,
           1,
           1,
           1,
           1,
           1,
           1,
           1,
           1,
           1,
           1,
           1,
           1,
           1,
           1,
           1,
           1,
           1,
           1,
           1,
           1,
           1,
           1,
           1,
           1,
           1,
           1,
           0.6,
           0,
           0,
           0,
           0,
           0,
           0,
           0,
           0,
           0,
           0,
           0,
           0,
           0,
           0,
           0,
           0,
           0,
           0,
           0,
           0.7272727272727273,
           0.3333333333333333,
           0,
           0,
           0,
           0,
           0,
           0,
           0,
           0.2727272727272727,
           0,
           0,
           0,
           0,
           0,
           0,
           0,
           0,
           0,
           0,
           0.2727272727272727,
           0,
           0,
           0,
           0,
           0,
           0.2,
           0.2727272727272727,
           0,
           0,
           0,
           0,
           0,
           0,
           0,
           0,
           0,
           0,
           0,
           0,
           0,
           0,
           0,
           0,
           0,
           0,
           0,
           0,
           0,
           0,
           0,
           0,
           0,
           0,
           0,
           0,
           0,
           0,
           0,
           0,
           0,
           0,
           0,
           0,
           1,
           1,
           1,
           1,
           1,
           1,
           1,
           1
          ],
          "coloraxis": "coloraxis",
          "pattern": {
           "shape": ""
          }
         },
         "name": "",
         "offsetgroup": "",
         "orientation": "v",
         "showlegend": false,
         "textposition": "auto",
         "type": "bar",
         "x": [
          "2017-02-04T00:00:00",
          "2017-02-04T00:10:00",
          "2017-02-04T00:20:00",
          "2017-02-04T00:30:00",
          "2017-02-04T00:40:00",
          "2017-02-04T00:50:00",
          "2017-02-04T01:00:00",
          "2017-02-04T01:10:00",
          "2017-02-04T01:20:00",
          "2017-02-04T01:30:00",
          "2017-02-04T01:40:00",
          "2017-02-04T01:50:00",
          "2017-02-04T02:00:00",
          "2017-02-04T02:10:00",
          "2017-02-04T02:20:00",
          "2017-02-04T02:30:00",
          "2017-02-04T02:40:00",
          "2017-02-04T02:50:00",
          "2017-02-04T03:00:00",
          "2017-02-04T03:10:00",
          "2017-02-04T03:20:00",
          "2017-02-04T03:30:00",
          "2017-02-04T03:40:00",
          "2017-02-04T03:50:00",
          "2017-02-04T04:00:00",
          "2017-02-04T04:10:00",
          "2017-02-04T04:20:00",
          "2017-02-04T04:30:00",
          "2017-02-04T04:40:00",
          "2017-02-04T04:50:00",
          "2017-02-04T05:00:00",
          "2017-02-04T05:10:00",
          "2017-02-04T05:20:00",
          "2017-02-04T05:30:00",
          "2017-02-04T05:40:00",
          "2017-02-04T05:50:00",
          "2017-02-04T06:00:00",
          "2017-02-04T06:10:00",
          "2017-02-04T06:20:00",
          "2017-02-04T06:30:00",
          "2017-02-04T06:40:00",
          "2017-02-04T06:50:00",
          "2017-02-04T07:00:00",
          "2017-02-04T07:10:00",
          "2017-02-04T07:20:00",
          "2017-02-04T07:30:00",
          "2017-02-04T07:40:00",
          "2017-02-04T07:50:00",
          "2017-02-04T08:00:00",
          "2017-02-04T08:10:00",
          "2017-02-04T08:20:00",
          "2017-02-04T08:30:00",
          "2017-02-04T08:40:00",
          "2017-02-04T08:50:00",
          "2017-02-04T09:00:00",
          "2017-02-04T09:10:00",
          "2017-02-04T09:20:00",
          "2017-02-04T09:30:00",
          "2017-02-04T09:40:00",
          "2017-02-04T09:50:00",
          "2017-02-04T10:00:00",
          "2017-02-04T10:10:00",
          "2017-02-04T10:20:00",
          "2017-02-04T10:30:00",
          "2017-02-04T10:40:00",
          "2017-02-04T10:50:00",
          "2017-02-04T11:00:00",
          "2017-02-04T11:10:00",
          "2017-02-04T11:20:00",
          "2017-02-04T11:30:00",
          "2017-02-04T11:40:00",
          "2017-02-04T11:50:00",
          "2017-02-04T12:00:00",
          "2017-02-04T12:10:00",
          "2017-02-04T12:20:00",
          "2017-02-04T12:30:00",
          "2017-02-04T12:40:00",
          "2017-02-04T12:50:00",
          "2017-02-04T13:00:00",
          "2017-02-04T13:10:00",
          "2017-02-04T13:20:00",
          "2017-02-04T13:30:00",
          "2017-02-04T13:40:00",
          "2017-02-04T13:50:00",
          "2017-02-04T14:00:00",
          "2017-02-04T14:10:00",
          "2017-02-04T14:20:00",
          "2017-02-04T14:30:00",
          "2017-02-04T14:40:00",
          "2017-02-04T14:50:00",
          "2017-02-04T15:00:00",
          "2017-02-04T15:10:00",
          "2017-02-04T15:20:00",
          "2017-02-04T15:30:00",
          "2017-02-04T15:40:00",
          "2017-02-04T15:50:00",
          "2017-02-04T16:00:00",
          "2017-02-04T16:10:00",
          "2017-02-04T16:20:00",
          "2017-02-04T16:30:00",
          "2017-02-04T16:40:00",
          "2017-02-04T16:50:00",
          "2017-02-04T17:00:00",
          "2017-02-04T17:10:00",
          "2017-02-04T17:20:00",
          "2017-02-04T17:30:00",
          "2017-02-04T17:40:00",
          "2017-02-04T17:50:00",
          "2017-02-04T18:00:00",
          "2017-02-04T18:10:00",
          "2017-02-04T18:20:00",
          "2017-02-04T18:30:00",
          "2017-02-04T18:40:00",
          "2017-02-04T18:50:00",
          "2017-02-04T19:00:00",
          "2017-02-04T19:10:00",
          "2017-02-04T19:20:00",
          "2017-02-04T19:30:00",
          "2017-02-04T19:40:00",
          "2017-02-04T19:50:00",
          "2017-02-04T20:00:00",
          "2017-02-04T20:10:00",
          "2017-02-04T20:20:00",
          "2017-02-04T20:30:00",
          "2017-02-04T20:40:00",
          "2017-02-04T20:50:00",
          "2017-02-04T21:00:00",
          "2017-02-04T21:10:00",
          "2017-02-04T21:20:00",
          "2017-02-04T21:30:00",
          "2017-02-04T21:40:00",
          "2017-02-04T21:50:00",
          "2017-02-04T22:00:00",
          "2017-02-04T22:10:00",
          "2017-02-04T22:20:00",
          "2017-02-04T22:30:00",
          "2017-02-04T22:40:00",
          "2017-02-04T22:50:00",
          "2017-02-04T23:00:00",
          "2017-02-04T23:10:00",
          "2017-02-04T23:20:00",
          "2017-02-04T23:30:00",
          "2017-02-04T23:40:00",
          "2017-02-04T23:50:00",
          "2017-02-05T00:00:00",
          "2017-02-05T00:10:00",
          "2017-02-05T00:20:00",
          "2017-02-05T00:30:00",
          "2017-02-05T00:40:00",
          "2017-02-05T00:50:00",
          "2017-02-05T01:00:00",
          "2017-02-05T01:10:00",
          "2017-02-05T01:20:00",
          "2017-02-05T01:30:00",
          "2017-02-05T01:40:00",
          "2017-02-05T01:50:00",
          "2017-02-05T02:00:00",
          "2017-02-05T02:10:00",
          "2017-02-05T02:20:00",
          "2017-02-05T02:30:00",
          "2017-02-05T02:40:00",
          "2017-02-05T02:50:00",
          "2017-02-05T03:00:00",
          "2017-02-05T03:10:00",
          "2017-02-05T03:20:00",
          "2017-02-05T03:30:00",
          "2017-02-05T03:40:00",
          "2017-02-05T03:50:00",
          "2017-02-05T04:00:00",
          "2017-02-05T04:10:00",
          "2017-02-05T04:20:00",
          "2017-02-05T04:30:00",
          "2017-02-05T04:40:00",
          "2017-02-05T04:50:00",
          "2017-02-05T05:00:00",
          "2017-02-05T05:10:00",
          "2017-02-05T05:20:00",
          "2017-02-05T05:30:00",
          "2017-02-05T05:40:00",
          "2017-02-05T05:50:00",
          "2017-02-05T06:00:00",
          "2017-02-05T06:10:00",
          "2017-02-05T06:20:00",
          "2017-02-05T06:30:00",
          "2017-02-05T06:40:00",
          "2017-02-05T06:50:00",
          "2017-02-05T07:00:00",
          "2017-02-05T07:10:00",
          "2017-02-05T07:20:00",
          "2017-02-05T07:30:00",
          "2017-02-05T07:40:00",
          "2017-02-05T07:50:00",
          "2017-02-05T08:00:00",
          "2017-02-05T08:10:00",
          "2017-02-05T08:20:00",
          "2017-02-05T08:30:00",
          "2017-02-05T08:40:00",
          "2017-02-05T08:50:00",
          "2017-02-05T09:00:00",
          "2017-02-05T09:10:00",
          "2017-02-05T09:20:00",
          "2017-02-05T09:30:00",
          "2017-02-05T09:40:00",
          "2017-02-05T09:50:00",
          "2017-02-05T10:00:00",
          "2017-02-05T10:10:00",
          "2017-02-05T10:20:00",
          "2017-02-05T10:30:00",
          "2017-02-05T10:40:00",
          "2017-02-05T10:50:00",
          "2017-02-05T11:00:00",
          "2017-02-05T11:10:00",
          "2017-02-05T11:20:00",
          "2017-02-05T11:30:00",
          "2017-02-05T11:40:00",
          "2017-02-05T11:50:00",
          "2017-02-05T12:00:00",
          "2017-02-05T12:10:00",
          "2017-02-05T12:20:00",
          "2017-02-05T12:30:00",
          "2017-02-05T12:40:00",
          "2017-02-05T12:50:00",
          "2017-02-05T13:00:00",
          "2017-02-05T13:10:00",
          "2017-02-05T13:20:00",
          "2017-02-05T13:30:00",
          "2017-02-05T13:40:00",
          "2017-02-05T13:50:00",
          "2017-02-05T14:00:00",
          "2017-02-05T14:10:00",
          "2017-02-05T14:20:00",
          "2017-02-05T14:30:00",
          "2017-02-05T14:40:00",
          "2017-02-05T14:50:00",
          "2017-02-05T15:00:00",
          "2017-02-05T15:10:00",
          "2017-02-05T15:20:00",
          "2017-02-05T15:30:00",
          "2017-02-05T15:40:00",
          "2017-02-05T15:50:00",
          "2017-02-05T16:00:00",
          "2017-02-05T16:10:00",
          "2017-02-05T16:20:00",
          "2017-02-05T16:30:00",
          "2017-02-05T16:40:00",
          "2017-02-05T16:50:00",
          "2017-02-05T17:00:00",
          "2017-02-05T17:10:00",
          "2017-02-05T17:20:00",
          "2017-02-05T17:30:00",
          "2017-02-05T17:40:00",
          "2017-02-05T17:50:00",
          "2017-02-05T18:00:00",
          "2017-02-05T18:10:00",
          "2017-02-05T18:20:00",
          "2017-02-05T18:30:00",
          "2017-02-05T18:40:00",
          "2017-02-05T18:50:00",
          "2017-02-05T19:00:00",
          "2017-02-05T19:10:00",
          "2017-02-05T19:20:00",
          "2017-02-05T19:30:00",
          "2017-02-05T19:40:00",
          "2017-02-05T19:50:00",
          "2017-02-05T20:00:00",
          "2017-02-05T20:10:00",
          "2017-02-05T20:20:00",
          "2017-02-05T20:30:00",
          "2017-02-05T20:40:00",
          "2017-02-05T20:50:00",
          "2017-02-05T21:00:00",
          "2017-02-05T21:10:00",
          "2017-02-05T21:20:00",
          "2017-02-05T21:30:00",
          "2017-02-05T21:40:00",
          "2017-02-05T21:50:00",
          "2017-02-05T22:00:00",
          "2017-02-05T22:10:00",
          "2017-02-05T22:20:00",
          "2017-02-05T22:30:00",
          "2017-02-05T22:40:00",
          "2017-02-05T22:50:00",
          "2017-02-05T23:00:00",
          "2017-02-05T23:10:00",
          "2017-02-05T23:20:00",
          "2017-02-05T23:30:00",
          "2017-02-05T23:40:00",
          "2017-02-05T23:50:00",
          "2017-02-06T00:00:00",
          "2017-02-06T00:10:00",
          "2017-02-06T00:20:00",
          "2017-02-06T00:30:00",
          "2017-02-06T00:40:00",
          "2017-02-06T00:50:00",
          "2017-02-06T01:00:00",
          "2017-02-06T01:10:00",
          "2017-02-06T01:20:00",
          "2017-02-06T01:30:00",
          "2017-02-06T01:40:00",
          "2017-02-06T01:50:00",
          "2017-02-06T02:00:00",
          "2017-02-06T02:10:00",
          "2017-02-06T02:20:00",
          "2017-02-06T02:30:00",
          "2017-02-06T02:40:00",
          "2017-02-06T02:50:00",
          "2017-02-06T03:00:00",
          "2017-02-06T03:10:00",
          "2017-02-06T03:20:00",
          "2017-02-06T03:30:00",
          "2017-02-06T03:40:00",
          "2017-02-06T03:50:00",
          "2017-02-06T04:00:00",
          "2017-02-06T04:10:00",
          "2017-02-06T04:20:00",
          "2017-02-06T04:30:00",
          "2017-02-06T04:40:00",
          "2017-02-06T04:50:00",
          "2017-02-06T05:00:00",
          "2017-02-06T05:10:00",
          "2017-02-06T05:20:00",
          "2017-02-06T05:30:00",
          "2017-02-06T05:40:00",
          "2017-02-06T05:50:00",
          "2017-02-06T06:00:00",
          "2017-02-06T06:10:00",
          "2017-02-06T06:20:00",
          "2017-02-06T06:30:00",
          "2017-02-06T06:40:00",
          "2017-02-06T06:50:00",
          "2017-02-06T07:00:00",
          "2017-02-06T07:10:00",
          "2017-02-06T07:20:00",
          "2017-02-06T07:30:00",
          "2017-02-06T07:40:00",
          "2017-02-06T07:50:00",
          "2017-02-06T08:00:00",
          "2017-02-06T08:10:00",
          "2017-02-06T08:20:00",
          "2017-02-06T08:30:00",
          "2017-02-06T08:40:00",
          "2017-02-06T08:50:00",
          "2017-02-06T09:00:00",
          "2017-02-06T09:10:00",
          "2017-02-06T09:20:00",
          "2017-02-06T09:30:00",
          "2017-02-06T09:40:00",
          "2017-02-06T09:50:00",
          "2017-02-06T10:00:00",
          "2017-02-06T10:10:00",
          "2017-02-06T10:20:00",
          "2017-02-06T10:30:00",
          "2017-02-06T10:40:00",
          "2017-02-06T10:50:00",
          "2017-02-06T11:00:00",
          "2017-02-06T11:10:00",
          "2017-02-06T11:20:00",
          "2017-02-06T11:30:00",
          "2017-02-06T11:40:00",
          "2017-02-06T11:50:00",
          "2017-02-06T12:00:00",
          "2017-02-06T12:10:00",
          "2017-02-06T12:20:00",
          "2017-02-06T12:30:00",
          "2017-02-06T12:40:00",
          "2017-02-06T12:50:00",
          "2017-02-06T13:00:00",
          "2017-02-06T13:10:00",
          "2017-02-06T13:20:00",
          "2017-02-06T13:30:00",
          "2017-02-06T13:40:00",
          "2017-02-06T13:50:00",
          "2017-02-06T14:00:00",
          "2017-02-06T14:10:00",
          "2017-02-06T14:20:00",
          "2017-02-06T14:30:00",
          "2017-02-06T14:40:00",
          "2017-02-06T14:50:00",
          "2017-02-06T15:00:00",
          "2017-02-06T15:10:00",
          "2017-02-06T15:20:00",
          "2017-02-06T15:30:00",
          "2017-02-06T15:40:00",
          "2017-02-06T15:50:00",
          "2017-02-06T16:00:00",
          "2017-02-06T16:10:00",
          "2017-02-06T16:20:00",
          "2017-02-06T16:30:00",
          "2017-02-06T16:40:00",
          "2017-02-06T16:50:00",
          "2017-02-06T17:00:00",
          "2017-02-06T17:10:00",
          "2017-02-06T17:20:00",
          "2017-02-06T17:30:00",
          "2017-02-06T17:40:00",
          "2017-02-06T17:50:00",
          "2017-02-06T18:00:00",
          "2017-02-06T18:10:00",
          "2017-02-06T18:20:00",
          "2017-02-06T18:30:00",
          "2017-02-06T18:40:00",
          "2017-02-06T18:50:00",
          "2017-02-06T19:00:00",
          "2017-02-06T19:10:00",
          "2017-02-06T19:20:00",
          "2017-02-06T19:30:00",
          "2017-02-06T19:40:00",
          "2017-02-06T19:50:00",
          "2017-02-06T20:00:00",
          "2017-02-06T20:10:00",
          "2017-02-06T20:20:00",
          "2017-02-06T20:30:00",
          "2017-02-06T20:40:00",
          "2017-02-06T20:50:00",
          "2017-02-06T21:00:00",
          "2017-02-06T21:10:00",
          "2017-02-06T21:20:00",
          "2017-02-06T21:30:00",
          "2017-02-06T21:40:00",
          "2017-02-06T21:50:00",
          "2017-02-06T22:00:00",
          "2017-02-06T22:10:00",
          "2017-02-06T22:20:00",
          "2017-02-06T22:30:00",
          "2017-02-06T22:40:00",
          "2017-02-06T22:50:00",
          "2017-02-06T23:00:00",
          "2017-02-06T23:10:00",
          "2017-02-06T23:20:00",
          "2017-02-06T23:30:00",
          "2017-02-06T23:40:00",
          "2017-02-06T23:50:00",
          "2017-02-07T00:00:00",
          "2017-02-07T00:10:00",
          "2017-02-07T00:20:00",
          "2017-02-07T00:30:00",
          "2017-02-07T00:40:00",
          "2017-02-07T00:50:00",
          "2017-02-07T01:00:00",
          "2017-02-07T01:10:00",
          "2017-02-07T01:20:00",
          "2017-02-07T01:30:00",
          "2017-02-07T01:40:00",
          "2017-02-07T01:50:00",
          "2017-02-07T02:00:00",
          "2017-02-07T02:10:00",
          "2017-02-07T02:20:00",
          "2017-02-07T02:30:00",
          "2017-02-07T02:40:00",
          "2017-02-07T02:50:00",
          "2017-02-07T03:00:00",
          "2017-02-07T03:10:00",
          "2017-02-07T03:20:00",
          "2017-02-07T03:30:00",
          "2017-02-07T03:40:00",
          "2017-02-07T03:50:00",
          "2017-02-07T04:00:00",
          "2017-02-07T04:10:00",
          "2017-02-07T04:20:00",
          "2017-02-07T04:30:00",
          "2017-02-07T04:40:00",
          "2017-02-07T04:50:00",
          "2017-02-07T05:00:00",
          "2017-02-07T05:10:00",
          "2017-02-07T05:20:00",
          "2017-02-07T05:30:00",
          "2017-02-07T05:40:00",
          "2017-02-07T05:50:00",
          "2017-02-07T06:00:00",
          "2017-02-07T06:10:00",
          "2017-02-07T06:20:00",
          "2017-02-07T06:30:00",
          "2017-02-07T06:40:00",
          "2017-02-07T06:50:00",
          "2017-02-07T07:00:00",
          "2017-02-07T07:10:00",
          "2017-02-07T07:20:00",
          "2017-02-07T07:30:00",
          "2017-02-07T07:40:00",
          "2017-02-07T07:50:00",
          "2017-02-07T08:00:00",
          "2017-02-07T08:10:00",
          "2017-02-07T08:20:00",
          "2017-02-07T08:30:00",
          "2017-02-07T08:40:00",
          "2017-02-07T08:50:00",
          "2017-02-07T09:00:00",
          "2017-02-07T09:10:00",
          "2017-02-07T09:20:00",
          "2017-02-07T09:30:00",
          "2017-02-07T09:40:00",
          "2017-02-07T09:50:00",
          "2017-02-07T10:00:00",
          "2017-02-07T10:10:00",
          "2017-02-07T10:20:00",
          "2017-02-07T10:30:00",
          "2017-02-07T10:40:00",
          "2017-02-07T10:50:00",
          "2017-02-07T11:00:00",
          "2017-02-07T11:10:00",
          "2017-02-07T11:20:00",
          "2017-02-07T11:30:00",
          "2017-02-07T11:40:00",
          "2017-02-07T11:50:00",
          "2017-02-07T12:00:00",
          "2017-02-07T12:10:00",
          "2017-02-07T12:20:00",
          "2017-02-07T12:30:00",
          "2017-02-07T12:40:00",
          "2017-02-07T12:50:00",
          "2017-02-07T13:00:00",
          "2017-02-07T13:10:00",
          "2017-02-07T13:20:00",
          "2017-02-07T13:30:00",
          "2017-02-07T13:40:00",
          "2017-02-07T13:50:00",
          "2017-02-07T14:00:00",
          "2017-02-07T14:10:00",
          "2017-02-07T14:20:00",
          "2017-02-07T14:30:00",
          "2017-02-07T14:40:00",
          "2017-02-07T14:50:00",
          "2017-02-07T15:00:00",
          "2017-02-07T15:10:00",
          "2017-02-07T15:20:00",
          "2017-02-07T15:30:00",
          "2017-02-07T15:40:00",
          "2017-02-07T15:50:00",
          "2017-02-07T16:00:00",
          "2017-02-07T16:10:00",
          "2017-02-07T16:20:00",
          "2017-02-07T16:30:00",
          "2017-02-07T16:40:00",
          "2017-02-07T16:50:00",
          "2017-02-07T17:00:00",
          "2017-02-07T17:10:00",
          "2017-02-07T17:20:00",
          "2017-02-07T17:30:00",
          "2017-02-07T17:40:00",
          "2017-02-07T17:50:00",
          "2017-02-07T18:00:00",
          "2017-02-07T18:10:00",
          "2017-02-07T18:20:00",
          "2017-02-07T18:30:00",
          "2017-02-07T18:40:00",
          "2017-02-07T18:50:00",
          "2017-02-07T19:00:00",
          "2017-02-07T19:10:00",
          "2017-02-07T19:20:00",
          "2017-02-07T19:30:00",
          "2017-02-07T19:40:00",
          "2017-02-07T19:50:00",
          "2017-02-07T20:00:00",
          "2017-02-07T20:10:00",
          "2017-02-07T20:20:00",
          "2017-02-07T20:30:00",
          "2017-02-07T20:40:00",
          "2017-02-07T20:50:00",
          "2017-02-07T21:00:00",
          "2017-02-07T21:10:00",
          "2017-02-07T21:20:00",
          "2017-02-07T21:30:00",
          "2017-02-07T21:40:00",
          "2017-02-07T21:50:00",
          "2017-02-07T22:00:00",
          "2017-02-07T22:10:00",
          "2017-02-07T22:20:00",
          "2017-02-07T22:30:00",
          "2017-02-07T22:40:00",
          "2017-02-07T22:50:00",
          "2017-02-07T23:00:00",
          "2017-02-07T23:10:00",
          "2017-02-07T23:20:00",
          "2017-02-07T23:30:00",
          "2017-02-07T23:40:00",
          "2017-02-07T23:50:00",
          "2017-02-08T00:00:00",
          "2017-02-08T00:10:00",
          "2017-02-08T00:20:00",
          "2017-02-08T00:30:00",
          "2017-02-08T00:40:00",
          "2017-02-08T00:50:00",
          "2017-02-08T01:00:00",
          "2017-02-08T01:10:00",
          "2017-02-08T01:20:00",
          "2017-02-08T01:30:00",
          "2017-02-08T01:40:00",
          "2017-02-08T01:50:00",
          "2017-02-08T02:00:00",
          "2017-02-08T02:10:00",
          "2017-02-08T02:20:00",
          "2017-02-08T02:30:00",
          "2017-02-08T02:40:00",
          "2017-02-08T02:50:00",
          "2017-02-08T03:00:00",
          "2017-02-08T03:10:00",
          "2017-02-08T03:20:00",
          "2017-02-08T03:30:00",
          "2017-02-08T03:40:00",
          "2017-02-08T03:50:00",
          "2017-02-08T04:00:00",
          "2017-02-08T04:10:00",
          "2017-02-08T04:20:00",
          "2017-02-08T04:30:00",
          "2017-02-08T04:40:00",
          "2017-02-08T04:50:00",
          "2017-02-08T05:00:00",
          "2017-02-08T05:10:00",
          "2017-02-08T05:20:00",
          "2017-02-08T05:30:00",
          "2017-02-08T05:40:00",
          "2017-02-08T05:50:00",
          "2017-02-08T06:00:00",
          "2017-02-08T06:10:00",
          "2017-02-08T06:20:00",
          "2017-02-08T06:30:00",
          "2017-02-08T06:40:00",
          "2017-02-08T06:50:00",
          "2017-02-08T07:00:00",
          "2017-02-08T07:10:00",
          "2017-02-08T07:20:00",
          "2017-02-08T07:30:00",
          "2017-02-08T07:40:00",
          "2017-02-08T07:50:00",
          "2017-02-08T08:00:00",
          "2017-02-08T08:10:00",
          "2017-02-08T08:20:00",
          "2017-02-08T08:30:00",
          "2017-02-08T08:40:00",
          "2017-02-08T08:50:00",
          "2017-02-08T09:00:00",
          "2017-02-08T09:10:00"
         ],
         "xaxis": "x",
         "y": [
          506.7962962962963,
          504.15,
          505.8939393939394,
          505.22222222222223,
          502.65909090909093,
          503.3148148148149,
          501.72727272727275,
          501.51851851851853,
          502.6,
          504.85,
          501.7833333333334,
          504.8181818181818,
          505.00925925925924,
          504.33333333333337,
          503.2037037037037,
          505.9621212121212,
          503.3703703703703,
          504.5333333333334,
          503.7166666666667,
          503.725,
          503.83333333333337,
          502.537037037037,
          499.66666666666663,
          502.59259259259255,
          501.2878787878788,
          501.4814814814815,
          499.6,
          503.4666666666667,
          501.2166666666667,
          501.30303030303025,
          502.82407407407413,
          504.05303030303037,
          503.90740740740745,
          503.439393939394,
          503.3888888888889,
          502.5,
          503.775,
          502.9083333333334,
          504.72727272727275,
          506.2037037037037,
          503.95454545454544,
          507.72222222222223,
          508.18939393939394,
          504.8518518518519,
          503.9833333333333,
          506.4,
          505.85,
          505.8181818181818,
          510.462962962963,
          505.3939393939394,
          504.3703703703703,
          504.18939393939394,
          506.5833333333333,
          506.4583333333333,
          504.5999999999999,
          505.5,
          503.32575757575756,
          505.70370370370375,
          504.79545454545456,
          505.6018518518518,
          505.98484848484856,
          507.9537037037037,
          510.1,
          507.975,
          513.4000000000001,
          515.2727272727273,
          511.50925925925924,
          507.2121212121212,
          502.72222222222223,
          503.67424242424255,
          505.80555555555554,
          509.6583333333333,
          507.3166666666667,
          509.275,
          510.75757575757575,
          508.3611111111111,
          502.79545454545456,
          498.1481481481481,
          496.75757575757575,
          498.77777777777777,
          498.575,
          504.9333333333333,
          501.6583333333333,
          505.04545454545456,
          505.425925925926,
          507.01515151515156,
          508.074074074074,
          510.1530303030302,
          508.40740740740733,
          509.1333333333333,
          510.3416666666667,
          508.6083333333333,
          512.4242424242425,
          512.3055555555555,
          511.99696969696976,
          510.8518518518519,
          512.2651515151515,
          515.2777777777778,
          514.8666666666666,
          515.7583333333333,
          515.1333333333334,
          514.4545454545455,
          515.1481481481482,
          515.9393939393939,
          519.4074074074074,
          516.0454545454545,
          518.2407407407408,
          516.6166666666667,
          514.3833333333333,
          517.95,
          519.6136363636364,
          522.2962962962963,
          519.2727272727273,
          521.6388888888889,
          522.969696969697,
          520.3518518518518,
          526.5666666666666,
          522.6166666666666,
          521.9166666666666,
          514.7727272727273,
          513.4166666666666,
          522.2348484848485,
          528.4814814814814,
          529.1363636363636,
          531.962962962963,
          528.8,
          533.475,
          534.1,
          534.0757575757575,
          531.1388888888889,
          529.219696969697,
          534,
          533.0151515151515,
          529.5370370370371,
          531.45,
          532.5166666666667,
          533.5833333333333,
          535.4090909090909,
          531.7962962962963,
          536.3484848484849,
          536.2962962962962,
          536.4393939393939,
          539.3888888888889,
          537.5083333333333,
          538.3833333333333,
          535.5916666666666,
          538.2727272727273,
          539.2037037037037,
          539.5606060606061,
          541.7592592592592,
          538.4848484848485,
          542.0555555555555,
          540.35,
          538.8500000000001,
          541.4333333333333,
          541.560606060606,
          540.4259259259259,
          543.2424242424241,
          542.7037037037038,
          543.1363636363636,
          543.925925925926,
          545.6833333333333,
          546.5833333333334,
          546.45,
          549.7196969696969,
          550.3333333333334,
          553.2121212121211,
          553.9074074074074,
          554.9090909090909,
          556.0185185185186,
          559.225,
          559.4666666666667,
          564.8666666666667,
          567.9090909090909,
          566.5462962962963,
          566.219696969697,
          568.1111111111111,
          567.9242424242425,
          567.9259259259259,
          569.6333333333333,
          571.0333333333333,
          573.95,
          575.8181818181819,
          578.4375,
          579.060606060606,
          580.6759259259259,
          582.8636363636364,
          588.287037037037,
          586.95,
          591.6,
          595.2166666666667,
          602.439393939394,
          606.175925925926,
          605.4,
          605.9444444444445,
          611.1742424242424,
          609.1666666666666,
          613.5,
          617.8666666666666,
          617.4416666666667,
          623.6136363636364,
          627.7592592592592,
          636.8939393939395,
          641.7592592592592,
          643.5530303030304,
          644.3518518518518,
          640.0583333333333,
          638.2833333333334,
          637.2833333333334,
          634.6742424242425,
          629.8611111111111,
          632.7651515151515,
          629.2222222222222,
          630.8863636363636,
          627.9259259259259,
          628.6899999999998,
          629.95,
          633.9333333333334,
          632.6515151515151,
          633.4074074074074,
          630.1666666666667,
          632.0648148148149,
          639.5833333333334,
          641.537037037037,
          649.5416666666667,
          655.9416666666667,
          658.775,
          658.3257575757576,
          661.4351851851852,
          664.4469696969697,
          674.0092592592594,
          681.4545454545455,
          682.0925925925926,
          663.6583333333333,
          655.2716666666668,
          655.6666666666667,
          657.5681818181819,
          657.2222222222222,
          662.8560606060605,
          660.5625,
          662.6666666666666,
          663.1851851851852,
          668.5083333333333,
          667.1916666666667,
          670.8833333333333,
          683.1287878787879,
          689.1296296296296,
          682.7727272727271,
          678.8425925925926,
          676.4848484848485,
          672.3194444444445,
          676.1833333333333,
          672.7,
          674.7333333333333,
          675.1818181818181,
          668.425925925926,
          649.439393939394,
          654.4259259259259,
          652.0757575757575,
          657.0925925925926,
          658.5833333333333,
          665.1333333333333,
          668.1583333333333,
          675.1969696969697,
          675.8333333333334,
          678.7121212121211,
          679.9259259259259,
          685.1363636363636,
          690.7962962962962,
          692.9,
          694.6666666666667,
          701.4833333333333,
          700.6363636363636,
          707.2222222222222,
          707.9393939393939,
          712.8148148148149,
          717.8636363636364,
          720.1296296296297,
          718.25,
          722.2166666666667,
          714.85,
          721.6060606060605,
          729.074074074074,
          731.2727272727273,
          729.8333333333334,
          729.1212121212121,
          730.2592592592592,
          731.3,
          732.3833333333333,
          729.8,
          732.969696969697,
          714.2592592592592,
          775.6363636363636,
          798.5555555555555,
          808.5666666666667,
          817.4259259259259,
          826.3166666666666,
          903.9166666666666,
          862.9333333333332,
          854.4848484848484,
          854.3055555555555,
          854.1212121212124,
          861.5,
          858.8181818181819,
          861.3333333333334,
          861.75,
          864.6,
          867.2,
          865.3560606060607,
          859.7222222222222,
          857.9393939393939,
          858.2962962962963,
          849.1818181818181,
          845.3333333333334,
          822.65,
          801.1333333333333,
          800.25,
          790.0151515151515,
          785,
          788.0909090909091,
          794.7407407407408,
          793.6818181818181,
          798.962962962963,
          795.3666666666667,
          799.75,
          801.1833333333333,
          802.1666666666665,
          802.2222222222222,
          806.8484848484848,
          810.3888888888889,
          811.7954545454545,
          811.574074074074,
          805.8333333333333,
          808.55,
          813.4333333333333,
          818.5530303030304,
          819.2037037037038,
          821.8181818181819,
          825.3981481481482,
          826.4696969696971,
          848.8333333333334,
          879.1133333333333,
          902.325,
          966.9583333333333,
          1005.4393939393937,
          1013.4537037037034,
          1002.5757575757575,
          1012.194444444444,
          977.7196969696969,
          971.3851851851853,
          968.8083333333334,
          971.275,
          969.9333333333332,
          1006.1590909090905,
          1044.5370370370376,
          1038.078787878788,
          1012.3611111111111,
          1002.7878787878791,
          983.7407407407409,
          964.9916666666668,
          939.725,
          911.945,
          924.8484848484848,
          910.675925925926,
          906.4545454545455,
          898.6203703703703,
          895.6499999999997,
          890.6296296296297,
          872.7583333333332,
          861.5,
          854.3833333333332,
          837.0075757575756,
          846.2037037037037,
          884.3257575757576,
          908.9722222222222,
          917.9378787878787,
          908.0740740740741,
          907.3416666666668,
          899.2333333333332,
          870.2333333333333,
          862.9772727272727,
          882.3148148148148,
          892.4015151515151,
          892.0833333333334,
          905.4393939393939,
          924.0462962962964,
          921.225,
          928.7333333333332,
          916.875,
          906.6818181818181,
          927.7314814814815,
          976.742424242424,
          974.2407407407409,
          978.1515151515152,
          986.962962962963,
          982.025,
          973.2166666666668,
          944.0166666666668,
          925.4393939393939,
          888.0185185185186,
          854.3636363636364,
          834.1666666666666,
          815.189393939394,
          795.4814814814814,
          773.3166666666666,
          765.4416666666666,
          762.8,
          754.4545454545455,
          747.9074074074074,
          742.8787878787879,
          739.8888888888889,
          730.9242424242425,
          724.962962962963,
          725.8500000000001,
          723.95,
          724.575,
          721.6515151515151,
          723.2407407407408,
          722.2878787878789,
          719.2222222222222,
          713.6212121212121,
          714.4814814814814,
          718.6500000000001,
          712.4833333333333,
          716.15,
          716.7575757575758,
          714.8703703703703,
          714.280303030303,
          713.462962962963,
          712.5227272727273,
          714.537037037037,
          714.4166666666666,
          712.5166666666667,
          715.1333333333333,
          717.6515151515151,
          713.2037037037038,
          713.2045454545455,
          715.7777777777778,
          711.0757575757575,
          713.5833333333334,
          713.4666666666667,
          712.7666666666667,
          721.2333333333333,
          714.9242424242424,
          719.2962962962963,
          717.4621212121211,
          717.074074074074,
          716.7272727272729,
          714.6666666666666,
          717.9333333333333,
          722,
          721.75,
          721.0454545454545,
          724.925925925926,
          725.9166666666667,
          731.0833333333334,
          731.2575757575758,
          730.5925925925926,
          733.2333333333333,
          734.5833333333333,
          736.0666666666666,
          737.8030303030303,
          738.462962962963,
          740.0151515151515,
          739.4166666666666,
          734.8257575757576,
          735.2037037037037,
          742.525,
          742.2583333333333,
          744.3666666666667,
          750.7272727272727,
          751.3148148148149,
          756.3181818181819,
          756.0925925925926,
          760.8181818181819,
          765.5740740740741,
          766.75,
          773.2833333333334,
          773.75,
          777.1818181818181,
          780.4444444444445,
          784.5,
          788.1111111111111,
          792.7651515151516,
          820.9814814814815,
          835,
          847.2666666666668,
          873.95,
          926.3030303030304,
          938.6111111111111,
          945.5606060606061,
          946.2074074074072,
          961.6742424242425,
          960.5370370370371,
          967.3833333333336,
          980.6416666666668,
          988.9537037037036,
          1005.9318181818181,
          1042.0370370370367,
          1074.2196969696972,
          1099.259259259259,
          1081.9242424242427,
          1110.0277777777778,
          1155.2666666666669,
          1222.825,
          1348.775,
          1258.69696969697,
          1196.3555555555556,
          1157.590909090909,
          1150.7259259259254,
          1153.7727272727273,
          1130.829629629629,
          1119.266666666666,
          1141.333333333333,
          1165.041666666667,
          1180.7575757575762,
          1211.9555555555555,
          1255.5681818181818,
          1298.259259259259,
          1322.2424242424238,
          1346.25,
          1352.908333333333,
          1391.15,
          1410.5166666666669,
          1411.775000000001,
          1466.3981481481478,
          1384.1742424242418,
          1404.3333333333323,
          1420.6893939393938,
          1489.111111111111,
          1517.4,
          1459.033333333333,
          1472.1416666666669,
          1494.6363636363637,
          1483.4814814814822,
          1513.515151515152,
          1547.731481481481,
          1749.9469696969702,
          1700.9537037037035,
          1668.6666666666672,
          1602.725,
          1557.525,
          1532.8181818181818,
          1498.0370370370367,
          1478.4318181818182,
          1482.8148148148146,
          1473.1212121212118,
          1468.2037037037035,
          1468.541666666667,
          1472.6,
          1489.3,
          1500.9545454545455,
          1520.1666666666667,
          1489.7727272727273,
          1505.8148148148146,
          1520.6515151515146,
          1518.6851851851845,
          1505.383333333333,
          1515.216666666667,
          1546.85,
          1704.7424242424238,
          1686.2222222222222,
          1535.909090909091,
          1513.7037037037035,
          1556.575757575757,
          1507.740740740741,
          1424.866666666667,
          1486.4333333333338,
          1582.2666666666669,
          1572.39393939394,
          1154.481481481481,
          1152.7424242424245,
          1192.4444444444443,
          1207.712121212121,
          1238.8333333333333,
          1225.55,
          1216.9333333333338,
          1283.05,
          1068.7424242424245,
          1218.9629629629624,
          1548.9545454545462,
          1338,
          1388.2878787878783,
          1313.4722222222222,
          1320.733333333334,
          1343.5166666666669,
          1559.708333333333,
          1620.7272727272727,
          1269.111111111111,
          1213.8636363636363,
          1225.2777777777778,
          1253.5151515151517,
          1268.981481481481,
          1261.991666666666,
          1248.6833333333338,
          1262.75,
          1359.60606060606,
          1361.759259259259,
          1368.8484848484845,
          1396.3981481481478,
          1418.462121212121,
          1410.9444444444443,
          1457.825,
          1488.716666666667,
          1501.85,
          1542.9318181818182,
          1494.9629629629633,
          1504.2272727272727,
          1519.9074074074078,
          1535.2272727272727,
          1553.4444444444443,
          1558.1,
          1531.866666666667,
          1550.35,
          1525,
          1478.111111111111,
          1483.4242424242427,
          1503.0925925925933,
          1510.7121212121208,
          1500.5277777777778,
          1463.366666666667,
          1436.025,
          1415.7333333333331,
          1420.69696969697,
          1417.0555555555557,
          1430.2727272727273,
          1443.9351851851854,
          1444,
          1413.611111111111,
          1485.0149999999999,
          1452.783333333334,
          1545.375
         ],
         "yaxis": "y"
        }
       ],
       "layout": {
        "barmode": "relative",
        "coloraxis": {
         "colorbar": {
          "title": {
           "text": "Anwesenheit"
          }
         },
         "colorscale": [
          [
           0,
           "#0d0887"
          ],
          [
           0.1111111111111111,
           "#46039f"
          ],
          [
           0.2222222222222222,
           "#7201a8"
          ],
          [
           0.3333333333333333,
           "#9c179e"
          ],
          [
           0.4444444444444444,
           "#bd3786"
          ],
          [
           0.5555555555555556,
           "#d8576b"
          ],
          [
           0.6666666666666666,
           "#ed7953"
          ],
          [
           0.7777777777777778,
           "#fb9f3a"
          ],
          [
           0.8888888888888888,
           "#fdca26"
          ],
          [
           1,
           "#f0f921"
          ]
         ]
        },
        "legend": {
         "tracegroupgap": 0
        },
        "margin": {
         "t": 60
        },
        "template": {
         "data": {
          "bar": [
           {
            "error_x": {
             "color": "#2a3f5f"
            },
            "error_y": {
             "color": "#2a3f5f"
            },
            "marker": {
             "line": {
              "color": "#E5ECF6",
              "width": 0.5
             },
             "pattern": {
              "fillmode": "overlay",
              "size": 10,
              "solidity": 0.2
             }
            },
            "type": "bar"
           }
          ],
          "barpolar": [
           {
            "marker": {
             "line": {
              "color": "#E5ECF6",
              "width": 0.5
             },
             "pattern": {
              "fillmode": "overlay",
              "size": 10,
              "solidity": 0.2
             }
            },
            "type": "barpolar"
           }
          ],
          "carpet": [
           {
            "aaxis": {
             "endlinecolor": "#2a3f5f",
             "gridcolor": "white",
             "linecolor": "white",
             "minorgridcolor": "white",
             "startlinecolor": "#2a3f5f"
            },
            "baxis": {
             "endlinecolor": "#2a3f5f",
             "gridcolor": "white",
             "linecolor": "white",
             "minorgridcolor": "white",
             "startlinecolor": "#2a3f5f"
            },
            "type": "carpet"
           }
          ],
          "choropleth": [
           {
            "colorbar": {
             "outlinewidth": 0,
             "ticks": ""
            },
            "type": "choropleth"
           }
          ],
          "contour": [
           {
            "colorbar": {
             "outlinewidth": 0,
             "ticks": ""
            },
            "colorscale": [
             [
              0,
              "#0d0887"
             ],
             [
              0.1111111111111111,
              "#46039f"
             ],
             [
              0.2222222222222222,
              "#7201a8"
             ],
             [
              0.3333333333333333,
              "#9c179e"
             ],
             [
              0.4444444444444444,
              "#bd3786"
             ],
             [
              0.5555555555555556,
              "#d8576b"
             ],
             [
              0.6666666666666666,
              "#ed7953"
             ],
             [
              0.7777777777777778,
              "#fb9f3a"
             ],
             [
              0.8888888888888888,
              "#fdca26"
             ],
             [
              1,
              "#f0f921"
             ]
            ],
            "type": "contour"
           }
          ],
          "contourcarpet": [
           {
            "colorbar": {
             "outlinewidth": 0,
             "ticks": ""
            },
            "type": "contourcarpet"
           }
          ],
          "heatmap": [
           {
            "colorbar": {
             "outlinewidth": 0,
             "ticks": ""
            },
            "colorscale": [
             [
              0,
              "#0d0887"
             ],
             [
              0.1111111111111111,
              "#46039f"
             ],
             [
              0.2222222222222222,
              "#7201a8"
             ],
             [
              0.3333333333333333,
              "#9c179e"
             ],
             [
              0.4444444444444444,
              "#bd3786"
             ],
             [
              0.5555555555555556,
              "#d8576b"
             ],
             [
              0.6666666666666666,
              "#ed7953"
             ],
             [
              0.7777777777777778,
              "#fb9f3a"
             ],
             [
              0.8888888888888888,
              "#fdca26"
             ],
             [
              1,
              "#f0f921"
             ]
            ],
            "type": "heatmap"
           }
          ],
          "heatmapgl": [
           {
            "colorbar": {
             "outlinewidth": 0,
             "ticks": ""
            },
            "colorscale": [
             [
              0,
              "#0d0887"
             ],
             [
              0.1111111111111111,
              "#46039f"
             ],
             [
              0.2222222222222222,
              "#7201a8"
             ],
             [
              0.3333333333333333,
              "#9c179e"
             ],
             [
              0.4444444444444444,
              "#bd3786"
             ],
             [
              0.5555555555555556,
              "#d8576b"
             ],
             [
              0.6666666666666666,
              "#ed7953"
             ],
             [
              0.7777777777777778,
              "#fb9f3a"
             ],
             [
              0.8888888888888888,
              "#fdca26"
             ],
             [
              1,
              "#f0f921"
             ]
            ],
            "type": "heatmapgl"
           }
          ],
          "histogram": [
           {
            "marker": {
             "pattern": {
              "fillmode": "overlay",
              "size": 10,
              "solidity": 0.2
             }
            },
            "type": "histogram"
           }
          ],
          "histogram2d": [
           {
            "colorbar": {
             "outlinewidth": 0,
             "ticks": ""
            },
            "colorscale": [
             [
              0,
              "#0d0887"
             ],
             [
              0.1111111111111111,
              "#46039f"
             ],
             [
              0.2222222222222222,
              "#7201a8"
             ],
             [
              0.3333333333333333,
              "#9c179e"
             ],
             [
              0.4444444444444444,
              "#bd3786"
             ],
             [
              0.5555555555555556,
              "#d8576b"
             ],
             [
              0.6666666666666666,
              "#ed7953"
             ],
             [
              0.7777777777777778,
              "#fb9f3a"
             ],
             [
              0.8888888888888888,
              "#fdca26"
             ],
             [
              1,
              "#f0f921"
             ]
            ],
            "type": "histogram2d"
           }
          ],
          "histogram2dcontour": [
           {
            "colorbar": {
             "outlinewidth": 0,
             "ticks": ""
            },
            "colorscale": [
             [
              0,
              "#0d0887"
             ],
             [
              0.1111111111111111,
              "#46039f"
             ],
             [
              0.2222222222222222,
              "#7201a8"
             ],
             [
              0.3333333333333333,
              "#9c179e"
             ],
             [
              0.4444444444444444,
              "#bd3786"
             ],
             [
              0.5555555555555556,
              "#d8576b"
             ],
             [
              0.6666666666666666,
              "#ed7953"
             ],
             [
              0.7777777777777778,
              "#fb9f3a"
             ],
             [
              0.8888888888888888,
              "#fdca26"
             ],
             [
              1,
              "#f0f921"
             ]
            ],
            "type": "histogram2dcontour"
           }
          ],
          "mesh3d": [
           {
            "colorbar": {
             "outlinewidth": 0,
             "ticks": ""
            },
            "type": "mesh3d"
           }
          ],
          "parcoords": [
           {
            "line": {
             "colorbar": {
              "outlinewidth": 0,
              "ticks": ""
             }
            },
            "type": "parcoords"
           }
          ],
          "pie": [
           {
            "automargin": true,
            "type": "pie"
           }
          ],
          "scatter": [
           {
            "marker": {
             "colorbar": {
              "outlinewidth": 0,
              "ticks": ""
             }
            },
            "type": "scatter"
           }
          ],
          "scatter3d": [
           {
            "line": {
             "colorbar": {
              "outlinewidth": 0,
              "ticks": ""
             }
            },
            "marker": {
             "colorbar": {
              "outlinewidth": 0,
              "ticks": ""
             }
            },
            "type": "scatter3d"
           }
          ],
          "scattercarpet": [
           {
            "marker": {
             "colorbar": {
              "outlinewidth": 0,
              "ticks": ""
             }
            },
            "type": "scattercarpet"
           }
          ],
          "scattergeo": [
           {
            "marker": {
             "colorbar": {
              "outlinewidth": 0,
              "ticks": ""
             }
            },
            "type": "scattergeo"
           }
          ],
          "scattergl": [
           {
            "marker": {
             "colorbar": {
              "outlinewidth": 0,
              "ticks": ""
             }
            },
            "type": "scattergl"
           }
          ],
          "scattermapbox": [
           {
            "marker": {
             "colorbar": {
              "outlinewidth": 0,
              "ticks": ""
             }
            },
            "type": "scattermapbox"
           }
          ],
          "scatterpolar": [
           {
            "marker": {
             "colorbar": {
              "outlinewidth": 0,
              "ticks": ""
             }
            },
            "type": "scatterpolar"
           }
          ],
          "scatterpolargl": [
           {
            "marker": {
             "colorbar": {
              "outlinewidth": 0,
              "ticks": ""
             }
            },
            "type": "scatterpolargl"
           }
          ],
          "scatterternary": [
           {
            "marker": {
             "colorbar": {
              "outlinewidth": 0,
              "ticks": ""
             }
            },
            "type": "scatterternary"
           }
          ],
          "surface": [
           {
            "colorbar": {
             "outlinewidth": 0,
             "ticks": ""
            },
            "colorscale": [
             [
              0,
              "#0d0887"
             ],
             [
              0.1111111111111111,
              "#46039f"
             ],
             [
              0.2222222222222222,
              "#7201a8"
             ],
             [
              0.3333333333333333,
              "#9c179e"
             ],
             [
              0.4444444444444444,
              "#bd3786"
             ],
             [
              0.5555555555555556,
              "#d8576b"
             ],
             [
              0.6666666666666666,
              "#ed7953"
             ],
             [
              0.7777777777777778,
              "#fb9f3a"
             ],
             [
              0.8888888888888888,
              "#fdca26"
             ],
             [
              1,
              "#f0f921"
             ]
            ],
            "type": "surface"
           }
          ],
          "table": [
           {
            "cells": {
             "fill": {
              "color": "#EBF0F8"
             },
             "line": {
              "color": "white"
             }
            },
            "header": {
             "fill": {
              "color": "#C8D4E3"
             },
             "line": {
              "color": "white"
             }
            },
            "type": "table"
           }
          ]
         },
         "layout": {
          "annotationdefaults": {
           "arrowcolor": "#2a3f5f",
           "arrowhead": 0,
           "arrowwidth": 1
          },
          "autotypenumbers": "strict",
          "coloraxis": {
           "colorbar": {
            "outlinewidth": 0,
            "ticks": ""
           }
          },
          "colorscale": {
           "diverging": [
            [
             0,
             "#8e0152"
            ],
            [
             0.1,
             "#c51b7d"
            ],
            [
             0.2,
             "#de77ae"
            ],
            [
             0.3,
             "#f1b6da"
            ],
            [
             0.4,
             "#fde0ef"
            ],
            [
             0.5,
             "#f7f7f7"
            ],
            [
             0.6,
             "#e6f5d0"
            ],
            [
             0.7,
             "#b8e186"
            ],
            [
             0.8,
             "#7fbc41"
            ],
            [
             0.9,
             "#4d9221"
            ],
            [
             1,
             "#276419"
            ]
           ],
           "sequential": [
            [
             0,
             "#0d0887"
            ],
            [
             0.1111111111111111,
             "#46039f"
            ],
            [
             0.2222222222222222,
             "#7201a8"
            ],
            [
             0.3333333333333333,
             "#9c179e"
            ],
            [
             0.4444444444444444,
             "#bd3786"
            ],
            [
             0.5555555555555556,
             "#d8576b"
            ],
            [
             0.6666666666666666,
             "#ed7953"
            ],
            [
             0.7777777777777778,
             "#fb9f3a"
            ],
            [
             0.8888888888888888,
             "#fdca26"
            ],
            [
             1,
             "#f0f921"
            ]
           ],
           "sequentialminus": [
            [
             0,
             "#0d0887"
            ],
            [
             0.1111111111111111,
             "#46039f"
            ],
            [
             0.2222222222222222,
             "#7201a8"
            ],
            [
             0.3333333333333333,
             "#9c179e"
            ],
            [
             0.4444444444444444,
             "#bd3786"
            ],
            [
             0.5555555555555556,
             "#d8576b"
            ],
            [
             0.6666666666666666,
             "#ed7953"
            ],
            [
             0.7777777777777778,
             "#fb9f3a"
            ],
            [
             0.8888888888888888,
             "#fdca26"
            ],
            [
             1,
             "#f0f921"
            ]
           ]
          },
          "colorway": [
           "#636efa",
           "#EF553B",
           "#00cc96",
           "#ab63fa",
           "#FFA15A",
           "#19d3f3",
           "#FF6692",
           "#B6E880",
           "#FF97FF",
           "#FECB52"
          ],
          "font": {
           "color": "#2a3f5f"
          },
          "geo": {
           "bgcolor": "white",
           "lakecolor": "white",
           "landcolor": "#E5ECF6",
           "showlakes": true,
           "showland": true,
           "subunitcolor": "white"
          },
          "hoverlabel": {
           "align": "left"
          },
          "hovermode": "closest",
          "mapbox": {
           "style": "light"
          },
          "paper_bgcolor": "white",
          "plot_bgcolor": "#E5ECF6",
          "polar": {
           "angularaxis": {
            "gridcolor": "white",
            "linecolor": "white",
            "ticks": ""
           },
           "bgcolor": "#E5ECF6",
           "radialaxis": {
            "gridcolor": "white",
            "linecolor": "white",
            "ticks": ""
           }
          },
          "scene": {
           "xaxis": {
            "backgroundcolor": "#E5ECF6",
            "gridcolor": "white",
            "gridwidth": 2,
            "linecolor": "white",
            "showbackground": true,
            "ticks": "",
            "zerolinecolor": "white"
           },
           "yaxis": {
            "backgroundcolor": "#E5ECF6",
            "gridcolor": "white",
            "gridwidth": 2,
            "linecolor": "white",
            "showbackground": true,
            "ticks": "",
            "zerolinecolor": "white"
           },
           "zaxis": {
            "backgroundcolor": "#E5ECF6",
            "gridcolor": "white",
            "gridwidth": 2,
            "linecolor": "white",
            "showbackground": true,
            "ticks": "",
            "zerolinecolor": "white"
           }
          },
          "shapedefaults": {
           "line": {
            "color": "#2a3f5f"
           }
          },
          "ternary": {
           "aaxis": {
            "gridcolor": "white",
            "linecolor": "white",
            "ticks": ""
           },
           "baxis": {
            "gridcolor": "white",
            "linecolor": "white",
            "ticks": ""
           },
           "bgcolor": "#E5ECF6",
           "caxis": {
            "gridcolor": "white",
            "linecolor": "white",
            "ticks": ""
           }
          },
          "title": {
           "x": 0.05
          },
          "xaxis": {
           "automargin": true,
           "gridcolor": "white",
           "linecolor": "white",
           "ticks": "",
           "title": {
            "standoff": 15
           },
           "zerolinecolor": "white",
           "zerolinewidth": 2
          },
          "yaxis": {
           "automargin": true,
           "gridcolor": "white",
           "linecolor": "white",
           "ticks": "",
           "title": {
            "standoff": 15
           },
           "zerolinecolor": "white",
           "zerolinewidth": 2
          }
         }
        },
        "xaxis": {
         "anchor": "y",
         "domain": [
          0,
          1
         ],
         "title": {
          "text": "Datum"
         }
        },
        "yaxis": {
         "anchor": "x",
         "domain": [
          0,
          1
         ],
         "title": {
          "text": "CO2"
         }
        }
       }
      },
      "text/html": [
       "<div>                            <div id=\"0b0947f1-bb48-4911-b71c-703713b28dac\" class=\"plotly-graph-div\" style=\"height:525px; width:100%;\"></div>            <script type=\"text/javascript\">                require([\"plotly\"], function(Plotly) {                    window.PLOTLYENV=window.PLOTLYENV || {};                                    if (document.getElementById(\"0b0947f1-bb48-4911-b71c-703713b28dac\")) {                    Plotly.newPlot(                        \"0b0947f1-bb48-4911-b71c-703713b28dac\",                        [{\"alignmentgroup\":\"True\",\"hovertemplate\":\"Datum=%{x}<br>CO2=%{y}<br>Anwesenheit=%{marker.color}<extra></extra>\",\"legendgroup\":\"\",\"marker\":{\"color\":[0.0,0.0,0.0,0.0,0.0,0.0,0.0,0.0,0.0,0.0,0.0,0.0,0.0,0.0,0.0,0.0,0.0,0.0,0.0,0.0,0.0,0.0,0.0,0.0,0.0,0.0,0.0,0.0,0.0,0.0,0.0,0.0,0.0,0.0,0.0,0.0,0.0,0.0,0.0,0.0,0.0,0.0,0.0,0.0,0.0,0.0,0.0,0.0,0.0,0.0,0.0,0.0,0.0,0.0,0.0,0.0,0.0,0.0,0.0,0.0,0.0,0.0,0.0,0.0,0.0,0.0,0.0,0.0,0.0,0.0,0.0,0.0,0.0,0.0,0.0,0.0,0.0,0.0,0.0,0.0,0.0,0.0,0.0,0.0,0.0,0.0,0.0,0.0,0.0,0.0,0.0,0.0,0.0,0.0,0.0,0.0,0.0,0.0,0.0,0.0,0.0,0.0,0.0,0.0,0.0,0.0,0.0,0.0,0.0,0.0,0.0,0.0,0.0,0.0,0.0,0.0,0.0,0.0,0.0,0.0,0.0,0.0,0.0,0.0,0.0,0.0,0.0,0.0,0.0,0.0,0.0,0.0,0.0,0.0,0.0,0.0,0.0,0.0,0.0,0.0,0.0,0.0,0.0,0.0,0.0,0.0,0.0,0.0,0.0,0.0,0.0,0.0,0.0,0.0,0.0,0.0,0.0,0.0,0.0,0.0,0.0,0.0,0.0,0.0,0.0,0.0,0.0,0.0,0.0,0.0,0.0,0.0,0.0,0.0,0.0,0.0,0.0,0.0,0.0,0.0,0.0,0.0,0.0,0.0,0.0,0.0,0.0,0.0,0.0,0.0,0.0,0.0,0.0,0.0,0.0,0.0,0.0,0.0,0.0,0.0,0.0,0.0,0.0,0.0,0.0,0.0,0.0,0.0,0.0,0.0,0.0,0.0,0.0,0.0,0.0,0.0,0.0,0.0,0.0,0.0,0.0,0.0,0.0,0.0,0.0,0.0,0.0,0.0,0.0,0.0,0.0,0.0,0.0,0.0,0.0,0.0,0.0,0.0,0.0,0.0,0.0,0.0,0.0,0.0,0.0,0.0,0.0,0.0,0.0,0.0,0.0,0.0,0.0,0.0,0.0,0.0,0.0,0.0,0.0,0.0,0.0,0.0,0.0,0.0,0.0,0.0,0.0,0.0,0.0,0.0,0.0,0.0,0.0,0.0,0.0,0.0,0.0,0.0,0.0,0.0,0.0,0.0,0.0,0.0,0.0,0.0,0.0,0.0,0.0,0.0,0.0,0.0,0.0,0.0,0.0,0.0,0.0,0.0,0.0,0.0,0.0,0.0,0.0,0.0,0.0,0.0,0.0,0.0,0.0,0.0,0.0,0.0,0.0,0.0,0.0,0.0,0.0,0.0,0.0,0.0,0.0,0.0,0.0,0.0,0.0,0.0,0.0,0.0,0.0,0.0,0.0,0.0,0.0,0.0,0.0,0.0,1.0,1.0,1.0,1.0,1.0,1.0,1.0,1.0,1.0,1.0,1.0,1.0,1.0,1.0,1.0,1.0,1.0,1.0,1.0,1.0,1.0,1.0,1.0,1.0,1.0,1.0,1.0,1.0,1.0,1.0,0.0,0.0,0.9,1.0,1.0,1.0,1.0,1.0,1.0,1.0,1.0,1.0,1.0,1.0,1.0,1.0,1.0,1.0,1.0,1.0,1.0,1.0,1.0,1.0,1.0,1.0,1.0,1.0,1.0,1.0,0.0,0.0,0.0,0.0,0.0,0.0,0.0,0.0,0.0,0.0,0.0,0.0,0.0,0.0,0.0,0.0,0.0,0.0,0.0,0.0,0.0,0.0,0.0,0.0,0.0,0.0,0.0,0.0,0.0,0.0,0.0,0.0,0.0,0.0,0.0,0.0,0.0,0.0,0.0,0.0,0.0,0.0,0.0,0.0,0.0,0.0,0.0,0.0,0.0,0.0,0.0,0.0,0.0,0.0,0.0,0.0,0.0,0.0,0.0,0.0,0.0,0.0,0.0,0.0,0.0,0.0,0.0,0.0,0.0,0.0,0.0,0.0,0.0,0.0,0.0,0.0,0.0,0.0,0.0,0.0,0.0,0.0,0.0,0.0,1.0,1.0,1.0,1.0,1.0,1.0,1.0,1.0,1.0,1.0,1.0,1.0,1.0,1.0,1.0,1.0,1.0,1.0,1.0,1.0,1.0,1.0,1.0,1.0,1.0,1.0,1.0,1.0,1.0,1.0,0.0,0.0,0.9,1.0,1.0,1.0,1.0,1.0,1.0,1.0,1.0,1.0,1.0,1.0,1.0,1.0,1.0,1.0,1.0,1.0,1.0,1.0,1.0,1.0,1.0,1.0,1.0,1.0,1.0,1.0,0.6,0.0,0.0,0.0,0.0,0.0,0.0,0.0,0.0,0.0,0.0,0.0,0.0,0.0,0.0,0.0,0.0,0.0,0.0,0.0,0.7272727272727273,0.3333333333333333,0.0,0.0,0.0,0.0,0.0,0.0,0.0,0.2727272727272727,0.0,0.0,0.0,0.0,0.0,0.0,0.0,0.0,0.0,0.0,0.2727272727272727,0.0,0.0,0.0,0.0,0.0,0.2,0.2727272727272727,0.0,0.0,0.0,0.0,0.0,0.0,0.0,0.0,0.0,0.0,0.0,0.0,0.0,0.0,0.0,0.0,0.0,0.0,0.0,0.0,0.0,0.0,0.0,0.0,0.0,0.0,0.0,0.0,0.0,0.0,0.0,0.0,0.0,0.0,0.0,0.0,1.0,1.0,1.0,1.0,1.0,1.0,1.0,1.0],\"coloraxis\":\"coloraxis\",\"pattern\":{\"shape\":\"\"}},\"name\":\"\",\"offsetgroup\":\"\",\"orientation\":\"v\",\"showlegend\":false,\"textposition\":\"auto\",\"type\":\"bar\",\"x\":[\"2017-02-04T00:00:00\",\"2017-02-04T00:10:00\",\"2017-02-04T00:20:00\",\"2017-02-04T00:30:00\",\"2017-02-04T00:40:00\",\"2017-02-04T00:50:00\",\"2017-02-04T01:00:00\",\"2017-02-04T01:10:00\",\"2017-02-04T01:20:00\",\"2017-02-04T01:30:00\",\"2017-02-04T01:40:00\",\"2017-02-04T01:50:00\",\"2017-02-04T02:00:00\",\"2017-02-04T02:10:00\",\"2017-02-04T02:20:00\",\"2017-02-04T02:30:00\",\"2017-02-04T02:40:00\",\"2017-02-04T02:50:00\",\"2017-02-04T03:00:00\",\"2017-02-04T03:10:00\",\"2017-02-04T03:20:00\",\"2017-02-04T03:30:00\",\"2017-02-04T03:40:00\",\"2017-02-04T03:50:00\",\"2017-02-04T04:00:00\",\"2017-02-04T04:10:00\",\"2017-02-04T04:20:00\",\"2017-02-04T04:30:00\",\"2017-02-04T04:40:00\",\"2017-02-04T04:50:00\",\"2017-02-04T05:00:00\",\"2017-02-04T05:10:00\",\"2017-02-04T05:20:00\",\"2017-02-04T05:30:00\",\"2017-02-04T05:40:00\",\"2017-02-04T05:50:00\",\"2017-02-04T06:00:00\",\"2017-02-04T06:10:00\",\"2017-02-04T06:20:00\",\"2017-02-04T06:30:00\",\"2017-02-04T06:40:00\",\"2017-02-04T06:50:00\",\"2017-02-04T07:00:00\",\"2017-02-04T07:10:00\",\"2017-02-04T07:20:00\",\"2017-02-04T07:30:00\",\"2017-02-04T07:40:00\",\"2017-02-04T07:50:00\",\"2017-02-04T08:00:00\",\"2017-02-04T08:10:00\",\"2017-02-04T08:20:00\",\"2017-02-04T08:30:00\",\"2017-02-04T08:40:00\",\"2017-02-04T08:50:00\",\"2017-02-04T09:00:00\",\"2017-02-04T09:10:00\",\"2017-02-04T09:20:00\",\"2017-02-04T09:30:00\",\"2017-02-04T09:40:00\",\"2017-02-04T09:50:00\",\"2017-02-04T10:00:00\",\"2017-02-04T10:10:00\",\"2017-02-04T10:20:00\",\"2017-02-04T10:30:00\",\"2017-02-04T10:40:00\",\"2017-02-04T10:50:00\",\"2017-02-04T11:00:00\",\"2017-02-04T11:10:00\",\"2017-02-04T11:20:00\",\"2017-02-04T11:30:00\",\"2017-02-04T11:40:00\",\"2017-02-04T11:50:00\",\"2017-02-04T12:00:00\",\"2017-02-04T12:10:00\",\"2017-02-04T12:20:00\",\"2017-02-04T12:30:00\",\"2017-02-04T12:40:00\",\"2017-02-04T12:50:00\",\"2017-02-04T13:00:00\",\"2017-02-04T13:10:00\",\"2017-02-04T13:20:00\",\"2017-02-04T13:30:00\",\"2017-02-04T13:40:00\",\"2017-02-04T13:50:00\",\"2017-02-04T14:00:00\",\"2017-02-04T14:10:00\",\"2017-02-04T14:20:00\",\"2017-02-04T14:30:00\",\"2017-02-04T14:40:00\",\"2017-02-04T14:50:00\",\"2017-02-04T15:00:00\",\"2017-02-04T15:10:00\",\"2017-02-04T15:20:00\",\"2017-02-04T15:30:00\",\"2017-02-04T15:40:00\",\"2017-02-04T15:50:00\",\"2017-02-04T16:00:00\",\"2017-02-04T16:10:00\",\"2017-02-04T16:20:00\",\"2017-02-04T16:30:00\",\"2017-02-04T16:40:00\",\"2017-02-04T16:50:00\",\"2017-02-04T17:00:00\",\"2017-02-04T17:10:00\",\"2017-02-04T17:20:00\",\"2017-02-04T17:30:00\",\"2017-02-04T17:40:00\",\"2017-02-04T17:50:00\",\"2017-02-04T18:00:00\",\"2017-02-04T18:10:00\",\"2017-02-04T18:20:00\",\"2017-02-04T18:30:00\",\"2017-02-04T18:40:00\",\"2017-02-04T18:50:00\",\"2017-02-04T19:00:00\",\"2017-02-04T19:10:00\",\"2017-02-04T19:20:00\",\"2017-02-04T19:30:00\",\"2017-02-04T19:40:00\",\"2017-02-04T19:50:00\",\"2017-02-04T20:00:00\",\"2017-02-04T20:10:00\",\"2017-02-04T20:20:00\",\"2017-02-04T20:30:00\",\"2017-02-04T20:40:00\",\"2017-02-04T20:50:00\",\"2017-02-04T21:00:00\",\"2017-02-04T21:10:00\",\"2017-02-04T21:20:00\",\"2017-02-04T21:30:00\",\"2017-02-04T21:40:00\",\"2017-02-04T21:50:00\",\"2017-02-04T22:00:00\",\"2017-02-04T22:10:00\",\"2017-02-04T22:20:00\",\"2017-02-04T22:30:00\",\"2017-02-04T22:40:00\",\"2017-02-04T22:50:00\",\"2017-02-04T23:00:00\",\"2017-02-04T23:10:00\",\"2017-02-04T23:20:00\",\"2017-02-04T23:30:00\",\"2017-02-04T23:40:00\",\"2017-02-04T23:50:00\",\"2017-02-05T00:00:00\",\"2017-02-05T00:10:00\",\"2017-02-05T00:20:00\",\"2017-02-05T00:30:00\",\"2017-02-05T00:40:00\",\"2017-02-05T00:50:00\",\"2017-02-05T01:00:00\",\"2017-02-05T01:10:00\",\"2017-02-05T01:20:00\",\"2017-02-05T01:30:00\",\"2017-02-05T01:40:00\",\"2017-02-05T01:50:00\",\"2017-02-05T02:00:00\",\"2017-02-05T02:10:00\",\"2017-02-05T02:20:00\",\"2017-02-05T02:30:00\",\"2017-02-05T02:40:00\",\"2017-02-05T02:50:00\",\"2017-02-05T03:00:00\",\"2017-02-05T03:10:00\",\"2017-02-05T03:20:00\",\"2017-02-05T03:30:00\",\"2017-02-05T03:40:00\",\"2017-02-05T03:50:00\",\"2017-02-05T04:00:00\",\"2017-02-05T04:10:00\",\"2017-02-05T04:20:00\",\"2017-02-05T04:30:00\",\"2017-02-05T04:40:00\",\"2017-02-05T04:50:00\",\"2017-02-05T05:00:00\",\"2017-02-05T05:10:00\",\"2017-02-05T05:20:00\",\"2017-02-05T05:30:00\",\"2017-02-05T05:40:00\",\"2017-02-05T05:50:00\",\"2017-02-05T06:00:00\",\"2017-02-05T06:10:00\",\"2017-02-05T06:20:00\",\"2017-02-05T06:30:00\",\"2017-02-05T06:40:00\",\"2017-02-05T06:50:00\",\"2017-02-05T07:00:00\",\"2017-02-05T07:10:00\",\"2017-02-05T07:20:00\",\"2017-02-05T07:30:00\",\"2017-02-05T07:40:00\",\"2017-02-05T07:50:00\",\"2017-02-05T08:00:00\",\"2017-02-05T08:10:00\",\"2017-02-05T08:20:00\",\"2017-02-05T08:30:00\",\"2017-02-05T08:40:00\",\"2017-02-05T08:50:00\",\"2017-02-05T09:00:00\",\"2017-02-05T09:10:00\",\"2017-02-05T09:20:00\",\"2017-02-05T09:30:00\",\"2017-02-05T09:40:00\",\"2017-02-05T09:50:00\",\"2017-02-05T10:00:00\",\"2017-02-05T10:10:00\",\"2017-02-05T10:20:00\",\"2017-02-05T10:30:00\",\"2017-02-05T10:40:00\",\"2017-02-05T10:50:00\",\"2017-02-05T11:00:00\",\"2017-02-05T11:10:00\",\"2017-02-05T11:20:00\",\"2017-02-05T11:30:00\",\"2017-02-05T11:40:00\",\"2017-02-05T11:50:00\",\"2017-02-05T12:00:00\",\"2017-02-05T12:10:00\",\"2017-02-05T12:20:00\",\"2017-02-05T12:30:00\",\"2017-02-05T12:40:00\",\"2017-02-05T12:50:00\",\"2017-02-05T13:00:00\",\"2017-02-05T13:10:00\",\"2017-02-05T13:20:00\",\"2017-02-05T13:30:00\",\"2017-02-05T13:40:00\",\"2017-02-05T13:50:00\",\"2017-02-05T14:00:00\",\"2017-02-05T14:10:00\",\"2017-02-05T14:20:00\",\"2017-02-05T14:30:00\",\"2017-02-05T14:40:00\",\"2017-02-05T14:50:00\",\"2017-02-05T15:00:00\",\"2017-02-05T15:10:00\",\"2017-02-05T15:20:00\",\"2017-02-05T15:30:00\",\"2017-02-05T15:40:00\",\"2017-02-05T15:50:00\",\"2017-02-05T16:00:00\",\"2017-02-05T16:10:00\",\"2017-02-05T16:20:00\",\"2017-02-05T16:30:00\",\"2017-02-05T16:40:00\",\"2017-02-05T16:50:00\",\"2017-02-05T17:00:00\",\"2017-02-05T17:10:00\",\"2017-02-05T17:20:00\",\"2017-02-05T17:30:00\",\"2017-02-05T17:40:00\",\"2017-02-05T17:50:00\",\"2017-02-05T18:00:00\",\"2017-02-05T18:10:00\",\"2017-02-05T18:20:00\",\"2017-02-05T18:30:00\",\"2017-02-05T18:40:00\",\"2017-02-05T18:50:00\",\"2017-02-05T19:00:00\",\"2017-02-05T19:10:00\",\"2017-02-05T19:20:00\",\"2017-02-05T19:30:00\",\"2017-02-05T19:40:00\",\"2017-02-05T19:50:00\",\"2017-02-05T20:00:00\",\"2017-02-05T20:10:00\",\"2017-02-05T20:20:00\",\"2017-02-05T20:30:00\",\"2017-02-05T20:40:00\",\"2017-02-05T20:50:00\",\"2017-02-05T21:00:00\",\"2017-02-05T21:10:00\",\"2017-02-05T21:20:00\",\"2017-02-05T21:30:00\",\"2017-02-05T21:40:00\",\"2017-02-05T21:50:00\",\"2017-02-05T22:00:00\",\"2017-02-05T22:10:00\",\"2017-02-05T22:20:00\",\"2017-02-05T22:30:00\",\"2017-02-05T22:40:00\",\"2017-02-05T22:50:00\",\"2017-02-05T23:00:00\",\"2017-02-05T23:10:00\",\"2017-02-05T23:20:00\",\"2017-02-05T23:30:00\",\"2017-02-05T23:40:00\",\"2017-02-05T23:50:00\",\"2017-02-06T00:00:00\",\"2017-02-06T00:10:00\",\"2017-02-06T00:20:00\",\"2017-02-06T00:30:00\",\"2017-02-06T00:40:00\",\"2017-02-06T00:50:00\",\"2017-02-06T01:00:00\",\"2017-02-06T01:10:00\",\"2017-02-06T01:20:00\",\"2017-02-06T01:30:00\",\"2017-02-06T01:40:00\",\"2017-02-06T01:50:00\",\"2017-02-06T02:00:00\",\"2017-02-06T02:10:00\",\"2017-02-06T02:20:00\",\"2017-02-06T02:30:00\",\"2017-02-06T02:40:00\",\"2017-02-06T02:50:00\",\"2017-02-06T03:00:00\",\"2017-02-06T03:10:00\",\"2017-02-06T03:20:00\",\"2017-02-06T03:30:00\",\"2017-02-06T03:40:00\",\"2017-02-06T03:50:00\",\"2017-02-06T04:00:00\",\"2017-02-06T04:10:00\",\"2017-02-06T04:20:00\",\"2017-02-06T04:30:00\",\"2017-02-06T04:40:00\",\"2017-02-06T04:50:00\",\"2017-02-06T05:00:00\",\"2017-02-06T05:10:00\",\"2017-02-06T05:20:00\",\"2017-02-06T05:30:00\",\"2017-02-06T05:40:00\",\"2017-02-06T05:50:00\",\"2017-02-06T06:00:00\",\"2017-02-06T06:10:00\",\"2017-02-06T06:20:00\",\"2017-02-06T06:30:00\",\"2017-02-06T06:40:00\",\"2017-02-06T06:50:00\",\"2017-02-06T07:00:00\",\"2017-02-06T07:10:00\",\"2017-02-06T07:20:00\",\"2017-02-06T07:30:00\",\"2017-02-06T07:40:00\",\"2017-02-06T07:50:00\",\"2017-02-06T08:00:00\",\"2017-02-06T08:10:00\",\"2017-02-06T08:20:00\",\"2017-02-06T08:30:00\",\"2017-02-06T08:40:00\",\"2017-02-06T08:50:00\",\"2017-02-06T09:00:00\",\"2017-02-06T09:10:00\",\"2017-02-06T09:20:00\",\"2017-02-06T09:30:00\",\"2017-02-06T09:40:00\",\"2017-02-06T09:50:00\",\"2017-02-06T10:00:00\",\"2017-02-06T10:10:00\",\"2017-02-06T10:20:00\",\"2017-02-06T10:30:00\",\"2017-02-06T10:40:00\",\"2017-02-06T10:50:00\",\"2017-02-06T11:00:00\",\"2017-02-06T11:10:00\",\"2017-02-06T11:20:00\",\"2017-02-06T11:30:00\",\"2017-02-06T11:40:00\",\"2017-02-06T11:50:00\",\"2017-02-06T12:00:00\",\"2017-02-06T12:10:00\",\"2017-02-06T12:20:00\",\"2017-02-06T12:30:00\",\"2017-02-06T12:40:00\",\"2017-02-06T12:50:00\",\"2017-02-06T13:00:00\",\"2017-02-06T13:10:00\",\"2017-02-06T13:20:00\",\"2017-02-06T13:30:00\",\"2017-02-06T13:40:00\",\"2017-02-06T13:50:00\",\"2017-02-06T14:00:00\",\"2017-02-06T14:10:00\",\"2017-02-06T14:20:00\",\"2017-02-06T14:30:00\",\"2017-02-06T14:40:00\",\"2017-02-06T14:50:00\",\"2017-02-06T15:00:00\",\"2017-02-06T15:10:00\",\"2017-02-06T15:20:00\",\"2017-02-06T15:30:00\",\"2017-02-06T15:40:00\",\"2017-02-06T15:50:00\",\"2017-02-06T16:00:00\",\"2017-02-06T16:10:00\",\"2017-02-06T16:20:00\",\"2017-02-06T16:30:00\",\"2017-02-06T16:40:00\",\"2017-02-06T16:50:00\",\"2017-02-06T17:00:00\",\"2017-02-06T17:10:00\",\"2017-02-06T17:20:00\",\"2017-02-06T17:30:00\",\"2017-02-06T17:40:00\",\"2017-02-06T17:50:00\",\"2017-02-06T18:00:00\",\"2017-02-06T18:10:00\",\"2017-02-06T18:20:00\",\"2017-02-06T18:30:00\",\"2017-02-06T18:40:00\",\"2017-02-06T18:50:00\",\"2017-02-06T19:00:00\",\"2017-02-06T19:10:00\",\"2017-02-06T19:20:00\",\"2017-02-06T19:30:00\",\"2017-02-06T19:40:00\",\"2017-02-06T19:50:00\",\"2017-02-06T20:00:00\",\"2017-02-06T20:10:00\",\"2017-02-06T20:20:00\",\"2017-02-06T20:30:00\",\"2017-02-06T20:40:00\",\"2017-02-06T20:50:00\",\"2017-02-06T21:00:00\",\"2017-02-06T21:10:00\",\"2017-02-06T21:20:00\",\"2017-02-06T21:30:00\",\"2017-02-06T21:40:00\",\"2017-02-06T21:50:00\",\"2017-02-06T22:00:00\",\"2017-02-06T22:10:00\",\"2017-02-06T22:20:00\",\"2017-02-06T22:30:00\",\"2017-02-06T22:40:00\",\"2017-02-06T22:50:00\",\"2017-02-06T23:00:00\",\"2017-02-06T23:10:00\",\"2017-02-06T23:20:00\",\"2017-02-06T23:30:00\",\"2017-02-06T23:40:00\",\"2017-02-06T23:50:00\",\"2017-02-07T00:00:00\",\"2017-02-07T00:10:00\",\"2017-02-07T00:20:00\",\"2017-02-07T00:30:00\",\"2017-02-07T00:40:00\",\"2017-02-07T00:50:00\",\"2017-02-07T01:00:00\",\"2017-02-07T01:10:00\",\"2017-02-07T01:20:00\",\"2017-02-07T01:30:00\",\"2017-02-07T01:40:00\",\"2017-02-07T01:50:00\",\"2017-02-07T02:00:00\",\"2017-02-07T02:10:00\",\"2017-02-07T02:20:00\",\"2017-02-07T02:30:00\",\"2017-02-07T02:40:00\",\"2017-02-07T02:50:00\",\"2017-02-07T03:00:00\",\"2017-02-07T03:10:00\",\"2017-02-07T03:20:00\",\"2017-02-07T03:30:00\",\"2017-02-07T03:40:00\",\"2017-02-07T03:50:00\",\"2017-02-07T04:00:00\",\"2017-02-07T04:10:00\",\"2017-02-07T04:20:00\",\"2017-02-07T04:30:00\",\"2017-02-07T04:40:00\",\"2017-02-07T04:50:00\",\"2017-02-07T05:00:00\",\"2017-02-07T05:10:00\",\"2017-02-07T05:20:00\",\"2017-02-07T05:30:00\",\"2017-02-07T05:40:00\",\"2017-02-07T05:50:00\",\"2017-02-07T06:00:00\",\"2017-02-07T06:10:00\",\"2017-02-07T06:20:00\",\"2017-02-07T06:30:00\",\"2017-02-07T06:40:00\",\"2017-02-07T06:50:00\",\"2017-02-07T07:00:00\",\"2017-02-07T07:10:00\",\"2017-02-07T07:20:00\",\"2017-02-07T07:30:00\",\"2017-02-07T07:40:00\",\"2017-02-07T07:50:00\",\"2017-02-07T08:00:00\",\"2017-02-07T08:10:00\",\"2017-02-07T08:20:00\",\"2017-02-07T08:30:00\",\"2017-02-07T08:40:00\",\"2017-02-07T08:50:00\",\"2017-02-07T09:00:00\",\"2017-02-07T09:10:00\",\"2017-02-07T09:20:00\",\"2017-02-07T09:30:00\",\"2017-02-07T09:40:00\",\"2017-02-07T09:50:00\",\"2017-02-07T10:00:00\",\"2017-02-07T10:10:00\",\"2017-02-07T10:20:00\",\"2017-02-07T10:30:00\",\"2017-02-07T10:40:00\",\"2017-02-07T10:50:00\",\"2017-02-07T11:00:00\",\"2017-02-07T11:10:00\",\"2017-02-07T11:20:00\",\"2017-02-07T11:30:00\",\"2017-02-07T11:40:00\",\"2017-02-07T11:50:00\",\"2017-02-07T12:00:00\",\"2017-02-07T12:10:00\",\"2017-02-07T12:20:00\",\"2017-02-07T12:30:00\",\"2017-02-07T12:40:00\",\"2017-02-07T12:50:00\",\"2017-02-07T13:00:00\",\"2017-02-07T13:10:00\",\"2017-02-07T13:20:00\",\"2017-02-07T13:30:00\",\"2017-02-07T13:40:00\",\"2017-02-07T13:50:00\",\"2017-02-07T14:00:00\",\"2017-02-07T14:10:00\",\"2017-02-07T14:20:00\",\"2017-02-07T14:30:00\",\"2017-02-07T14:40:00\",\"2017-02-07T14:50:00\",\"2017-02-07T15:00:00\",\"2017-02-07T15:10:00\",\"2017-02-07T15:20:00\",\"2017-02-07T15:30:00\",\"2017-02-07T15:40:00\",\"2017-02-07T15:50:00\",\"2017-02-07T16:00:00\",\"2017-02-07T16:10:00\",\"2017-02-07T16:20:00\",\"2017-02-07T16:30:00\",\"2017-02-07T16:40:00\",\"2017-02-07T16:50:00\",\"2017-02-07T17:00:00\",\"2017-02-07T17:10:00\",\"2017-02-07T17:20:00\",\"2017-02-07T17:30:00\",\"2017-02-07T17:40:00\",\"2017-02-07T17:50:00\",\"2017-02-07T18:00:00\",\"2017-02-07T18:10:00\",\"2017-02-07T18:20:00\",\"2017-02-07T18:30:00\",\"2017-02-07T18:40:00\",\"2017-02-07T18:50:00\",\"2017-02-07T19:00:00\",\"2017-02-07T19:10:00\",\"2017-02-07T19:20:00\",\"2017-02-07T19:30:00\",\"2017-02-07T19:40:00\",\"2017-02-07T19:50:00\",\"2017-02-07T20:00:00\",\"2017-02-07T20:10:00\",\"2017-02-07T20:20:00\",\"2017-02-07T20:30:00\",\"2017-02-07T20:40:00\",\"2017-02-07T20:50:00\",\"2017-02-07T21:00:00\",\"2017-02-07T21:10:00\",\"2017-02-07T21:20:00\",\"2017-02-07T21:30:00\",\"2017-02-07T21:40:00\",\"2017-02-07T21:50:00\",\"2017-02-07T22:00:00\",\"2017-02-07T22:10:00\",\"2017-02-07T22:20:00\",\"2017-02-07T22:30:00\",\"2017-02-07T22:40:00\",\"2017-02-07T22:50:00\",\"2017-02-07T23:00:00\",\"2017-02-07T23:10:00\",\"2017-02-07T23:20:00\",\"2017-02-07T23:30:00\",\"2017-02-07T23:40:00\",\"2017-02-07T23:50:00\",\"2017-02-08T00:00:00\",\"2017-02-08T00:10:00\",\"2017-02-08T00:20:00\",\"2017-02-08T00:30:00\",\"2017-02-08T00:40:00\",\"2017-02-08T00:50:00\",\"2017-02-08T01:00:00\",\"2017-02-08T01:10:00\",\"2017-02-08T01:20:00\",\"2017-02-08T01:30:00\",\"2017-02-08T01:40:00\",\"2017-02-08T01:50:00\",\"2017-02-08T02:00:00\",\"2017-02-08T02:10:00\",\"2017-02-08T02:20:00\",\"2017-02-08T02:30:00\",\"2017-02-08T02:40:00\",\"2017-02-08T02:50:00\",\"2017-02-08T03:00:00\",\"2017-02-08T03:10:00\",\"2017-02-08T03:20:00\",\"2017-02-08T03:30:00\",\"2017-02-08T03:40:00\",\"2017-02-08T03:50:00\",\"2017-02-08T04:00:00\",\"2017-02-08T04:10:00\",\"2017-02-08T04:20:00\",\"2017-02-08T04:30:00\",\"2017-02-08T04:40:00\",\"2017-02-08T04:50:00\",\"2017-02-08T05:00:00\",\"2017-02-08T05:10:00\",\"2017-02-08T05:20:00\",\"2017-02-08T05:30:00\",\"2017-02-08T05:40:00\",\"2017-02-08T05:50:00\",\"2017-02-08T06:00:00\",\"2017-02-08T06:10:00\",\"2017-02-08T06:20:00\",\"2017-02-08T06:30:00\",\"2017-02-08T06:40:00\",\"2017-02-08T06:50:00\",\"2017-02-08T07:00:00\",\"2017-02-08T07:10:00\",\"2017-02-08T07:20:00\",\"2017-02-08T07:30:00\",\"2017-02-08T07:40:00\",\"2017-02-08T07:50:00\",\"2017-02-08T08:00:00\",\"2017-02-08T08:10:00\",\"2017-02-08T08:20:00\",\"2017-02-08T08:30:00\",\"2017-02-08T08:40:00\",\"2017-02-08T08:50:00\",\"2017-02-08T09:00:00\",\"2017-02-08T09:10:00\"],\"xaxis\":\"x\",\"y\":[506.7962962962963,504.15,505.8939393939394,505.22222222222223,502.65909090909093,503.3148148148149,501.72727272727275,501.51851851851853,502.6,504.85,501.7833333333334,504.8181818181818,505.00925925925924,504.33333333333337,503.2037037037037,505.9621212121212,503.3703703703703,504.5333333333334,503.7166666666667,503.725,503.83333333333337,502.537037037037,499.66666666666663,502.59259259259255,501.2878787878788,501.4814814814815,499.6,503.4666666666667,501.2166666666667,501.30303030303025,502.82407407407413,504.05303030303037,503.90740740740745,503.439393939394,503.3888888888889,502.5,503.775,502.9083333333334,504.72727272727275,506.2037037037037,503.95454545454544,507.72222222222223,508.18939393939394,504.8518518518519,503.9833333333333,506.4,505.85,505.8181818181818,510.462962962963,505.3939393939394,504.3703703703703,504.18939393939394,506.5833333333333,506.4583333333333,504.5999999999999,505.5,503.32575757575756,505.70370370370375,504.79545454545456,505.6018518518518,505.98484848484856,507.9537037037037,510.1,507.975,513.4000000000001,515.2727272727273,511.50925925925924,507.2121212121212,502.72222222222223,503.67424242424255,505.80555555555554,509.6583333333333,507.3166666666667,509.275,510.75757575757575,508.3611111111111,502.79545454545456,498.1481481481481,496.75757575757575,498.77777777777777,498.575,504.9333333333333,501.6583333333333,505.04545454545456,505.425925925926,507.01515151515156,508.074074074074,510.1530303030302,508.40740740740733,509.1333333333333,510.3416666666667,508.6083333333333,512.4242424242425,512.3055555555555,511.99696969696976,510.8518518518519,512.2651515151515,515.2777777777778,514.8666666666666,515.7583333333333,515.1333333333334,514.4545454545455,515.1481481481482,515.9393939393939,519.4074074074074,516.0454545454545,518.2407407407408,516.6166666666667,514.3833333333333,517.95,519.6136363636364,522.2962962962963,519.2727272727273,521.6388888888889,522.969696969697,520.3518518518518,526.5666666666666,522.6166666666666,521.9166666666666,514.7727272727273,513.4166666666666,522.2348484848485,528.4814814814814,529.1363636363636,531.962962962963,528.8,533.475,534.1,534.0757575757575,531.1388888888889,529.219696969697,534.0,533.0151515151515,529.5370370370371,531.45,532.5166666666667,533.5833333333333,535.4090909090909,531.7962962962963,536.3484848484849,536.2962962962962,536.4393939393939,539.3888888888889,537.5083333333333,538.3833333333333,535.5916666666666,538.2727272727273,539.2037037037037,539.5606060606061,541.7592592592592,538.4848484848485,542.0555555555555,540.35,538.8500000000001,541.4333333333333,541.560606060606,540.4259259259259,543.2424242424241,542.7037037037038,543.1363636363636,543.925925925926,545.6833333333333,546.5833333333334,546.45,549.7196969696969,550.3333333333334,553.2121212121211,553.9074074074074,554.9090909090909,556.0185185185186,559.225,559.4666666666667,564.8666666666667,567.9090909090909,566.5462962962963,566.219696969697,568.1111111111111,567.9242424242425,567.9259259259259,569.6333333333333,571.0333333333333,573.95,575.8181818181819,578.4375,579.060606060606,580.6759259259259,582.8636363636364,588.287037037037,586.95,591.6,595.2166666666667,602.439393939394,606.175925925926,605.4,605.9444444444445,611.1742424242424,609.1666666666666,613.5,617.8666666666666,617.4416666666667,623.6136363636364,627.7592592592592,636.8939393939395,641.7592592592592,643.5530303030304,644.3518518518518,640.0583333333333,638.2833333333334,637.2833333333334,634.6742424242425,629.8611111111111,632.7651515151515,629.2222222222222,630.8863636363636,627.9259259259259,628.6899999999998,629.95,633.9333333333334,632.6515151515151,633.4074074074074,630.1666666666667,632.0648148148149,639.5833333333334,641.537037037037,649.5416666666667,655.9416666666667,658.775,658.3257575757576,661.4351851851852,664.4469696969697,674.0092592592594,681.4545454545455,682.0925925925926,663.6583333333333,655.2716666666668,655.6666666666667,657.5681818181819,657.2222222222222,662.8560606060605,660.5625,662.6666666666666,663.1851851851852,668.5083333333333,667.1916666666667,670.8833333333333,683.1287878787879,689.1296296296296,682.7727272727271,678.8425925925926,676.4848484848485,672.3194444444445,676.1833333333333,672.7,674.7333333333333,675.1818181818181,668.425925925926,649.439393939394,654.4259259259259,652.0757575757575,657.0925925925926,658.5833333333333,665.1333333333333,668.1583333333333,675.1969696969697,675.8333333333334,678.7121212121211,679.9259259259259,685.1363636363636,690.7962962962962,692.9,694.6666666666667,701.4833333333333,700.6363636363636,707.2222222222222,707.9393939393939,712.8148148148149,717.8636363636364,720.1296296296297,718.25,722.2166666666667,714.85,721.6060606060605,729.074074074074,731.2727272727273,729.8333333333334,729.1212121212121,730.2592592592592,731.3,732.3833333333333,729.8,732.969696969697,714.2592592592592,775.6363636363636,798.5555555555555,808.5666666666667,817.4259259259259,826.3166666666666,903.9166666666666,862.9333333333332,854.4848484848484,854.3055555555555,854.1212121212124,861.5,858.8181818181819,861.3333333333334,861.75,864.6,867.2,865.3560606060607,859.7222222222222,857.9393939393939,858.2962962962963,849.1818181818181,845.3333333333334,822.65,801.1333333333333,800.25,790.0151515151515,785.0,788.0909090909091,794.7407407407408,793.6818181818181,798.962962962963,795.3666666666667,799.75,801.1833333333333,802.1666666666665,802.2222222222222,806.8484848484848,810.3888888888889,811.7954545454545,811.574074074074,805.8333333333333,808.55,813.4333333333333,818.5530303030304,819.2037037037038,821.8181818181819,825.3981481481482,826.4696969696971,848.8333333333334,879.1133333333333,902.325,966.9583333333333,1005.4393939393937,1013.4537037037034,1002.5757575757575,1012.194444444444,977.7196969696969,971.3851851851853,968.8083333333334,971.275,969.9333333333332,1006.1590909090905,1044.5370370370376,1038.078787878788,1012.3611111111111,1002.7878787878791,983.7407407407409,964.9916666666668,939.725,911.945,924.8484848484848,910.675925925926,906.4545454545455,898.6203703703703,895.6499999999997,890.6296296296297,872.7583333333332,861.5,854.3833333333332,837.0075757575756,846.2037037037037,884.3257575757576,908.9722222222222,917.9378787878787,908.0740740740741,907.3416666666668,899.2333333333332,870.2333333333333,862.9772727272727,882.3148148148148,892.4015151515151,892.0833333333334,905.4393939393939,924.0462962962964,921.225,928.7333333333332,916.875,906.6818181818181,927.7314814814815,976.742424242424,974.2407407407409,978.1515151515152,986.962962962963,982.025,973.2166666666668,944.0166666666668,925.4393939393939,888.0185185185186,854.3636363636364,834.1666666666666,815.189393939394,795.4814814814814,773.3166666666666,765.4416666666666,762.8,754.4545454545455,747.9074074074074,742.8787878787879,739.8888888888889,730.9242424242425,724.962962962963,725.8500000000001,723.95,724.575,721.6515151515151,723.2407407407408,722.2878787878789,719.2222222222222,713.6212121212121,714.4814814814814,718.6500000000001,712.4833333333333,716.15,716.7575757575758,714.8703703703703,714.280303030303,713.462962962963,712.5227272727273,714.537037037037,714.4166666666666,712.5166666666667,715.1333333333333,717.6515151515151,713.2037037037038,713.2045454545455,715.7777777777778,711.0757575757575,713.5833333333334,713.4666666666667,712.7666666666667,721.2333333333333,714.9242424242424,719.2962962962963,717.4621212121211,717.074074074074,716.7272727272729,714.6666666666666,717.9333333333333,722.0,721.75,721.0454545454545,724.925925925926,725.9166666666667,731.0833333333334,731.2575757575758,730.5925925925926,733.2333333333333,734.5833333333333,736.0666666666666,737.8030303030303,738.462962962963,740.0151515151515,739.4166666666666,734.8257575757576,735.2037037037037,742.525,742.2583333333333,744.3666666666667,750.7272727272727,751.3148148148149,756.3181818181819,756.0925925925926,760.8181818181819,765.5740740740741,766.75,773.2833333333334,773.75,777.1818181818181,780.4444444444445,784.5,788.1111111111111,792.7651515151516,820.9814814814815,835.0,847.2666666666668,873.95,926.3030303030304,938.6111111111111,945.5606060606061,946.2074074074072,961.6742424242425,960.5370370370371,967.3833333333336,980.6416666666668,988.9537037037036,1005.9318181818181,1042.0370370370367,1074.2196969696972,1099.259259259259,1081.9242424242427,1110.0277777777778,1155.2666666666669,1222.825,1348.775,1258.69696969697,1196.3555555555556,1157.590909090909,1150.7259259259254,1153.7727272727273,1130.829629629629,1119.266666666666,1141.333333333333,1165.041666666667,1180.7575757575762,1211.9555555555555,1255.5681818181818,1298.259259259259,1322.2424242424238,1346.25,1352.908333333333,1391.15,1410.5166666666669,1411.775000000001,1466.3981481481478,1384.1742424242418,1404.3333333333323,1420.6893939393938,1489.111111111111,1517.4,1459.033333333333,1472.1416666666669,1494.6363636363637,1483.4814814814822,1513.515151515152,1547.731481481481,1749.9469696969702,1700.9537037037035,1668.6666666666672,1602.725,1557.525,1532.8181818181818,1498.0370370370367,1478.4318181818182,1482.8148148148146,1473.1212121212118,1468.2037037037035,1468.541666666667,1472.6,1489.3,1500.9545454545455,1520.1666666666667,1489.7727272727273,1505.8148148148146,1520.6515151515146,1518.6851851851845,1505.383333333333,1515.216666666667,1546.85,1704.7424242424238,1686.2222222222222,1535.909090909091,1513.7037037037035,1556.575757575757,1507.740740740741,1424.866666666667,1486.4333333333338,1582.2666666666669,1572.39393939394,1154.481481481481,1152.7424242424245,1192.4444444444443,1207.712121212121,1238.8333333333333,1225.55,1216.9333333333338,1283.05,1068.7424242424245,1218.9629629629624,1548.9545454545462,1338.0,1388.2878787878783,1313.4722222222222,1320.733333333334,1343.5166666666669,1559.708333333333,1620.7272727272727,1269.111111111111,1213.8636363636363,1225.2777777777778,1253.5151515151517,1268.981481481481,1261.991666666666,1248.6833333333338,1262.75,1359.60606060606,1361.759259259259,1368.8484848484845,1396.3981481481478,1418.462121212121,1410.9444444444443,1457.825,1488.716666666667,1501.85,1542.9318181818182,1494.9629629629633,1504.2272727272727,1519.9074074074078,1535.2272727272727,1553.4444444444443,1558.1,1531.866666666667,1550.35,1525.0,1478.111111111111,1483.4242424242427,1503.0925925925933,1510.7121212121208,1500.5277777777778,1463.366666666667,1436.025,1415.7333333333331,1420.69696969697,1417.0555555555557,1430.2727272727273,1443.9351851851854,1444.0,1413.611111111111,1485.0149999999999,1452.783333333334,1545.375],\"yaxis\":\"y\"}],                        {\"barmode\":\"relative\",\"coloraxis\":{\"colorbar\":{\"title\":{\"text\":\"Anwesenheit\"}},\"colorscale\":[[0.0,\"#0d0887\"],[0.1111111111111111,\"#46039f\"],[0.2222222222222222,\"#7201a8\"],[0.3333333333333333,\"#9c179e\"],[0.4444444444444444,\"#bd3786\"],[0.5555555555555556,\"#d8576b\"],[0.6666666666666666,\"#ed7953\"],[0.7777777777777778,\"#fb9f3a\"],[0.8888888888888888,\"#fdca26\"],[1.0,\"#f0f921\"]]},\"legend\":{\"tracegroupgap\":0},\"margin\":{\"t\":60},\"template\":{\"data\":{\"bar\":[{\"error_x\":{\"color\":\"#2a3f5f\"},\"error_y\":{\"color\":\"#2a3f5f\"},\"marker\":{\"line\":{\"color\":\"#E5ECF6\",\"width\":0.5},\"pattern\":{\"fillmode\":\"overlay\",\"size\":10,\"solidity\":0.2}},\"type\":\"bar\"}],\"barpolar\":[{\"marker\":{\"line\":{\"color\":\"#E5ECF6\",\"width\":0.5},\"pattern\":{\"fillmode\":\"overlay\",\"size\":10,\"solidity\":0.2}},\"type\":\"barpolar\"}],\"carpet\":[{\"aaxis\":{\"endlinecolor\":\"#2a3f5f\",\"gridcolor\":\"white\",\"linecolor\":\"white\",\"minorgridcolor\":\"white\",\"startlinecolor\":\"#2a3f5f\"},\"baxis\":{\"endlinecolor\":\"#2a3f5f\",\"gridcolor\":\"white\",\"linecolor\":\"white\",\"minorgridcolor\":\"white\",\"startlinecolor\":\"#2a3f5f\"},\"type\":\"carpet\"}],\"choropleth\":[{\"colorbar\":{\"outlinewidth\":0,\"ticks\":\"\"},\"type\":\"choropleth\"}],\"contour\":[{\"colorbar\":{\"outlinewidth\":0,\"ticks\":\"\"},\"colorscale\":[[0.0,\"#0d0887\"],[0.1111111111111111,\"#46039f\"],[0.2222222222222222,\"#7201a8\"],[0.3333333333333333,\"#9c179e\"],[0.4444444444444444,\"#bd3786\"],[0.5555555555555556,\"#d8576b\"],[0.6666666666666666,\"#ed7953\"],[0.7777777777777778,\"#fb9f3a\"],[0.8888888888888888,\"#fdca26\"],[1.0,\"#f0f921\"]],\"type\":\"contour\"}],\"contourcarpet\":[{\"colorbar\":{\"outlinewidth\":0,\"ticks\":\"\"},\"type\":\"contourcarpet\"}],\"heatmap\":[{\"colorbar\":{\"outlinewidth\":0,\"ticks\":\"\"},\"colorscale\":[[0.0,\"#0d0887\"],[0.1111111111111111,\"#46039f\"],[0.2222222222222222,\"#7201a8\"],[0.3333333333333333,\"#9c179e\"],[0.4444444444444444,\"#bd3786\"],[0.5555555555555556,\"#d8576b\"],[0.6666666666666666,\"#ed7953\"],[0.7777777777777778,\"#fb9f3a\"],[0.8888888888888888,\"#fdca26\"],[1.0,\"#f0f921\"]],\"type\":\"heatmap\"}],\"heatmapgl\":[{\"colorbar\":{\"outlinewidth\":0,\"ticks\":\"\"},\"colorscale\":[[0.0,\"#0d0887\"],[0.1111111111111111,\"#46039f\"],[0.2222222222222222,\"#7201a8\"],[0.3333333333333333,\"#9c179e\"],[0.4444444444444444,\"#bd3786\"],[0.5555555555555556,\"#d8576b\"],[0.6666666666666666,\"#ed7953\"],[0.7777777777777778,\"#fb9f3a\"],[0.8888888888888888,\"#fdca26\"],[1.0,\"#f0f921\"]],\"type\":\"heatmapgl\"}],\"histogram\":[{\"marker\":{\"pattern\":{\"fillmode\":\"overlay\",\"size\":10,\"solidity\":0.2}},\"type\":\"histogram\"}],\"histogram2d\":[{\"colorbar\":{\"outlinewidth\":0,\"ticks\":\"\"},\"colorscale\":[[0.0,\"#0d0887\"],[0.1111111111111111,\"#46039f\"],[0.2222222222222222,\"#7201a8\"],[0.3333333333333333,\"#9c179e\"],[0.4444444444444444,\"#bd3786\"],[0.5555555555555556,\"#d8576b\"],[0.6666666666666666,\"#ed7953\"],[0.7777777777777778,\"#fb9f3a\"],[0.8888888888888888,\"#fdca26\"],[1.0,\"#f0f921\"]],\"type\":\"histogram2d\"}],\"histogram2dcontour\":[{\"colorbar\":{\"outlinewidth\":0,\"ticks\":\"\"},\"colorscale\":[[0.0,\"#0d0887\"],[0.1111111111111111,\"#46039f\"],[0.2222222222222222,\"#7201a8\"],[0.3333333333333333,\"#9c179e\"],[0.4444444444444444,\"#bd3786\"],[0.5555555555555556,\"#d8576b\"],[0.6666666666666666,\"#ed7953\"],[0.7777777777777778,\"#fb9f3a\"],[0.8888888888888888,\"#fdca26\"],[1.0,\"#f0f921\"]],\"type\":\"histogram2dcontour\"}],\"mesh3d\":[{\"colorbar\":{\"outlinewidth\":0,\"ticks\":\"\"},\"type\":\"mesh3d\"}],\"parcoords\":[{\"line\":{\"colorbar\":{\"outlinewidth\":0,\"ticks\":\"\"}},\"type\":\"parcoords\"}],\"pie\":[{\"automargin\":true,\"type\":\"pie\"}],\"scatter\":[{\"marker\":{\"colorbar\":{\"outlinewidth\":0,\"ticks\":\"\"}},\"type\":\"scatter\"}],\"scatter3d\":[{\"line\":{\"colorbar\":{\"outlinewidth\":0,\"ticks\":\"\"}},\"marker\":{\"colorbar\":{\"outlinewidth\":0,\"ticks\":\"\"}},\"type\":\"scatter3d\"}],\"scattercarpet\":[{\"marker\":{\"colorbar\":{\"outlinewidth\":0,\"ticks\":\"\"}},\"type\":\"scattercarpet\"}],\"scattergeo\":[{\"marker\":{\"colorbar\":{\"outlinewidth\":0,\"ticks\":\"\"}},\"type\":\"scattergeo\"}],\"scattergl\":[{\"marker\":{\"colorbar\":{\"outlinewidth\":0,\"ticks\":\"\"}},\"type\":\"scattergl\"}],\"scattermapbox\":[{\"marker\":{\"colorbar\":{\"outlinewidth\":0,\"ticks\":\"\"}},\"type\":\"scattermapbox\"}],\"scatterpolar\":[{\"marker\":{\"colorbar\":{\"outlinewidth\":0,\"ticks\":\"\"}},\"type\":\"scatterpolar\"}],\"scatterpolargl\":[{\"marker\":{\"colorbar\":{\"outlinewidth\":0,\"ticks\":\"\"}},\"type\":\"scatterpolargl\"}],\"scatterternary\":[{\"marker\":{\"colorbar\":{\"outlinewidth\":0,\"ticks\":\"\"}},\"type\":\"scatterternary\"}],\"surface\":[{\"colorbar\":{\"outlinewidth\":0,\"ticks\":\"\"},\"colorscale\":[[0.0,\"#0d0887\"],[0.1111111111111111,\"#46039f\"],[0.2222222222222222,\"#7201a8\"],[0.3333333333333333,\"#9c179e\"],[0.4444444444444444,\"#bd3786\"],[0.5555555555555556,\"#d8576b\"],[0.6666666666666666,\"#ed7953\"],[0.7777777777777778,\"#fb9f3a\"],[0.8888888888888888,\"#fdca26\"],[1.0,\"#f0f921\"]],\"type\":\"surface\"}],\"table\":[{\"cells\":{\"fill\":{\"color\":\"#EBF0F8\"},\"line\":{\"color\":\"white\"}},\"header\":{\"fill\":{\"color\":\"#C8D4E3\"},\"line\":{\"color\":\"white\"}},\"type\":\"table\"}]},\"layout\":{\"annotationdefaults\":{\"arrowcolor\":\"#2a3f5f\",\"arrowhead\":0,\"arrowwidth\":1},\"autotypenumbers\":\"strict\",\"coloraxis\":{\"colorbar\":{\"outlinewidth\":0,\"ticks\":\"\"}},\"colorscale\":{\"diverging\":[[0,\"#8e0152\"],[0.1,\"#c51b7d\"],[0.2,\"#de77ae\"],[0.3,\"#f1b6da\"],[0.4,\"#fde0ef\"],[0.5,\"#f7f7f7\"],[0.6,\"#e6f5d0\"],[0.7,\"#b8e186\"],[0.8,\"#7fbc41\"],[0.9,\"#4d9221\"],[1,\"#276419\"]],\"sequential\":[[0.0,\"#0d0887\"],[0.1111111111111111,\"#46039f\"],[0.2222222222222222,\"#7201a8\"],[0.3333333333333333,\"#9c179e\"],[0.4444444444444444,\"#bd3786\"],[0.5555555555555556,\"#d8576b\"],[0.6666666666666666,\"#ed7953\"],[0.7777777777777778,\"#fb9f3a\"],[0.8888888888888888,\"#fdca26\"],[1.0,\"#f0f921\"]],\"sequentialminus\":[[0.0,\"#0d0887\"],[0.1111111111111111,\"#46039f\"],[0.2222222222222222,\"#7201a8\"],[0.3333333333333333,\"#9c179e\"],[0.4444444444444444,\"#bd3786\"],[0.5555555555555556,\"#d8576b\"],[0.6666666666666666,\"#ed7953\"],[0.7777777777777778,\"#fb9f3a\"],[0.8888888888888888,\"#fdca26\"],[1.0,\"#f0f921\"]]},\"colorway\":[\"#636efa\",\"#EF553B\",\"#00cc96\",\"#ab63fa\",\"#FFA15A\",\"#19d3f3\",\"#FF6692\",\"#B6E880\",\"#FF97FF\",\"#FECB52\"],\"font\":{\"color\":\"#2a3f5f\"},\"geo\":{\"bgcolor\":\"white\",\"lakecolor\":\"white\",\"landcolor\":\"#E5ECF6\",\"showlakes\":true,\"showland\":true,\"subunitcolor\":\"white\"},\"hoverlabel\":{\"align\":\"left\"},\"hovermode\":\"closest\",\"mapbox\":{\"style\":\"light\"},\"paper_bgcolor\":\"white\",\"plot_bgcolor\":\"#E5ECF6\",\"polar\":{\"angularaxis\":{\"gridcolor\":\"white\",\"linecolor\":\"white\",\"ticks\":\"\"},\"bgcolor\":\"#E5ECF6\",\"radialaxis\":{\"gridcolor\":\"white\",\"linecolor\":\"white\",\"ticks\":\"\"}},\"scene\":{\"xaxis\":{\"backgroundcolor\":\"#E5ECF6\",\"gridcolor\":\"white\",\"gridwidth\":2,\"linecolor\":\"white\",\"showbackground\":true,\"ticks\":\"\",\"zerolinecolor\":\"white\"},\"yaxis\":{\"backgroundcolor\":\"#E5ECF6\",\"gridcolor\":\"white\",\"gridwidth\":2,\"linecolor\":\"white\",\"showbackground\":true,\"ticks\":\"\",\"zerolinecolor\":\"white\"},\"zaxis\":{\"backgroundcolor\":\"#E5ECF6\",\"gridcolor\":\"white\",\"gridwidth\":2,\"linecolor\":\"white\",\"showbackground\":true,\"ticks\":\"\",\"zerolinecolor\":\"white\"}},\"shapedefaults\":{\"line\":{\"color\":\"#2a3f5f\"}},\"ternary\":{\"aaxis\":{\"gridcolor\":\"white\",\"linecolor\":\"white\",\"ticks\":\"\"},\"baxis\":{\"gridcolor\":\"white\",\"linecolor\":\"white\",\"ticks\":\"\"},\"bgcolor\":\"#E5ECF6\",\"caxis\":{\"gridcolor\":\"white\",\"linecolor\":\"white\",\"ticks\":\"\"}},\"title\":{\"x\":0.05},\"xaxis\":{\"automargin\":true,\"gridcolor\":\"white\",\"linecolor\":\"white\",\"ticks\":\"\",\"title\":{\"standoff\":15},\"zerolinecolor\":\"white\",\"zerolinewidth\":2},\"yaxis\":{\"automargin\":true,\"gridcolor\":\"white\",\"linecolor\":\"white\",\"ticks\":\"\",\"title\":{\"standoff\":15},\"zerolinecolor\":\"white\",\"zerolinewidth\":2}}},\"xaxis\":{\"anchor\":\"y\",\"domain\":[0.0,1.0],\"title\":{\"text\":\"Datum\"}},\"yaxis\":{\"anchor\":\"x\",\"domain\":[0.0,1.0],\"title\":{\"text\":\"CO2\"}}},                        {\"responsive\": true}                    ).then(function(){\n",
       "                            \n",
       "var gd = document.getElementById('0b0947f1-bb48-4911-b71c-703713b28dac');\n",
       "var x = new MutationObserver(function (mutations, observer) {{\n",
       "        var display = window.getComputedStyle(gd).display;\n",
       "        if (!display || display === 'none') {{\n",
       "            console.log([gd, 'removed!']);\n",
       "            Plotly.purge(gd);\n",
       "            observer.disconnect();\n",
       "        }}\n",
       "}});\n",
       "\n",
       "// Listen for the removal of the full notebook cells\n",
       "var notebookContainer = gd.closest('#notebook-container');\n",
       "if (notebookContainer) {{\n",
       "    x.observe(notebookContainer, {childList: true});\n",
       "}}\n",
       "\n",
       "// Listen for the clearing of the current output cell\n",
       "var outputEl = gd.closest('.output');\n",
       "if (outputEl) {{\n",
       "    x.observe(outputEl, {childList: true});\n",
       "}}\n",
       "\n",
       "                        })                };                });            </script>        </div>"
      ]
     },
     "metadata": {},
     "output_type": "display_data"
    }
   ],
   "source": [
    "#train_model(classifier=linear_model.LogisticRegression,scaler=MinMaxScaler)\n",
    "print(pd.DataFrame(columns=df.columns))\n",
    "X = df.drop(columns=[label])\n",
    "y = df[label]\n",
    "\n",
    "X_train, X_test, y_train, y_test = train_test_split(X,y, test_size=0.25,random_state=42)\n",
    "scale_features(StandardScaler)\n",
    "\n",
    "mLR = linear_model.LogisticRegression()\n",
    "%time mLR.fit(X_train, y_train)\n",
    "\n",
    "report(mLR)\n",
    "#print(\"Echte Testdaten:\\n\",classification_report(df_test[label],m.predict(df_test.drop(columns=[label]))))\n",
    "test_viz(mLR)"
   ]
  },
  {
   "cell_type": "markdown",
   "metadata": {},
   "source": [
    "## Random Forest"
   ]
  },
  {
   "cell_type": "code",
   "execution_count": 580,
   "metadata": {},
   "outputs": [
    {
     "name": "stdout",
     "output_type": "stream",
     "text": [
      "Empty DataFrame\n",
      "Columns: [Temperatur, Luftfeuchtigkeit, CO2, Anwesenheit, Arbeitszeit]\n",
      "Index: []\n",
      "Wall time: 720 ms\n",
      "Trainingsdaten:\n",
      "               precision    recall  f1-score   support\n",
      "\n",
      "           0      1.000     1.000     1.000      6953\n",
      "           1      1.000     1.000     1.000      2576\n",
      "\n",
      "    accuracy                          1.000      9529\n",
      "   macro avg      1.000     1.000     1.000      9529\n",
      "weighted avg      1.000     1.000     1.000      9529\n",
      "\n",
      "Testdaten:\n",
      "               precision    recall  f1-score   support\n",
      "\n",
      "           0      0.991     0.990     0.990      2362\n",
      "           1      0.971     0.974     0.972       815\n",
      "\n",
      "    accuracy                          0.986      3177\n",
      "   macro avg      0.981     0.982     0.981      3177\n",
      "weighted avg      0.986     0.986     0.986      3177\n",
      "\n"
     ]
    },
    {
     "data": {
      "application/vnd.plotly.v1+json": {
       "config": {
        "plotlyServerURL": "https://plot.ly"
       },
       "data": [
        {
         "alignmentgroup": "True",
         "hovertemplate": "Datum=%{x}<br>CO2=%{y}<br>Anwesenheit=%{marker.color}<extra></extra>",
         "legendgroup": "",
         "marker": {
          "color": [
           0,
           0,
           0,
           0,
           0,
           0,
           0,
           0,
           0,
           0,
           0,
           0,
           0,
           0,
           0,
           0,
           0,
           0,
           0,
           0,
           0,
           0,
           0,
           0,
           0,
           0,
           0,
           0,
           0,
           0,
           0,
           0,
           0,
           0,
           0,
           0,
           0,
           0,
           0,
           0,
           0,
           0,
           0,
           0,
           0,
           0,
           0,
           0,
           0,
           0,
           0,
           0,
           0,
           0,
           0,
           0,
           0,
           0,
           0,
           0,
           0,
           0,
           0,
           0,
           0,
           0,
           0,
           0,
           0,
           0,
           0,
           0,
           0,
           0,
           0,
           0,
           0,
           0,
           0,
           0,
           0,
           0,
           0,
           0,
           0,
           0,
           0,
           0,
           0,
           0,
           0,
           0,
           0,
           0,
           0,
           0,
           0,
           0,
           0,
           0,
           0,
           0,
           0,
           0,
           0,
           0,
           0,
           0,
           0,
           0,
           0,
           0,
           0,
           0,
           0,
           0,
           0,
           0,
           0,
           0,
           0,
           0,
           0,
           0,
           0,
           0,
           0,
           0,
           0,
           0,
           0,
           0,
           0,
           0,
           0,
           0,
           0,
           0,
           0,
           0,
           0,
           0,
           0,
           0,
           0,
           0,
           0,
           0,
           0,
           0,
           0,
           0,
           0,
           0,
           0,
           0,
           0,
           0,
           0,
           0,
           0,
           0,
           0,
           0,
           0,
           0,
           0,
           0,
           0,
           0,
           0,
           0,
           0,
           0,
           0,
           0,
           0,
           0,
           0,
           0,
           0,
           0,
           0,
           0,
           0,
           0,
           0,
           0,
           0,
           0,
           0,
           0,
           0,
           0,
           0,
           0,
           0,
           0,
           0,
           0,
           0,
           0,
           0,
           0.5555555555555556,
           1,
           1,
           1,
           0.9,
           1,
           0.8181818181818182,
           0.7777777777777778,
           1,
           0.1111111111111111,
           0,
           0,
           0,
           0,
           0,
           0,
           0.8888888888888888,
           0.9090909090909091,
           0.8888888888888888,
           0.09090909090909091,
           0,
           0.7,
           0.2,
           0,
           0,
           0.1111111111111111,
           0.6363636363636364,
           0.3333333333333333,
           0.18181818181818182,
           1,
           0.9,
           0.3,
           0,
           0,
           0,
           0,
           0,
           0,
           0,
           0,
           0,
           0,
           0,
           0,
           0,
           0,
           0,
           0,
           0,
           0,
           0,
           0,
           0,
           0,
           0,
           0,
           0,
           0,
           0,
           0,
           0,
           0,
           0,
           0,
           0,
           0,
           0,
           0,
           0,
           0,
           0,
           0,
           0,
           0,
           0,
           0,
           0,
           0,
           0,
           0,
           0,
           0,
           0,
           0,
           0,
           0,
           0,
           0,
           0,
           0,
           0,
           0,
           0,
           0,
           0,
           0,
           0,
           0,
           0,
           0,
           0,
           0,
           0,
           0,
           0,
           0,
           0,
           0,
           0,
           0,
           0,
           0,
           0,
           0,
           0,
           0,
           0,
           0,
           0,
           0,
           0,
           0,
           0,
           0,
           0,
           0,
           0,
           0,
           0,
           0,
           0,
           0,
           0,
           1,
           1,
           1,
           1,
           1,
           1,
           1,
           1,
           1,
           1,
           1,
           1,
           1,
           1,
           1,
           1,
           1,
           1,
           1,
           1,
           1,
           1,
           1,
           1,
           1,
           1,
           1,
           1,
           1,
           1,
           0,
           0,
           0.9,
           1,
           1,
           1,
           1,
           1,
           1,
           1,
           1,
           1,
           1,
           1,
           1,
           1,
           1,
           1,
           1,
           1,
           1,
           1,
           1,
           1,
           1,
           1,
           1,
           1,
           1,
           1,
           0,
           0,
           0,
           0,
           0,
           0,
           0,
           0,
           0,
           0,
           0,
           0,
           0,
           0,
           0,
           0,
           0,
           0,
           0,
           0,
           0,
           0,
           0,
           0,
           0,
           0,
           0,
           0,
           0,
           0,
           0,
           0,
           0,
           0,
           0,
           0,
           0,
           0,
           0,
           0,
           0,
           0,
           0,
           0,
           0,
           0,
           0,
           0,
           0,
           0,
           0,
           0,
           0,
           0,
           0,
           0,
           0,
           0,
           0,
           0,
           0,
           0,
           0,
           0,
           0,
           0,
           0,
           0,
           0,
           0,
           0,
           0,
           0,
           0,
           0,
           0,
           0,
           0,
           0,
           0,
           0,
           0,
           0,
           0,
           1,
           1,
           1,
           1,
           1,
           1,
           1,
           1,
           1,
           1,
           1,
           1,
           1,
           1,
           1,
           1,
           1,
           1,
           1,
           1,
           1,
           1,
           1,
           1,
           1,
           1,
           1,
           1,
           1,
           1,
           0,
           0,
           0.9,
           1,
           1,
           1,
           1,
           1,
           1,
           1,
           1,
           1,
           1,
           1,
           1,
           1,
           1,
           1,
           1,
           1,
           1,
           1,
           1,
           1,
           1,
           1,
           1,
           1,
           1,
           1,
           0,
           0,
           0,
           0,
           0,
           0.1111111111111111,
           0.7272727272727273,
           0,
           0,
           0,
           0,
           0,
           0,
           0,
           0,
           0,
           0,
           0,
           0,
           0,
           0,
           0,
           0,
           0,
           0,
           0,
           0,
           0,
           0,
           0,
           0,
           0,
           0,
           0,
           0,
           0,
           0,
           0,
           0,
           0,
           0,
           0,
           0,
           0,
           0,
           0,
           0,
           0,
           0,
           0,
           0,
           0,
           0,
           0,
           0,
           0,
           0,
           0,
           0,
           0,
           0,
           0,
           0,
           0,
           0,
           0,
           0,
           0,
           0,
           0,
           0,
           0,
           0,
           0,
           0,
           0,
           0,
           0,
           0,
           0,
           0,
           0,
           0,
           0,
           1,
           1,
           1,
           1,
           1,
           1,
           1,
           1
          ],
          "coloraxis": "coloraxis",
          "pattern": {
           "shape": ""
          }
         },
         "name": "",
         "offsetgroup": "",
         "orientation": "v",
         "showlegend": false,
         "textposition": "auto",
         "type": "bar",
         "x": [
          "2017-02-04T00:00:00",
          "2017-02-04T00:10:00",
          "2017-02-04T00:20:00",
          "2017-02-04T00:30:00",
          "2017-02-04T00:40:00",
          "2017-02-04T00:50:00",
          "2017-02-04T01:00:00",
          "2017-02-04T01:10:00",
          "2017-02-04T01:20:00",
          "2017-02-04T01:30:00",
          "2017-02-04T01:40:00",
          "2017-02-04T01:50:00",
          "2017-02-04T02:00:00",
          "2017-02-04T02:10:00",
          "2017-02-04T02:20:00",
          "2017-02-04T02:30:00",
          "2017-02-04T02:40:00",
          "2017-02-04T02:50:00",
          "2017-02-04T03:00:00",
          "2017-02-04T03:10:00",
          "2017-02-04T03:20:00",
          "2017-02-04T03:30:00",
          "2017-02-04T03:40:00",
          "2017-02-04T03:50:00",
          "2017-02-04T04:00:00",
          "2017-02-04T04:10:00",
          "2017-02-04T04:20:00",
          "2017-02-04T04:30:00",
          "2017-02-04T04:40:00",
          "2017-02-04T04:50:00",
          "2017-02-04T05:00:00",
          "2017-02-04T05:10:00",
          "2017-02-04T05:20:00",
          "2017-02-04T05:30:00",
          "2017-02-04T05:40:00",
          "2017-02-04T05:50:00",
          "2017-02-04T06:00:00",
          "2017-02-04T06:10:00",
          "2017-02-04T06:20:00",
          "2017-02-04T06:30:00",
          "2017-02-04T06:40:00",
          "2017-02-04T06:50:00",
          "2017-02-04T07:00:00",
          "2017-02-04T07:10:00",
          "2017-02-04T07:20:00",
          "2017-02-04T07:30:00",
          "2017-02-04T07:40:00",
          "2017-02-04T07:50:00",
          "2017-02-04T08:00:00",
          "2017-02-04T08:10:00",
          "2017-02-04T08:20:00",
          "2017-02-04T08:30:00",
          "2017-02-04T08:40:00",
          "2017-02-04T08:50:00",
          "2017-02-04T09:00:00",
          "2017-02-04T09:10:00",
          "2017-02-04T09:20:00",
          "2017-02-04T09:30:00",
          "2017-02-04T09:40:00",
          "2017-02-04T09:50:00",
          "2017-02-04T10:00:00",
          "2017-02-04T10:10:00",
          "2017-02-04T10:20:00",
          "2017-02-04T10:30:00",
          "2017-02-04T10:40:00",
          "2017-02-04T10:50:00",
          "2017-02-04T11:00:00",
          "2017-02-04T11:10:00",
          "2017-02-04T11:20:00",
          "2017-02-04T11:30:00",
          "2017-02-04T11:40:00",
          "2017-02-04T11:50:00",
          "2017-02-04T12:00:00",
          "2017-02-04T12:10:00",
          "2017-02-04T12:20:00",
          "2017-02-04T12:30:00",
          "2017-02-04T12:40:00",
          "2017-02-04T12:50:00",
          "2017-02-04T13:00:00",
          "2017-02-04T13:10:00",
          "2017-02-04T13:20:00",
          "2017-02-04T13:30:00",
          "2017-02-04T13:40:00",
          "2017-02-04T13:50:00",
          "2017-02-04T14:00:00",
          "2017-02-04T14:10:00",
          "2017-02-04T14:20:00",
          "2017-02-04T14:30:00",
          "2017-02-04T14:40:00",
          "2017-02-04T14:50:00",
          "2017-02-04T15:00:00",
          "2017-02-04T15:10:00",
          "2017-02-04T15:20:00",
          "2017-02-04T15:30:00",
          "2017-02-04T15:40:00",
          "2017-02-04T15:50:00",
          "2017-02-04T16:00:00",
          "2017-02-04T16:10:00",
          "2017-02-04T16:20:00",
          "2017-02-04T16:30:00",
          "2017-02-04T16:40:00",
          "2017-02-04T16:50:00",
          "2017-02-04T17:00:00",
          "2017-02-04T17:10:00",
          "2017-02-04T17:20:00",
          "2017-02-04T17:30:00",
          "2017-02-04T17:40:00",
          "2017-02-04T17:50:00",
          "2017-02-04T18:00:00",
          "2017-02-04T18:10:00",
          "2017-02-04T18:20:00",
          "2017-02-04T18:30:00",
          "2017-02-04T18:40:00",
          "2017-02-04T18:50:00",
          "2017-02-04T19:00:00",
          "2017-02-04T19:10:00",
          "2017-02-04T19:20:00",
          "2017-02-04T19:30:00",
          "2017-02-04T19:40:00",
          "2017-02-04T19:50:00",
          "2017-02-04T20:00:00",
          "2017-02-04T20:10:00",
          "2017-02-04T20:20:00",
          "2017-02-04T20:30:00",
          "2017-02-04T20:40:00",
          "2017-02-04T20:50:00",
          "2017-02-04T21:00:00",
          "2017-02-04T21:10:00",
          "2017-02-04T21:20:00",
          "2017-02-04T21:30:00",
          "2017-02-04T21:40:00",
          "2017-02-04T21:50:00",
          "2017-02-04T22:00:00",
          "2017-02-04T22:10:00",
          "2017-02-04T22:20:00",
          "2017-02-04T22:30:00",
          "2017-02-04T22:40:00",
          "2017-02-04T22:50:00",
          "2017-02-04T23:00:00",
          "2017-02-04T23:10:00",
          "2017-02-04T23:20:00",
          "2017-02-04T23:30:00",
          "2017-02-04T23:40:00",
          "2017-02-04T23:50:00",
          "2017-02-05T00:00:00",
          "2017-02-05T00:10:00",
          "2017-02-05T00:20:00",
          "2017-02-05T00:30:00",
          "2017-02-05T00:40:00",
          "2017-02-05T00:50:00",
          "2017-02-05T01:00:00",
          "2017-02-05T01:10:00",
          "2017-02-05T01:20:00",
          "2017-02-05T01:30:00",
          "2017-02-05T01:40:00",
          "2017-02-05T01:50:00",
          "2017-02-05T02:00:00",
          "2017-02-05T02:10:00",
          "2017-02-05T02:20:00",
          "2017-02-05T02:30:00",
          "2017-02-05T02:40:00",
          "2017-02-05T02:50:00",
          "2017-02-05T03:00:00",
          "2017-02-05T03:10:00",
          "2017-02-05T03:20:00",
          "2017-02-05T03:30:00",
          "2017-02-05T03:40:00",
          "2017-02-05T03:50:00",
          "2017-02-05T04:00:00",
          "2017-02-05T04:10:00",
          "2017-02-05T04:20:00",
          "2017-02-05T04:30:00",
          "2017-02-05T04:40:00",
          "2017-02-05T04:50:00",
          "2017-02-05T05:00:00",
          "2017-02-05T05:10:00",
          "2017-02-05T05:20:00",
          "2017-02-05T05:30:00",
          "2017-02-05T05:40:00",
          "2017-02-05T05:50:00",
          "2017-02-05T06:00:00",
          "2017-02-05T06:10:00",
          "2017-02-05T06:20:00",
          "2017-02-05T06:30:00",
          "2017-02-05T06:40:00",
          "2017-02-05T06:50:00",
          "2017-02-05T07:00:00",
          "2017-02-05T07:10:00",
          "2017-02-05T07:20:00",
          "2017-02-05T07:30:00",
          "2017-02-05T07:40:00",
          "2017-02-05T07:50:00",
          "2017-02-05T08:00:00",
          "2017-02-05T08:10:00",
          "2017-02-05T08:20:00",
          "2017-02-05T08:30:00",
          "2017-02-05T08:40:00",
          "2017-02-05T08:50:00",
          "2017-02-05T09:00:00",
          "2017-02-05T09:10:00",
          "2017-02-05T09:20:00",
          "2017-02-05T09:30:00",
          "2017-02-05T09:40:00",
          "2017-02-05T09:50:00",
          "2017-02-05T10:00:00",
          "2017-02-05T10:10:00",
          "2017-02-05T10:20:00",
          "2017-02-05T10:30:00",
          "2017-02-05T10:40:00",
          "2017-02-05T10:50:00",
          "2017-02-05T11:00:00",
          "2017-02-05T11:10:00",
          "2017-02-05T11:20:00",
          "2017-02-05T11:30:00",
          "2017-02-05T11:40:00",
          "2017-02-05T11:50:00",
          "2017-02-05T12:00:00",
          "2017-02-05T12:10:00",
          "2017-02-05T12:20:00",
          "2017-02-05T12:30:00",
          "2017-02-05T12:40:00",
          "2017-02-05T12:50:00",
          "2017-02-05T13:00:00",
          "2017-02-05T13:10:00",
          "2017-02-05T13:20:00",
          "2017-02-05T13:30:00",
          "2017-02-05T13:40:00",
          "2017-02-05T13:50:00",
          "2017-02-05T14:00:00",
          "2017-02-05T14:10:00",
          "2017-02-05T14:20:00",
          "2017-02-05T14:30:00",
          "2017-02-05T14:40:00",
          "2017-02-05T14:50:00",
          "2017-02-05T15:00:00",
          "2017-02-05T15:10:00",
          "2017-02-05T15:20:00",
          "2017-02-05T15:30:00",
          "2017-02-05T15:40:00",
          "2017-02-05T15:50:00",
          "2017-02-05T16:00:00",
          "2017-02-05T16:10:00",
          "2017-02-05T16:20:00",
          "2017-02-05T16:30:00",
          "2017-02-05T16:40:00",
          "2017-02-05T16:50:00",
          "2017-02-05T17:00:00",
          "2017-02-05T17:10:00",
          "2017-02-05T17:20:00",
          "2017-02-05T17:30:00",
          "2017-02-05T17:40:00",
          "2017-02-05T17:50:00",
          "2017-02-05T18:00:00",
          "2017-02-05T18:10:00",
          "2017-02-05T18:20:00",
          "2017-02-05T18:30:00",
          "2017-02-05T18:40:00",
          "2017-02-05T18:50:00",
          "2017-02-05T19:00:00",
          "2017-02-05T19:10:00",
          "2017-02-05T19:20:00",
          "2017-02-05T19:30:00",
          "2017-02-05T19:40:00",
          "2017-02-05T19:50:00",
          "2017-02-05T20:00:00",
          "2017-02-05T20:10:00",
          "2017-02-05T20:20:00",
          "2017-02-05T20:30:00",
          "2017-02-05T20:40:00",
          "2017-02-05T20:50:00",
          "2017-02-05T21:00:00",
          "2017-02-05T21:10:00",
          "2017-02-05T21:20:00",
          "2017-02-05T21:30:00",
          "2017-02-05T21:40:00",
          "2017-02-05T21:50:00",
          "2017-02-05T22:00:00",
          "2017-02-05T22:10:00",
          "2017-02-05T22:20:00",
          "2017-02-05T22:30:00",
          "2017-02-05T22:40:00",
          "2017-02-05T22:50:00",
          "2017-02-05T23:00:00",
          "2017-02-05T23:10:00",
          "2017-02-05T23:20:00",
          "2017-02-05T23:30:00",
          "2017-02-05T23:40:00",
          "2017-02-05T23:50:00",
          "2017-02-06T00:00:00",
          "2017-02-06T00:10:00",
          "2017-02-06T00:20:00",
          "2017-02-06T00:30:00",
          "2017-02-06T00:40:00",
          "2017-02-06T00:50:00",
          "2017-02-06T01:00:00",
          "2017-02-06T01:10:00",
          "2017-02-06T01:20:00",
          "2017-02-06T01:30:00",
          "2017-02-06T01:40:00",
          "2017-02-06T01:50:00",
          "2017-02-06T02:00:00",
          "2017-02-06T02:10:00",
          "2017-02-06T02:20:00",
          "2017-02-06T02:30:00",
          "2017-02-06T02:40:00",
          "2017-02-06T02:50:00",
          "2017-02-06T03:00:00",
          "2017-02-06T03:10:00",
          "2017-02-06T03:20:00",
          "2017-02-06T03:30:00",
          "2017-02-06T03:40:00",
          "2017-02-06T03:50:00",
          "2017-02-06T04:00:00",
          "2017-02-06T04:10:00",
          "2017-02-06T04:20:00",
          "2017-02-06T04:30:00",
          "2017-02-06T04:40:00",
          "2017-02-06T04:50:00",
          "2017-02-06T05:00:00",
          "2017-02-06T05:10:00",
          "2017-02-06T05:20:00",
          "2017-02-06T05:30:00",
          "2017-02-06T05:40:00",
          "2017-02-06T05:50:00",
          "2017-02-06T06:00:00",
          "2017-02-06T06:10:00",
          "2017-02-06T06:20:00",
          "2017-02-06T06:30:00",
          "2017-02-06T06:40:00",
          "2017-02-06T06:50:00",
          "2017-02-06T07:00:00",
          "2017-02-06T07:10:00",
          "2017-02-06T07:20:00",
          "2017-02-06T07:30:00",
          "2017-02-06T07:40:00",
          "2017-02-06T07:50:00",
          "2017-02-06T08:00:00",
          "2017-02-06T08:10:00",
          "2017-02-06T08:20:00",
          "2017-02-06T08:30:00",
          "2017-02-06T08:40:00",
          "2017-02-06T08:50:00",
          "2017-02-06T09:00:00",
          "2017-02-06T09:10:00",
          "2017-02-06T09:20:00",
          "2017-02-06T09:30:00",
          "2017-02-06T09:40:00",
          "2017-02-06T09:50:00",
          "2017-02-06T10:00:00",
          "2017-02-06T10:10:00",
          "2017-02-06T10:20:00",
          "2017-02-06T10:30:00",
          "2017-02-06T10:40:00",
          "2017-02-06T10:50:00",
          "2017-02-06T11:00:00",
          "2017-02-06T11:10:00",
          "2017-02-06T11:20:00",
          "2017-02-06T11:30:00",
          "2017-02-06T11:40:00",
          "2017-02-06T11:50:00",
          "2017-02-06T12:00:00",
          "2017-02-06T12:10:00",
          "2017-02-06T12:20:00",
          "2017-02-06T12:30:00",
          "2017-02-06T12:40:00",
          "2017-02-06T12:50:00",
          "2017-02-06T13:00:00",
          "2017-02-06T13:10:00",
          "2017-02-06T13:20:00",
          "2017-02-06T13:30:00",
          "2017-02-06T13:40:00",
          "2017-02-06T13:50:00",
          "2017-02-06T14:00:00",
          "2017-02-06T14:10:00",
          "2017-02-06T14:20:00",
          "2017-02-06T14:30:00",
          "2017-02-06T14:40:00",
          "2017-02-06T14:50:00",
          "2017-02-06T15:00:00",
          "2017-02-06T15:10:00",
          "2017-02-06T15:20:00",
          "2017-02-06T15:30:00",
          "2017-02-06T15:40:00",
          "2017-02-06T15:50:00",
          "2017-02-06T16:00:00",
          "2017-02-06T16:10:00",
          "2017-02-06T16:20:00",
          "2017-02-06T16:30:00",
          "2017-02-06T16:40:00",
          "2017-02-06T16:50:00",
          "2017-02-06T17:00:00",
          "2017-02-06T17:10:00",
          "2017-02-06T17:20:00",
          "2017-02-06T17:30:00",
          "2017-02-06T17:40:00",
          "2017-02-06T17:50:00",
          "2017-02-06T18:00:00",
          "2017-02-06T18:10:00",
          "2017-02-06T18:20:00",
          "2017-02-06T18:30:00",
          "2017-02-06T18:40:00",
          "2017-02-06T18:50:00",
          "2017-02-06T19:00:00",
          "2017-02-06T19:10:00",
          "2017-02-06T19:20:00",
          "2017-02-06T19:30:00",
          "2017-02-06T19:40:00",
          "2017-02-06T19:50:00",
          "2017-02-06T20:00:00",
          "2017-02-06T20:10:00",
          "2017-02-06T20:20:00",
          "2017-02-06T20:30:00",
          "2017-02-06T20:40:00",
          "2017-02-06T20:50:00",
          "2017-02-06T21:00:00",
          "2017-02-06T21:10:00",
          "2017-02-06T21:20:00",
          "2017-02-06T21:30:00",
          "2017-02-06T21:40:00",
          "2017-02-06T21:50:00",
          "2017-02-06T22:00:00",
          "2017-02-06T22:10:00",
          "2017-02-06T22:20:00",
          "2017-02-06T22:30:00",
          "2017-02-06T22:40:00",
          "2017-02-06T22:50:00",
          "2017-02-06T23:00:00",
          "2017-02-06T23:10:00",
          "2017-02-06T23:20:00",
          "2017-02-06T23:30:00",
          "2017-02-06T23:40:00",
          "2017-02-06T23:50:00",
          "2017-02-07T00:00:00",
          "2017-02-07T00:10:00",
          "2017-02-07T00:20:00",
          "2017-02-07T00:30:00",
          "2017-02-07T00:40:00",
          "2017-02-07T00:50:00",
          "2017-02-07T01:00:00",
          "2017-02-07T01:10:00",
          "2017-02-07T01:20:00",
          "2017-02-07T01:30:00",
          "2017-02-07T01:40:00",
          "2017-02-07T01:50:00",
          "2017-02-07T02:00:00",
          "2017-02-07T02:10:00",
          "2017-02-07T02:20:00",
          "2017-02-07T02:30:00",
          "2017-02-07T02:40:00",
          "2017-02-07T02:50:00",
          "2017-02-07T03:00:00",
          "2017-02-07T03:10:00",
          "2017-02-07T03:20:00",
          "2017-02-07T03:30:00",
          "2017-02-07T03:40:00",
          "2017-02-07T03:50:00",
          "2017-02-07T04:00:00",
          "2017-02-07T04:10:00",
          "2017-02-07T04:20:00",
          "2017-02-07T04:30:00",
          "2017-02-07T04:40:00",
          "2017-02-07T04:50:00",
          "2017-02-07T05:00:00",
          "2017-02-07T05:10:00",
          "2017-02-07T05:20:00",
          "2017-02-07T05:30:00",
          "2017-02-07T05:40:00",
          "2017-02-07T05:50:00",
          "2017-02-07T06:00:00",
          "2017-02-07T06:10:00",
          "2017-02-07T06:20:00",
          "2017-02-07T06:30:00",
          "2017-02-07T06:40:00",
          "2017-02-07T06:50:00",
          "2017-02-07T07:00:00",
          "2017-02-07T07:10:00",
          "2017-02-07T07:20:00",
          "2017-02-07T07:30:00",
          "2017-02-07T07:40:00",
          "2017-02-07T07:50:00",
          "2017-02-07T08:00:00",
          "2017-02-07T08:10:00",
          "2017-02-07T08:20:00",
          "2017-02-07T08:30:00",
          "2017-02-07T08:40:00",
          "2017-02-07T08:50:00",
          "2017-02-07T09:00:00",
          "2017-02-07T09:10:00",
          "2017-02-07T09:20:00",
          "2017-02-07T09:30:00",
          "2017-02-07T09:40:00",
          "2017-02-07T09:50:00",
          "2017-02-07T10:00:00",
          "2017-02-07T10:10:00",
          "2017-02-07T10:20:00",
          "2017-02-07T10:30:00",
          "2017-02-07T10:40:00",
          "2017-02-07T10:50:00",
          "2017-02-07T11:00:00",
          "2017-02-07T11:10:00",
          "2017-02-07T11:20:00",
          "2017-02-07T11:30:00",
          "2017-02-07T11:40:00",
          "2017-02-07T11:50:00",
          "2017-02-07T12:00:00",
          "2017-02-07T12:10:00",
          "2017-02-07T12:20:00",
          "2017-02-07T12:30:00",
          "2017-02-07T12:40:00",
          "2017-02-07T12:50:00",
          "2017-02-07T13:00:00",
          "2017-02-07T13:10:00",
          "2017-02-07T13:20:00",
          "2017-02-07T13:30:00",
          "2017-02-07T13:40:00",
          "2017-02-07T13:50:00",
          "2017-02-07T14:00:00",
          "2017-02-07T14:10:00",
          "2017-02-07T14:20:00",
          "2017-02-07T14:30:00",
          "2017-02-07T14:40:00",
          "2017-02-07T14:50:00",
          "2017-02-07T15:00:00",
          "2017-02-07T15:10:00",
          "2017-02-07T15:20:00",
          "2017-02-07T15:30:00",
          "2017-02-07T15:40:00",
          "2017-02-07T15:50:00",
          "2017-02-07T16:00:00",
          "2017-02-07T16:10:00",
          "2017-02-07T16:20:00",
          "2017-02-07T16:30:00",
          "2017-02-07T16:40:00",
          "2017-02-07T16:50:00",
          "2017-02-07T17:00:00",
          "2017-02-07T17:10:00",
          "2017-02-07T17:20:00",
          "2017-02-07T17:30:00",
          "2017-02-07T17:40:00",
          "2017-02-07T17:50:00",
          "2017-02-07T18:00:00",
          "2017-02-07T18:10:00",
          "2017-02-07T18:20:00",
          "2017-02-07T18:30:00",
          "2017-02-07T18:40:00",
          "2017-02-07T18:50:00",
          "2017-02-07T19:00:00",
          "2017-02-07T19:10:00",
          "2017-02-07T19:20:00",
          "2017-02-07T19:30:00",
          "2017-02-07T19:40:00",
          "2017-02-07T19:50:00",
          "2017-02-07T20:00:00",
          "2017-02-07T20:10:00",
          "2017-02-07T20:20:00",
          "2017-02-07T20:30:00",
          "2017-02-07T20:40:00",
          "2017-02-07T20:50:00",
          "2017-02-07T21:00:00",
          "2017-02-07T21:10:00",
          "2017-02-07T21:20:00",
          "2017-02-07T21:30:00",
          "2017-02-07T21:40:00",
          "2017-02-07T21:50:00",
          "2017-02-07T22:00:00",
          "2017-02-07T22:10:00",
          "2017-02-07T22:20:00",
          "2017-02-07T22:30:00",
          "2017-02-07T22:40:00",
          "2017-02-07T22:50:00",
          "2017-02-07T23:00:00",
          "2017-02-07T23:10:00",
          "2017-02-07T23:20:00",
          "2017-02-07T23:30:00",
          "2017-02-07T23:40:00",
          "2017-02-07T23:50:00",
          "2017-02-08T00:00:00",
          "2017-02-08T00:10:00",
          "2017-02-08T00:20:00",
          "2017-02-08T00:30:00",
          "2017-02-08T00:40:00",
          "2017-02-08T00:50:00",
          "2017-02-08T01:00:00",
          "2017-02-08T01:10:00",
          "2017-02-08T01:20:00",
          "2017-02-08T01:30:00",
          "2017-02-08T01:40:00",
          "2017-02-08T01:50:00",
          "2017-02-08T02:00:00",
          "2017-02-08T02:10:00",
          "2017-02-08T02:20:00",
          "2017-02-08T02:30:00",
          "2017-02-08T02:40:00",
          "2017-02-08T02:50:00",
          "2017-02-08T03:00:00",
          "2017-02-08T03:10:00",
          "2017-02-08T03:20:00",
          "2017-02-08T03:30:00",
          "2017-02-08T03:40:00",
          "2017-02-08T03:50:00",
          "2017-02-08T04:00:00",
          "2017-02-08T04:10:00",
          "2017-02-08T04:20:00",
          "2017-02-08T04:30:00",
          "2017-02-08T04:40:00",
          "2017-02-08T04:50:00",
          "2017-02-08T05:00:00",
          "2017-02-08T05:10:00",
          "2017-02-08T05:20:00",
          "2017-02-08T05:30:00",
          "2017-02-08T05:40:00",
          "2017-02-08T05:50:00",
          "2017-02-08T06:00:00",
          "2017-02-08T06:10:00",
          "2017-02-08T06:20:00",
          "2017-02-08T06:30:00",
          "2017-02-08T06:40:00",
          "2017-02-08T06:50:00",
          "2017-02-08T07:00:00",
          "2017-02-08T07:10:00",
          "2017-02-08T07:20:00",
          "2017-02-08T07:30:00",
          "2017-02-08T07:40:00",
          "2017-02-08T07:50:00",
          "2017-02-08T08:00:00",
          "2017-02-08T08:10:00",
          "2017-02-08T08:20:00",
          "2017-02-08T08:30:00",
          "2017-02-08T08:40:00",
          "2017-02-08T08:50:00",
          "2017-02-08T09:00:00",
          "2017-02-08T09:10:00"
         ],
         "xaxis": "x",
         "y": [
          506.7962962962963,
          504.15,
          505.8939393939394,
          505.22222222222223,
          502.65909090909093,
          503.3148148148149,
          501.72727272727275,
          501.51851851851853,
          502.6,
          504.85,
          501.7833333333334,
          504.8181818181818,
          505.00925925925924,
          504.33333333333337,
          503.2037037037037,
          505.9621212121212,
          503.3703703703703,
          504.5333333333334,
          503.7166666666667,
          503.725,
          503.83333333333337,
          502.537037037037,
          499.66666666666663,
          502.59259259259255,
          501.2878787878788,
          501.4814814814815,
          499.6,
          503.4666666666667,
          501.2166666666667,
          501.30303030303025,
          502.82407407407413,
          504.05303030303037,
          503.90740740740745,
          503.439393939394,
          503.3888888888889,
          502.5,
          503.775,
          502.9083333333334,
          504.72727272727275,
          506.2037037037037,
          503.95454545454544,
          507.72222222222223,
          508.18939393939394,
          504.8518518518519,
          503.9833333333333,
          506.4,
          505.85,
          505.8181818181818,
          510.462962962963,
          505.3939393939394,
          504.3703703703703,
          504.18939393939394,
          506.5833333333333,
          506.4583333333333,
          504.5999999999999,
          505.5,
          503.32575757575756,
          505.70370370370375,
          504.79545454545456,
          505.6018518518518,
          505.98484848484856,
          507.9537037037037,
          510.1,
          507.975,
          513.4000000000001,
          515.2727272727273,
          511.50925925925924,
          507.2121212121212,
          502.72222222222223,
          503.67424242424255,
          505.80555555555554,
          509.6583333333333,
          507.3166666666667,
          509.275,
          510.75757575757575,
          508.3611111111111,
          502.79545454545456,
          498.1481481481481,
          496.75757575757575,
          498.77777777777777,
          498.575,
          504.9333333333333,
          501.6583333333333,
          505.04545454545456,
          505.425925925926,
          507.01515151515156,
          508.074074074074,
          510.1530303030302,
          508.40740740740733,
          509.1333333333333,
          510.3416666666667,
          508.6083333333333,
          512.4242424242425,
          512.3055555555555,
          511.99696969696976,
          510.8518518518519,
          512.2651515151515,
          515.2777777777778,
          514.8666666666666,
          515.7583333333333,
          515.1333333333334,
          514.4545454545455,
          515.1481481481482,
          515.9393939393939,
          519.4074074074074,
          516.0454545454545,
          518.2407407407408,
          516.6166666666667,
          514.3833333333333,
          517.95,
          519.6136363636364,
          522.2962962962963,
          519.2727272727273,
          521.6388888888889,
          522.969696969697,
          520.3518518518518,
          526.5666666666666,
          522.6166666666666,
          521.9166666666666,
          514.7727272727273,
          513.4166666666666,
          522.2348484848485,
          528.4814814814814,
          529.1363636363636,
          531.962962962963,
          528.8,
          533.475,
          534.1,
          534.0757575757575,
          531.1388888888889,
          529.219696969697,
          534,
          533.0151515151515,
          529.5370370370371,
          531.45,
          532.5166666666667,
          533.5833333333333,
          535.4090909090909,
          531.7962962962963,
          536.3484848484849,
          536.2962962962962,
          536.4393939393939,
          539.3888888888889,
          537.5083333333333,
          538.3833333333333,
          535.5916666666666,
          538.2727272727273,
          539.2037037037037,
          539.5606060606061,
          541.7592592592592,
          538.4848484848485,
          542.0555555555555,
          540.35,
          538.8500000000001,
          541.4333333333333,
          541.560606060606,
          540.4259259259259,
          543.2424242424241,
          542.7037037037038,
          543.1363636363636,
          543.925925925926,
          545.6833333333333,
          546.5833333333334,
          546.45,
          549.7196969696969,
          550.3333333333334,
          553.2121212121211,
          553.9074074074074,
          554.9090909090909,
          556.0185185185186,
          559.225,
          559.4666666666667,
          564.8666666666667,
          567.9090909090909,
          566.5462962962963,
          566.219696969697,
          568.1111111111111,
          567.9242424242425,
          567.9259259259259,
          569.6333333333333,
          571.0333333333333,
          573.95,
          575.8181818181819,
          578.4375,
          579.060606060606,
          580.6759259259259,
          582.8636363636364,
          588.287037037037,
          586.95,
          591.6,
          595.2166666666667,
          602.439393939394,
          606.175925925926,
          605.4,
          605.9444444444445,
          611.1742424242424,
          609.1666666666666,
          613.5,
          617.8666666666666,
          617.4416666666667,
          623.6136363636364,
          627.7592592592592,
          636.8939393939395,
          641.7592592592592,
          643.5530303030304,
          644.3518518518518,
          640.0583333333333,
          638.2833333333334,
          637.2833333333334,
          634.6742424242425,
          629.8611111111111,
          632.7651515151515,
          629.2222222222222,
          630.8863636363636,
          627.9259259259259,
          628.6899999999998,
          629.95,
          633.9333333333334,
          632.6515151515151,
          633.4074074074074,
          630.1666666666667,
          632.0648148148149,
          639.5833333333334,
          641.537037037037,
          649.5416666666667,
          655.9416666666667,
          658.775,
          658.3257575757576,
          661.4351851851852,
          664.4469696969697,
          674.0092592592594,
          681.4545454545455,
          682.0925925925926,
          663.6583333333333,
          655.2716666666668,
          655.6666666666667,
          657.5681818181819,
          657.2222222222222,
          662.8560606060605,
          660.5625,
          662.6666666666666,
          663.1851851851852,
          668.5083333333333,
          667.1916666666667,
          670.8833333333333,
          683.1287878787879,
          689.1296296296296,
          682.7727272727271,
          678.8425925925926,
          676.4848484848485,
          672.3194444444445,
          676.1833333333333,
          672.7,
          674.7333333333333,
          675.1818181818181,
          668.425925925926,
          649.439393939394,
          654.4259259259259,
          652.0757575757575,
          657.0925925925926,
          658.5833333333333,
          665.1333333333333,
          668.1583333333333,
          675.1969696969697,
          675.8333333333334,
          678.7121212121211,
          679.9259259259259,
          685.1363636363636,
          690.7962962962962,
          692.9,
          694.6666666666667,
          701.4833333333333,
          700.6363636363636,
          707.2222222222222,
          707.9393939393939,
          712.8148148148149,
          717.8636363636364,
          720.1296296296297,
          718.25,
          722.2166666666667,
          714.85,
          721.6060606060605,
          729.074074074074,
          731.2727272727273,
          729.8333333333334,
          729.1212121212121,
          730.2592592592592,
          731.3,
          732.3833333333333,
          729.8,
          732.969696969697,
          714.2592592592592,
          775.6363636363636,
          798.5555555555555,
          808.5666666666667,
          817.4259259259259,
          826.3166666666666,
          903.9166666666666,
          862.9333333333332,
          854.4848484848484,
          854.3055555555555,
          854.1212121212124,
          861.5,
          858.8181818181819,
          861.3333333333334,
          861.75,
          864.6,
          867.2,
          865.3560606060607,
          859.7222222222222,
          857.9393939393939,
          858.2962962962963,
          849.1818181818181,
          845.3333333333334,
          822.65,
          801.1333333333333,
          800.25,
          790.0151515151515,
          785,
          788.0909090909091,
          794.7407407407408,
          793.6818181818181,
          798.962962962963,
          795.3666666666667,
          799.75,
          801.1833333333333,
          802.1666666666665,
          802.2222222222222,
          806.8484848484848,
          810.3888888888889,
          811.7954545454545,
          811.574074074074,
          805.8333333333333,
          808.55,
          813.4333333333333,
          818.5530303030304,
          819.2037037037038,
          821.8181818181819,
          825.3981481481482,
          826.4696969696971,
          848.8333333333334,
          879.1133333333333,
          902.325,
          966.9583333333333,
          1005.4393939393937,
          1013.4537037037034,
          1002.5757575757575,
          1012.194444444444,
          977.7196969696969,
          971.3851851851853,
          968.8083333333334,
          971.275,
          969.9333333333332,
          1006.1590909090905,
          1044.5370370370376,
          1038.078787878788,
          1012.3611111111111,
          1002.7878787878791,
          983.7407407407409,
          964.9916666666668,
          939.725,
          911.945,
          924.8484848484848,
          910.675925925926,
          906.4545454545455,
          898.6203703703703,
          895.6499999999997,
          890.6296296296297,
          872.7583333333332,
          861.5,
          854.3833333333332,
          837.0075757575756,
          846.2037037037037,
          884.3257575757576,
          908.9722222222222,
          917.9378787878787,
          908.0740740740741,
          907.3416666666668,
          899.2333333333332,
          870.2333333333333,
          862.9772727272727,
          882.3148148148148,
          892.4015151515151,
          892.0833333333334,
          905.4393939393939,
          924.0462962962964,
          921.225,
          928.7333333333332,
          916.875,
          906.6818181818181,
          927.7314814814815,
          976.742424242424,
          974.2407407407409,
          978.1515151515152,
          986.962962962963,
          982.025,
          973.2166666666668,
          944.0166666666668,
          925.4393939393939,
          888.0185185185186,
          854.3636363636364,
          834.1666666666666,
          815.189393939394,
          795.4814814814814,
          773.3166666666666,
          765.4416666666666,
          762.8,
          754.4545454545455,
          747.9074074074074,
          742.8787878787879,
          739.8888888888889,
          730.9242424242425,
          724.962962962963,
          725.8500000000001,
          723.95,
          724.575,
          721.6515151515151,
          723.2407407407408,
          722.2878787878789,
          719.2222222222222,
          713.6212121212121,
          714.4814814814814,
          718.6500000000001,
          712.4833333333333,
          716.15,
          716.7575757575758,
          714.8703703703703,
          714.280303030303,
          713.462962962963,
          712.5227272727273,
          714.537037037037,
          714.4166666666666,
          712.5166666666667,
          715.1333333333333,
          717.6515151515151,
          713.2037037037038,
          713.2045454545455,
          715.7777777777778,
          711.0757575757575,
          713.5833333333334,
          713.4666666666667,
          712.7666666666667,
          721.2333333333333,
          714.9242424242424,
          719.2962962962963,
          717.4621212121211,
          717.074074074074,
          716.7272727272729,
          714.6666666666666,
          717.9333333333333,
          722,
          721.75,
          721.0454545454545,
          724.925925925926,
          725.9166666666667,
          731.0833333333334,
          731.2575757575758,
          730.5925925925926,
          733.2333333333333,
          734.5833333333333,
          736.0666666666666,
          737.8030303030303,
          738.462962962963,
          740.0151515151515,
          739.4166666666666,
          734.8257575757576,
          735.2037037037037,
          742.525,
          742.2583333333333,
          744.3666666666667,
          750.7272727272727,
          751.3148148148149,
          756.3181818181819,
          756.0925925925926,
          760.8181818181819,
          765.5740740740741,
          766.75,
          773.2833333333334,
          773.75,
          777.1818181818181,
          780.4444444444445,
          784.5,
          788.1111111111111,
          792.7651515151516,
          820.9814814814815,
          835,
          847.2666666666668,
          873.95,
          926.3030303030304,
          938.6111111111111,
          945.5606060606061,
          946.2074074074072,
          961.6742424242425,
          960.5370370370371,
          967.3833333333336,
          980.6416666666668,
          988.9537037037036,
          1005.9318181818181,
          1042.0370370370367,
          1074.2196969696972,
          1099.259259259259,
          1081.9242424242427,
          1110.0277777777778,
          1155.2666666666669,
          1222.825,
          1348.775,
          1258.69696969697,
          1196.3555555555556,
          1157.590909090909,
          1150.7259259259254,
          1153.7727272727273,
          1130.829629629629,
          1119.266666666666,
          1141.333333333333,
          1165.041666666667,
          1180.7575757575762,
          1211.9555555555555,
          1255.5681818181818,
          1298.259259259259,
          1322.2424242424238,
          1346.25,
          1352.908333333333,
          1391.15,
          1410.5166666666669,
          1411.775000000001,
          1466.3981481481478,
          1384.1742424242418,
          1404.3333333333323,
          1420.6893939393938,
          1489.111111111111,
          1517.4,
          1459.033333333333,
          1472.1416666666669,
          1494.6363636363637,
          1483.4814814814822,
          1513.515151515152,
          1547.731481481481,
          1749.9469696969702,
          1700.9537037037035,
          1668.6666666666672,
          1602.725,
          1557.525,
          1532.8181818181818,
          1498.0370370370367,
          1478.4318181818182,
          1482.8148148148146,
          1473.1212121212118,
          1468.2037037037035,
          1468.541666666667,
          1472.6,
          1489.3,
          1500.9545454545455,
          1520.1666666666667,
          1489.7727272727273,
          1505.8148148148146,
          1520.6515151515146,
          1518.6851851851845,
          1505.383333333333,
          1515.216666666667,
          1546.85,
          1704.7424242424238,
          1686.2222222222222,
          1535.909090909091,
          1513.7037037037035,
          1556.575757575757,
          1507.740740740741,
          1424.866666666667,
          1486.4333333333338,
          1582.2666666666669,
          1572.39393939394,
          1154.481481481481,
          1152.7424242424245,
          1192.4444444444443,
          1207.712121212121,
          1238.8333333333333,
          1225.55,
          1216.9333333333338,
          1283.05,
          1068.7424242424245,
          1218.9629629629624,
          1548.9545454545462,
          1338,
          1388.2878787878783,
          1313.4722222222222,
          1320.733333333334,
          1343.5166666666669,
          1559.708333333333,
          1620.7272727272727,
          1269.111111111111,
          1213.8636363636363,
          1225.2777777777778,
          1253.5151515151517,
          1268.981481481481,
          1261.991666666666,
          1248.6833333333338,
          1262.75,
          1359.60606060606,
          1361.759259259259,
          1368.8484848484845,
          1396.3981481481478,
          1418.462121212121,
          1410.9444444444443,
          1457.825,
          1488.716666666667,
          1501.85,
          1542.9318181818182,
          1494.9629629629633,
          1504.2272727272727,
          1519.9074074074078,
          1535.2272727272727,
          1553.4444444444443,
          1558.1,
          1531.866666666667,
          1550.35,
          1525,
          1478.111111111111,
          1483.4242424242427,
          1503.0925925925933,
          1510.7121212121208,
          1500.5277777777778,
          1463.366666666667,
          1436.025,
          1415.7333333333331,
          1420.69696969697,
          1417.0555555555557,
          1430.2727272727273,
          1443.9351851851854,
          1444,
          1413.611111111111,
          1485.0149999999999,
          1452.783333333334,
          1545.375
         ],
         "yaxis": "y"
        }
       ],
       "layout": {
        "barmode": "relative",
        "coloraxis": {
         "colorbar": {
          "title": {
           "text": "Anwesenheit"
          }
         },
         "colorscale": [
          [
           0,
           "#0d0887"
          ],
          [
           0.1111111111111111,
           "#46039f"
          ],
          [
           0.2222222222222222,
           "#7201a8"
          ],
          [
           0.3333333333333333,
           "#9c179e"
          ],
          [
           0.4444444444444444,
           "#bd3786"
          ],
          [
           0.5555555555555556,
           "#d8576b"
          ],
          [
           0.6666666666666666,
           "#ed7953"
          ],
          [
           0.7777777777777778,
           "#fb9f3a"
          ],
          [
           0.8888888888888888,
           "#fdca26"
          ],
          [
           1,
           "#f0f921"
          ]
         ]
        },
        "legend": {
         "tracegroupgap": 0
        },
        "margin": {
         "t": 60
        },
        "template": {
         "data": {
          "bar": [
           {
            "error_x": {
             "color": "#2a3f5f"
            },
            "error_y": {
             "color": "#2a3f5f"
            },
            "marker": {
             "line": {
              "color": "#E5ECF6",
              "width": 0.5
             },
             "pattern": {
              "fillmode": "overlay",
              "size": 10,
              "solidity": 0.2
             }
            },
            "type": "bar"
           }
          ],
          "barpolar": [
           {
            "marker": {
             "line": {
              "color": "#E5ECF6",
              "width": 0.5
             },
             "pattern": {
              "fillmode": "overlay",
              "size": 10,
              "solidity": 0.2
             }
            },
            "type": "barpolar"
           }
          ],
          "carpet": [
           {
            "aaxis": {
             "endlinecolor": "#2a3f5f",
             "gridcolor": "white",
             "linecolor": "white",
             "minorgridcolor": "white",
             "startlinecolor": "#2a3f5f"
            },
            "baxis": {
             "endlinecolor": "#2a3f5f",
             "gridcolor": "white",
             "linecolor": "white",
             "minorgridcolor": "white",
             "startlinecolor": "#2a3f5f"
            },
            "type": "carpet"
           }
          ],
          "choropleth": [
           {
            "colorbar": {
             "outlinewidth": 0,
             "ticks": ""
            },
            "type": "choropleth"
           }
          ],
          "contour": [
           {
            "colorbar": {
             "outlinewidth": 0,
             "ticks": ""
            },
            "colorscale": [
             [
              0,
              "#0d0887"
             ],
             [
              0.1111111111111111,
              "#46039f"
             ],
             [
              0.2222222222222222,
              "#7201a8"
             ],
             [
              0.3333333333333333,
              "#9c179e"
             ],
             [
              0.4444444444444444,
              "#bd3786"
             ],
             [
              0.5555555555555556,
              "#d8576b"
             ],
             [
              0.6666666666666666,
              "#ed7953"
             ],
             [
              0.7777777777777778,
              "#fb9f3a"
             ],
             [
              0.8888888888888888,
              "#fdca26"
             ],
             [
              1,
              "#f0f921"
             ]
            ],
            "type": "contour"
           }
          ],
          "contourcarpet": [
           {
            "colorbar": {
             "outlinewidth": 0,
             "ticks": ""
            },
            "type": "contourcarpet"
           }
          ],
          "heatmap": [
           {
            "colorbar": {
             "outlinewidth": 0,
             "ticks": ""
            },
            "colorscale": [
             [
              0,
              "#0d0887"
             ],
             [
              0.1111111111111111,
              "#46039f"
             ],
             [
              0.2222222222222222,
              "#7201a8"
             ],
             [
              0.3333333333333333,
              "#9c179e"
             ],
             [
              0.4444444444444444,
              "#bd3786"
             ],
             [
              0.5555555555555556,
              "#d8576b"
             ],
             [
              0.6666666666666666,
              "#ed7953"
             ],
             [
              0.7777777777777778,
              "#fb9f3a"
             ],
             [
              0.8888888888888888,
              "#fdca26"
             ],
             [
              1,
              "#f0f921"
             ]
            ],
            "type": "heatmap"
           }
          ],
          "heatmapgl": [
           {
            "colorbar": {
             "outlinewidth": 0,
             "ticks": ""
            },
            "colorscale": [
             [
              0,
              "#0d0887"
             ],
             [
              0.1111111111111111,
              "#46039f"
             ],
             [
              0.2222222222222222,
              "#7201a8"
             ],
             [
              0.3333333333333333,
              "#9c179e"
             ],
             [
              0.4444444444444444,
              "#bd3786"
             ],
             [
              0.5555555555555556,
              "#d8576b"
             ],
             [
              0.6666666666666666,
              "#ed7953"
             ],
             [
              0.7777777777777778,
              "#fb9f3a"
             ],
             [
              0.8888888888888888,
              "#fdca26"
             ],
             [
              1,
              "#f0f921"
             ]
            ],
            "type": "heatmapgl"
           }
          ],
          "histogram": [
           {
            "marker": {
             "pattern": {
              "fillmode": "overlay",
              "size": 10,
              "solidity": 0.2
             }
            },
            "type": "histogram"
           }
          ],
          "histogram2d": [
           {
            "colorbar": {
             "outlinewidth": 0,
             "ticks": ""
            },
            "colorscale": [
             [
              0,
              "#0d0887"
             ],
             [
              0.1111111111111111,
              "#46039f"
             ],
             [
              0.2222222222222222,
              "#7201a8"
             ],
             [
              0.3333333333333333,
              "#9c179e"
             ],
             [
              0.4444444444444444,
              "#bd3786"
             ],
             [
              0.5555555555555556,
              "#d8576b"
             ],
             [
              0.6666666666666666,
              "#ed7953"
             ],
             [
              0.7777777777777778,
              "#fb9f3a"
             ],
             [
              0.8888888888888888,
              "#fdca26"
             ],
             [
              1,
              "#f0f921"
             ]
            ],
            "type": "histogram2d"
           }
          ],
          "histogram2dcontour": [
           {
            "colorbar": {
             "outlinewidth": 0,
             "ticks": ""
            },
            "colorscale": [
             [
              0,
              "#0d0887"
             ],
             [
              0.1111111111111111,
              "#46039f"
             ],
             [
              0.2222222222222222,
              "#7201a8"
             ],
             [
              0.3333333333333333,
              "#9c179e"
             ],
             [
              0.4444444444444444,
              "#bd3786"
             ],
             [
              0.5555555555555556,
              "#d8576b"
             ],
             [
              0.6666666666666666,
              "#ed7953"
             ],
             [
              0.7777777777777778,
              "#fb9f3a"
             ],
             [
              0.8888888888888888,
              "#fdca26"
             ],
             [
              1,
              "#f0f921"
             ]
            ],
            "type": "histogram2dcontour"
           }
          ],
          "mesh3d": [
           {
            "colorbar": {
             "outlinewidth": 0,
             "ticks": ""
            },
            "type": "mesh3d"
           }
          ],
          "parcoords": [
           {
            "line": {
             "colorbar": {
              "outlinewidth": 0,
              "ticks": ""
             }
            },
            "type": "parcoords"
           }
          ],
          "pie": [
           {
            "automargin": true,
            "type": "pie"
           }
          ],
          "scatter": [
           {
            "marker": {
             "colorbar": {
              "outlinewidth": 0,
              "ticks": ""
             }
            },
            "type": "scatter"
           }
          ],
          "scatter3d": [
           {
            "line": {
             "colorbar": {
              "outlinewidth": 0,
              "ticks": ""
             }
            },
            "marker": {
             "colorbar": {
              "outlinewidth": 0,
              "ticks": ""
             }
            },
            "type": "scatter3d"
           }
          ],
          "scattercarpet": [
           {
            "marker": {
             "colorbar": {
              "outlinewidth": 0,
              "ticks": ""
             }
            },
            "type": "scattercarpet"
           }
          ],
          "scattergeo": [
           {
            "marker": {
             "colorbar": {
              "outlinewidth": 0,
              "ticks": ""
             }
            },
            "type": "scattergeo"
           }
          ],
          "scattergl": [
           {
            "marker": {
             "colorbar": {
              "outlinewidth": 0,
              "ticks": ""
             }
            },
            "type": "scattergl"
           }
          ],
          "scattermapbox": [
           {
            "marker": {
             "colorbar": {
              "outlinewidth": 0,
              "ticks": ""
             }
            },
            "type": "scattermapbox"
           }
          ],
          "scatterpolar": [
           {
            "marker": {
             "colorbar": {
              "outlinewidth": 0,
              "ticks": ""
             }
            },
            "type": "scatterpolar"
           }
          ],
          "scatterpolargl": [
           {
            "marker": {
             "colorbar": {
              "outlinewidth": 0,
              "ticks": ""
             }
            },
            "type": "scatterpolargl"
           }
          ],
          "scatterternary": [
           {
            "marker": {
             "colorbar": {
              "outlinewidth": 0,
              "ticks": ""
             }
            },
            "type": "scatterternary"
           }
          ],
          "surface": [
           {
            "colorbar": {
             "outlinewidth": 0,
             "ticks": ""
            },
            "colorscale": [
             [
              0,
              "#0d0887"
             ],
             [
              0.1111111111111111,
              "#46039f"
             ],
             [
              0.2222222222222222,
              "#7201a8"
             ],
             [
              0.3333333333333333,
              "#9c179e"
             ],
             [
              0.4444444444444444,
              "#bd3786"
             ],
             [
              0.5555555555555556,
              "#d8576b"
             ],
             [
              0.6666666666666666,
              "#ed7953"
             ],
             [
              0.7777777777777778,
              "#fb9f3a"
             ],
             [
              0.8888888888888888,
              "#fdca26"
             ],
             [
              1,
              "#f0f921"
             ]
            ],
            "type": "surface"
           }
          ],
          "table": [
           {
            "cells": {
             "fill": {
              "color": "#EBF0F8"
             },
             "line": {
              "color": "white"
             }
            },
            "header": {
             "fill": {
              "color": "#C8D4E3"
             },
             "line": {
              "color": "white"
             }
            },
            "type": "table"
           }
          ]
         },
         "layout": {
          "annotationdefaults": {
           "arrowcolor": "#2a3f5f",
           "arrowhead": 0,
           "arrowwidth": 1
          },
          "autotypenumbers": "strict",
          "coloraxis": {
           "colorbar": {
            "outlinewidth": 0,
            "ticks": ""
           }
          },
          "colorscale": {
           "diverging": [
            [
             0,
             "#8e0152"
            ],
            [
             0.1,
             "#c51b7d"
            ],
            [
             0.2,
             "#de77ae"
            ],
            [
             0.3,
             "#f1b6da"
            ],
            [
             0.4,
             "#fde0ef"
            ],
            [
             0.5,
             "#f7f7f7"
            ],
            [
             0.6,
             "#e6f5d0"
            ],
            [
             0.7,
             "#b8e186"
            ],
            [
             0.8,
             "#7fbc41"
            ],
            [
             0.9,
             "#4d9221"
            ],
            [
             1,
             "#276419"
            ]
           ],
           "sequential": [
            [
             0,
             "#0d0887"
            ],
            [
             0.1111111111111111,
             "#46039f"
            ],
            [
             0.2222222222222222,
             "#7201a8"
            ],
            [
             0.3333333333333333,
             "#9c179e"
            ],
            [
             0.4444444444444444,
             "#bd3786"
            ],
            [
             0.5555555555555556,
             "#d8576b"
            ],
            [
             0.6666666666666666,
             "#ed7953"
            ],
            [
             0.7777777777777778,
             "#fb9f3a"
            ],
            [
             0.8888888888888888,
             "#fdca26"
            ],
            [
             1,
             "#f0f921"
            ]
           ],
           "sequentialminus": [
            [
             0,
             "#0d0887"
            ],
            [
             0.1111111111111111,
             "#46039f"
            ],
            [
             0.2222222222222222,
             "#7201a8"
            ],
            [
             0.3333333333333333,
             "#9c179e"
            ],
            [
             0.4444444444444444,
             "#bd3786"
            ],
            [
             0.5555555555555556,
             "#d8576b"
            ],
            [
             0.6666666666666666,
             "#ed7953"
            ],
            [
             0.7777777777777778,
             "#fb9f3a"
            ],
            [
             0.8888888888888888,
             "#fdca26"
            ],
            [
             1,
             "#f0f921"
            ]
           ]
          },
          "colorway": [
           "#636efa",
           "#EF553B",
           "#00cc96",
           "#ab63fa",
           "#FFA15A",
           "#19d3f3",
           "#FF6692",
           "#B6E880",
           "#FF97FF",
           "#FECB52"
          ],
          "font": {
           "color": "#2a3f5f"
          },
          "geo": {
           "bgcolor": "white",
           "lakecolor": "white",
           "landcolor": "#E5ECF6",
           "showlakes": true,
           "showland": true,
           "subunitcolor": "white"
          },
          "hoverlabel": {
           "align": "left"
          },
          "hovermode": "closest",
          "mapbox": {
           "style": "light"
          },
          "paper_bgcolor": "white",
          "plot_bgcolor": "#E5ECF6",
          "polar": {
           "angularaxis": {
            "gridcolor": "white",
            "linecolor": "white",
            "ticks": ""
           },
           "bgcolor": "#E5ECF6",
           "radialaxis": {
            "gridcolor": "white",
            "linecolor": "white",
            "ticks": ""
           }
          },
          "scene": {
           "xaxis": {
            "backgroundcolor": "#E5ECF6",
            "gridcolor": "white",
            "gridwidth": 2,
            "linecolor": "white",
            "showbackground": true,
            "ticks": "",
            "zerolinecolor": "white"
           },
           "yaxis": {
            "backgroundcolor": "#E5ECF6",
            "gridcolor": "white",
            "gridwidth": 2,
            "linecolor": "white",
            "showbackground": true,
            "ticks": "",
            "zerolinecolor": "white"
           },
           "zaxis": {
            "backgroundcolor": "#E5ECF6",
            "gridcolor": "white",
            "gridwidth": 2,
            "linecolor": "white",
            "showbackground": true,
            "ticks": "",
            "zerolinecolor": "white"
           }
          },
          "shapedefaults": {
           "line": {
            "color": "#2a3f5f"
           }
          },
          "ternary": {
           "aaxis": {
            "gridcolor": "white",
            "linecolor": "white",
            "ticks": ""
           },
           "baxis": {
            "gridcolor": "white",
            "linecolor": "white",
            "ticks": ""
           },
           "bgcolor": "#E5ECF6",
           "caxis": {
            "gridcolor": "white",
            "linecolor": "white",
            "ticks": ""
           }
          },
          "title": {
           "x": 0.05
          },
          "xaxis": {
           "automargin": true,
           "gridcolor": "white",
           "linecolor": "white",
           "ticks": "",
           "title": {
            "standoff": 15
           },
           "zerolinecolor": "white",
           "zerolinewidth": 2
          },
          "yaxis": {
           "automargin": true,
           "gridcolor": "white",
           "linecolor": "white",
           "ticks": "",
           "title": {
            "standoff": 15
           },
           "zerolinecolor": "white",
           "zerolinewidth": 2
          }
         }
        },
        "xaxis": {
         "anchor": "y",
         "domain": [
          0,
          1
         ],
         "title": {
          "text": "Datum"
         }
        },
        "yaxis": {
         "anchor": "x",
         "domain": [
          0,
          1
         ],
         "title": {
          "text": "CO2"
         }
        }
       }
      },
      "text/html": [
       "<div>                            <div id=\"a9e8730c-43dc-46c9-ade1-d15d9df12584\" class=\"plotly-graph-div\" style=\"height:525px; width:100%;\"></div>            <script type=\"text/javascript\">                require([\"plotly\"], function(Plotly) {                    window.PLOTLYENV=window.PLOTLYENV || {};                                    if (document.getElementById(\"a9e8730c-43dc-46c9-ade1-d15d9df12584\")) {                    Plotly.newPlot(                        \"a9e8730c-43dc-46c9-ade1-d15d9df12584\",                        [{\"alignmentgroup\":\"True\",\"hovertemplate\":\"Datum=%{x}<br>CO2=%{y}<br>Anwesenheit=%{marker.color}<extra></extra>\",\"legendgroup\":\"\",\"marker\":{\"color\":[0.0,0.0,0.0,0.0,0.0,0.0,0.0,0.0,0.0,0.0,0.0,0.0,0.0,0.0,0.0,0.0,0.0,0.0,0.0,0.0,0.0,0.0,0.0,0.0,0.0,0.0,0.0,0.0,0.0,0.0,0.0,0.0,0.0,0.0,0.0,0.0,0.0,0.0,0.0,0.0,0.0,0.0,0.0,0.0,0.0,0.0,0.0,0.0,0.0,0.0,0.0,0.0,0.0,0.0,0.0,0.0,0.0,0.0,0.0,0.0,0.0,0.0,0.0,0.0,0.0,0.0,0.0,0.0,0.0,0.0,0.0,0.0,0.0,0.0,0.0,0.0,0.0,0.0,0.0,0.0,0.0,0.0,0.0,0.0,0.0,0.0,0.0,0.0,0.0,0.0,0.0,0.0,0.0,0.0,0.0,0.0,0.0,0.0,0.0,0.0,0.0,0.0,0.0,0.0,0.0,0.0,0.0,0.0,0.0,0.0,0.0,0.0,0.0,0.0,0.0,0.0,0.0,0.0,0.0,0.0,0.0,0.0,0.0,0.0,0.0,0.0,0.0,0.0,0.0,0.0,0.0,0.0,0.0,0.0,0.0,0.0,0.0,0.0,0.0,0.0,0.0,0.0,0.0,0.0,0.0,0.0,0.0,0.0,0.0,0.0,0.0,0.0,0.0,0.0,0.0,0.0,0.0,0.0,0.0,0.0,0.0,0.0,0.0,0.0,0.0,0.0,0.0,0.0,0.0,0.0,0.0,0.0,0.0,0.0,0.0,0.0,0.0,0.0,0.0,0.0,0.0,0.0,0.0,0.0,0.0,0.0,0.0,0.0,0.0,0.0,0.0,0.0,0.0,0.0,0.0,0.0,0.0,0.0,0.0,0.0,0.0,0.0,0.0,0.5555555555555556,1.0,1.0,1.0,0.9,1.0,0.8181818181818182,0.7777777777777778,1.0,0.1111111111111111,0.0,0.0,0.0,0.0,0.0,0.0,0.8888888888888888,0.9090909090909091,0.8888888888888888,0.09090909090909091,0.0,0.7,0.2,0.0,0.0,0.1111111111111111,0.6363636363636364,0.3333333333333333,0.18181818181818182,1.0,0.9,0.3,0.0,0.0,0.0,0.0,0.0,0.0,0.0,0.0,0.0,0.0,0.0,0.0,0.0,0.0,0.0,0.0,0.0,0.0,0.0,0.0,0.0,0.0,0.0,0.0,0.0,0.0,0.0,0.0,0.0,0.0,0.0,0.0,0.0,0.0,0.0,0.0,0.0,0.0,0.0,0.0,0.0,0.0,0.0,0.0,0.0,0.0,0.0,0.0,0.0,0.0,0.0,0.0,0.0,0.0,0.0,0.0,0.0,0.0,0.0,0.0,0.0,0.0,0.0,0.0,0.0,0.0,0.0,0.0,0.0,0.0,0.0,0.0,0.0,0.0,0.0,0.0,0.0,0.0,0.0,0.0,0.0,0.0,0.0,0.0,0.0,0.0,0.0,0.0,0.0,0.0,0.0,0.0,0.0,0.0,0.0,0.0,0.0,0.0,0.0,0.0,0.0,1.0,1.0,1.0,1.0,1.0,1.0,1.0,1.0,1.0,1.0,1.0,1.0,1.0,1.0,1.0,1.0,1.0,1.0,1.0,1.0,1.0,1.0,1.0,1.0,1.0,1.0,1.0,1.0,1.0,1.0,0.0,0.0,0.9,1.0,1.0,1.0,1.0,1.0,1.0,1.0,1.0,1.0,1.0,1.0,1.0,1.0,1.0,1.0,1.0,1.0,1.0,1.0,1.0,1.0,1.0,1.0,1.0,1.0,1.0,1.0,0.0,0.0,0.0,0.0,0.0,0.0,0.0,0.0,0.0,0.0,0.0,0.0,0.0,0.0,0.0,0.0,0.0,0.0,0.0,0.0,0.0,0.0,0.0,0.0,0.0,0.0,0.0,0.0,0.0,0.0,0.0,0.0,0.0,0.0,0.0,0.0,0.0,0.0,0.0,0.0,0.0,0.0,0.0,0.0,0.0,0.0,0.0,0.0,0.0,0.0,0.0,0.0,0.0,0.0,0.0,0.0,0.0,0.0,0.0,0.0,0.0,0.0,0.0,0.0,0.0,0.0,0.0,0.0,0.0,0.0,0.0,0.0,0.0,0.0,0.0,0.0,0.0,0.0,0.0,0.0,0.0,0.0,0.0,0.0,1.0,1.0,1.0,1.0,1.0,1.0,1.0,1.0,1.0,1.0,1.0,1.0,1.0,1.0,1.0,1.0,1.0,1.0,1.0,1.0,1.0,1.0,1.0,1.0,1.0,1.0,1.0,1.0,1.0,1.0,0.0,0.0,0.9,1.0,1.0,1.0,1.0,1.0,1.0,1.0,1.0,1.0,1.0,1.0,1.0,1.0,1.0,1.0,1.0,1.0,1.0,1.0,1.0,1.0,1.0,1.0,1.0,1.0,1.0,1.0,0.0,0.0,0.0,0.0,0.0,0.1111111111111111,0.7272727272727273,0.0,0.0,0.0,0.0,0.0,0.0,0.0,0.0,0.0,0.0,0.0,0.0,0.0,0.0,0.0,0.0,0.0,0.0,0.0,0.0,0.0,0.0,0.0,0.0,0.0,0.0,0.0,0.0,0.0,0.0,0.0,0.0,0.0,0.0,0.0,0.0,0.0,0.0,0.0,0.0,0.0,0.0,0.0,0.0,0.0,0.0,0.0,0.0,0.0,0.0,0.0,0.0,0.0,0.0,0.0,0.0,0.0,0.0,0.0,0.0,0.0,0.0,0.0,0.0,0.0,0.0,0.0,0.0,0.0,0.0,0.0,0.0,0.0,0.0,0.0,0.0,0.0,1.0,1.0,1.0,1.0,1.0,1.0,1.0,1.0],\"coloraxis\":\"coloraxis\",\"pattern\":{\"shape\":\"\"}},\"name\":\"\",\"offsetgroup\":\"\",\"orientation\":\"v\",\"showlegend\":false,\"textposition\":\"auto\",\"type\":\"bar\",\"x\":[\"2017-02-04T00:00:00\",\"2017-02-04T00:10:00\",\"2017-02-04T00:20:00\",\"2017-02-04T00:30:00\",\"2017-02-04T00:40:00\",\"2017-02-04T00:50:00\",\"2017-02-04T01:00:00\",\"2017-02-04T01:10:00\",\"2017-02-04T01:20:00\",\"2017-02-04T01:30:00\",\"2017-02-04T01:40:00\",\"2017-02-04T01:50:00\",\"2017-02-04T02:00:00\",\"2017-02-04T02:10:00\",\"2017-02-04T02:20:00\",\"2017-02-04T02:30:00\",\"2017-02-04T02:40:00\",\"2017-02-04T02:50:00\",\"2017-02-04T03:00:00\",\"2017-02-04T03:10:00\",\"2017-02-04T03:20:00\",\"2017-02-04T03:30:00\",\"2017-02-04T03:40:00\",\"2017-02-04T03:50:00\",\"2017-02-04T04:00:00\",\"2017-02-04T04:10:00\",\"2017-02-04T04:20:00\",\"2017-02-04T04:30:00\",\"2017-02-04T04:40:00\",\"2017-02-04T04:50:00\",\"2017-02-04T05:00:00\",\"2017-02-04T05:10:00\",\"2017-02-04T05:20:00\",\"2017-02-04T05:30:00\",\"2017-02-04T05:40:00\",\"2017-02-04T05:50:00\",\"2017-02-04T06:00:00\",\"2017-02-04T06:10:00\",\"2017-02-04T06:20:00\",\"2017-02-04T06:30:00\",\"2017-02-04T06:40:00\",\"2017-02-04T06:50:00\",\"2017-02-04T07:00:00\",\"2017-02-04T07:10:00\",\"2017-02-04T07:20:00\",\"2017-02-04T07:30:00\",\"2017-02-04T07:40:00\",\"2017-02-04T07:50:00\",\"2017-02-04T08:00:00\",\"2017-02-04T08:10:00\",\"2017-02-04T08:20:00\",\"2017-02-04T08:30:00\",\"2017-02-04T08:40:00\",\"2017-02-04T08:50:00\",\"2017-02-04T09:00:00\",\"2017-02-04T09:10:00\",\"2017-02-04T09:20:00\",\"2017-02-04T09:30:00\",\"2017-02-04T09:40:00\",\"2017-02-04T09:50:00\",\"2017-02-04T10:00:00\",\"2017-02-04T10:10:00\",\"2017-02-04T10:20:00\",\"2017-02-04T10:30:00\",\"2017-02-04T10:40:00\",\"2017-02-04T10:50:00\",\"2017-02-04T11:00:00\",\"2017-02-04T11:10:00\",\"2017-02-04T11:20:00\",\"2017-02-04T11:30:00\",\"2017-02-04T11:40:00\",\"2017-02-04T11:50:00\",\"2017-02-04T12:00:00\",\"2017-02-04T12:10:00\",\"2017-02-04T12:20:00\",\"2017-02-04T12:30:00\",\"2017-02-04T12:40:00\",\"2017-02-04T12:50:00\",\"2017-02-04T13:00:00\",\"2017-02-04T13:10:00\",\"2017-02-04T13:20:00\",\"2017-02-04T13:30:00\",\"2017-02-04T13:40:00\",\"2017-02-04T13:50:00\",\"2017-02-04T14:00:00\",\"2017-02-04T14:10:00\",\"2017-02-04T14:20:00\",\"2017-02-04T14:30:00\",\"2017-02-04T14:40:00\",\"2017-02-04T14:50:00\",\"2017-02-04T15:00:00\",\"2017-02-04T15:10:00\",\"2017-02-04T15:20:00\",\"2017-02-04T15:30:00\",\"2017-02-04T15:40:00\",\"2017-02-04T15:50:00\",\"2017-02-04T16:00:00\",\"2017-02-04T16:10:00\",\"2017-02-04T16:20:00\",\"2017-02-04T16:30:00\",\"2017-02-04T16:40:00\",\"2017-02-04T16:50:00\",\"2017-02-04T17:00:00\",\"2017-02-04T17:10:00\",\"2017-02-04T17:20:00\",\"2017-02-04T17:30:00\",\"2017-02-04T17:40:00\",\"2017-02-04T17:50:00\",\"2017-02-04T18:00:00\",\"2017-02-04T18:10:00\",\"2017-02-04T18:20:00\",\"2017-02-04T18:30:00\",\"2017-02-04T18:40:00\",\"2017-02-04T18:50:00\",\"2017-02-04T19:00:00\",\"2017-02-04T19:10:00\",\"2017-02-04T19:20:00\",\"2017-02-04T19:30:00\",\"2017-02-04T19:40:00\",\"2017-02-04T19:50:00\",\"2017-02-04T20:00:00\",\"2017-02-04T20:10:00\",\"2017-02-04T20:20:00\",\"2017-02-04T20:30:00\",\"2017-02-04T20:40:00\",\"2017-02-04T20:50:00\",\"2017-02-04T21:00:00\",\"2017-02-04T21:10:00\",\"2017-02-04T21:20:00\",\"2017-02-04T21:30:00\",\"2017-02-04T21:40:00\",\"2017-02-04T21:50:00\",\"2017-02-04T22:00:00\",\"2017-02-04T22:10:00\",\"2017-02-04T22:20:00\",\"2017-02-04T22:30:00\",\"2017-02-04T22:40:00\",\"2017-02-04T22:50:00\",\"2017-02-04T23:00:00\",\"2017-02-04T23:10:00\",\"2017-02-04T23:20:00\",\"2017-02-04T23:30:00\",\"2017-02-04T23:40:00\",\"2017-02-04T23:50:00\",\"2017-02-05T00:00:00\",\"2017-02-05T00:10:00\",\"2017-02-05T00:20:00\",\"2017-02-05T00:30:00\",\"2017-02-05T00:40:00\",\"2017-02-05T00:50:00\",\"2017-02-05T01:00:00\",\"2017-02-05T01:10:00\",\"2017-02-05T01:20:00\",\"2017-02-05T01:30:00\",\"2017-02-05T01:40:00\",\"2017-02-05T01:50:00\",\"2017-02-05T02:00:00\",\"2017-02-05T02:10:00\",\"2017-02-05T02:20:00\",\"2017-02-05T02:30:00\",\"2017-02-05T02:40:00\",\"2017-02-05T02:50:00\",\"2017-02-05T03:00:00\",\"2017-02-05T03:10:00\",\"2017-02-05T03:20:00\",\"2017-02-05T03:30:00\",\"2017-02-05T03:40:00\",\"2017-02-05T03:50:00\",\"2017-02-05T04:00:00\",\"2017-02-05T04:10:00\",\"2017-02-05T04:20:00\",\"2017-02-05T04:30:00\",\"2017-02-05T04:40:00\",\"2017-02-05T04:50:00\",\"2017-02-05T05:00:00\",\"2017-02-05T05:10:00\",\"2017-02-05T05:20:00\",\"2017-02-05T05:30:00\",\"2017-02-05T05:40:00\",\"2017-02-05T05:50:00\",\"2017-02-05T06:00:00\",\"2017-02-05T06:10:00\",\"2017-02-05T06:20:00\",\"2017-02-05T06:30:00\",\"2017-02-05T06:40:00\",\"2017-02-05T06:50:00\",\"2017-02-05T07:00:00\",\"2017-02-05T07:10:00\",\"2017-02-05T07:20:00\",\"2017-02-05T07:30:00\",\"2017-02-05T07:40:00\",\"2017-02-05T07:50:00\",\"2017-02-05T08:00:00\",\"2017-02-05T08:10:00\",\"2017-02-05T08:20:00\",\"2017-02-05T08:30:00\",\"2017-02-05T08:40:00\",\"2017-02-05T08:50:00\",\"2017-02-05T09:00:00\",\"2017-02-05T09:10:00\",\"2017-02-05T09:20:00\",\"2017-02-05T09:30:00\",\"2017-02-05T09:40:00\",\"2017-02-05T09:50:00\",\"2017-02-05T10:00:00\",\"2017-02-05T10:10:00\",\"2017-02-05T10:20:00\",\"2017-02-05T10:30:00\",\"2017-02-05T10:40:00\",\"2017-02-05T10:50:00\",\"2017-02-05T11:00:00\",\"2017-02-05T11:10:00\",\"2017-02-05T11:20:00\",\"2017-02-05T11:30:00\",\"2017-02-05T11:40:00\",\"2017-02-05T11:50:00\",\"2017-02-05T12:00:00\",\"2017-02-05T12:10:00\",\"2017-02-05T12:20:00\",\"2017-02-05T12:30:00\",\"2017-02-05T12:40:00\",\"2017-02-05T12:50:00\",\"2017-02-05T13:00:00\",\"2017-02-05T13:10:00\",\"2017-02-05T13:20:00\",\"2017-02-05T13:30:00\",\"2017-02-05T13:40:00\",\"2017-02-05T13:50:00\",\"2017-02-05T14:00:00\",\"2017-02-05T14:10:00\",\"2017-02-05T14:20:00\",\"2017-02-05T14:30:00\",\"2017-02-05T14:40:00\",\"2017-02-05T14:50:00\",\"2017-02-05T15:00:00\",\"2017-02-05T15:10:00\",\"2017-02-05T15:20:00\",\"2017-02-05T15:30:00\",\"2017-02-05T15:40:00\",\"2017-02-05T15:50:00\",\"2017-02-05T16:00:00\",\"2017-02-05T16:10:00\",\"2017-02-05T16:20:00\",\"2017-02-05T16:30:00\",\"2017-02-05T16:40:00\",\"2017-02-05T16:50:00\",\"2017-02-05T17:00:00\",\"2017-02-05T17:10:00\",\"2017-02-05T17:20:00\",\"2017-02-05T17:30:00\",\"2017-02-05T17:40:00\",\"2017-02-05T17:50:00\",\"2017-02-05T18:00:00\",\"2017-02-05T18:10:00\",\"2017-02-05T18:20:00\",\"2017-02-05T18:30:00\",\"2017-02-05T18:40:00\",\"2017-02-05T18:50:00\",\"2017-02-05T19:00:00\",\"2017-02-05T19:10:00\",\"2017-02-05T19:20:00\",\"2017-02-05T19:30:00\",\"2017-02-05T19:40:00\",\"2017-02-05T19:50:00\",\"2017-02-05T20:00:00\",\"2017-02-05T20:10:00\",\"2017-02-05T20:20:00\",\"2017-02-05T20:30:00\",\"2017-02-05T20:40:00\",\"2017-02-05T20:50:00\",\"2017-02-05T21:00:00\",\"2017-02-05T21:10:00\",\"2017-02-05T21:20:00\",\"2017-02-05T21:30:00\",\"2017-02-05T21:40:00\",\"2017-02-05T21:50:00\",\"2017-02-05T22:00:00\",\"2017-02-05T22:10:00\",\"2017-02-05T22:20:00\",\"2017-02-05T22:30:00\",\"2017-02-05T22:40:00\",\"2017-02-05T22:50:00\",\"2017-02-05T23:00:00\",\"2017-02-05T23:10:00\",\"2017-02-05T23:20:00\",\"2017-02-05T23:30:00\",\"2017-02-05T23:40:00\",\"2017-02-05T23:50:00\",\"2017-02-06T00:00:00\",\"2017-02-06T00:10:00\",\"2017-02-06T00:20:00\",\"2017-02-06T00:30:00\",\"2017-02-06T00:40:00\",\"2017-02-06T00:50:00\",\"2017-02-06T01:00:00\",\"2017-02-06T01:10:00\",\"2017-02-06T01:20:00\",\"2017-02-06T01:30:00\",\"2017-02-06T01:40:00\",\"2017-02-06T01:50:00\",\"2017-02-06T02:00:00\",\"2017-02-06T02:10:00\",\"2017-02-06T02:20:00\",\"2017-02-06T02:30:00\",\"2017-02-06T02:40:00\",\"2017-02-06T02:50:00\",\"2017-02-06T03:00:00\",\"2017-02-06T03:10:00\",\"2017-02-06T03:20:00\",\"2017-02-06T03:30:00\",\"2017-02-06T03:40:00\",\"2017-02-06T03:50:00\",\"2017-02-06T04:00:00\",\"2017-02-06T04:10:00\",\"2017-02-06T04:20:00\",\"2017-02-06T04:30:00\",\"2017-02-06T04:40:00\",\"2017-02-06T04:50:00\",\"2017-02-06T05:00:00\",\"2017-02-06T05:10:00\",\"2017-02-06T05:20:00\",\"2017-02-06T05:30:00\",\"2017-02-06T05:40:00\",\"2017-02-06T05:50:00\",\"2017-02-06T06:00:00\",\"2017-02-06T06:10:00\",\"2017-02-06T06:20:00\",\"2017-02-06T06:30:00\",\"2017-02-06T06:40:00\",\"2017-02-06T06:50:00\",\"2017-02-06T07:00:00\",\"2017-02-06T07:10:00\",\"2017-02-06T07:20:00\",\"2017-02-06T07:30:00\",\"2017-02-06T07:40:00\",\"2017-02-06T07:50:00\",\"2017-02-06T08:00:00\",\"2017-02-06T08:10:00\",\"2017-02-06T08:20:00\",\"2017-02-06T08:30:00\",\"2017-02-06T08:40:00\",\"2017-02-06T08:50:00\",\"2017-02-06T09:00:00\",\"2017-02-06T09:10:00\",\"2017-02-06T09:20:00\",\"2017-02-06T09:30:00\",\"2017-02-06T09:40:00\",\"2017-02-06T09:50:00\",\"2017-02-06T10:00:00\",\"2017-02-06T10:10:00\",\"2017-02-06T10:20:00\",\"2017-02-06T10:30:00\",\"2017-02-06T10:40:00\",\"2017-02-06T10:50:00\",\"2017-02-06T11:00:00\",\"2017-02-06T11:10:00\",\"2017-02-06T11:20:00\",\"2017-02-06T11:30:00\",\"2017-02-06T11:40:00\",\"2017-02-06T11:50:00\",\"2017-02-06T12:00:00\",\"2017-02-06T12:10:00\",\"2017-02-06T12:20:00\",\"2017-02-06T12:30:00\",\"2017-02-06T12:40:00\",\"2017-02-06T12:50:00\",\"2017-02-06T13:00:00\",\"2017-02-06T13:10:00\",\"2017-02-06T13:20:00\",\"2017-02-06T13:30:00\",\"2017-02-06T13:40:00\",\"2017-02-06T13:50:00\",\"2017-02-06T14:00:00\",\"2017-02-06T14:10:00\",\"2017-02-06T14:20:00\",\"2017-02-06T14:30:00\",\"2017-02-06T14:40:00\",\"2017-02-06T14:50:00\",\"2017-02-06T15:00:00\",\"2017-02-06T15:10:00\",\"2017-02-06T15:20:00\",\"2017-02-06T15:30:00\",\"2017-02-06T15:40:00\",\"2017-02-06T15:50:00\",\"2017-02-06T16:00:00\",\"2017-02-06T16:10:00\",\"2017-02-06T16:20:00\",\"2017-02-06T16:30:00\",\"2017-02-06T16:40:00\",\"2017-02-06T16:50:00\",\"2017-02-06T17:00:00\",\"2017-02-06T17:10:00\",\"2017-02-06T17:20:00\",\"2017-02-06T17:30:00\",\"2017-02-06T17:40:00\",\"2017-02-06T17:50:00\",\"2017-02-06T18:00:00\",\"2017-02-06T18:10:00\",\"2017-02-06T18:20:00\",\"2017-02-06T18:30:00\",\"2017-02-06T18:40:00\",\"2017-02-06T18:50:00\",\"2017-02-06T19:00:00\",\"2017-02-06T19:10:00\",\"2017-02-06T19:20:00\",\"2017-02-06T19:30:00\",\"2017-02-06T19:40:00\",\"2017-02-06T19:50:00\",\"2017-02-06T20:00:00\",\"2017-02-06T20:10:00\",\"2017-02-06T20:20:00\",\"2017-02-06T20:30:00\",\"2017-02-06T20:40:00\",\"2017-02-06T20:50:00\",\"2017-02-06T21:00:00\",\"2017-02-06T21:10:00\",\"2017-02-06T21:20:00\",\"2017-02-06T21:30:00\",\"2017-02-06T21:40:00\",\"2017-02-06T21:50:00\",\"2017-02-06T22:00:00\",\"2017-02-06T22:10:00\",\"2017-02-06T22:20:00\",\"2017-02-06T22:30:00\",\"2017-02-06T22:40:00\",\"2017-02-06T22:50:00\",\"2017-02-06T23:00:00\",\"2017-02-06T23:10:00\",\"2017-02-06T23:20:00\",\"2017-02-06T23:30:00\",\"2017-02-06T23:40:00\",\"2017-02-06T23:50:00\",\"2017-02-07T00:00:00\",\"2017-02-07T00:10:00\",\"2017-02-07T00:20:00\",\"2017-02-07T00:30:00\",\"2017-02-07T00:40:00\",\"2017-02-07T00:50:00\",\"2017-02-07T01:00:00\",\"2017-02-07T01:10:00\",\"2017-02-07T01:20:00\",\"2017-02-07T01:30:00\",\"2017-02-07T01:40:00\",\"2017-02-07T01:50:00\",\"2017-02-07T02:00:00\",\"2017-02-07T02:10:00\",\"2017-02-07T02:20:00\",\"2017-02-07T02:30:00\",\"2017-02-07T02:40:00\",\"2017-02-07T02:50:00\",\"2017-02-07T03:00:00\",\"2017-02-07T03:10:00\",\"2017-02-07T03:20:00\",\"2017-02-07T03:30:00\",\"2017-02-07T03:40:00\",\"2017-02-07T03:50:00\",\"2017-02-07T04:00:00\",\"2017-02-07T04:10:00\",\"2017-02-07T04:20:00\",\"2017-02-07T04:30:00\",\"2017-02-07T04:40:00\",\"2017-02-07T04:50:00\",\"2017-02-07T05:00:00\",\"2017-02-07T05:10:00\",\"2017-02-07T05:20:00\",\"2017-02-07T05:30:00\",\"2017-02-07T05:40:00\",\"2017-02-07T05:50:00\",\"2017-02-07T06:00:00\",\"2017-02-07T06:10:00\",\"2017-02-07T06:20:00\",\"2017-02-07T06:30:00\",\"2017-02-07T06:40:00\",\"2017-02-07T06:50:00\",\"2017-02-07T07:00:00\",\"2017-02-07T07:10:00\",\"2017-02-07T07:20:00\",\"2017-02-07T07:30:00\",\"2017-02-07T07:40:00\",\"2017-02-07T07:50:00\",\"2017-02-07T08:00:00\",\"2017-02-07T08:10:00\",\"2017-02-07T08:20:00\",\"2017-02-07T08:30:00\",\"2017-02-07T08:40:00\",\"2017-02-07T08:50:00\",\"2017-02-07T09:00:00\",\"2017-02-07T09:10:00\",\"2017-02-07T09:20:00\",\"2017-02-07T09:30:00\",\"2017-02-07T09:40:00\",\"2017-02-07T09:50:00\",\"2017-02-07T10:00:00\",\"2017-02-07T10:10:00\",\"2017-02-07T10:20:00\",\"2017-02-07T10:30:00\",\"2017-02-07T10:40:00\",\"2017-02-07T10:50:00\",\"2017-02-07T11:00:00\",\"2017-02-07T11:10:00\",\"2017-02-07T11:20:00\",\"2017-02-07T11:30:00\",\"2017-02-07T11:40:00\",\"2017-02-07T11:50:00\",\"2017-02-07T12:00:00\",\"2017-02-07T12:10:00\",\"2017-02-07T12:20:00\",\"2017-02-07T12:30:00\",\"2017-02-07T12:40:00\",\"2017-02-07T12:50:00\",\"2017-02-07T13:00:00\",\"2017-02-07T13:10:00\",\"2017-02-07T13:20:00\",\"2017-02-07T13:30:00\",\"2017-02-07T13:40:00\",\"2017-02-07T13:50:00\",\"2017-02-07T14:00:00\",\"2017-02-07T14:10:00\",\"2017-02-07T14:20:00\",\"2017-02-07T14:30:00\",\"2017-02-07T14:40:00\",\"2017-02-07T14:50:00\",\"2017-02-07T15:00:00\",\"2017-02-07T15:10:00\",\"2017-02-07T15:20:00\",\"2017-02-07T15:30:00\",\"2017-02-07T15:40:00\",\"2017-02-07T15:50:00\",\"2017-02-07T16:00:00\",\"2017-02-07T16:10:00\",\"2017-02-07T16:20:00\",\"2017-02-07T16:30:00\",\"2017-02-07T16:40:00\",\"2017-02-07T16:50:00\",\"2017-02-07T17:00:00\",\"2017-02-07T17:10:00\",\"2017-02-07T17:20:00\",\"2017-02-07T17:30:00\",\"2017-02-07T17:40:00\",\"2017-02-07T17:50:00\",\"2017-02-07T18:00:00\",\"2017-02-07T18:10:00\",\"2017-02-07T18:20:00\",\"2017-02-07T18:30:00\",\"2017-02-07T18:40:00\",\"2017-02-07T18:50:00\",\"2017-02-07T19:00:00\",\"2017-02-07T19:10:00\",\"2017-02-07T19:20:00\",\"2017-02-07T19:30:00\",\"2017-02-07T19:40:00\",\"2017-02-07T19:50:00\",\"2017-02-07T20:00:00\",\"2017-02-07T20:10:00\",\"2017-02-07T20:20:00\",\"2017-02-07T20:30:00\",\"2017-02-07T20:40:00\",\"2017-02-07T20:50:00\",\"2017-02-07T21:00:00\",\"2017-02-07T21:10:00\",\"2017-02-07T21:20:00\",\"2017-02-07T21:30:00\",\"2017-02-07T21:40:00\",\"2017-02-07T21:50:00\",\"2017-02-07T22:00:00\",\"2017-02-07T22:10:00\",\"2017-02-07T22:20:00\",\"2017-02-07T22:30:00\",\"2017-02-07T22:40:00\",\"2017-02-07T22:50:00\",\"2017-02-07T23:00:00\",\"2017-02-07T23:10:00\",\"2017-02-07T23:20:00\",\"2017-02-07T23:30:00\",\"2017-02-07T23:40:00\",\"2017-02-07T23:50:00\",\"2017-02-08T00:00:00\",\"2017-02-08T00:10:00\",\"2017-02-08T00:20:00\",\"2017-02-08T00:30:00\",\"2017-02-08T00:40:00\",\"2017-02-08T00:50:00\",\"2017-02-08T01:00:00\",\"2017-02-08T01:10:00\",\"2017-02-08T01:20:00\",\"2017-02-08T01:30:00\",\"2017-02-08T01:40:00\",\"2017-02-08T01:50:00\",\"2017-02-08T02:00:00\",\"2017-02-08T02:10:00\",\"2017-02-08T02:20:00\",\"2017-02-08T02:30:00\",\"2017-02-08T02:40:00\",\"2017-02-08T02:50:00\",\"2017-02-08T03:00:00\",\"2017-02-08T03:10:00\",\"2017-02-08T03:20:00\",\"2017-02-08T03:30:00\",\"2017-02-08T03:40:00\",\"2017-02-08T03:50:00\",\"2017-02-08T04:00:00\",\"2017-02-08T04:10:00\",\"2017-02-08T04:20:00\",\"2017-02-08T04:30:00\",\"2017-02-08T04:40:00\",\"2017-02-08T04:50:00\",\"2017-02-08T05:00:00\",\"2017-02-08T05:10:00\",\"2017-02-08T05:20:00\",\"2017-02-08T05:30:00\",\"2017-02-08T05:40:00\",\"2017-02-08T05:50:00\",\"2017-02-08T06:00:00\",\"2017-02-08T06:10:00\",\"2017-02-08T06:20:00\",\"2017-02-08T06:30:00\",\"2017-02-08T06:40:00\",\"2017-02-08T06:50:00\",\"2017-02-08T07:00:00\",\"2017-02-08T07:10:00\",\"2017-02-08T07:20:00\",\"2017-02-08T07:30:00\",\"2017-02-08T07:40:00\",\"2017-02-08T07:50:00\",\"2017-02-08T08:00:00\",\"2017-02-08T08:10:00\",\"2017-02-08T08:20:00\",\"2017-02-08T08:30:00\",\"2017-02-08T08:40:00\",\"2017-02-08T08:50:00\",\"2017-02-08T09:00:00\",\"2017-02-08T09:10:00\"],\"xaxis\":\"x\",\"y\":[506.7962962962963,504.15,505.8939393939394,505.22222222222223,502.65909090909093,503.3148148148149,501.72727272727275,501.51851851851853,502.6,504.85,501.7833333333334,504.8181818181818,505.00925925925924,504.33333333333337,503.2037037037037,505.9621212121212,503.3703703703703,504.5333333333334,503.7166666666667,503.725,503.83333333333337,502.537037037037,499.66666666666663,502.59259259259255,501.2878787878788,501.4814814814815,499.6,503.4666666666667,501.2166666666667,501.30303030303025,502.82407407407413,504.05303030303037,503.90740740740745,503.439393939394,503.3888888888889,502.5,503.775,502.9083333333334,504.72727272727275,506.2037037037037,503.95454545454544,507.72222222222223,508.18939393939394,504.8518518518519,503.9833333333333,506.4,505.85,505.8181818181818,510.462962962963,505.3939393939394,504.3703703703703,504.18939393939394,506.5833333333333,506.4583333333333,504.5999999999999,505.5,503.32575757575756,505.70370370370375,504.79545454545456,505.6018518518518,505.98484848484856,507.9537037037037,510.1,507.975,513.4000000000001,515.2727272727273,511.50925925925924,507.2121212121212,502.72222222222223,503.67424242424255,505.80555555555554,509.6583333333333,507.3166666666667,509.275,510.75757575757575,508.3611111111111,502.79545454545456,498.1481481481481,496.75757575757575,498.77777777777777,498.575,504.9333333333333,501.6583333333333,505.04545454545456,505.425925925926,507.01515151515156,508.074074074074,510.1530303030302,508.40740740740733,509.1333333333333,510.3416666666667,508.6083333333333,512.4242424242425,512.3055555555555,511.99696969696976,510.8518518518519,512.2651515151515,515.2777777777778,514.8666666666666,515.7583333333333,515.1333333333334,514.4545454545455,515.1481481481482,515.9393939393939,519.4074074074074,516.0454545454545,518.2407407407408,516.6166666666667,514.3833333333333,517.95,519.6136363636364,522.2962962962963,519.2727272727273,521.6388888888889,522.969696969697,520.3518518518518,526.5666666666666,522.6166666666666,521.9166666666666,514.7727272727273,513.4166666666666,522.2348484848485,528.4814814814814,529.1363636363636,531.962962962963,528.8,533.475,534.1,534.0757575757575,531.1388888888889,529.219696969697,534.0,533.0151515151515,529.5370370370371,531.45,532.5166666666667,533.5833333333333,535.4090909090909,531.7962962962963,536.3484848484849,536.2962962962962,536.4393939393939,539.3888888888889,537.5083333333333,538.3833333333333,535.5916666666666,538.2727272727273,539.2037037037037,539.5606060606061,541.7592592592592,538.4848484848485,542.0555555555555,540.35,538.8500000000001,541.4333333333333,541.560606060606,540.4259259259259,543.2424242424241,542.7037037037038,543.1363636363636,543.925925925926,545.6833333333333,546.5833333333334,546.45,549.7196969696969,550.3333333333334,553.2121212121211,553.9074074074074,554.9090909090909,556.0185185185186,559.225,559.4666666666667,564.8666666666667,567.9090909090909,566.5462962962963,566.219696969697,568.1111111111111,567.9242424242425,567.9259259259259,569.6333333333333,571.0333333333333,573.95,575.8181818181819,578.4375,579.060606060606,580.6759259259259,582.8636363636364,588.287037037037,586.95,591.6,595.2166666666667,602.439393939394,606.175925925926,605.4,605.9444444444445,611.1742424242424,609.1666666666666,613.5,617.8666666666666,617.4416666666667,623.6136363636364,627.7592592592592,636.8939393939395,641.7592592592592,643.5530303030304,644.3518518518518,640.0583333333333,638.2833333333334,637.2833333333334,634.6742424242425,629.8611111111111,632.7651515151515,629.2222222222222,630.8863636363636,627.9259259259259,628.6899999999998,629.95,633.9333333333334,632.6515151515151,633.4074074074074,630.1666666666667,632.0648148148149,639.5833333333334,641.537037037037,649.5416666666667,655.9416666666667,658.775,658.3257575757576,661.4351851851852,664.4469696969697,674.0092592592594,681.4545454545455,682.0925925925926,663.6583333333333,655.2716666666668,655.6666666666667,657.5681818181819,657.2222222222222,662.8560606060605,660.5625,662.6666666666666,663.1851851851852,668.5083333333333,667.1916666666667,670.8833333333333,683.1287878787879,689.1296296296296,682.7727272727271,678.8425925925926,676.4848484848485,672.3194444444445,676.1833333333333,672.7,674.7333333333333,675.1818181818181,668.425925925926,649.439393939394,654.4259259259259,652.0757575757575,657.0925925925926,658.5833333333333,665.1333333333333,668.1583333333333,675.1969696969697,675.8333333333334,678.7121212121211,679.9259259259259,685.1363636363636,690.7962962962962,692.9,694.6666666666667,701.4833333333333,700.6363636363636,707.2222222222222,707.9393939393939,712.8148148148149,717.8636363636364,720.1296296296297,718.25,722.2166666666667,714.85,721.6060606060605,729.074074074074,731.2727272727273,729.8333333333334,729.1212121212121,730.2592592592592,731.3,732.3833333333333,729.8,732.969696969697,714.2592592592592,775.6363636363636,798.5555555555555,808.5666666666667,817.4259259259259,826.3166666666666,903.9166666666666,862.9333333333332,854.4848484848484,854.3055555555555,854.1212121212124,861.5,858.8181818181819,861.3333333333334,861.75,864.6,867.2,865.3560606060607,859.7222222222222,857.9393939393939,858.2962962962963,849.1818181818181,845.3333333333334,822.65,801.1333333333333,800.25,790.0151515151515,785.0,788.0909090909091,794.7407407407408,793.6818181818181,798.962962962963,795.3666666666667,799.75,801.1833333333333,802.1666666666665,802.2222222222222,806.8484848484848,810.3888888888889,811.7954545454545,811.574074074074,805.8333333333333,808.55,813.4333333333333,818.5530303030304,819.2037037037038,821.8181818181819,825.3981481481482,826.4696969696971,848.8333333333334,879.1133333333333,902.325,966.9583333333333,1005.4393939393937,1013.4537037037034,1002.5757575757575,1012.194444444444,977.7196969696969,971.3851851851853,968.8083333333334,971.275,969.9333333333332,1006.1590909090905,1044.5370370370376,1038.078787878788,1012.3611111111111,1002.7878787878791,983.7407407407409,964.9916666666668,939.725,911.945,924.8484848484848,910.675925925926,906.4545454545455,898.6203703703703,895.6499999999997,890.6296296296297,872.7583333333332,861.5,854.3833333333332,837.0075757575756,846.2037037037037,884.3257575757576,908.9722222222222,917.9378787878787,908.0740740740741,907.3416666666668,899.2333333333332,870.2333333333333,862.9772727272727,882.3148148148148,892.4015151515151,892.0833333333334,905.4393939393939,924.0462962962964,921.225,928.7333333333332,916.875,906.6818181818181,927.7314814814815,976.742424242424,974.2407407407409,978.1515151515152,986.962962962963,982.025,973.2166666666668,944.0166666666668,925.4393939393939,888.0185185185186,854.3636363636364,834.1666666666666,815.189393939394,795.4814814814814,773.3166666666666,765.4416666666666,762.8,754.4545454545455,747.9074074074074,742.8787878787879,739.8888888888889,730.9242424242425,724.962962962963,725.8500000000001,723.95,724.575,721.6515151515151,723.2407407407408,722.2878787878789,719.2222222222222,713.6212121212121,714.4814814814814,718.6500000000001,712.4833333333333,716.15,716.7575757575758,714.8703703703703,714.280303030303,713.462962962963,712.5227272727273,714.537037037037,714.4166666666666,712.5166666666667,715.1333333333333,717.6515151515151,713.2037037037038,713.2045454545455,715.7777777777778,711.0757575757575,713.5833333333334,713.4666666666667,712.7666666666667,721.2333333333333,714.9242424242424,719.2962962962963,717.4621212121211,717.074074074074,716.7272727272729,714.6666666666666,717.9333333333333,722.0,721.75,721.0454545454545,724.925925925926,725.9166666666667,731.0833333333334,731.2575757575758,730.5925925925926,733.2333333333333,734.5833333333333,736.0666666666666,737.8030303030303,738.462962962963,740.0151515151515,739.4166666666666,734.8257575757576,735.2037037037037,742.525,742.2583333333333,744.3666666666667,750.7272727272727,751.3148148148149,756.3181818181819,756.0925925925926,760.8181818181819,765.5740740740741,766.75,773.2833333333334,773.75,777.1818181818181,780.4444444444445,784.5,788.1111111111111,792.7651515151516,820.9814814814815,835.0,847.2666666666668,873.95,926.3030303030304,938.6111111111111,945.5606060606061,946.2074074074072,961.6742424242425,960.5370370370371,967.3833333333336,980.6416666666668,988.9537037037036,1005.9318181818181,1042.0370370370367,1074.2196969696972,1099.259259259259,1081.9242424242427,1110.0277777777778,1155.2666666666669,1222.825,1348.775,1258.69696969697,1196.3555555555556,1157.590909090909,1150.7259259259254,1153.7727272727273,1130.829629629629,1119.266666666666,1141.333333333333,1165.041666666667,1180.7575757575762,1211.9555555555555,1255.5681818181818,1298.259259259259,1322.2424242424238,1346.25,1352.908333333333,1391.15,1410.5166666666669,1411.775000000001,1466.3981481481478,1384.1742424242418,1404.3333333333323,1420.6893939393938,1489.111111111111,1517.4,1459.033333333333,1472.1416666666669,1494.6363636363637,1483.4814814814822,1513.515151515152,1547.731481481481,1749.9469696969702,1700.9537037037035,1668.6666666666672,1602.725,1557.525,1532.8181818181818,1498.0370370370367,1478.4318181818182,1482.8148148148146,1473.1212121212118,1468.2037037037035,1468.541666666667,1472.6,1489.3,1500.9545454545455,1520.1666666666667,1489.7727272727273,1505.8148148148146,1520.6515151515146,1518.6851851851845,1505.383333333333,1515.216666666667,1546.85,1704.7424242424238,1686.2222222222222,1535.909090909091,1513.7037037037035,1556.575757575757,1507.740740740741,1424.866666666667,1486.4333333333338,1582.2666666666669,1572.39393939394,1154.481481481481,1152.7424242424245,1192.4444444444443,1207.712121212121,1238.8333333333333,1225.55,1216.9333333333338,1283.05,1068.7424242424245,1218.9629629629624,1548.9545454545462,1338.0,1388.2878787878783,1313.4722222222222,1320.733333333334,1343.5166666666669,1559.708333333333,1620.7272727272727,1269.111111111111,1213.8636363636363,1225.2777777777778,1253.5151515151517,1268.981481481481,1261.991666666666,1248.6833333333338,1262.75,1359.60606060606,1361.759259259259,1368.8484848484845,1396.3981481481478,1418.462121212121,1410.9444444444443,1457.825,1488.716666666667,1501.85,1542.9318181818182,1494.9629629629633,1504.2272727272727,1519.9074074074078,1535.2272727272727,1553.4444444444443,1558.1,1531.866666666667,1550.35,1525.0,1478.111111111111,1483.4242424242427,1503.0925925925933,1510.7121212121208,1500.5277777777778,1463.366666666667,1436.025,1415.7333333333331,1420.69696969697,1417.0555555555557,1430.2727272727273,1443.9351851851854,1444.0,1413.611111111111,1485.0149999999999,1452.783333333334,1545.375],\"yaxis\":\"y\"}],                        {\"barmode\":\"relative\",\"coloraxis\":{\"colorbar\":{\"title\":{\"text\":\"Anwesenheit\"}},\"colorscale\":[[0.0,\"#0d0887\"],[0.1111111111111111,\"#46039f\"],[0.2222222222222222,\"#7201a8\"],[0.3333333333333333,\"#9c179e\"],[0.4444444444444444,\"#bd3786\"],[0.5555555555555556,\"#d8576b\"],[0.6666666666666666,\"#ed7953\"],[0.7777777777777778,\"#fb9f3a\"],[0.8888888888888888,\"#fdca26\"],[1.0,\"#f0f921\"]]},\"legend\":{\"tracegroupgap\":0},\"margin\":{\"t\":60},\"template\":{\"data\":{\"bar\":[{\"error_x\":{\"color\":\"#2a3f5f\"},\"error_y\":{\"color\":\"#2a3f5f\"},\"marker\":{\"line\":{\"color\":\"#E5ECF6\",\"width\":0.5},\"pattern\":{\"fillmode\":\"overlay\",\"size\":10,\"solidity\":0.2}},\"type\":\"bar\"}],\"barpolar\":[{\"marker\":{\"line\":{\"color\":\"#E5ECF6\",\"width\":0.5},\"pattern\":{\"fillmode\":\"overlay\",\"size\":10,\"solidity\":0.2}},\"type\":\"barpolar\"}],\"carpet\":[{\"aaxis\":{\"endlinecolor\":\"#2a3f5f\",\"gridcolor\":\"white\",\"linecolor\":\"white\",\"minorgridcolor\":\"white\",\"startlinecolor\":\"#2a3f5f\"},\"baxis\":{\"endlinecolor\":\"#2a3f5f\",\"gridcolor\":\"white\",\"linecolor\":\"white\",\"minorgridcolor\":\"white\",\"startlinecolor\":\"#2a3f5f\"},\"type\":\"carpet\"}],\"choropleth\":[{\"colorbar\":{\"outlinewidth\":0,\"ticks\":\"\"},\"type\":\"choropleth\"}],\"contour\":[{\"colorbar\":{\"outlinewidth\":0,\"ticks\":\"\"},\"colorscale\":[[0.0,\"#0d0887\"],[0.1111111111111111,\"#46039f\"],[0.2222222222222222,\"#7201a8\"],[0.3333333333333333,\"#9c179e\"],[0.4444444444444444,\"#bd3786\"],[0.5555555555555556,\"#d8576b\"],[0.6666666666666666,\"#ed7953\"],[0.7777777777777778,\"#fb9f3a\"],[0.8888888888888888,\"#fdca26\"],[1.0,\"#f0f921\"]],\"type\":\"contour\"}],\"contourcarpet\":[{\"colorbar\":{\"outlinewidth\":0,\"ticks\":\"\"},\"type\":\"contourcarpet\"}],\"heatmap\":[{\"colorbar\":{\"outlinewidth\":0,\"ticks\":\"\"},\"colorscale\":[[0.0,\"#0d0887\"],[0.1111111111111111,\"#46039f\"],[0.2222222222222222,\"#7201a8\"],[0.3333333333333333,\"#9c179e\"],[0.4444444444444444,\"#bd3786\"],[0.5555555555555556,\"#d8576b\"],[0.6666666666666666,\"#ed7953\"],[0.7777777777777778,\"#fb9f3a\"],[0.8888888888888888,\"#fdca26\"],[1.0,\"#f0f921\"]],\"type\":\"heatmap\"}],\"heatmapgl\":[{\"colorbar\":{\"outlinewidth\":0,\"ticks\":\"\"},\"colorscale\":[[0.0,\"#0d0887\"],[0.1111111111111111,\"#46039f\"],[0.2222222222222222,\"#7201a8\"],[0.3333333333333333,\"#9c179e\"],[0.4444444444444444,\"#bd3786\"],[0.5555555555555556,\"#d8576b\"],[0.6666666666666666,\"#ed7953\"],[0.7777777777777778,\"#fb9f3a\"],[0.8888888888888888,\"#fdca26\"],[1.0,\"#f0f921\"]],\"type\":\"heatmapgl\"}],\"histogram\":[{\"marker\":{\"pattern\":{\"fillmode\":\"overlay\",\"size\":10,\"solidity\":0.2}},\"type\":\"histogram\"}],\"histogram2d\":[{\"colorbar\":{\"outlinewidth\":0,\"ticks\":\"\"},\"colorscale\":[[0.0,\"#0d0887\"],[0.1111111111111111,\"#46039f\"],[0.2222222222222222,\"#7201a8\"],[0.3333333333333333,\"#9c179e\"],[0.4444444444444444,\"#bd3786\"],[0.5555555555555556,\"#d8576b\"],[0.6666666666666666,\"#ed7953\"],[0.7777777777777778,\"#fb9f3a\"],[0.8888888888888888,\"#fdca26\"],[1.0,\"#f0f921\"]],\"type\":\"histogram2d\"}],\"histogram2dcontour\":[{\"colorbar\":{\"outlinewidth\":0,\"ticks\":\"\"},\"colorscale\":[[0.0,\"#0d0887\"],[0.1111111111111111,\"#46039f\"],[0.2222222222222222,\"#7201a8\"],[0.3333333333333333,\"#9c179e\"],[0.4444444444444444,\"#bd3786\"],[0.5555555555555556,\"#d8576b\"],[0.6666666666666666,\"#ed7953\"],[0.7777777777777778,\"#fb9f3a\"],[0.8888888888888888,\"#fdca26\"],[1.0,\"#f0f921\"]],\"type\":\"histogram2dcontour\"}],\"mesh3d\":[{\"colorbar\":{\"outlinewidth\":0,\"ticks\":\"\"},\"type\":\"mesh3d\"}],\"parcoords\":[{\"line\":{\"colorbar\":{\"outlinewidth\":0,\"ticks\":\"\"}},\"type\":\"parcoords\"}],\"pie\":[{\"automargin\":true,\"type\":\"pie\"}],\"scatter\":[{\"marker\":{\"colorbar\":{\"outlinewidth\":0,\"ticks\":\"\"}},\"type\":\"scatter\"}],\"scatter3d\":[{\"line\":{\"colorbar\":{\"outlinewidth\":0,\"ticks\":\"\"}},\"marker\":{\"colorbar\":{\"outlinewidth\":0,\"ticks\":\"\"}},\"type\":\"scatter3d\"}],\"scattercarpet\":[{\"marker\":{\"colorbar\":{\"outlinewidth\":0,\"ticks\":\"\"}},\"type\":\"scattercarpet\"}],\"scattergeo\":[{\"marker\":{\"colorbar\":{\"outlinewidth\":0,\"ticks\":\"\"}},\"type\":\"scattergeo\"}],\"scattergl\":[{\"marker\":{\"colorbar\":{\"outlinewidth\":0,\"ticks\":\"\"}},\"type\":\"scattergl\"}],\"scattermapbox\":[{\"marker\":{\"colorbar\":{\"outlinewidth\":0,\"ticks\":\"\"}},\"type\":\"scattermapbox\"}],\"scatterpolar\":[{\"marker\":{\"colorbar\":{\"outlinewidth\":0,\"ticks\":\"\"}},\"type\":\"scatterpolar\"}],\"scatterpolargl\":[{\"marker\":{\"colorbar\":{\"outlinewidth\":0,\"ticks\":\"\"}},\"type\":\"scatterpolargl\"}],\"scatterternary\":[{\"marker\":{\"colorbar\":{\"outlinewidth\":0,\"ticks\":\"\"}},\"type\":\"scatterternary\"}],\"surface\":[{\"colorbar\":{\"outlinewidth\":0,\"ticks\":\"\"},\"colorscale\":[[0.0,\"#0d0887\"],[0.1111111111111111,\"#46039f\"],[0.2222222222222222,\"#7201a8\"],[0.3333333333333333,\"#9c179e\"],[0.4444444444444444,\"#bd3786\"],[0.5555555555555556,\"#d8576b\"],[0.6666666666666666,\"#ed7953\"],[0.7777777777777778,\"#fb9f3a\"],[0.8888888888888888,\"#fdca26\"],[1.0,\"#f0f921\"]],\"type\":\"surface\"}],\"table\":[{\"cells\":{\"fill\":{\"color\":\"#EBF0F8\"},\"line\":{\"color\":\"white\"}},\"header\":{\"fill\":{\"color\":\"#C8D4E3\"},\"line\":{\"color\":\"white\"}},\"type\":\"table\"}]},\"layout\":{\"annotationdefaults\":{\"arrowcolor\":\"#2a3f5f\",\"arrowhead\":0,\"arrowwidth\":1},\"autotypenumbers\":\"strict\",\"coloraxis\":{\"colorbar\":{\"outlinewidth\":0,\"ticks\":\"\"}},\"colorscale\":{\"diverging\":[[0,\"#8e0152\"],[0.1,\"#c51b7d\"],[0.2,\"#de77ae\"],[0.3,\"#f1b6da\"],[0.4,\"#fde0ef\"],[0.5,\"#f7f7f7\"],[0.6,\"#e6f5d0\"],[0.7,\"#b8e186\"],[0.8,\"#7fbc41\"],[0.9,\"#4d9221\"],[1,\"#276419\"]],\"sequential\":[[0.0,\"#0d0887\"],[0.1111111111111111,\"#46039f\"],[0.2222222222222222,\"#7201a8\"],[0.3333333333333333,\"#9c179e\"],[0.4444444444444444,\"#bd3786\"],[0.5555555555555556,\"#d8576b\"],[0.6666666666666666,\"#ed7953\"],[0.7777777777777778,\"#fb9f3a\"],[0.8888888888888888,\"#fdca26\"],[1.0,\"#f0f921\"]],\"sequentialminus\":[[0.0,\"#0d0887\"],[0.1111111111111111,\"#46039f\"],[0.2222222222222222,\"#7201a8\"],[0.3333333333333333,\"#9c179e\"],[0.4444444444444444,\"#bd3786\"],[0.5555555555555556,\"#d8576b\"],[0.6666666666666666,\"#ed7953\"],[0.7777777777777778,\"#fb9f3a\"],[0.8888888888888888,\"#fdca26\"],[1.0,\"#f0f921\"]]},\"colorway\":[\"#636efa\",\"#EF553B\",\"#00cc96\",\"#ab63fa\",\"#FFA15A\",\"#19d3f3\",\"#FF6692\",\"#B6E880\",\"#FF97FF\",\"#FECB52\"],\"font\":{\"color\":\"#2a3f5f\"},\"geo\":{\"bgcolor\":\"white\",\"lakecolor\":\"white\",\"landcolor\":\"#E5ECF6\",\"showlakes\":true,\"showland\":true,\"subunitcolor\":\"white\"},\"hoverlabel\":{\"align\":\"left\"},\"hovermode\":\"closest\",\"mapbox\":{\"style\":\"light\"},\"paper_bgcolor\":\"white\",\"plot_bgcolor\":\"#E5ECF6\",\"polar\":{\"angularaxis\":{\"gridcolor\":\"white\",\"linecolor\":\"white\",\"ticks\":\"\"},\"bgcolor\":\"#E5ECF6\",\"radialaxis\":{\"gridcolor\":\"white\",\"linecolor\":\"white\",\"ticks\":\"\"}},\"scene\":{\"xaxis\":{\"backgroundcolor\":\"#E5ECF6\",\"gridcolor\":\"white\",\"gridwidth\":2,\"linecolor\":\"white\",\"showbackground\":true,\"ticks\":\"\",\"zerolinecolor\":\"white\"},\"yaxis\":{\"backgroundcolor\":\"#E5ECF6\",\"gridcolor\":\"white\",\"gridwidth\":2,\"linecolor\":\"white\",\"showbackground\":true,\"ticks\":\"\",\"zerolinecolor\":\"white\"},\"zaxis\":{\"backgroundcolor\":\"#E5ECF6\",\"gridcolor\":\"white\",\"gridwidth\":2,\"linecolor\":\"white\",\"showbackground\":true,\"ticks\":\"\",\"zerolinecolor\":\"white\"}},\"shapedefaults\":{\"line\":{\"color\":\"#2a3f5f\"}},\"ternary\":{\"aaxis\":{\"gridcolor\":\"white\",\"linecolor\":\"white\",\"ticks\":\"\"},\"baxis\":{\"gridcolor\":\"white\",\"linecolor\":\"white\",\"ticks\":\"\"},\"bgcolor\":\"#E5ECF6\",\"caxis\":{\"gridcolor\":\"white\",\"linecolor\":\"white\",\"ticks\":\"\"}},\"title\":{\"x\":0.05},\"xaxis\":{\"automargin\":true,\"gridcolor\":\"white\",\"linecolor\":\"white\",\"ticks\":\"\",\"title\":{\"standoff\":15},\"zerolinecolor\":\"white\",\"zerolinewidth\":2},\"yaxis\":{\"automargin\":true,\"gridcolor\":\"white\",\"linecolor\":\"white\",\"ticks\":\"\",\"title\":{\"standoff\":15},\"zerolinecolor\":\"white\",\"zerolinewidth\":2}}},\"xaxis\":{\"anchor\":\"y\",\"domain\":[0.0,1.0],\"title\":{\"text\":\"Datum\"}},\"yaxis\":{\"anchor\":\"x\",\"domain\":[0.0,1.0],\"title\":{\"text\":\"CO2\"}}},                        {\"responsive\": true}                    ).then(function(){\n",
       "                            \n",
       "var gd = document.getElementById('a9e8730c-43dc-46c9-ade1-d15d9df12584');\n",
       "var x = new MutationObserver(function (mutations, observer) {{\n",
       "        var display = window.getComputedStyle(gd).display;\n",
       "        if (!display || display === 'none') {{\n",
       "            console.log([gd, 'removed!']);\n",
       "            Plotly.purge(gd);\n",
       "            observer.disconnect();\n",
       "        }}\n",
       "}});\n",
       "\n",
       "// Listen for the removal of the full notebook cells\n",
       "var notebookContainer = gd.closest('#notebook-container');\n",
       "if (notebookContainer) {{\n",
       "    x.observe(notebookContainer, {childList: true});\n",
       "}}\n",
       "\n",
       "// Listen for the clearing of the current output cell\n",
       "var outputEl = gd.closest('.output');\n",
       "if (outputEl) {{\n",
       "    x.observe(outputEl, {childList: true});\n",
       "}}\n",
       "\n",
       "                        })                };                });            </script>        </div>"
      ]
     },
     "metadata": {},
     "output_type": "display_data"
    }
   ],
   "source": [
    "#train_model(classifier=RandomForestClassifier,scaler=MinMaxScaler)\n",
    "print(pd.DataFrame(columns=df.columns))\n",
    "X = df.drop(columns=[label])\n",
    "y = df[label]\n",
    "\n",
    "X_train, X_test, y_train, y_test = train_test_split(X,y, test_size=0.25,random_state=42)\n",
    "scale_features(StandardScaler)\n",
    "\n",
    "mRF = RandomForestClassifier()\n",
    "%time mRF.fit(X_train, y_train)\n",
    "\n",
    "report(mRF)\n",
    "test_viz(mRF)"
   ]
  },
  {
   "cell_type": "markdown",
   "metadata": {},
   "source": [
    "## Decision Tree"
   ]
  },
  {
   "cell_type": "code",
   "execution_count": 581,
   "metadata": {
    "scrolled": false
   },
   "outputs": [
    {
     "name": "stdout",
     "output_type": "stream",
     "text": [
      "Empty DataFrame\n",
      "Columns: [Temperatur, Luftfeuchtigkeit, CO2, Anwesenheit, Arbeitszeit]\n",
      "Index: []\n",
      "Wall time: 16 ms\n",
      "Trainingsdaten:\n",
      "               precision    recall  f1-score   support\n",
      "\n",
      "           0      0.981     0.979     0.980      6953\n",
      "           1      0.944     0.950     0.947      2576\n",
      "\n",
      "    accuracy                          0.971      9529\n",
      "   macro avg      0.963     0.965     0.964      9529\n",
      "weighted avg      0.971     0.971     0.971      9529\n",
      "\n",
      "Testdaten:\n",
      "               precision    recall  f1-score   support\n",
      "\n",
      "           0      0.984     0.979     0.981      2362\n",
      "           1      0.940     0.953     0.946       815\n",
      "\n",
      "    accuracy                          0.972      3177\n",
      "   macro avg      0.962     0.966     0.964      3177\n",
      "weighted avg      0.972     0.972     0.972      3177\n",
      "\n"
     ]
    },
    {
     "data": {
      "image/png": "[encoded data removed]",
      "text/plain": [
       "<Figure size 864x864 with 1 Axes>"
      ]
     },
     "metadata": {
      "needs_background": "light"
     },
     "output_type": "display_data"
    },
    {
     "data": {
      "application/vnd.plotly.v1+json": {
       "config": {
        "plotlyServerURL": "https://plot.ly"
       },
       "data": [
        {
         "alignmentgroup": "True",
         "hovertemplate": "Datum=%{x}<br>CO2=%{y}<br>Anwesenheit=%{marker.color}<extra></extra>",
         "legendgroup": "",
         "marker": {
          "color": [
           0,
           0,
           0,
           0,
           0,
           0,
           0,
           0,
           0,
           0,
           0,
           0,
           0,
           0,
           0,
           0,
           0,
           0,
           0,
           0,
           0,
           0,
           0,
           0,
           0,
           0,
           0,
           0,
           0,
           0,
           0,
           0,
           0,
           0,
           0,
           0,
           0,
           0,
           0,
           0,
           0,
           0,
           0,
           0,
           0,
           0,
           0,
           0,
           0,
           0,
           0,
           0,
           0,
           0,
           0,
           0,
           0,
           0,
           0,
           0,
           0,
           0,
           0,
           0,
           0,
           0,
           0,
           0,
           0,
           0,
           0,
           0,
           0,
           0,
           0,
           0,
           0,
           0,
           0,
           0,
           0,
           0,
           0,
           0,
           0,
           0,
           0,
           0,
           0,
           0,
           0,
           0,
           0,
           0,
           0,
           0,
           0,
           0,
           0,
           0,
           0,
           0,
           0,
           0,
           0,
           0,
           0,
           0,
           0,
           0,
           0,
           0,
           0,
           0,
           0,
           0,
           0,
           0,
           0,
           0,
           0,
           0,
           0,
           0,
           0,
           0,
           0,
           0,
           0,
           0,
           0,
           0,
           0,
           0,
           0,
           0,
           0,
           0,
           0,
           0,
           0,
           0,
           0,
           0,
           0,
           0,
           0,
           0,
           0,
           0,
           0,
           0,
           0,
           0,
           0,
           0,
           0,
           0,
           0,
           0,
           0,
           0,
           0,
           0,
           0,
           0,
           0,
           0,
           0,
           0,
           0,
           0,
           0,
           0,
           0,
           0,
           0,
           0,
           0,
           0,
           0,
           0,
           0,
           0,
           0,
           0,
           0,
           0,
           0,
           0,
           0,
           0,
           0,
           0,
           0,
           0,
           0,
           0,
           0,
           0,
           0,
           0,
           0,
           0,
           0,
           0,
           0,
           0,
           0,
           0,
           0,
           0,
           0,
           0,
           0,
           0,
           0,
           0,
           0,
           0,
           0,
           0,
           0,
           0,
           0,
           0,
           0,
           0,
           0,
           0,
           0,
           0,
           0,
           0,
           0,
           0,
           0,
           0,
           0,
           0,
           0,
           0,
           0,
           0,
           0,
           0,
           0,
           0,
           0,
           0,
           0,
           0,
           0,
           0,
           0,
           0,
           0,
           0,
           0,
           0,
           0,
           0,
           0,
           0,
           0,
           0,
           0,
           0,
           0,
           0,
           0,
           0,
           0,
           0,
           0,
           0,
           0,
           0,
           0,
           0,
           0,
           0,
           0,
           0,
           0,
           0,
           0,
           0,
           0,
           0,
           0,
           0,
           0,
           0,
           0,
           0,
           0,
           0,
           0,
           0,
           0,
           0,
           0,
           0,
           0,
           0,
           0,
           0,
           0,
           0,
           0,
           0,
           0,
           0,
           0,
           0,
           0,
           0,
           0,
           0,
           0,
           0,
           0,
           0,
           0,
           0,
           0,
           0,
           0,
           0,
           0,
           0,
           0,
           0,
           0,
           0,
           1,
           1,
           1,
           1,
           1,
           1,
           1,
           1,
           1,
           1,
           1,
           1,
           1,
           1,
           1,
           1,
           1,
           1,
           1,
           1,
           1,
           1,
           1,
           1,
           1,
           1,
           1,
           1,
           1,
           1,
           0,
           0,
           0.9,
           1,
           1,
           1,
           1,
           1,
           1,
           1,
           1,
           1,
           1,
           1,
           1,
           1,
           1,
           1,
           1,
           1,
           1,
           1,
           1,
           1,
           1,
           1,
           1,
           1,
           1,
           1,
           0,
           0,
           0,
           0,
           0,
           0,
           0,
           0,
           0,
           0,
           0,
           0,
           0,
           0,
           0,
           0,
           0,
           0,
           0,
           0,
           0,
           0,
           0,
           0,
           0,
           0,
           0,
           0,
           0,
           0,
           0,
           0,
           0,
           0,
           0,
           0,
           0,
           0,
           0,
           0,
           0,
           0,
           0,
           0,
           0,
           0,
           0,
           0,
           0,
           0,
           0,
           0,
           0,
           0,
           0,
           0,
           0,
           0,
           0,
           0,
           0,
           0,
           0,
           0,
           0,
           0,
           0,
           0,
           0,
           0,
           0,
           0,
           0,
           0,
           0,
           0,
           0,
           0,
           0,
           0,
           0,
           0,
           0,
           0,
           1,
           1,
           1,
           1,
           1,
           1,
           1,
           1,
           1,
           1,
           1,
           1,
           1,
           1,
           1,
           1,
           1,
           1,
           1,
           1,
           1,
           1,
           1,
           1,
           1,
           1,
           1,
           1,
           1,
           1,
           0,
           0,
           0.9,
           1,
           1,
           1,
           1,
           1,
           1,
           1,
           1,
           1,
           1,
           1,
           1,
           1,
           1,
           1,
           1,
           1,
           1,
           1,
           1,
           1,
           1,
           1,
           1,
           1,
           1,
           1,
           0,
           0,
           0,
           0,
           0,
           1,
           1,
           1,
           1,
           1,
           1,
           1,
           1,
           1,
           1,
           1,
           1,
           1,
           1,
           1,
           1,
           1,
           1,
           1,
           1,
           1,
           1,
           1,
           1,
           0.9090909090909091,
           0,
           0,
           0,
           0,
           0.3333333333333333,
           0.3,
           0,
           0.6,
           0,
           0.1111111111111111,
           1,
           1,
           1,
           1,
           1,
           1,
           1,
           1,
           0.6666666666666666,
           0,
           0,
           0.6363636363636364,
           1,
           1,
           0.4,
           0.9,
           1,
           1,
           1,
           1,
           1,
           1,
           1,
           1,
           1,
           1,
           1,
           1,
           1,
           1,
           1,
           1,
           1,
           1,
           1,
           1,
           1,
           1,
           1,
           1,
           1,
           1,
           1,
           1,
           1,
           1,
           1,
           1,
           1,
           1,
           1,
           1
          ],
          "coloraxis": "coloraxis",
          "pattern": {
           "shape": ""
          }
         },
         "name": "",
         "offsetgroup": "",
         "orientation": "v",
         "showlegend": false,
         "textposition": "auto",
         "type": "bar",
         "x": [
          "2017-02-04T00:00:00",
          "2017-02-04T00:10:00",
          "2017-02-04T00:20:00",
          "2017-02-04T00:30:00",
          "2017-02-04T00:40:00",
          "2017-02-04T00:50:00",
          "2017-02-04T01:00:00",
          "2017-02-04T01:10:00",
          "2017-02-04T01:20:00",
          "2017-02-04T01:30:00",
          "2017-02-04T01:40:00",
          "2017-02-04T01:50:00",
          "2017-02-04T02:00:00",
          "2017-02-04T02:10:00",
          "2017-02-04T02:20:00",
          "2017-02-04T02:30:00",
          "2017-02-04T02:40:00",
          "2017-02-04T02:50:00",
          "2017-02-04T03:00:00",
          "2017-02-04T03:10:00",
          "2017-02-04T03:20:00",
          "2017-02-04T03:30:00",
          "2017-02-04T03:40:00",
          "2017-02-04T03:50:00",
          "2017-02-04T04:00:00",
          "2017-02-04T04:10:00",
          "2017-02-04T04:20:00",
          "2017-02-04T04:30:00",
          "2017-02-04T04:40:00",
          "2017-02-04T04:50:00",
          "2017-02-04T05:00:00",
          "2017-02-04T05:10:00",
          "2017-02-04T05:20:00",
          "2017-02-04T05:30:00",
          "2017-02-04T05:40:00",
          "2017-02-04T05:50:00",
          "2017-02-04T06:00:00",
          "2017-02-04T06:10:00",
          "2017-02-04T06:20:00",
          "2017-02-04T06:30:00",
          "2017-02-04T06:40:00",
          "2017-02-04T06:50:00",
          "2017-02-04T07:00:00",
          "2017-02-04T07:10:00",
          "2017-02-04T07:20:00",
          "2017-02-04T07:30:00",
          "2017-02-04T07:40:00",
          "2017-02-04T07:50:00",
          "2017-02-04T08:00:00",
          "2017-02-04T08:10:00",
          "2017-02-04T08:20:00",
          "2017-02-04T08:30:00",
          "2017-02-04T08:40:00",
          "2017-02-04T08:50:00",
          "2017-02-04T09:00:00",
          "2017-02-04T09:10:00",
          "2017-02-04T09:20:00",
          "2017-02-04T09:30:00",
          "2017-02-04T09:40:00",
          "2017-02-04T09:50:00",
          "2017-02-04T10:00:00",
          "2017-02-04T10:10:00",
          "2017-02-04T10:20:00",
          "2017-02-04T10:30:00",
          "2017-02-04T10:40:00",
          "2017-02-04T10:50:00",
          "2017-02-04T11:00:00",
          "2017-02-04T11:10:00",
          "2017-02-04T11:20:00",
          "2017-02-04T11:30:00",
          "2017-02-04T11:40:00",
          "2017-02-04T11:50:00",
          "2017-02-04T12:00:00",
          "2017-02-04T12:10:00",
          "2017-02-04T12:20:00",
          "2017-02-04T12:30:00",
          "2017-02-04T12:40:00",
          "2017-02-04T12:50:00",
          "2017-02-04T13:00:00",
          "2017-02-04T13:10:00",
          "2017-02-04T13:20:00",
          "2017-02-04T13:30:00",
          "2017-02-04T13:40:00",
          "2017-02-04T13:50:00",
          "2017-02-04T14:00:00",
          "2017-02-04T14:10:00",
          "2017-02-04T14:20:00",
          "2017-02-04T14:30:00",
          "2017-02-04T14:40:00",
          "2017-02-04T14:50:00",
          "2017-02-04T15:00:00",
          "2017-02-04T15:10:00",
          "2017-02-04T15:20:00",
          "2017-02-04T15:30:00",
          "2017-02-04T15:40:00",
          "2017-02-04T15:50:00",
          "2017-02-04T16:00:00",
          "2017-02-04T16:10:00",
          "2017-02-04T16:20:00",
          "2017-02-04T16:30:00",
          "2017-02-04T16:40:00",
          "2017-02-04T16:50:00",
          "2017-02-04T17:00:00",
          "2017-02-04T17:10:00",
          "2017-02-04T17:20:00",
          "2017-02-04T17:30:00",
          "2017-02-04T17:40:00",
          "2017-02-04T17:50:00",
          "2017-02-04T18:00:00",
          "2017-02-04T18:10:00",
          "2017-02-04T18:20:00",
          "2017-02-04T18:30:00",
          "2017-02-04T18:40:00",
          "2017-02-04T18:50:00",
          "2017-02-04T19:00:00",
          "2017-02-04T19:10:00",
          "2017-02-04T19:20:00",
          "2017-02-04T19:30:00",
          "2017-02-04T19:40:00",
          "2017-02-04T19:50:00",
          "2017-02-04T20:00:00",
          "2017-02-04T20:10:00",
          "2017-02-04T20:20:00",
          "2017-02-04T20:30:00",
          "2017-02-04T20:40:00",
          "2017-02-04T20:50:00",
          "2017-02-04T21:00:00",
          "2017-02-04T21:10:00",
          "2017-02-04T21:20:00",
          "2017-02-04T21:30:00",
          "2017-02-04T21:40:00",
          "2017-02-04T21:50:00",
          "2017-02-04T22:00:00",
          "2017-02-04T22:10:00",
          "2017-02-04T22:20:00",
          "2017-02-04T22:30:00",
          "2017-02-04T22:40:00",
          "2017-02-04T22:50:00",
          "2017-02-04T23:00:00",
          "2017-02-04T23:10:00",
          "2017-02-04T23:20:00",
          "2017-02-04T23:30:00",
          "2017-02-04T23:40:00",
          "2017-02-04T23:50:00",
          "2017-02-05T00:00:00",
          "2017-02-05T00:10:00",
          "2017-02-05T00:20:00",
          "2017-02-05T00:30:00",
          "2017-02-05T00:40:00",
          "2017-02-05T00:50:00",
          "2017-02-05T01:00:00",
          "2017-02-05T01:10:00",
          "2017-02-05T01:20:00",
          "2017-02-05T01:30:00",
          "2017-02-05T01:40:00",
          "2017-02-05T01:50:00",
          "2017-02-05T02:00:00",
          "2017-02-05T02:10:00",
          "2017-02-05T02:20:00",
          "2017-02-05T02:30:00",
          "2017-02-05T02:40:00",
          "2017-02-05T02:50:00",
          "2017-02-05T03:00:00",
          "2017-02-05T03:10:00",
          "2017-02-05T03:20:00",
          "2017-02-05T03:30:00",
          "2017-02-05T03:40:00",
          "2017-02-05T03:50:00",
          "2017-02-05T04:00:00",
          "2017-02-05T04:10:00",
          "2017-02-05T04:20:00",
          "2017-02-05T04:30:00",
          "2017-02-05T04:40:00",
          "2017-02-05T04:50:00",
          "2017-02-05T05:00:00",
          "2017-02-05T05:10:00",
          "2017-02-05T05:20:00",
          "2017-02-05T05:30:00",
          "2017-02-05T05:40:00",
          "2017-02-05T05:50:00",
          "2017-02-05T06:00:00",
          "2017-02-05T06:10:00",
          "2017-02-05T06:20:00",
          "2017-02-05T06:30:00",
          "2017-02-05T06:40:00",
          "2017-02-05T06:50:00",
          "2017-02-05T07:00:00",
          "2017-02-05T07:10:00",
          "2017-02-05T07:20:00",
          "2017-02-05T07:30:00",
          "2017-02-05T07:40:00",
          "2017-02-05T07:50:00",
          "2017-02-05T08:00:00",
          "2017-02-05T08:10:00",
          "2017-02-05T08:20:00",
          "2017-02-05T08:30:00",
          "2017-02-05T08:40:00",
          "2017-02-05T08:50:00",
          "2017-02-05T09:00:00",
          "2017-02-05T09:10:00",
          "2017-02-05T09:20:00",
          "2017-02-05T09:30:00",
          "2017-02-05T09:40:00",
          "2017-02-05T09:50:00",
          "2017-02-05T10:00:00",
          "2017-02-05T10:10:00",
          "2017-02-05T10:20:00",
          "2017-02-05T10:30:00",
          "2017-02-05T10:40:00",
          "2017-02-05T10:50:00",
          "2017-02-05T11:00:00",
          "2017-02-05T11:10:00",
          "2017-02-05T11:20:00",
          "2017-02-05T11:30:00",
          "2017-02-05T11:40:00",
          "2017-02-05T11:50:00",
          "2017-02-05T12:00:00",
          "2017-02-05T12:10:00",
          "2017-02-05T12:20:00",
          "2017-02-05T12:30:00",
          "2017-02-05T12:40:00",
          "2017-02-05T12:50:00",
          "2017-02-05T13:00:00",
          "2017-02-05T13:10:00",
          "2017-02-05T13:20:00",
          "2017-02-05T13:30:00",
          "2017-02-05T13:40:00",
          "2017-02-05T13:50:00",
          "2017-02-05T14:00:00",
          "2017-02-05T14:10:00",
          "2017-02-05T14:20:00",
          "2017-02-05T14:30:00",
          "2017-02-05T14:40:00",
          "2017-02-05T14:50:00",
          "2017-02-05T15:00:00",
          "2017-02-05T15:10:00",
          "2017-02-05T15:20:00",
          "2017-02-05T15:30:00",
          "2017-02-05T15:40:00",
          "2017-02-05T15:50:00",
          "2017-02-05T16:00:00",
          "2017-02-05T16:10:00",
          "2017-02-05T16:20:00",
          "2017-02-05T16:30:00",
          "2017-02-05T16:40:00",
          "2017-02-05T16:50:00",
          "2017-02-05T17:00:00",
          "2017-02-05T17:10:00",
          "2017-02-05T17:20:00",
          "2017-02-05T17:30:00",
          "2017-02-05T17:40:00",
          "2017-02-05T17:50:00",
          "2017-02-05T18:00:00",
          "2017-02-05T18:10:00",
          "2017-02-05T18:20:00",
          "2017-02-05T18:30:00",
          "2017-02-05T18:40:00",
          "2017-02-05T18:50:00",
          "2017-02-05T19:00:00",
          "2017-02-05T19:10:00",
          "2017-02-05T19:20:00",
          "2017-02-05T19:30:00",
          "2017-02-05T19:40:00",
          "2017-02-05T19:50:00",
          "2017-02-05T20:00:00",
          "2017-02-05T20:10:00",
          "2017-02-05T20:20:00",
          "2017-02-05T20:30:00",
          "2017-02-05T20:40:00",
          "2017-02-05T20:50:00",
          "2017-02-05T21:00:00",
          "2017-02-05T21:10:00",
          "2017-02-05T21:20:00",
          "2017-02-05T21:30:00",
          "2017-02-05T21:40:00",
          "2017-02-05T21:50:00",
          "2017-02-05T22:00:00",
          "2017-02-05T22:10:00",
          "2017-02-05T22:20:00",
          "2017-02-05T22:30:00",
          "2017-02-05T22:40:00",
          "2017-02-05T22:50:00",
          "2017-02-05T23:00:00",
          "2017-02-05T23:10:00",
          "2017-02-05T23:20:00",
          "2017-02-05T23:30:00",
          "2017-02-05T23:40:00",
          "2017-02-05T23:50:00",
          "2017-02-06T00:00:00",
          "2017-02-06T00:10:00",
          "2017-02-06T00:20:00",
          "2017-02-06T00:30:00",
          "2017-02-06T00:40:00",
          "2017-02-06T00:50:00",
          "2017-02-06T01:00:00",
          "2017-02-06T01:10:00",
          "2017-02-06T01:20:00",
          "2017-02-06T01:30:00",
          "2017-02-06T01:40:00",
          "2017-02-06T01:50:00",
          "2017-02-06T02:00:00",
          "2017-02-06T02:10:00",
          "2017-02-06T02:20:00",
          "2017-02-06T02:30:00",
          "2017-02-06T02:40:00",
          "2017-02-06T02:50:00",
          "2017-02-06T03:00:00",
          "2017-02-06T03:10:00",
          "2017-02-06T03:20:00",
          "2017-02-06T03:30:00",
          "2017-02-06T03:40:00",
          "2017-02-06T03:50:00",
          "2017-02-06T04:00:00",
          "2017-02-06T04:10:00",
          "2017-02-06T04:20:00",
          "2017-02-06T04:30:00",
          "2017-02-06T04:40:00",
          "2017-02-06T04:50:00",
          "2017-02-06T05:00:00",
          "2017-02-06T05:10:00",
          "2017-02-06T05:20:00",
          "2017-02-06T05:30:00",
          "2017-02-06T05:40:00",
          "2017-02-06T05:50:00",
          "2017-02-06T06:00:00",
          "2017-02-06T06:10:00",
          "2017-02-06T06:20:00",
          "2017-02-06T06:30:00",
          "2017-02-06T06:40:00",
          "2017-02-06T06:50:00",
          "2017-02-06T07:00:00",
          "2017-02-06T07:10:00",
          "2017-02-06T07:20:00",
          "2017-02-06T07:30:00",
          "2017-02-06T07:40:00",
          "2017-02-06T07:50:00",
          "2017-02-06T08:00:00",
          "2017-02-06T08:10:00",
          "2017-02-06T08:20:00",
          "2017-02-06T08:30:00",
          "2017-02-06T08:40:00",
          "2017-02-06T08:50:00",
          "2017-02-06T09:00:00",
          "2017-02-06T09:10:00",
          "2017-02-06T09:20:00",
          "2017-02-06T09:30:00",
          "2017-02-06T09:40:00",
          "2017-02-06T09:50:00",
          "2017-02-06T10:00:00",
          "2017-02-06T10:10:00",
          "2017-02-06T10:20:00",
          "2017-02-06T10:30:00",
          "2017-02-06T10:40:00",
          "2017-02-06T10:50:00",
          "2017-02-06T11:00:00",
          "2017-02-06T11:10:00",
          "2017-02-06T11:20:00",
          "2017-02-06T11:30:00",
          "2017-02-06T11:40:00",
          "2017-02-06T11:50:00",
          "2017-02-06T12:00:00",
          "2017-02-06T12:10:00",
          "2017-02-06T12:20:00",
          "2017-02-06T12:30:00",
          "2017-02-06T12:40:00",
          "2017-02-06T12:50:00",
          "2017-02-06T13:00:00",
          "2017-02-06T13:10:00",
          "2017-02-06T13:20:00",
          "2017-02-06T13:30:00",
          "2017-02-06T13:40:00",
          "2017-02-06T13:50:00",
          "2017-02-06T14:00:00",
          "2017-02-06T14:10:00",
          "2017-02-06T14:20:00",
          "2017-02-06T14:30:00",
          "2017-02-06T14:40:00",
          "2017-02-06T14:50:00",
          "2017-02-06T15:00:00",
          "2017-02-06T15:10:00",
          "2017-02-06T15:20:00",
          "2017-02-06T15:30:00",
          "2017-02-06T15:40:00",
          "2017-02-06T15:50:00",
          "2017-02-06T16:00:00",
          "2017-02-06T16:10:00",
          "2017-02-06T16:20:00",
          "2017-02-06T16:30:00",
          "2017-02-06T16:40:00",
          "2017-02-06T16:50:00",
          "2017-02-06T17:00:00",
          "2017-02-06T17:10:00",
          "2017-02-06T17:20:00",
          "2017-02-06T17:30:00",
          "2017-02-06T17:40:00",
          "2017-02-06T17:50:00",
          "2017-02-06T18:00:00",
          "2017-02-06T18:10:00",
          "2017-02-06T18:20:00",
          "2017-02-06T18:30:00",
          "2017-02-06T18:40:00",
          "2017-02-06T18:50:00",
          "2017-02-06T19:00:00",
          "2017-02-06T19:10:00",
          "2017-02-06T19:20:00",
          "2017-02-06T19:30:00",
          "2017-02-06T19:40:00",
          "2017-02-06T19:50:00",
          "2017-02-06T20:00:00",
          "2017-02-06T20:10:00",
          "2017-02-06T20:20:00",
          "2017-02-06T20:30:00",
          "2017-02-06T20:40:00",
          "2017-02-06T20:50:00",
          "2017-02-06T21:00:00",
          "2017-02-06T21:10:00",
          "2017-02-06T21:20:00",
          "2017-02-06T21:30:00",
          "2017-02-06T21:40:00",
          "2017-02-06T21:50:00",
          "2017-02-06T22:00:00",
          "2017-02-06T22:10:00",
          "2017-02-06T22:20:00",
          "2017-02-06T22:30:00",
          "2017-02-06T22:40:00",
          "2017-02-06T22:50:00",
          "2017-02-06T23:00:00",
          "2017-02-06T23:10:00",
          "2017-02-06T23:20:00",
          "2017-02-06T23:30:00",
          "2017-02-06T23:40:00",
          "2017-02-06T23:50:00",
          "2017-02-07T00:00:00",
          "2017-02-07T00:10:00",
          "2017-02-07T00:20:00",
          "2017-02-07T00:30:00",
          "2017-02-07T00:40:00",
          "2017-02-07T00:50:00",
          "2017-02-07T01:00:00",
          "2017-02-07T01:10:00",
          "2017-02-07T01:20:00",
          "2017-02-07T01:30:00",
          "2017-02-07T01:40:00",
          "2017-02-07T01:50:00",
          "2017-02-07T02:00:00",
          "2017-02-07T02:10:00",
          "2017-02-07T02:20:00",
          "2017-02-07T02:30:00",
          "2017-02-07T02:40:00",
          "2017-02-07T02:50:00",
          "2017-02-07T03:00:00",
          "2017-02-07T03:10:00",
          "2017-02-07T03:20:00",
          "2017-02-07T03:30:00",
          "2017-02-07T03:40:00",
          "2017-02-07T03:50:00",
          "2017-02-07T04:00:00",
          "2017-02-07T04:10:00",
          "2017-02-07T04:20:00",
          "2017-02-07T04:30:00",
          "2017-02-07T04:40:00",
          "2017-02-07T04:50:00",
          "2017-02-07T05:00:00",
          "2017-02-07T05:10:00",
          "2017-02-07T05:20:00",
          "2017-02-07T05:30:00",
          "2017-02-07T05:40:00",
          "2017-02-07T05:50:00",
          "2017-02-07T06:00:00",
          "2017-02-07T06:10:00",
          "2017-02-07T06:20:00",
          "2017-02-07T06:30:00",
          "2017-02-07T06:40:00",
          "2017-02-07T06:50:00",
          "2017-02-07T07:00:00",
          "2017-02-07T07:10:00",
          "2017-02-07T07:20:00",
          "2017-02-07T07:30:00",
          "2017-02-07T07:40:00",
          "2017-02-07T07:50:00",
          "2017-02-07T08:00:00",
          "2017-02-07T08:10:00",
          "2017-02-07T08:20:00",
          "2017-02-07T08:30:00",
          "2017-02-07T08:40:00",
          "2017-02-07T08:50:00",
          "2017-02-07T09:00:00",
          "2017-02-07T09:10:00",
          "2017-02-07T09:20:00",
          "2017-02-07T09:30:00",
          "2017-02-07T09:40:00",
          "2017-02-07T09:50:00",
          "2017-02-07T10:00:00",
          "2017-02-07T10:10:00",
          "2017-02-07T10:20:00",
          "2017-02-07T10:30:00",
          "2017-02-07T10:40:00",
          "2017-02-07T10:50:00",
          "2017-02-07T11:00:00",
          "2017-02-07T11:10:00",
          "2017-02-07T11:20:00",
          "2017-02-07T11:30:00",
          "2017-02-07T11:40:00",
          "2017-02-07T11:50:00",
          "2017-02-07T12:00:00",
          "2017-02-07T12:10:00",
          "2017-02-07T12:20:00",
          "2017-02-07T12:30:00",
          "2017-02-07T12:40:00",
          "2017-02-07T12:50:00",
          "2017-02-07T13:00:00",
          "2017-02-07T13:10:00",
          "2017-02-07T13:20:00",
          "2017-02-07T13:30:00",
          "2017-02-07T13:40:00",
          "2017-02-07T13:50:00",
          "2017-02-07T14:00:00",
          "2017-02-07T14:10:00",
          "2017-02-07T14:20:00",
          "2017-02-07T14:30:00",
          "2017-02-07T14:40:00",
          "2017-02-07T14:50:00",
          "2017-02-07T15:00:00",
          "2017-02-07T15:10:00",
          "2017-02-07T15:20:00",
          "2017-02-07T15:30:00",
          "2017-02-07T15:40:00",
          "2017-02-07T15:50:00",
          "2017-02-07T16:00:00",
          "2017-02-07T16:10:00",
          "2017-02-07T16:20:00",
          "2017-02-07T16:30:00",
          "2017-02-07T16:40:00",
          "2017-02-07T16:50:00",
          "2017-02-07T17:00:00",
          "2017-02-07T17:10:00",
          "2017-02-07T17:20:00",
          "2017-02-07T17:30:00",
          "2017-02-07T17:40:00",
          "2017-02-07T17:50:00",
          "2017-02-07T18:00:00",
          "2017-02-07T18:10:00",
          "2017-02-07T18:20:00",
          "2017-02-07T18:30:00",
          "2017-02-07T18:40:00",
          "2017-02-07T18:50:00",
          "2017-02-07T19:00:00",
          "2017-02-07T19:10:00",
          "2017-02-07T19:20:00",
          "2017-02-07T19:30:00",
          "2017-02-07T19:40:00",
          "2017-02-07T19:50:00",
          "2017-02-07T20:00:00",
          "2017-02-07T20:10:00",
          "2017-02-07T20:20:00",
          "2017-02-07T20:30:00",
          "2017-02-07T20:40:00",
          "2017-02-07T20:50:00",
          "2017-02-07T21:00:00",
          "2017-02-07T21:10:00",
          "2017-02-07T21:20:00",
          "2017-02-07T21:30:00",
          "2017-02-07T21:40:00",
          "2017-02-07T21:50:00",
          "2017-02-07T22:00:00",
          "2017-02-07T22:10:00",
          "2017-02-07T22:20:00",
          "2017-02-07T22:30:00",
          "2017-02-07T22:40:00",
          "2017-02-07T22:50:00",
          "2017-02-07T23:00:00",
          "2017-02-07T23:10:00",
          "2017-02-07T23:20:00",
          "2017-02-07T23:30:00",
          "2017-02-07T23:40:00",
          "2017-02-07T23:50:00",
          "2017-02-08T00:00:00",
          "2017-02-08T00:10:00",
          "2017-02-08T00:20:00",
          "2017-02-08T00:30:00",
          "2017-02-08T00:40:00",
          "2017-02-08T00:50:00",
          "2017-02-08T01:00:00",
          "2017-02-08T01:10:00",
          "2017-02-08T01:20:00",
          "2017-02-08T01:30:00",
          "2017-02-08T01:40:00",
          "2017-02-08T01:50:00",
          "2017-02-08T02:00:00",
          "2017-02-08T02:10:00",
          "2017-02-08T02:20:00",
          "2017-02-08T02:30:00",
          "2017-02-08T02:40:00",
          "2017-02-08T02:50:00",
          "2017-02-08T03:00:00",
          "2017-02-08T03:10:00",
          "2017-02-08T03:20:00",
          "2017-02-08T03:30:00",
          "2017-02-08T03:40:00",
          "2017-02-08T03:50:00",
          "2017-02-08T04:00:00",
          "2017-02-08T04:10:00",
          "2017-02-08T04:20:00",
          "2017-02-08T04:30:00",
          "2017-02-08T04:40:00",
          "2017-02-08T04:50:00",
          "2017-02-08T05:00:00",
          "2017-02-08T05:10:00",
          "2017-02-08T05:20:00",
          "2017-02-08T05:30:00",
          "2017-02-08T05:40:00",
          "2017-02-08T05:50:00",
          "2017-02-08T06:00:00",
          "2017-02-08T06:10:00",
          "2017-02-08T06:20:00",
          "2017-02-08T06:30:00",
          "2017-02-08T06:40:00",
          "2017-02-08T06:50:00",
          "2017-02-08T07:00:00",
          "2017-02-08T07:10:00",
          "2017-02-08T07:20:00",
          "2017-02-08T07:30:00",
          "2017-02-08T07:40:00",
          "2017-02-08T07:50:00",
          "2017-02-08T08:00:00",
          "2017-02-08T08:10:00",
          "2017-02-08T08:20:00",
          "2017-02-08T08:30:00",
          "2017-02-08T08:40:00",
          "2017-02-08T08:50:00",
          "2017-02-08T09:00:00",
          "2017-02-08T09:10:00"
         ],
         "xaxis": "x",
         "y": [
          506.7962962962963,
          504.15,
          505.8939393939394,
          505.22222222222223,
          502.65909090909093,
          503.3148148148149,
          501.72727272727275,
          501.51851851851853,
          502.6,
          504.85,
          501.7833333333334,
          504.8181818181818,
          505.00925925925924,
          504.33333333333337,
          503.2037037037037,
          505.9621212121212,
          503.3703703703703,
          504.5333333333334,
          503.7166666666667,
          503.725,
          503.83333333333337,
          502.537037037037,
          499.66666666666663,
          502.59259259259255,
          501.2878787878788,
          501.4814814814815,
          499.6,
          503.4666666666667,
          501.2166666666667,
          501.30303030303025,
          502.82407407407413,
          504.05303030303037,
          503.90740740740745,
          503.439393939394,
          503.3888888888889,
          502.5,
          503.775,
          502.9083333333334,
          504.72727272727275,
          506.2037037037037,
          503.95454545454544,
          507.72222222222223,
          508.18939393939394,
          504.8518518518519,
          503.9833333333333,
          506.4,
          505.85,
          505.8181818181818,
          510.462962962963,
          505.3939393939394,
          504.3703703703703,
          504.18939393939394,
          506.5833333333333,
          506.4583333333333,
          504.5999999999999,
          505.5,
          503.32575757575756,
          505.70370370370375,
          504.79545454545456,
          505.6018518518518,
          505.98484848484856,
          507.9537037037037,
          510.1,
          507.975,
          513.4000000000001,
          515.2727272727273,
          511.50925925925924,
          507.2121212121212,
          502.72222222222223,
          503.67424242424255,
          505.80555555555554,
          509.6583333333333,
          507.3166666666667,
          509.275,
          510.75757575757575,
          508.3611111111111,
          502.79545454545456,
          498.1481481481481,
          496.75757575757575,
          498.77777777777777,
          498.575,
          504.9333333333333,
          501.6583333333333,
          505.04545454545456,
          505.425925925926,
          507.01515151515156,
          508.074074074074,
          510.1530303030302,
          508.40740740740733,
          509.1333333333333,
          510.3416666666667,
          508.6083333333333,
          512.4242424242425,
          512.3055555555555,
          511.99696969696976,
          510.8518518518519,
          512.2651515151515,
          515.2777777777778,
          514.8666666666666,
          515.7583333333333,
          515.1333333333334,
          514.4545454545455,
          515.1481481481482,
          515.9393939393939,
          519.4074074074074,
          516.0454545454545,
          518.2407407407408,
          516.6166666666667,
          514.3833333333333,
          517.95,
          519.6136363636364,
          522.2962962962963,
          519.2727272727273,
          521.6388888888889,
          522.969696969697,
          520.3518518518518,
          526.5666666666666,
          522.6166666666666,
          521.9166666666666,
          514.7727272727273,
          513.4166666666666,
          522.2348484848485,
          528.4814814814814,
          529.1363636363636,
          531.962962962963,
          528.8,
          533.475,
          534.1,
          534.0757575757575,
          531.1388888888889,
          529.219696969697,
          534,
          533.0151515151515,
          529.5370370370371,
          531.45,
          532.5166666666667,
          533.5833333333333,
          535.4090909090909,
          531.7962962962963,
          536.3484848484849,
          536.2962962962962,
          536.4393939393939,
          539.3888888888889,
          537.5083333333333,
          538.3833333333333,
          535.5916666666666,
          538.2727272727273,
          539.2037037037037,
          539.5606060606061,
          541.7592592592592,
          538.4848484848485,
          542.0555555555555,
          540.35,
          538.8500000000001,
          541.4333333333333,
          541.560606060606,
          540.4259259259259,
          543.2424242424241,
          542.7037037037038,
          543.1363636363636,
          543.925925925926,
          545.6833333333333,
          546.5833333333334,
          546.45,
          549.7196969696969,
          550.3333333333334,
          553.2121212121211,
          553.9074074074074,
          554.9090909090909,
          556.0185185185186,
          559.225,
          559.4666666666667,
          564.8666666666667,
          567.9090909090909,
          566.5462962962963,
          566.219696969697,
          568.1111111111111,
          567.9242424242425,
          567.9259259259259,
          569.6333333333333,
          571.0333333333333,
          573.95,
          575.8181818181819,
          578.4375,
          579.060606060606,
          580.6759259259259,
          582.8636363636364,
          588.287037037037,
          586.95,
          591.6,
          595.2166666666667,
          602.439393939394,
          606.175925925926,
          605.4,
          605.9444444444445,
          611.1742424242424,
          609.1666666666666,
          613.5,
          617.8666666666666,
          617.4416666666667,
          623.6136363636364,
          627.7592592592592,
          636.8939393939395,
          641.7592592592592,
          643.5530303030304,
          644.3518518518518,
          640.0583333333333,
          638.2833333333334,
          637.2833333333334,
          634.6742424242425,
          629.8611111111111,
          632.7651515151515,
          629.2222222222222,
          630.8863636363636,
          627.9259259259259,
          628.6899999999998,
          629.95,
          633.9333333333334,
          632.6515151515151,
          633.4074074074074,
          630.1666666666667,
          632.0648148148149,
          639.5833333333334,
          641.537037037037,
          649.5416666666667,
          655.9416666666667,
          658.775,
          658.3257575757576,
          661.4351851851852,
          664.4469696969697,
          674.0092592592594,
          681.4545454545455,
          682.0925925925926,
          663.6583333333333,
          655.2716666666668,
          655.6666666666667,
          657.5681818181819,
          657.2222222222222,
          662.8560606060605,
          660.5625,
          662.6666666666666,
          663.1851851851852,
          668.5083333333333,
          667.1916666666667,
          670.8833333333333,
          683.1287878787879,
          689.1296296296296,
          682.7727272727271,
          678.8425925925926,
          676.4848484848485,
          672.3194444444445,
          676.1833333333333,
          672.7,
          674.7333333333333,
          675.1818181818181,
          668.425925925926,
          649.439393939394,
          654.4259259259259,
          652.0757575757575,
          657.0925925925926,
          658.5833333333333,
          665.1333333333333,
          668.1583333333333,
          675.1969696969697,
          675.8333333333334,
          678.7121212121211,
          679.9259259259259,
          685.1363636363636,
          690.7962962962962,
          692.9,
          694.6666666666667,
          701.4833333333333,
          700.6363636363636,
          707.2222222222222,
          707.9393939393939,
          712.8148148148149,
          717.8636363636364,
          720.1296296296297,
          718.25,
          722.2166666666667,
          714.85,
          721.6060606060605,
          729.074074074074,
          731.2727272727273,
          729.8333333333334,
          729.1212121212121,
          730.2592592592592,
          731.3,
          732.3833333333333,
          729.8,
          732.969696969697,
          714.2592592592592,
          775.6363636363636,
          798.5555555555555,
          808.5666666666667,
          817.4259259259259,
          826.3166666666666,
          903.9166666666666,
          862.9333333333332,
          854.4848484848484,
          854.3055555555555,
          854.1212121212124,
          861.5,
          858.8181818181819,
          861.3333333333334,
          861.75,
          864.6,
          867.2,
          865.3560606060607,
          859.7222222222222,
          857.9393939393939,
          858.2962962962963,
          849.1818181818181,
          845.3333333333334,
          822.65,
          801.1333333333333,
          800.25,
          790.0151515151515,
          785,
          788.0909090909091,
          794.7407407407408,
          793.6818181818181,
          798.962962962963,
          795.3666666666667,
          799.75,
          801.1833333333333,
          802.1666666666665,
          802.2222222222222,
          806.8484848484848,
          810.3888888888889,
          811.7954545454545,
          811.574074074074,
          805.8333333333333,
          808.55,
          813.4333333333333,
          818.5530303030304,
          819.2037037037038,
          821.8181818181819,
          825.3981481481482,
          826.4696969696971,
          848.8333333333334,
          879.1133333333333,
          902.325,
          966.9583333333333,
          1005.4393939393937,
          1013.4537037037034,
          1002.5757575757575,
          1012.194444444444,
          977.7196969696969,
          971.3851851851853,
          968.8083333333334,
          971.275,
          969.9333333333332,
          1006.1590909090905,
          1044.5370370370376,
          1038.078787878788,
          1012.3611111111111,
          1002.7878787878791,
          983.7407407407409,
          964.9916666666668,
          939.725,
          911.945,
          924.8484848484848,
          910.675925925926,
          906.4545454545455,
          898.6203703703703,
          895.6499999999997,
          890.6296296296297,
          872.7583333333332,
          861.5,
          854.3833333333332,
          837.0075757575756,
          846.2037037037037,
          884.3257575757576,
          908.9722222222222,
          917.9378787878787,
          908.0740740740741,
          907.3416666666668,
          899.2333333333332,
          870.2333333333333,
          862.9772727272727,
          882.3148148148148,
          892.4015151515151,
          892.0833333333334,
          905.4393939393939,
          924.0462962962964,
          921.225,
          928.7333333333332,
          916.875,
          906.6818181818181,
          927.7314814814815,
          976.742424242424,
          974.2407407407409,
          978.1515151515152,
          986.962962962963,
          982.025,
          973.2166666666668,
          944.0166666666668,
          925.4393939393939,
          888.0185185185186,
          854.3636363636364,
          834.1666666666666,
          815.189393939394,
          795.4814814814814,
          773.3166666666666,
          765.4416666666666,
          762.8,
          754.4545454545455,
          747.9074074074074,
          742.8787878787879,
          739.8888888888889,
          730.9242424242425,
          724.962962962963,
          725.8500000000001,
          723.95,
          724.575,
          721.6515151515151,
          723.2407407407408,
          722.2878787878789,
          719.2222222222222,
          713.6212121212121,
          714.4814814814814,
          718.6500000000001,
          712.4833333333333,
          716.15,
          716.7575757575758,
          714.8703703703703,
          714.280303030303,
          713.462962962963,
          712.5227272727273,
          714.537037037037,
          714.4166666666666,
          712.5166666666667,
          715.1333333333333,
          717.6515151515151,
          713.2037037037038,
          713.2045454545455,
          715.7777777777778,
          711.0757575757575,
          713.5833333333334,
          713.4666666666667,
          712.7666666666667,
          721.2333333333333,
          714.9242424242424,
          719.2962962962963,
          717.4621212121211,
          717.074074074074,
          716.7272727272729,
          714.6666666666666,
          717.9333333333333,
          722,
          721.75,
          721.0454545454545,
          724.925925925926,
          725.9166666666667,
          731.0833333333334,
          731.2575757575758,
          730.5925925925926,
          733.2333333333333,
          734.5833333333333,
          736.0666666666666,
          737.8030303030303,
          738.462962962963,
          740.0151515151515,
          739.4166666666666,
          734.8257575757576,
          735.2037037037037,
          742.525,
          742.2583333333333,
          744.3666666666667,
          750.7272727272727,
          751.3148148148149,
          756.3181818181819,
          756.0925925925926,
          760.8181818181819,
          765.5740740740741,
          766.75,
          773.2833333333334,
          773.75,
          777.1818181818181,
          780.4444444444445,
          784.5,
          788.1111111111111,
          792.7651515151516,
          820.9814814814815,
          835,
          847.2666666666668,
          873.95,
          926.3030303030304,
          938.6111111111111,
          945.5606060606061,
          946.2074074074072,
          961.6742424242425,
          960.5370370370371,
          967.3833333333336,
          980.6416666666668,
          988.9537037037036,
          1005.9318181818181,
          1042.0370370370367,
          1074.2196969696972,
          1099.259259259259,
          1081.9242424242427,
          1110.0277777777778,
          1155.2666666666669,
          1222.825,
          1348.775,
          1258.69696969697,
          1196.3555555555556,
          1157.590909090909,
          1150.7259259259254,
          1153.7727272727273,
          1130.829629629629,
          1119.266666666666,
          1141.333333333333,
          1165.041666666667,
          1180.7575757575762,
          1211.9555555555555,
          1255.5681818181818,
          1298.259259259259,
          1322.2424242424238,
          1346.25,
          1352.908333333333,
          1391.15,
          1410.5166666666669,
          1411.775000000001,
          1466.3981481481478,
          1384.1742424242418,
          1404.3333333333323,
          1420.6893939393938,
          1489.111111111111,
          1517.4,
          1459.033333333333,
          1472.1416666666669,
          1494.6363636363637,
          1483.4814814814822,
          1513.515151515152,
          1547.731481481481,
          1749.9469696969702,
          1700.9537037037035,
          1668.6666666666672,
          1602.725,
          1557.525,
          1532.8181818181818,
          1498.0370370370367,
          1478.4318181818182,
          1482.8148148148146,
          1473.1212121212118,
          1468.2037037037035,
          1468.541666666667,
          1472.6,
          1489.3,
          1500.9545454545455,
          1520.1666666666667,
          1489.7727272727273,
          1505.8148148148146,
          1520.6515151515146,
          1518.6851851851845,
          1505.383333333333,
          1515.216666666667,
          1546.85,
          1704.7424242424238,
          1686.2222222222222,
          1535.909090909091,
          1513.7037037037035,
          1556.575757575757,
          1507.740740740741,
          1424.866666666667,
          1486.4333333333338,
          1582.2666666666669,
          1572.39393939394,
          1154.481481481481,
          1152.7424242424245,
          1192.4444444444443,
          1207.712121212121,
          1238.8333333333333,
          1225.55,
          1216.9333333333338,
          1283.05,
          1068.7424242424245,
          1218.9629629629624,
          1548.9545454545462,
          1338,
          1388.2878787878783,
          1313.4722222222222,
          1320.733333333334,
          1343.5166666666669,
          1559.708333333333,
          1620.7272727272727,
          1269.111111111111,
          1213.8636363636363,
          1225.2777777777778,
          1253.5151515151517,
          1268.981481481481,
          1261.991666666666,
          1248.6833333333338,
          1262.75,
          1359.60606060606,
          1361.759259259259,
          1368.8484848484845,
          1396.3981481481478,
          1418.462121212121,
          1410.9444444444443,
          1457.825,
          1488.716666666667,
          1501.85,
          1542.9318181818182,
          1494.9629629629633,
          1504.2272727272727,
          1519.9074074074078,
          1535.2272727272727,
          1553.4444444444443,
          1558.1,
          1531.866666666667,
          1550.35,
          1525,
          1478.111111111111,
          1483.4242424242427,
          1503.0925925925933,
          1510.7121212121208,
          1500.5277777777778,
          1463.366666666667,
          1436.025,
          1415.7333333333331,
          1420.69696969697,
          1417.0555555555557,
          1430.2727272727273,
          1443.9351851851854,
          1444,
          1413.611111111111,
          1485.0149999999999,
          1452.783333333334,
          1545.375
         ],
         "yaxis": "y"
        }
       ],
       "layout": {
        "barmode": "relative",
        "coloraxis": {
         "colorbar": {
          "title": {
           "text": "Anwesenheit"
          }
         },
         "colorscale": [
          [
           0,
           "#0d0887"
          ],
          [
           0.1111111111111111,
           "#46039f"
          ],
          [
           0.2222222222222222,
           "#7201a8"
          ],
          [
           0.3333333333333333,
           "#9c179e"
          ],
          [
           0.4444444444444444,
           "#bd3786"
          ],
          [
           0.5555555555555556,
           "#d8576b"
          ],
          [
           0.6666666666666666,
           "#ed7953"
          ],
          [
           0.7777777777777778,
           "#fb9f3a"
          ],
          [
           0.8888888888888888,
           "#fdca26"
          ],
          [
           1,
           "#f0f921"
          ]
         ]
        },
        "legend": {
         "tracegroupgap": 0
        },
        "margin": {
         "t": 60
        },
        "template": {
         "data": {
          "bar": [
           {
            "error_x": {
             "color": "#2a3f5f"
            },
            "error_y": {
             "color": "#2a3f5f"
            },
            "marker": {
             "line": {
              "color": "#E5ECF6",
              "width": 0.5
             },
             "pattern": {
              "fillmode": "overlay",
              "size": 10,
              "solidity": 0.2
             }
            },
            "type": "bar"
           }
          ],
          "barpolar": [
           {
            "marker": {
             "line": {
              "color": "#E5ECF6",
              "width": 0.5
             },
             "pattern": {
              "fillmode": "overlay",
              "size": 10,
              "solidity": 0.2
             }
            },
            "type": "barpolar"
           }
          ],
          "carpet": [
           {
            "aaxis": {
             "endlinecolor": "#2a3f5f",
             "gridcolor": "white",
             "linecolor": "white",
             "minorgridcolor": "white",
             "startlinecolor": "#2a3f5f"
            },
            "baxis": {
             "endlinecolor": "#2a3f5f",
             "gridcolor": "white",
             "linecolor": "white",
             "minorgridcolor": "white",
             "startlinecolor": "#2a3f5f"
            },
            "type": "carpet"
           }
          ],
          "choropleth": [
           {
            "colorbar": {
             "outlinewidth": 0,
             "ticks": ""
            },
            "type": "choropleth"
           }
          ],
          "contour": [
           {
            "colorbar": {
             "outlinewidth": 0,
             "ticks": ""
            },
            "colorscale": [
             [
              0,
              "#0d0887"
             ],
             [
              0.1111111111111111,
              "#46039f"
             ],
             [
              0.2222222222222222,
              "#7201a8"
             ],
             [
              0.3333333333333333,
              "#9c179e"
             ],
             [
              0.4444444444444444,
              "#bd3786"
             ],
             [
              0.5555555555555556,
              "#d8576b"
             ],
             [
              0.6666666666666666,
              "#ed7953"
             ],
             [
              0.7777777777777778,
              "#fb9f3a"
             ],
             [
              0.8888888888888888,
              "#fdca26"
             ],
             [
              1,
              "#f0f921"
             ]
            ],
            "type": "contour"
           }
          ],
          "contourcarpet": [
           {
            "colorbar": {
             "outlinewidth": 0,
             "ticks": ""
            },
            "type": "contourcarpet"
           }
          ],
          "heatmap": [
           {
            "colorbar": {
             "outlinewidth": 0,
             "ticks": ""
            },
            "colorscale": [
             [
              0,
              "#0d0887"
             ],
             [
              0.1111111111111111,
              "#46039f"
             ],
             [
              0.2222222222222222,
              "#7201a8"
             ],
             [
              0.3333333333333333,
              "#9c179e"
             ],
             [
              0.4444444444444444,
              "#bd3786"
             ],
             [
              0.5555555555555556,
              "#d8576b"
             ],
             [
              0.6666666666666666,
              "#ed7953"
             ],
             [
              0.7777777777777778,
              "#fb9f3a"
             ],
             [
              0.8888888888888888,
              "#fdca26"
             ],
             [
              1,
              "#f0f921"
             ]
            ],
            "type": "heatmap"
           }
          ],
          "heatmapgl": [
           {
            "colorbar": {
             "outlinewidth": 0,
             "ticks": ""
            },
            "colorscale": [
             [
              0,
              "#0d0887"
             ],
             [
              0.1111111111111111,
              "#46039f"
             ],
             [
              0.2222222222222222,
              "#7201a8"
             ],
             [
              0.3333333333333333,
              "#9c179e"
             ],
             [
              0.4444444444444444,
              "#bd3786"
             ],
             [
              0.5555555555555556,
              "#d8576b"
             ],
             [
              0.6666666666666666,
              "#ed7953"
             ],
             [
              0.7777777777777778,
              "#fb9f3a"
             ],
             [
              0.8888888888888888,
              "#fdca26"
             ],
             [
              1,
              "#f0f921"
             ]
            ],
            "type": "heatmapgl"
           }
          ],
          "histogram": [
           {
            "marker": {
             "pattern": {
              "fillmode": "overlay",
              "size": 10,
              "solidity": 0.2
             }
            },
            "type": "histogram"
           }
          ],
          "histogram2d": [
           {
            "colorbar": {
             "outlinewidth": 0,
             "ticks": ""
            },
            "colorscale": [
             [
              0,
              "#0d0887"
             ],
             [
              0.1111111111111111,
              "#46039f"
             ],
             [
              0.2222222222222222,
              "#7201a8"
             ],
             [
              0.3333333333333333,
              "#9c179e"
             ],
             [
              0.4444444444444444,
              "#bd3786"
             ],
             [
              0.5555555555555556,
              "#d8576b"
             ],
             [
              0.6666666666666666,
              "#ed7953"
             ],
             [
              0.7777777777777778,
              "#fb9f3a"
             ],
             [
              0.8888888888888888,
              "#fdca26"
             ],
             [
              1,
              "#f0f921"
             ]
            ],
            "type": "histogram2d"
           }
          ],
          "histogram2dcontour": [
           {
            "colorbar": {
             "outlinewidth": 0,
             "ticks": ""
            },
            "colorscale": [
             [
              0,
              "#0d0887"
             ],
             [
              0.1111111111111111,
              "#46039f"
             ],
             [
              0.2222222222222222,
              "#7201a8"
             ],
             [
              0.3333333333333333,
              "#9c179e"
             ],
             [
              0.4444444444444444,
              "#bd3786"
             ],
             [
              0.5555555555555556,
              "#d8576b"
             ],
             [
              0.6666666666666666,
              "#ed7953"
             ],
             [
              0.7777777777777778,
              "#fb9f3a"
             ],
             [
              0.8888888888888888,
              "#fdca26"
             ],
             [
              1,
              "#f0f921"
             ]
            ],
            "type": "histogram2dcontour"
           }
          ],
          "mesh3d": [
           {
            "colorbar": {
             "outlinewidth": 0,
             "ticks": ""
            },
            "type": "mesh3d"
           }
          ],
          "parcoords": [
           {
            "line": {
             "colorbar": {
              "outlinewidth": 0,
              "ticks": ""
             }
            },
            "type": "parcoords"
           }
          ],
          "pie": [
           {
            "automargin": true,
            "type": "pie"
           }
          ],
          "scatter": [
           {
            "marker": {
             "colorbar": {
              "outlinewidth": 0,
              "ticks": ""
             }
            },
            "type": "scatter"
           }
          ],
          "scatter3d": [
           {
            "line": {
             "colorbar": {
              "outlinewidth": 0,
              "ticks": ""
             }
            },
            "marker": {
             "colorbar": {
              "outlinewidth": 0,
              "ticks": ""
             }
            },
            "type": "scatter3d"
           }
          ],
          "scattercarpet": [
           {
            "marker": {
             "colorbar": {
              "outlinewidth": 0,
              "ticks": ""
             }
            },
            "type": "scattercarpet"
           }
          ],
          "scattergeo": [
           {
            "marker": {
             "colorbar": {
              "outlinewidth": 0,
              "ticks": ""
             }
            },
            "type": "scattergeo"
           }
          ],
          "scattergl": [
           {
            "marker": {
             "colorbar": {
              "outlinewidth": 0,
              "ticks": ""
             }
            },
            "type": "scattergl"
           }
          ],
          "scattermapbox": [
           {
            "marker": {
             "colorbar": {
              "outlinewidth": 0,
              "ticks": ""
             }
            },
            "type": "scattermapbox"
           }
          ],
          "scatterpolar": [
           {
            "marker": {
             "colorbar": {
              "outlinewidth": 0,
              "ticks": ""
             }
            },
            "type": "scatterpolar"
           }
          ],
          "scatterpolargl": [
           {
            "marker": {
             "colorbar": {
              "outlinewidth": 0,
              "ticks": ""
             }
            },
            "type": "scatterpolargl"
           }
          ],
          "scatterternary": [
           {
            "marker": {
             "colorbar": {
              "outlinewidth": 0,
              "ticks": ""
             }
            },
            "type": "scatterternary"
           }
          ],
          "surface": [
           {
            "colorbar": {
             "outlinewidth": 0,
             "ticks": ""
            },
            "colorscale": [
             [
              0,
              "#0d0887"
             ],
             [
              0.1111111111111111,
              "#46039f"
             ],
             [
              0.2222222222222222,
              "#7201a8"
             ],
             [
              0.3333333333333333,
              "#9c179e"
             ],
             [
              0.4444444444444444,
              "#bd3786"
             ],
             [
              0.5555555555555556,
              "#d8576b"
             ],
             [
              0.6666666666666666,
              "#ed7953"
             ],
             [
              0.7777777777777778,
              "#fb9f3a"
             ],
             [
              0.8888888888888888,
              "#fdca26"
             ],
             [
              1,
              "#f0f921"
             ]
            ],
            "type": "surface"
           }
          ],
          "table": [
           {
            "cells": {
             "fill": {
              "color": "#EBF0F8"
             },
             "line": {
              "color": "white"
             }
            },
            "header": {
             "fill": {
              "color": "#C8D4E3"
             },
             "line": {
              "color": "white"
             }
            },
            "type": "table"
           }
          ]
         },
         "layout": {
          "annotationdefaults": {
           "arrowcolor": "#2a3f5f",
           "arrowhead": 0,
           "arrowwidth": 1
          },
          "autotypenumbers": "strict",
          "coloraxis": {
           "colorbar": {
            "outlinewidth": 0,
            "ticks": ""
           }
          },
          "colorscale": {
           "diverging": [
            [
             0,
             "#8e0152"
            ],
            [
             0.1,
             "#c51b7d"
            ],
            [
             0.2,
             "#de77ae"
            ],
            [
             0.3,
             "#f1b6da"
            ],
            [
             0.4,
             "#fde0ef"
            ],
            [
             0.5,
             "#f7f7f7"
            ],
            [
             0.6,
             "#e6f5d0"
            ],
            [
             0.7,
             "#b8e186"
            ],
            [
             0.8,
             "#7fbc41"
            ],
            [
             0.9,
             "#4d9221"
            ],
            [
             1,
             "#276419"
            ]
           ],
           "sequential": [
            [
             0,
             "#0d0887"
            ],
            [
             0.1111111111111111,
             "#46039f"
            ],
            [
             0.2222222222222222,
             "#7201a8"
            ],
            [
             0.3333333333333333,
             "#9c179e"
            ],
            [
             0.4444444444444444,
             "#bd3786"
            ],
            [
             0.5555555555555556,
             "#d8576b"
            ],
            [
             0.6666666666666666,
             "#ed7953"
            ],
            [
             0.7777777777777778,
             "#fb9f3a"
            ],
            [
             0.8888888888888888,
             "#fdca26"
            ],
            [
             1,
             "#f0f921"
            ]
           ],
           "sequentialminus": [
            [
             0,
             "#0d0887"
            ],
            [
             0.1111111111111111,
             "#46039f"
            ],
            [
             0.2222222222222222,
             "#7201a8"
            ],
            [
             0.3333333333333333,
             "#9c179e"
            ],
            [
             0.4444444444444444,
             "#bd3786"
            ],
            [
             0.5555555555555556,
             "#d8576b"
            ],
            [
             0.6666666666666666,
             "#ed7953"
            ],
            [
             0.7777777777777778,
             "#fb9f3a"
            ],
            [
             0.8888888888888888,
             "#fdca26"
            ],
            [
             1,
             "#f0f921"
            ]
           ]
          },
          "colorway": [
           "#636efa",
           "#EF553B",
           "#00cc96",
           "#ab63fa",
           "#FFA15A",
           "#19d3f3",
           "#FF6692",
           "#B6E880",
           "#FF97FF",
           "#FECB52"
          ],
          "font": {
           "color": "#2a3f5f"
          },
          "geo": {
           "bgcolor": "white",
           "lakecolor": "white",
           "landcolor": "#E5ECF6",
           "showlakes": true,
           "showland": true,
           "subunitcolor": "white"
          },
          "hoverlabel": {
           "align": "left"
          },
          "hovermode": "closest",
          "mapbox": {
           "style": "light"
          },
          "paper_bgcolor": "white",
          "plot_bgcolor": "#E5ECF6",
          "polar": {
           "angularaxis": {
            "gridcolor": "white",
            "linecolor": "white",
            "ticks": ""
           },
           "bgcolor": "#E5ECF6",
           "radialaxis": {
            "gridcolor": "white",
            "linecolor": "white",
            "ticks": ""
           }
          },
          "scene": {
           "xaxis": {
            "backgroundcolor": "#E5ECF6",
            "gridcolor": "white",
            "gridwidth": 2,
            "linecolor": "white",
            "showbackground": true,
            "ticks": "",
            "zerolinecolor": "white"
           },
           "yaxis": {
            "backgroundcolor": "#E5ECF6",
            "gridcolor": "white",
            "gridwidth": 2,
            "linecolor": "white",
            "showbackground": true,
            "ticks": "",
            "zerolinecolor": "white"
           },
           "zaxis": {
            "backgroundcolor": "#E5ECF6",
            "gridcolor": "white",
            "gridwidth": 2,
            "linecolor": "white",
            "showbackground": true,
            "ticks": "",
            "zerolinecolor": "white"
           }
          },
          "shapedefaults": {
           "line": {
            "color": "#2a3f5f"
           }
          },
          "ternary": {
           "aaxis": {
            "gridcolor": "white",
            "linecolor": "white",
            "ticks": ""
           },
           "baxis": {
            "gridcolor": "white",
            "linecolor": "white",
            "ticks": ""
           },
           "bgcolor": "#E5ECF6",
           "caxis": {
            "gridcolor": "white",
            "linecolor": "white",
            "ticks": ""
           }
          },
          "title": {
           "x": 0.05
          },
          "xaxis": {
           "automargin": true,
           "gridcolor": "white",
           "linecolor": "white",
           "ticks": "",
           "title": {
            "standoff": 15
           },
           "zerolinecolor": "white",
           "zerolinewidth": 2
          },
          "yaxis": {
           "automargin": true,
           "gridcolor": "white",
           "linecolor": "white",
           "ticks": "",
           "title": {
            "standoff": 15
           },
           "zerolinecolor": "white",
           "zerolinewidth": 2
          }
         }
        },
        "xaxis": {
         "anchor": "y",
         "domain": [
          0,
          1
         ],
         "title": {
          "text": "Datum"
         }
        },
        "yaxis": {
         "anchor": "x",
         "domain": [
          0,
          1
         ],
         "title": {
          "text": "CO2"
         }
        }
       }
      },
      "text/html": [
       "<div>                            <div id=\"bf215cf7-c0fc-43ec-9070-2ae7215e1137\" class=\"plotly-graph-div\" style=\"height:525px; width:100%;\"></div>            <script type=\"text/javascript\">                require([\"plotly\"], function(Plotly) {                    window.PLOTLYENV=window.PLOTLYENV || {};                                    if (document.getElementById(\"bf215cf7-c0fc-43ec-9070-2ae7215e1137\")) {                    Plotly.newPlot(                        \"bf215cf7-c0fc-43ec-9070-2ae7215e1137\",                        [{\"alignmentgroup\":\"True\",\"hovertemplate\":\"Datum=%{x}<br>CO2=%{y}<br>Anwesenheit=%{marker.color}<extra></extra>\",\"legendgroup\":\"\",\"marker\":{\"color\":[0.0,0.0,0.0,0.0,0.0,0.0,0.0,0.0,0.0,0.0,0.0,0.0,0.0,0.0,0.0,0.0,0.0,0.0,0.0,0.0,0.0,0.0,0.0,0.0,0.0,0.0,0.0,0.0,0.0,0.0,0.0,0.0,0.0,0.0,0.0,0.0,0.0,0.0,0.0,0.0,0.0,0.0,0.0,0.0,0.0,0.0,0.0,0.0,0.0,0.0,0.0,0.0,0.0,0.0,0.0,0.0,0.0,0.0,0.0,0.0,0.0,0.0,0.0,0.0,0.0,0.0,0.0,0.0,0.0,0.0,0.0,0.0,0.0,0.0,0.0,0.0,0.0,0.0,0.0,0.0,0.0,0.0,0.0,0.0,0.0,0.0,0.0,0.0,0.0,0.0,0.0,0.0,0.0,0.0,0.0,0.0,0.0,0.0,0.0,0.0,0.0,0.0,0.0,0.0,0.0,0.0,0.0,0.0,0.0,0.0,0.0,0.0,0.0,0.0,0.0,0.0,0.0,0.0,0.0,0.0,0.0,0.0,0.0,0.0,0.0,0.0,0.0,0.0,0.0,0.0,0.0,0.0,0.0,0.0,0.0,0.0,0.0,0.0,0.0,0.0,0.0,0.0,0.0,0.0,0.0,0.0,0.0,0.0,0.0,0.0,0.0,0.0,0.0,0.0,0.0,0.0,0.0,0.0,0.0,0.0,0.0,0.0,0.0,0.0,0.0,0.0,0.0,0.0,0.0,0.0,0.0,0.0,0.0,0.0,0.0,0.0,0.0,0.0,0.0,0.0,0.0,0.0,0.0,0.0,0.0,0.0,0.0,0.0,0.0,0.0,0.0,0.0,0.0,0.0,0.0,0.0,0.0,0.0,0.0,0.0,0.0,0.0,0.0,0.0,0.0,0.0,0.0,0.0,0.0,0.0,0.0,0.0,0.0,0.0,0.0,0.0,0.0,0.0,0.0,0.0,0.0,0.0,0.0,0.0,0.0,0.0,0.0,0.0,0.0,0.0,0.0,0.0,0.0,0.0,0.0,0.0,0.0,0.0,0.0,0.0,0.0,0.0,0.0,0.0,0.0,0.0,0.0,0.0,0.0,0.0,0.0,0.0,0.0,0.0,0.0,0.0,0.0,0.0,0.0,0.0,0.0,0.0,0.0,0.0,0.0,0.0,0.0,0.0,0.0,0.0,0.0,0.0,0.0,0.0,0.0,0.0,0.0,0.0,0.0,0.0,0.0,0.0,0.0,0.0,0.0,0.0,0.0,0.0,0.0,0.0,0.0,0.0,0.0,0.0,0.0,0.0,0.0,0.0,0.0,0.0,0.0,0.0,0.0,0.0,0.0,0.0,0.0,0.0,0.0,0.0,0.0,0.0,0.0,0.0,0.0,0.0,0.0,0.0,0.0,0.0,0.0,0.0,0.0,0.0,0.0,0.0,0.0,0.0,0.0,0.0,0.0,0.0,0.0,0.0,0.0,0.0,1.0,1.0,1.0,1.0,1.0,1.0,1.0,1.0,1.0,1.0,1.0,1.0,1.0,1.0,1.0,1.0,1.0,1.0,1.0,1.0,1.0,1.0,1.0,1.0,1.0,1.0,1.0,1.0,1.0,1.0,0.0,0.0,0.9,1.0,1.0,1.0,1.0,1.0,1.0,1.0,1.0,1.0,1.0,1.0,1.0,1.0,1.0,1.0,1.0,1.0,1.0,1.0,1.0,1.0,1.0,1.0,1.0,1.0,1.0,1.0,0.0,0.0,0.0,0.0,0.0,0.0,0.0,0.0,0.0,0.0,0.0,0.0,0.0,0.0,0.0,0.0,0.0,0.0,0.0,0.0,0.0,0.0,0.0,0.0,0.0,0.0,0.0,0.0,0.0,0.0,0.0,0.0,0.0,0.0,0.0,0.0,0.0,0.0,0.0,0.0,0.0,0.0,0.0,0.0,0.0,0.0,0.0,0.0,0.0,0.0,0.0,0.0,0.0,0.0,0.0,0.0,0.0,0.0,0.0,0.0,0.0,0.0,0.0,0.0,0.0,0.0,0.0,0.0,0.0,0.0,0.0,0.0,0.0,0.0,0.0,0.0,0.0,0.0,0.0,0.0,0.0,0.0,0.0,0.0,1.0,1.0,1.0,1.0,1.0,1.0,1.0,1.0,1.0,1.0,1.0,1.0,1.0,1.0,1.0,1.0,1.0,1.0,1.0,1.0,1.0,1.0,1.0,1.0,1.0,1.0,1.0,1.0,1.0,1.0,0.0,0.0,0.9,1.0,1.0,1.0,1.0,1.0,1.0,1.0,1.0,1.0,1.0,1.0,1.0,1.0,1.0,1.0,1.0,1.0,1.0,1.0,1.0,1.0,1.0,1.0,1.0,1.0,1.0,1.0,0.0,0.0,0.0,0.0,0.0,1.0,1.0,1.0,1.0,1.0,1.0,1.0,1.0,1.0,1.0,1.0,1.0,1.0,1.0,1.0,1.0,1.0,1.0,1.0,1.0,1.0,1.0,1.0,1.0,0.9090909090909091,0.0,0.0,0.0,0.0,0.3333333333333333,0.3,0.0,0.6,0.0,0.1111111111111111,1.0,1.0,1.0,1.0,1.0,1.0,1.0,1.0,0.6666666666666666,0.0,0.0,0.6363636363636364,1.0,1.0,0.4,0.9,1.0,1.0,1.0,1.0,1.0,1.0,1.0,1.0,1.0,1.0,1.0,1.0,1.0,1.0,1.0,1.0,1.0,1.0,1.0,1.0,1.0,1.0,1.0,1.0,1.0,1.0,1.0,1.0,1.0,1.0,1.0,1.0,1.0,1.0,1.0,1.0],\"coloraxis\":\"coloraxis\",\"pattern\":{\"shape\":\"\"}},\"name\":\"\",\"offsetgroup\":\"\",\"orientation\":\"v\",\"showlegend\":false,\"textposition\":\"auto\",\"type\":\"bar\",\"x\":[\"2017-02-04T00:00:00\",\"2017-02-04T00:10:00\",\"2017-02-04T00:20:00\",\"2017-02-04T00:30:00\",\"2017-02-04T00:40:00\",\"2017-02-04T00:50:00\",\"2017-02-04T01:00:00\",\"2017-02-04T01:10:00\",\"2017-02-04T01:20:00\",\"2017-02-04T01:30:00\",\"2017-02-04T01:40:00\",\"2017-02-04T01:50:00\",\"2017-02-04T02:00:00\",\"2017-02-04T02:10:00\",\"2017-02-04T02:20:00\",\"2017-02-04T02:30:00\",\"2017-02-04T02:40:00\",\"2017-02-04T02:50:00\",\"2017-02-04T03:00:00\",\"2017-02-04T03:10:00\",\"2017-02-04T03:20:00\",\"2017-02-04T03:30:00\",\"2017-02-04T03:40:00\",\"2017-02-04T03:50:00\",\"2017-02-04T04:00:00\",\"2017-02-04T04:10:00\",\"2017-02-04T04:20:00\",\"2017-02-04T04:30:00\",\"2017-02-04T04:40:00\",\"2017-02-04T04:50:00\",\"2017-02-04T05:00:00\",\"2017-02-04T05:10:00\",\"2017-02-04T05:20:00\",\"2017-02-04T05:30:00\",\"2017-02-04T05:40:00\",\"2017-02-04T05:50:00\",\"2017-02-04T06:00:00\",\"2017-02-04T06:10:00\",\"2017-02-04T06:20:00\",\"2017-02-04T06:30:00\",\"2017-02-04T06:40:00\",\"2017-02-04T06:50:00\",\"2017-02-04T07:00:00\",\"2017-02-04T07:10:00\",\"2017-02-04T07:20:00\",\"2017-02-04T07:30:00\",\"2017-02-04T07:40:00\",\"2017-02-04T07:50:00\",\"2017-02-04T08:00:00\",\"2017-02-04T08:10:00\",\"2017-02-04T08:20:00\",\"2017-02-04T08:30:00\",\"2017-02-04T08:40:00\",\"2017-02-04T08:50:00\",\"2017-02-04T09:00:00\",\"2017-02-04T09:10:00\",\"2017-02-04T09:20:00\",\"2017-02-04T09:30:00\",\"2017-02-04T09:40:00\",\"2017-02-04T09:50:00\",\"2017-02-04T10:00:00\",\"2017-02-04T10:10:00\",\"2017-02-04T10:20:00\",\"2017-02-04T10:30:00\",\"2017-02-04T10:40:00\",\"2017-02-04T10:50:00\",\"2017-02-04T11:00:00\",\"2017-02-04T11:10:00\",\"2017-02-04T11:20:00\",\"2017-02-04T11:30:00\",\"2017-02-04T11:40:00\",\"2017-02-04T11:50:00\",\"2017-02-04T12:00:00\",\"2017-02-04T12:10:00\",\"2017-02-04T12:20:00\",\"2017-02-04T12:30:00\",\"2017-02-04T12:40:00\",\"2017-02-04T12:50:00\",\"2017-02-04T13:00:00\",\"2017-02-04T13:10:00\",\"2017-02-04T13:20:00\",\"2017-02-04T13:30:00\",\"2017-02-04T13:40:00\",\"2017-02-04T13:50:00\",\"2017-02-04T14:00:00\",\"2017-02-04T14:10:00\",\"2017-02-04T14:20:00\",\"2017-02-04T14:30:00\",\"2017-02-04T14:40:00\",\"2017-02-04T14:50:00\",\"2017-02-04T15:00:00\",\"2017-02-04T15:10:00\",\"2017-02-04T15:20:00\",\"2017-02-04T15:30:00\",\"2017-02-04T15:40:00\",\"2017-02-04T15:50:00\",\"2017-02-04T16:00:00\",\"2017-02-04T16:10:00\",\"2017-02-04T16:20:00\",\"2017-02-04T16:30:00\",\"2017-02-04T16:40:00\",\"2017-02-04T16:50:00\",\"2017-02-04T17:00:00\",\"2017-02-04T17:10:00\",\"2017-02-04T17:20:00\",\"2017-02-04T17:30:00\",\"2017-02-04T17:40:00\",\"2017-02-04T17:50:00\",\"2017-02-04T18:00:00\",\"2017-02-04T18:10:00\",\"2017-02-04T18:20:00\",\"2017-02-04T18:30:00\",\"2017-02-04T18:40:00\",\"2017-02-04T18:50:00\",\"2017-02-04T19:00:00\",\"2017-02-04T19:10:00\",\"2017-02-04T19:20:00\",\"2017-02-04T19:30:00\",\"2017-02-04T19:40:00\",\"2017-02-04T19:50:00\",\"2017-02-04T20:00:00\",\"2017-02-04T20:10:00\",\"2017-02-04T20:20:00\",\"2017-02-04T20:30:00\",\"2017-02-04T20:40:00\",\"2017-02-04T20:50:00\",\"2017-02-04T21:00:00\",\"2017-02-04T21:10:00\",\"2017-02-04T21:20:00\",\"2017-02-04T21:30:00\",\"2017-02-04T21:40:00\",\"2017-02-04T21:50:00\",\"2017-02-04T22:00:00\",\"2017-02-04T22:10:00\",\"2017-02-04T22:20:00\",\"2017-02-04T22:30:00\",\"2017-02-04T22:40:00\",\"2017-02-04T22:50:00\",\"2017-02-04T23:00:00\",\"2017-02-04T23:10:00\",\"2017-02-04T23:20:00\",\"2017-02-04T23:30:00\",\"2017-02-04T23:40:00\",\"2017-02-04T23:50:00\",\"2017-02-05T00:00:00\",\"2017-02-05T00:10:00\",\"2017-02-05T00:20:00\",\"2017-02-05T00:30:00\",\"2017-02-05T00:40:00\",\"2017-02-05T00:50:00\",\"2017-02-05T01:00:00\",\"2017-02-05T01:10:00\",\"2017-02-05T01:20:00\",\"2017-02-05T01:30:00\",\"2017-02-05T01:40:00\",\"2017-02-05T01:50:00\",\"2017-02-05T02:00:00\",\"2017-02-05T02:10:00\",\"2017-02-05T02:20:00\",\"2017-02-05T02:30:00\",\"2017-02-05T02:40:00\",\"2017-02-05T02:50:00\",\"2017-02-05T03:00:00\",\"2017-02-05T03:10:00\",\"2017-02-05T03:20:00\",\"2017-02-05T03:30:00\",\"2017-02-05T03:40:00\",\"2017-02-05T03:50:00\",\"2017-02-05T04:00:00\",\"2017-02-05T04:10:00\",\"2017-02-05T04:20:00\",\"2017-02-05T04:30:00\",\"2017-02-05T04:40:00\",\"2017-02-05T04:50:00\",\"2017-02-05T05:00:00\",\"2017-02-05T05:10:00\",\"2017-02-05T05:20:00\",\"2017-02-05T05:30:00\",\"2017-02-05T05:40:00\",\"2017-02-05T05:50:00\",\"2017-02-05T06:00:00\",\"2017-02-05T06:10:00\",\"2017-02-05T06:20:00\",\"2017-02-05T06:30:00\",\"2017-02-05T06:40:00\",\"2017-02-05T06:50:00\",\"2017-02-05T07:00:00\",\"2017-02-05T07:10:00\",\"2017-02-05T07:20:00\",\"2017-02-05T07:30:00\",\"2017-02-05T07:40:00\",\"2017-02-05T07:50:00\",\"2017-02-05T08:00:00\",\"2017-02-05T08:10:00\",\"2017-02-05T08:20:00\",\"2017-02-05T08:30:00\",\"2017-02-05T08:40:00\",\"2017-02-05T08:50:00\",\"2017-02-05T09:00:00\",\"2017-02-05T09:10:00\",\"2017-02-05T09:20:00\",\"2017-02-05T09:30:00\",\"2017-02-05T09:40:00\",\"2017-02-05T09:50:00\",\"2017-02-05T10:00:00\",\"2017-02-05T10:10:00\",\"2017-02-05T10:20:00\",\"2017-02-05T10:30:00\",\"2017-02-05T10:40:00\",\"2017-02-05T10:50:00\",\"2017-02-05T11:00:00\",\"2017-02-05T11:10:00\",\"2017-02-05T11:20:00\",\"2017-02-05T11:30:00\",\"2017-02-05T11:40:00\",\"2017-02-05T11:50:00\",\"2017-02-05T12:00:00\",\"2017-02-05T12:10:00\",\"2017-02-05T12:20:00\",\"2017-02-05T12:30:00\",\"2017-02-05T12:40:00\",\"2017-02-05T12:50:00\",\"2017-02-05T13:00:00\",\"2017-02-05T13:10:00\",\"2017-02-05T13:20:00\",\"2017-02-05T13:30:00\",\"2017-02-05T13:40:00\",\"2017-02-05T13:50:00\",\"2017-02-05T14:00:00\",\"2017-02-05T14:10:00\",\"2017-02-05T14:20:00\",\"2017-02-05T14:30:00\",\"2017-02-05T14:40:00\",\"2017-02-05T14:50:00\",\"2017-02-05T15:00:00\",\"2017-02-05T15:10:00\",\"2017-02-05T15:20:00\",\"2017-02-05T15:30:00\",\"2017-02-05T15:40:00\",\"2017-02-05T15:50:00\",\"2017-02-05T16:00:00\",\"2017-02-05T16:10:00\",\"2017-02-05T16:20:00\",\"2017-02-05T16:30:00\",\"2017-02-05T16:40:00\",\"2017-02-05T16:50:00\",\"2017-02-05T17:00:00\",\"2017-02-05T17:10:00\",\"2017-02-05T17:20:00\",\"2017-02-05T17:30:00\",\"2017-02-05T17:40:00\",\"2017-02-05T17:50:00\",\"2017-02-05T18:00:00\",\"2017-02-05T18:10:00\",\"2017-02-05T18:20:00\",\"2017-02-05T18:30:00\",\"2017-02-05T18:40:00\",\"2017-02-05T18:50:00\",\"2017-02-05T19:00:00\",\"2017-02-05T19:10:00\",\"2017-02-05T19:20:00\",\"2017-02-05T19:30:00\",\"2017-02-05T19:40:00\",\"2017-02-05T19:50:00\",\"2017-02-05T20:00:00\",\"2017-02-05T20:10:00\",\"2017-02-05T20:20:00\",\"2017-02-05T20:30:00\",\"2017-02-05T20:40:00\",\"2017-02-05T20:50:00\",\"2017-02-05T21:00:00\",\"2017-02-05T21:10:00\",\"2017-02-05T21:20:00\",\"2017-02-05T21:30:00\",\"2017-02-05T21:40:00\",\"2017-02-05T21:50:00\",\"2017-02-05T22:00:00\",\"2017-02-05T22:10:00\",\"2017-02-05T22:20:00\",\"2017-02-05T22:30:00\",\"2017-02-05T22:40:00\",\"2017-02-05T22:50:00\",\"2017-02-05T23:00:00\",\"2017-02-05T23:10:00\",\"2017-02-05T23:20:00\",\"2017-02-05T23:30:00\",\"2017-02-05T23:40:00\",\"2017-02-05T23:50:00\",\"2017-02-06T00:00:00\",\"2017-02-06T00:10:00\",\"2017-02-06T00:20:00\",\"2017-02-06T00:30:00\",\"2017-02-06T00:40:00\",\"2017-02-06T00:50:00\",\"2017-02-06T01:00:00\",\"2017-02-06T01:10:00\",\"2017-02-06T01:20:00\",\"2017-02-06T01:30:00\",\"2017-02-06T01:40:00\",\"2017-02-06T01:50:00\",\"2017-02-06T02:00:00\",\"2017-02-06T02:10:00\",\"2017-02-06T02:20:00\",\"2017-02-06T02:30:00\",\"2017-02-06T02:40:00\",\"2017-02-06T02:50:00\",\"2017-02-06T03:00:00\",\"2017-02-06T03:10:00\",\"2017-02-06T03:20:00\",\"2017-02-06T03:30:00\",\"2017-02-06T03:40:00\",\"2017-02-06T03:50:00\",\"2017-02-06T04:00:00\",\"2017-02-06T04:10:00\",\"2017-02-06T04:20:00\",\"2017-02-06T04:30:00\",\"2017-02-06T04:40:00\",\"2017-02-06T04:50:00\",\"2017-02-06T05:00:00\",\"2017-02-06T05:10:00\",\"2017-02-06T05:20:00\",\"2017-02-06T05:30:00\",\"2017-02-06T05:40:00\",\"2017-02-06T05:50:00\",\"2017-02-06T06:00:00\",\"2017-02-06T06:10:00\",\"2017-02-06T06:20:00\",\"2017-02-06T06:30:00\",\"2017-02-06T06:40:00\",\"2017-02-06T06:50:00\",\"2017-02-06T07:00:00\",\"2017-02-06T07:10:00\",\"2017-02-06T07:20:00\",\"2017-02-06T07:30:00\",\"2017-02-06T07:40:00\",\"2017-02-06T07:50:00\",\"2017-02-06T08:00:00\",\"2017-02-06T08:10:00\",\"2017-02-06T08:20:00\",\"2017-02-06T08:30:00\",\"2017-02-06T08:40:00\",\"2017-02-06T08:50:00\",\"2017-02-06T09:00:00\",\"2017-02-06T09:10:00\",\"2017-02-06T09:20:00\",\"2017-02-06T09:30:00\",\"2017-02-06T09:40:00\",\"2017-02-06T09:50:00\",\"2017-02-06T10:00:00\",\"2017-02-06T10:10:00\",\"2017-02-06T10:20:00\",\"2017-02-06T10:30:00\",\"2017-02-06T10:40:00\",\"2017-02-06T10:50:00\",\"2017-02-06T11:00:00\",\"2017-02-06T11:10:00\",\"2017-02-06T11:20:00\",\"2017-02-06T11:30:00\",\"2017-02-06T11:40:00\",\"2017-02-06T11:50:00\",\"2017-02-06T12:00:00\",\"2017-02-06T12:10:00\",\"2017-02-06T12:20:00\",\"2017-02-06T12:30:00\",\"2017-02-06T12:40:00\",\"2017-02-06T12:50:00\",\"2017-02-06T13:00:00\",\"2017-02-06T13:10:00\",\"2017-02-06T13:20:00\",\"2017-02-06T13:30:00\",\"2017-02-06T13:40:00\",\"2017-02-06T13:50:00\",\"2017-02-06T14:00:00\",\"2017-02-06T14:10:00\",\"2017-02-06T14:20:00\",\"2017-02-06T14:30:00\",\"2017-02-06T14:40:00\",\"2017-02-06T14:50:00\",\"2017-02-06T15:00:00\",\"2017-02-06T15:10:00\",\"2017-02-06T15:20:00\",\"2017-02-06T15:30:00\",\"2017-02-06T15:40:00\",\"2017-02-06T15:50:00\",\"2017-02-06T16:00:00\",\"2017-02-06T16:10:00\",\"2017-02-06T16:20:00\",\"2017-02-06T16:30:00\",\"2017-02-06T16:40:00\",\"2017-02-06T16:50:00\",\"2017-02-06T17:00:00\",\"2017-02-06T17:10:00\",\"2017-02-06T17:20:00\",\"2017-02-06T17:30:00\",\"2017-02-06T17:40:00\",\"2017-02-06T17:50:00\",\"2017-02-06T18:00:00\",\"2017-02-06T18:10:00\",\"2017-02-06T18:20:00\",\"2017-02-06T18:30:00\",\"2017-02-06T18:40:00\",\"2017-02-06T18:50:00\",\"2017-02-06T19:00:00\",\"2017-02-06T19:10:00\",\"2017-02-06T19:20:00\",\"2017-02-06T19:30:00\",\"2017-02-06T19:40:00\",\"2017-02-06T19:50:00\",\"2017-02-06T20:00:00\",\"2017-02-06T20:10:00\",\"2017-02-06T20:20:00\",\"2017-02-06T20:30:00\",\"2017-02-06T20:40:00\",\"2017-02-06T20:50:00\",\"2017-02-06T21:00:00\",\"2017-02-06T21:10:00\",\"2017-02-06T21:20:00\",\"2017-02-06T21:30:00\",\"2017-02-06T21:40:00\",\"2017-02-06T21:50:00\",\"2017-02-06T22:00:00\",\"2017-02-06T22:10:00\",\"2017-02-06T22:20:00\",\"2017-02-06T22:30:00\",\"2017-02-06T22:40:00\",\"2017-02-06T22:50:00\",\"2017-02-06T23:00:00\",\"2017-02-06T23:10:00\",\"2017-02-06T23:20:00\",\"2017-02-06T23:30:00\",\"2017-02-06T23:40:00\",\"2017-02-06T23:50:00\",\"2017-02-07T00:00:00\",\"2017-02-07T00:10:00\",\"2017-02-07T00:20:00\",\"2017-02-07T00:30:00\",\"2017-02-07T00:40:00\",\"2017-02-07T00:50:00\",\"2017-02-07T01:00:00\",\"2017-02-07T01:10:00\",\"2017-02-07T01:20:00\",\"2017-02-07T01:30:00\",\"2017-02-07T01:40:00\",\"2017-02-07T01:50:00\",\"2017-02-07T02:00:00\",\"2017-02-07T02:10:00\",\"2017-02-07T02:20:00\",\"2017-02-07T02:30:00\",\"2017-02-07T02:40:00\",\"2017-02-07T02:50:00\",\"2017-02-07T03:00:00\",\"2017-02-07T03:10:00\",\"2017-02-07T03:20:00\",\"2017-02-07T03:30:00\",\"2017-02-07T03:40:00\",\"2017-02-07T03:50:00\",\"2017-02-07T04:00:00\",\"2017-02-07T04:10:00\",\"2017-02-07T04:20:00\",\"2017-02-07T04:30:00\",\"2017-02-07T04:40:00\",\"2017-02-07T04:50:00\",\"2017-02-07T05:00:00\",\"2017-02-07T05:10:00\",\"2017-02-07T05:20:00\",\"2017-02-07T05:30:00\",\"2017-02-07T05:40:00\",\"2017-02-07T05:50:00\",\"2017-02-07T06:00:00\",\"2017-02-07T06:10:00\",\"2017-02-07T06:20:00\",\"2017-02-07T06:30:00\",\"2017-02-07T06:40:00\",\"2017-02-07T06:50:00\",\"2017-02-07T07:00:00\",\"2017-02-07T07:10:00\",\"2017-02-07T07:20:00\",\"2017-02-07T07:30:00\",\"2017-02-07T07:40:00\",\"2017-02-07T07:50:00\",\"2017-02-07T08:00:00\",\"2017-02-07T08:10:00\",\"2017-02-07T08:20:00\",\"2017-02-07T08:30:00\",\"2017-02-07T08:40:00\",\"2017-02-07T08:50:00\",\"2017-02-07T09:00:00\",\"2017-02-07T09:10:00\",\"2017-02-07T09:20:00\",\"2017-02-07T09:30:00\",\"2017-02-07T09:40:00\",\"2017-02-07T09:50:00\",\"2017-02-07T10:00:00\",\"2017-02-07T10:10:00\",\"2017-02-07T10:20:00\",\"2017-02-07T10:30:00\",\"2017-02-07T10:40:00\",\"2017-02-07T10:50:00\",\"2017-02-07T11:00:00\",\"2017-02-07T11:10:00\",\"2017-02-07T11:20:00\",\"2017-02-07T11:30:00\",\"2017-02-07T11:40:00\",\"2017-02-07T11:50:00\",\"2017-02-07T12:00:00\",\"2017-02-07T12:10:00\",\"2017-02-07T12:20:00\",\"2017-02-07T12:30:00\",\"2017-02-07T12:40:00\",\"2017-02-07T12:50:00\",\"2017-02-07T13:00:00\",\"2017-02-07T13:10:00\",\"2017-02-07T13:20:00\",\"2017-02-07T13:30:00\",\"2017-02-07T13:40:00\",\"2017-02-07T13:50:00\",\"2017-02-07T14:00:00\",\"2017-02-07T14:10:00\",\"2017-02-07T14:20:00\",\"2017-02-07T14:30:00\",\"2017-02-07T14:40:00\",\"2017-02-07T14:50:00\",\"2017-02-07T15:00:00\",\"2017-02-07T15:10:00\",\"2017-02-07T15:20:00\",\"2017-02-07T15:30:00\",\"2017-02-07T15:40:00\",\"2017-02-07T15:50:00\",\"2017-02-07T16:00:00\",\"2017-02-07T16:10:00\",\"2017-02-07T16:20:00\",\"2017-02-07T16:30:00\",\"2017-02-07T16:40:00\",\"2017-02-07T16:50:00\",\"2017-02-07T17:00:00\",\"2017-02-07T17:10:00\",\"2017-02-07T17:20:00\",\"2017-02-07T17:30:00\",\"2017-02-07T17:40:00\",\"2017-02-07T17:50:00\",\"2017-02-07T18:00:00\",\"2017-02-07T18:10:00\",\"2017-02-07T18:20:00\",\"2017-02-07T18:30:00\",\"2017-02-07T18:40:00\",\"2017-02-07T18:50:00\",\"2017-02-07T19:00:00\",\"2017-02-07T19:10:00\",\"2017-02-07T19:20:00\",\"2017-02-07T19:30:00\",\"2017-02-07T19:40:00\",\"2017-02-07T19:50:00\",\"2017-02-07T20:00:00\",\"2017-02-07T20:10:00\",\"2017-02-07T20:20:00\",\"2017-02-07T20:30:00\",\"2017-02-07T20:40:00\",\"2017-02-07T20:50:00\",\"2017-02-07T21:00:00\",\"2017-02-07T21:10:00\",\"2017-02-07T21:20:00\",\"2017-02-07T21:30:00\",\"2017-02-07T21:40:00\",\"2017-02-07T21:50:00\",\"2017-02-07T22:00:00\",\"2017-02-07T22:10:00\",\"2017-02-07T22:20:00\",\"2017-02-07T22:30:00\",\"2017-02-07T22:40:00\",\"2017-02-07T22:50:00\",\"2017-02-07T23:00:00\",\"2017-02-07T23:10:00\",\"2017-02-07T23:20:00\",\"2017-02-07T23:30:00\",\"2017-02-07T23:40:00\",\"2017-02-07T23:50:00\",\"2017-02-08T00:00:00\",\"2017-02-08T00:10:00\",\"2017-02-08T00:20:00\",\"2017-02-08T00:30:00\",\"2017-02-08T00:40:00\",\"2017-02-08T00:50:00\",\"2017-02-08T01:00:00\",\"2017-02-08T01:10:00\",\"2017-02-08T01:20:00\",\"2017-02-08T01:30:00\",\"2017-02-08T01:40:00\",\"2017-02-08T01:50:00\",\"2017-02-08T02:00:00\",\"2017-02-08T02:10:00\",\"2017-02-08T02:20:00\",\"2017-02-08T02:30:00\",\"2017-02-08T02:40:00\",\"2017-02-08T02:50:00\",\"2017-02-08T03:00:00\",\"2017-02-08T03:10:00\",\"2017-02-08T03:20:00\",\"2017-02-08T03:30:00\",\"2017-02-08T03:40:00\",\"2017-02-08T03:50:00\",\"2017-02-08T04:00:00\",\"2017-02-08T04:10:00\",\"2017-02-08T04:20:00\",\"2017-02-08T04:30:00\",\"2017-02-08T04:40:00\",\"2017-02-08T04:50:00\",\"2017-02-08T05:00:00\",\"2017-02-08T05:10:00\",\"2017-02-08T05:20:00\",\"2017-02-08T05:30:00\",\"2017-02-08T05:40:00\",\"2017-02-08T05:50:00\",\"2017-02-08T06:00:00\",\"2017-02-08T06:10:00\",\"2017-02-08T06:20:00\",\"2017-02-08T06:30:00\",\"2017-02-08T06:40:00\",\"2017-02-08T06:50:00\",\"2017-02-08T07:00:00\",\"2017-02-08T07:10:00\",\"2017-02-08T07:20:00\",\"2017-02-08T07:30:00\",\"2017-02-08T07:40:00\",\"2017-02-08T07:50:00\",\"2017-02-08T08:00:00\",\"2017-02-08T08:10:00\",\"2017-02-08T08:20:00\",\"2017-02-08T08:30:00\",\"2017-02-08T08:40:00\",\"2017-02-08T08:50:00\",\"2017-02-08T09:00:00\",\"2017-02-08T09:10:00\"],\"xaxis\":\"x\",\"y\":[506.7962962962963,504.15,505.8939393939394,505.22222222222223,502.65909090909093,503.3148148148149,501.72727272727275,501.51851851851853,502.6,504.85,501.7833333333334,504.8181818181818,505.00925925925924,504.33333333333337,503.2037037037037,505.9621212121212,503.3703703703703,504.5333333333334,503.7166666666667,503.725,503.83333333333337,502.537037037037,499.66666666666663,502.59259259259255,501.2878787878788,501.4814814814815,499.6,503.4666666666667,501.2166666666667,501.30303030303025,502.82407407407413,504.05303030303037,503.90740740740745,503.439393939394,503.3888888888889,502.5,503.775,502.9083333333334,504.72727272727275,506.2037037037037,503.95454545454544,507.72222222222223,508.18939393939394,504.8518518518519,503.9833333333333,506.4,505.85,505.8181818181818,510.462962962963,505.3939393939394,504.3703703703703,504.18939393939394,506.5833333333333,506.4583333333333,504.5999999999999,505.5,503.32575757575756,505.70370370370375,504.79545454545456,505.6018518518518,505.98484848484856,507.9537037037037,510.1,507.975,513.4000000000001,515.2727272727273,511.50925925925924,507.2121212121212,502.72222222222223,503.67424242424255,505.80555555555554,509.6583333333333,507.3166666666667,509.275,510.75757575757575,508.3611111111111,502.79545454545456,498.1481481481481,496.75757575757575,498.77777777777777,498.575,504.9333333333333,501.6583333333333,505.04545454545456,505.425925925926,507.01515151515156,508.074074074074,510.1530303030302,508.40740740740733,509.1333333333333,510.3416666666667,508.6083333333333,512.4242424242425,512.3055555555555,511.99696969696976,510.8518518518519,512.2651515151515,515.2777777777778,514.8666666666666,515.7583333333333,515.1333333333334,514.4545454545455,515.1481481481482,515.9393939393939,519.4074074074074,516.0454545454545,518.2407407407408,516.6166666666667,514.3833333333333,517.95,519.6136363636364,522.2962962962963,519.2727272727273,521.6388888888889,522.969696969697,520.3518518518518,526.5666666666666,522.6166666666666,521.9166666666666,514.7727272727273,513.4166666666666,522.2348484848485,528.4814814814814,529.1363636363636,531.962962962963,528.8,533.475,534.1,534.0757575757575,531.1388888888889,529.219696969697,534.0,533.0151515151515,529.5370370370371,531.45,532.5166666666667,533.5833333333333,535.4090909090909,531.7962962962963,536.3484848484849,536.2962962962962,536.4393939393939,539.3888888888889,537.5083333333333,538.3833333333333,535.5916666666666,538.2727272727273,539.2037037037037,539.5606060606061,541.7592592592592,538.4848484848485,542.0555555555555,540.35,538.8500000000001,541.4333333333333,541.560606060606,540.4259259259259,543.2424242424241,542.7037037037038,543.1363636363636,543.925925925926,545.6833333333333,546.5833333333334,546.45,549.7196969696969,550.3333333333334,553.2121212121211,553.9074074074074,554.9090909090909,556.0185185185186,559.225,559.4666666666667,564.8666666666667,567.9090909090909,566.5462962962963,566.219696969697,568.1111111111111,567.9242424242425,567.9259259259259,569.6333333333333,571.0333333333333,573.95,575.8181818181819,578.4375,579.060606060606,580.6759259259259,582.8636363636364,588.287037037037,586.95,591.6,595.2166666666667,602.439393939394,606.175925925926,605.4,605.9444444444445,611.1742424242424,609.1666666666666,613.5,617.8666666666666,617.4416666666667,623.6136363636364,627.7592592592592,636.8939393939395,641.7592592592592,643.5530303030304,644.3518518518518,640.0583333333333,638.2833333333334,637.2833333333334,634.6742424242425,629.8611111111111,632.7651515151515,629.2222222222222,630.8863636363636,627.9259259259259,628.6899999999998,629.95,633.9333333333334,632.6515151515151,633.4074074074074,630.1666666666667,632.0648148148149,639.5833333333334,641.537037037037,649.5416666666667,655.9416666666667,658.775,658.3257575757576,661.4351851851852,664.4469696969697,674.0092592592594,681.4545454545455,682.0925925925926,663.6583333333333,655.2716666666668,655.6666666666667,657.5681818181819,657.2222222222222,662.8560606060605,660.5625,662.6666666666666,663.1851851851852,668.5083333333333,667.1916666666667,670.8833333333333,683.1287878787879,689.1296296296296,682.7727272727271,678.8425925925926,676.4848484848485,672.3194444444445,676.1833333333333,672.7,674.7333333333333,675.1818181818181,668.425925925926,649.439393939394,654.4259259259259,652.0757575757575,657.0925925925926,658.5833333333333,665.1333333333333,668.1583333333333,675.1969696969697,675.8333333333334,678.7121212121211,679.9259259259259,685.1363636363636,690.7962962962962,692.9,694.6666666666667,701.4833333333333,700.6363636363636,707.2222222222222,707.9393939393939,712.8148148148149,717.8636363636364,720.1296296296297,718.25,722.2166666666667,714.85,721.6060606060605,729.074074074074,731.2727272727273,729.8333333333334,729.1212121212121,730.2592592592592,731.3,732.3833333333333,729.8,732.969696969697,714.2592592592592,775.6363636363636,798.5555555555555,808.5666666666667,817.4259259259259,826.3166666666666,903.9166666666666,862.9333333333332,854.4848484848484,854.3055555555555,854.1212121212124,861.5,858.8181818181819,861.3333333333334,861.75,864.6,867.2,865.3560606060607,859.7222222222222,857.9393939393939,858.2962962962963,849.1818181818181,845.3333333333334,822.65,801.1333333333333,800.25,790.0151515151515,785.0,788.0909090909091,794.7407407407408,793.6818181818181,798.962962962963,795.3666666666667,799.75,801.1833333333333,802.1666666666665,802.2222222222222,806.8484848484848,810.3888888888889,811.7954545454545,811.574074074074,805.8333333333333,808.55,813.4333333333333,818.5530303030304,819.2037037037038,821.8181818181819,825.3981481481482,826.4696969696971,848.8333333333334,879.1133333333333,902.325,966.9583333333333,1005.4393939393937,1013.4537037037034,1002.5757575757575,1012.194444444444,977.7196969696969,971.3851851851853,968.8083333333334,971.275,969.9333333333332,1006.1590909090905,1044.5370370370376,1038.078787878788,1012.3611111111111,1002.7878787878791,983.7407407407409,964.9916666666668,939.725,911.945,924.8484848484848,910.675925925926,906.4545454545455,898.6203703703703,895.6499999999997,890.6296296296297,872.7583333333332,861.5,854.3833333333332,837.0075757575756,846.2037037037037,884.3257575757576,908.9722222222222,917.9378787878787,908.0740740740741,907.3416666666668,899.2333333333332,870.2333333333333,862.9772727272727,882.3148148148148,892.4015151515151,892.0833333333334,905.4393939393939,924.0462962962964,921.225,928.7333333333332,916.875,906.6818181818181,927.7314814814815,976.742424242424,974.2407407407409,978.1515151515152,986.962962962963,982.025,973.2166666666668,944.0166666666668,925.4393939393939,888.0185185185186,854.3636363636364,834.1666666666666,815.189393939394,795.4814814814814,773.3166666666666,765.4416666666666,762.8,754.4545454545455,747.9074074074074,742.8787878787879,739.8888888888889,730.9242424242425,724.962962962963,725.8500000000001,723.95,724.575,721.6515151515151,723.2407407407408,722.2878787878789,719.2222222222222,713.6212121212121,714.4814814814814,718.6500000000001,712.4833333333333,716.15,716.7575757575758,714.8703703703703,714.280303030303,713.462962962963,712.5227272727273,714.537037037037,714.4166666666666,712.5166666666667,715.1333333333333,717.6515151515151,713.2037037037038,713.2045454545455,715.7777777777778,711.0757575757575,713.5833333333334,713.4666666666667,712.7666666666667,721.2333333333333,714.9242424242424,719.2962962962963,717.4621212121211,717.074074074074,716.7272727272729,714.6666666666666,717.9333333333333,722.0,721.75,721.0454545454545,724.925925925926,725.9166666666667,731.0833333333334,731.2575757575758,730.5925925925926,733.2333333333333,734.5833333333333,736.0666666666666,737.8030303030303,738.462962962963,740.0151515151515,739.4166666666666,734.8257575757576,735.2037037037037,742.525,742.2583333333333,744.3666666666667,750.7272727272727,751.3148148148149,756.3181818181819,756.0925925925926,760.8181818181819,765.5740740740741,766.75,773.2833333333334,773.75,777.1818181818181,780.4444444444445,784.5,788.1111111111111,792.7651515151516,820.9814814814815,835.0,847.2666666666668,873.95,926.3030303030304,938.6111111111111,945.5606060606061,946.2074074074072,961.6742424242425,960.5370370370371,967.3833333333336,980.6416666666668,988.9537037037036,1005.9318181818181,1042.0370370370367,1074.2196969696972,1099.259259259259,1081.9242424242427,1110.0277777777778,1155.2666666666669,1222.825,1348.775,1258.69696969697,1196.3555555555556,1157.590909090909,1150.7259259259254,1153.7727272727273,1130.829629629629,1119.266666666666,1141.333333333333,1165.041666666667,1180.7575757575762,1211.9555555555555,1255.5681818181818,1298.259259259259,1322.2424242424238,1346.25,1352.908333333333,1391.15,1410.5166666666669,1411.775000000001,1466.3981481481478,1384.1742424242418,1404.3333333333323,1420.6893939393938,1489.111111111111,1517.4,1459.033333333333,1472.1416666666669,1494.6363636363637,1483.4814814814822,1513.515151515152,1547.731481481481,1749.9469696969702,1700.9537037037035,1668.6666666666672,1602.725,1557.525,1532.8181818181818,1498.0370370370367,1478.4318181818182,1482.8148148148146,1473.1212121212118,1468.2037037037035,1468.541666666667,1472.6,1489.3,1500.9545454545455,1520.1666666666667,1489.7727272727273,1505.8148148148146,1520.6515151515146,1518.6851851851845,1505.383333333333,1515.216666666667,1546.85,1704.7424242424238,1686.2222222222222,1535.909090909091,1513.7037037037035,1556.575757575757,1507.740740740741,1424.866666666667,1486.4333333333338,1582.2666666666669,1572.39393939394,1154.481481481481,1152.7424242424245,1192.4444444444443,1207.712121212121,1238.8333333333333,1225.55,1216.9333333333338,1283.05,1068.7424242424245,1218.9629629629624,1548.9545454545462,1338.0,1388.2878787878783,1313.4722222222222,1320.733333333334,1343.5166666666669,1559.708333333333,1620.7272727272727,1269.111111111111,1213.8636363636363,1225.2777777777778,1253.5151515151517,1268.981481481481,1261.991666666666,1248.6833333333338,1262.75,1359.60606060606,1361.759259259259,1368.8484848484845,1396.3981481481478,1418.462121212121,1410.9444444444443,1457.825,1488.716666666667,1501.85,1542.9318181818182,1494.9629629629633,1504.2272727272727,1519.9074074074078,1535.2272727272727,1553.4444444444443,1558.1,1531.866666666667,1550.35,1525.0,1478.111111111111,1483.4242424242427,1503.0925925925933,1510.7121212121208,1500.5277777777778,1463.366666666667,1436.025,1415.7333333333331,1420.69696969697,1417.0555555555557,1430.2727272727273,1443.9351851851854,1444.0,1413.611111111111,1485.0149999999999,1452.783333333334,1545.375],\"yaxis\":\"y\"}],                        {\"barmode\":\"relative\",\"coloraxis\":{\"colorbar\":{\"title\":{\"text\":\"Anwesenheit\"}},\"colorscale\":[[0.0,\"#0d0887\"],[0.1111111111111111,\"#46039f\"],[0.2222222222222222,\"#7201a8\"],[0.3333333333333333,\"#9c179e\"],[0.4444444444444444,\"#bd3786\"],[0.5555555555555556,\"#d8576b\"],[0.6666666666666666,\"#ed7953\"],[0.7777777777777778,\"#fb9f3a\"],[0.8888888888888888,\"#fdca26\"],[1.0,\"#f0f921\"]]},\"legend\":{\"tracegroupgap\":0},\"margin\":{\"t\":60},\"template\":{\"data\":{\"bar\":[{\"error_x\":{\"color\":\"#2a3f5f\"},\"error_y\":{\"color\":\"#2a3f5f\"},\"marker\":{\"line\":{\"color\":\"#E5ECF6\",\"width\":0.5},\"pattern\":{\"fillmode\":\"overlay\",\"size\":10,\"solidity\":0.2}},\"type\":\"bar\"}],\"barpolar\":[{\"marker\":{\"line\":{\"color\":\"#E5ECF6\",\"width\":0.5},\"pattern\":{\"fillmode\":\"overlay\",\"size\":10,\"solidity\":0.2}},\"type\":\"barpolar\"}],\"carpet\":[{\"aaxis\":{\"endlinecolor\":\"#2a3f5f\",\"gridcolor\":\"white\",\"linecolor\":\"white\",\"minorgridcolor\":\"white\",\"startlinecolor\":\"#2a3f5f\"},\"baxis\":{\"endlinecolor\":\"#2a3f5f\",\"gridcolor\":\"white\",\"linecolor\":\"white\",\"minorgridcolor\":\"white\",\"startlinecolor\":\"#2a3f5f\"},\"type\":\"carpet\"}],\"choropleth\":[{\"colorbar\":{\"outlinewidth\":0,\"ticks\":\"\"},\"type\":\"choropleth\"}],\"contour\":[{\"colorbar\":{\"outlinewidth\":0,\"ticks\":\"\"},\"colorscale\":[[0.0,\"#0d0887\"],[0.1111111111111111,\"#46039f\"],[0.2222222222222222,\"#7201a8\"],[0.3333333333333333,\"#9c179e\"],[0.4444444444444444,\"#bd3786\"],[0.5555555555555556,\"#d8576b\"],[0.6666666666666666,\"#ed7953\"],[0.7777777777777778,\"#fb9f3a\"],[0.8888888888888888,\"#fdca26\"],[1.0,\"#f0f921\"]],\"type\":\"contour\"}],\"contourcarpet\":[{\"colorbar\":{\"outlinewidth\":0,\"ticks\":\"\"},\"type\":\"contourcarpet\"}],\"heatmap\":[{\"colorbar\":{\"outlinewidth\":0,\"ticks\":\"\"},\"colorscale\":[[0.0,\"#0d0887\"],[0.1111111111111111,\"#46039f\"],[0.2222222222222222,\"#7201a8\"],[0.3333333333333333,\"#9c179e\"],[0.4444444444444444,\"#bd3786\"],[0.5555555555555556,\"#d8576b\"],[0.6666666666666666,\"#ed7953\"],[0.7777777777777778,\"#fb9f3a\"],[0.8888888888888888,\"#fdca26\"],[1.0,\"#f0f921\"]],\"type\":\"heatmap\"}],\"heatmapgl\":[{\"colorbar\":{\"outlinewidth\":0,\"ticks\":\"\"},\"colorscale\":[[0.0,\"#0d0887\"],[0.1111111111111111,\"#46039f\"],[0.2222222222222222,\"#7201a8\"],[0.3333333333333333,\"#9c179e\"],[0.4444444444444444,\"#bd3786\"],[0.5555555555555556,\"#d8576b\"],[0.6666666666666666,\"#ed7953\"],[0.7777777777777778,\"#fb9f3a\"],[0.8888888888888888,\"#fdca26\"],[1.0,\"#f0f921\"]],\"type\":\"heatmapgl\"}],\"histogram\":[{\"marker\":{\"pattern\":{\"fillmode\":\"overlay\",\"size\":10,\"solidity\":0.2}},\"type\":\"histogram\"}],\"histogram2d\":[{\"colorbar\":{\"outlinewidth\":0,\"ticks\":\"\"},\"colorscale\":[[0.0,\"#0d0887\"],[0.1111111111111111,\"#46039f\"],[0.2222222222222222,\"#7201a8\"],[0.3333333333333333,\"#9c179e\"],[0.4444444444444444,\"#bd3786\"],[0.5555555555555556,\"#d8576b\"],[0.6666666666666666,\"#ed7953\"],[0.7777777777777778,\"#fb9f3a\"],[0.8888888888888888,\"#fdca26\"],[1.0,\"#f0f921\"]],\"type\":\"histogram2d\"}],\"histogram2dcontour\":[{\"colorbar\":{\"outlinewidth\":0,\"ticks\":\"\"},\"colorscale\":[[0.0,\"#0d0887\"],[0.1111111111111111,\"#46039f\"],[0.2222222222222222,\"#7201a8\"],[0.3333333333333333,\"#9c179e\"],[0.4444444444444444,\"#bd3786\"],[0.5555555555555556,\"#d8576b\"],[0.6666666666666666,\"#ed7953\"],[0.7777777777777778,\"#fb9f3a\"],[0.8888888888888888,\"#fdca26\"],[1.0,\"#f0f921\"]],\"type\":\"histogram2dcontour\"}],\"mesh3d\":[{\"colorbar\":{\"outlinewidth\":0,\"ticks\":\"\"},\"type\":\"mesh3d\"}],\"parcoords\":[{\"line\":{\"colorbar\":{\"outlinewidth\":0,\"ticks\":\"\"}},\"type\":\"parcoords\"}],\"pie\":[{\"automargin\":true,\"type\":\"pie\"}],\"scatter\":[{\"marker\":{\"colorbar\":{\"outlinewidth\":0,\"ticks\":\"\"}},\"type\":\"scatter\"}],\"scatter3d\":[{\"line\":{\"colorbar\":{\"outlinewidth\":0,\"ticks\":\"\"}},\"marker\":{\"colorbar\":{\"outlinewidth\":0,\"ticks\":\"\"}},\"type\":\"scatter3d\"}],\"scattercarpet\":[{\"marker\":{\"colorbar\":{\"outlinewidth\":0,\"ticks\":\"\"}},\"type\":\"scattercarpet\"}],\"scattergeo\":[{\"marker\":{\"colorbar\":{\"outlinewidth\":0,\"ticks\":\"\"}},\"type\":\"scattergeo\"}],\"scattergl\":[{\"marker\":{\"colorbar\":{\"outlinewidth\":0,\"ticks\":\"\"}},\"type\":\"scattergl\"}],\"scattermapbox\":[{\"marker\":{\"colorbar\":{\"outlinewidth\":0,\"ticks\":\"\"}},\"type\":\"scattermapbox\"}],\"scatterpolar\":[{\"marker\":{\"colorbar\":{\"outlinewidth\":0,\"ticks\":\"\"}},\"type\":\"scatterpolar\"}],\"scatterpolargl\":[{\"marker\":{\"colorbar\":{\"outlinewidth\":0,\"ticks\":\"\"}},\"type\":\"scatterpolargl\"}],\"scatterternary\":[{\"marker\":{\"colorbar\":{\"outlinewidth\":0,\"ticks\":\"\"}},\"type\":\"scatterternary\"}],\"surface\":[{\"colorbar\":{\"outlinewidth\":0,\"ticks\":\"\"},\"colorscale\":[[0.0,\"#0d0887\"],[0.1111111111111111,\"#46039f\"],[0.2222222222222222,\"#7201a8\"],[0.3333333333333333,\"#9c179e\"],[0.4444444444444444,\"#bd3786\"],[0.5555555555555556,\"#d8576b\"],[0.6666666666666666,\"#ed7953\"],[0.7777777777777778,\"#fb9f3a\"],[0.8888888888888888,\"#fdca26\"],[1.0,\"#f0f921\"]],\"type\":\"surface\"}],\"table\":[{\"cells\":{\"fill\":{\"color\":\"#EBF0F8\"},\"line\":{\"color\":\"white\"}},\"header\":{\"fill\":{\"color\":\"#C8D4E3\"},\"line\":{\"color\":\"white\"}},\"type\":\"table\"}]},\"layout\":{\"annotationdefaults\":{\"arrowcolor\":\"#2a3f5f\",\"arrowhead\":0,\"arrowwidth\":1},\"autotypenumbers\":\"strict\",\"coloraxis\":{\"colorbar\":{\"outlinewidth\":0,\"ticks\":\"\"}},\"colorscale\":{\"diverging\":[[0,\"#8e0152\"],[0.1,\"#c51b7d\"],[0.2,\"#de77ae\"],[0.3,\"#f1b6da\"],[0.4,\"#fde0ef\"],[0.5,\"#f7f7f7\"],[0.6,\"#e6f5d0\"],[0.7,\"#b8e186\"],[0.8,\"#7fbc41\"],[0.9,\"#4d9221\"],[1,\"#276419\"]],\"sequential\":[[0.0,\"#0d0887\"],[0.1111111111111111,\"#46039f\"],[0.2222222222222222,\"#7201a8\"],[0.3333333333333333,\"#9c179e\"],[0.4444444444444444,\"#bd3786\"],[0.5555555555555556,\"#d8576b\"],[0.6666666666666666,\"#ed7953\"],[0.7777777777777778,\"#fb9f3a\"],[0.8888888888888888,\"#fdca26\"],[1.0,\"#f0f921\"]],\"sequentialminus\":[[0.0,\"#0d0887\"],[0.1111111111111111,\"#46039f\"],[0.2222222222222222,\"#7201a8\"],[0.3333333333333333,\"#9c179e\"],[0.4444444444444444,\"#bd3786\"],[0.5555555555555556,\"#d8576b\"],[0.6666666666666666,\"#ed7953\"],[0.7777777777777778,\"#fb9f3a\"],[0.8888888888888888,\"#fdca26\"],[1.0,\"#f0f921\"]]},\"colorway\":[\"#636efa\",\"#EF553B\",\"#00cc96\",\"#ab63fa\",\"#FFA15A\",\"#19d3f3\",\"#FF6692\",\"#B6E880\",\"#FF97FF\",\"#FECB52\"],\"font\":{\"color\":\"#2a3f5f\"},\"geo\":{\"bgcolor\":\"white\",\"lakecolor\":\"white\",\"landcolor\":\"#E5ECF6\",\"showlakes\":true,\"showland\":true,\"subunitcolor\":\"white\"},\"hoverlabel\":{\"align\":\"left\"},\"hovermode\":\"closest\",\"mapbox\":{\"style\":\"light\"},\"paper_bgcolor\":\"white\",\"plot_bgcolor\":\"#E5ECF6\",\"polar\":{\"angularaxis\":{\"gridcolor\":\"white\",\"linecolor\":\"white\",\"ticks\":\"\"},\"bgcolor\":\"#E5ECF6\",\"radialaxis\":{\"gridcolor\":\"white\",\"linecolor\":\"white\",\"ticks\":\"\"}},\"scene\":{\"xaxis\":{\"backgroundcolor\":\"#E5ECF6\",\"gridcolor\":\"white\",\"gridwidth\":2,\"linecolor\":\"white\",\"showbackground\":true,\"ticks\":\"\",\"zerolinecolor\":\"white\"},\"yaxis\":{\"backgroundcolor\":\"#E5ECF6\",\"gridcolor\":\"white\",\"gridwidth\":2,\"linecolor\":\"white\",\"showbackground\":true,\"ticks\":\"\",\"zerolinecolor\":\"white\"},\"zaxis\":{\"backgroundcolor\":\"#E5ECF6\",\"gridcolor\":\"white\",\"gridwidth\":2,\"linecolor\":\"white\",\"showbackground\":true,\"ticks\":\"\",\"zerolinecolor\":\"white\"}},\"shapedefaults\":{\"line\":{\"color\":\"#2a3f5f\"}},\"ternary\":{\"aaxis\":{\"gridcolor\":\"white\",\"linecolor\":\"white\",\"ticks\":\"\"},\"baxis\":{\"gridcolor\":\"white\",\"linecolor\":\"white\",\"ticks\":\"\"},\"bgcolor\":\"#E5ECF6\",\"caxis\":{\"gridcolor\":\"white\",\"linecolor\":\"white\",\"ticks\":\"\"}},\"title\":{\"x\":0.05},\"xaxis\":{\"automargin\":true,\"gridcolor\":\"white\",\"linecolor\":\"white\",\"ticks\":\"\",\"title\":{\"standoff\":15},\"zerolinecolor\":\"white\",\"zerolinewidth\":2},\"yaxis\":{\"automargin\":true,\"gridcolor\":\"white\",\"linecolor\":\"white\",\"ticks\":\"\",\"title\":{\"standoff\":15},\"zerolinecolor\":\"white\",\"zerolinewidth\":2}}},\"xaxis\":{\"anchor\":\"y\",\"domain\":[0.0,1.0],\"title\":{\"text\":\"Datum\"}},\"yaxis\":{\"anchor\":\"x\",\"domain\":[0.0,1.0],\"title\":{\"text\":\"CO2\"}}},                        {\"responsive\": true}                    ).then(function(){\n",
       "                            \n",
       "var gd = document.getElementById('bf215cf7-c0fc-43ec-9070-2ae7215e1137');\n",
       "var x = new MutationObserver(function (mutations, observer) {{\n",
       "        var display = window.getComputedStyle(gd).display;\n",
       "        if (!display || display === 'none') {{\n",
       "            console.log([gd, 'removed!']);\n",
       "            Plotly.purge(gd);\n",
       "            observer.disconnect();\n",
       "        }}\n",
       "}});\n",
       "\n",
       "// Listen for the removal of the full notebook cells\n",
       "var notebookContainer = gd.closest('#notebook-container');\n",
       "if (notebookContainer) {{\n",
       "    x.observe(notebookContainer, {childList: true});\n",
       "}}\n",
       "\n",
       "// Listen for the clearing of the current output cell\n",
       "var outputEl = gd.closest('.output');\n",
       "if (outputEl) {{\n",
       "    x.observe(outputEl, {childList: true});\n",
       "}}\n",
       "\n",
       "                        })                };                });            </script>        </div>"
      ]
     },
     "metadata": {},
     "output_type": "display_data"
    }
   ],
   "source": [
    "#train_model(classifier=DecisionTreeClassifier,scaler=MinMaxScaler)\n",
    "print(pd.DataFrame(columns=df.columns))\n",
    "X = df.drop(columns=[label])\n",
    "X_name = feature_names=list(X.columns)\n",
    "y = df[label]\n",
    "X_train, X_test, y_train, y_test = train_test_split(X,y, test_size=0.25,random_state=42)\n",
    "scale_features(StandardScaler)\n",
    "\n",
    "\n",
    "mDT = DecisionTreeClassifier(max_depth=5)\n",
    "%time mDT.fit(X_train, y_train)\n",
    "\n",
    "\n",
    "report(mDT)\n",
    "plt.figure(figsize=(12,12))\n",
    "plot_tree(mDT, rounded=True, filled=True, class_names=y.reset_index().columns[1], feature_names=X_name, fontsize=10)\n",
    "plt.show(mDT)\n",
    "test_viz(mDT)"
   ]
  },
  {
   "cell_type": "code",
   "execution_count": 582,
   "metadata": {},
   "outputs": [
    {
     "data": {
      "image/png": "[encoded data removed]",
      "text/plain": [
       "<Figure size 432x288 with 1 Axes>"
      ]
     },
     "metadata": {
      "needs_background": "light"
     },
     "output_type": "display_data"
    }
   ],
   "source": [
    "classifiers = [mRF,mLR,mDT]\n",
    "for i in classifiers:\n",
    "    plot_roc_curve(i, X_test, y_test, ax=plt.gca())"
   ]
  },
  {
   "cell_type": "code",
   "execution_count": 583,
   "metadata": {},
   "outputs": [
    {
     "data": {
      "application/vnd.plotly.v1+json": {
       "config": {
        "plotlyServerURL": "https://plot.ly"
       },
       "data": [
        {
         "alignmentgroup": "True",
         "hovertemplate": "Datum=%{x}<br>CO2=%{y}<br>color=%{marker.color}<extra></extra>",
         "legendgroup": "",
         "marker": {
          "color": [
           0,
           0,
           0,
           0,
           0,
           0,
           0,
           0,
           0,
           0,
           0,
           0,
           0,
           0,
           0,
           0,
           0,
           0,
           0,
           0,
           0,
           0,
           0,
           0,
           0,
           0,
           0,
           0,
           0,
           0,
           0,
           0,
           0,
           0,
           0,
           0,
           0,
           0,
           0,
           0,
           0,
           0,
           0,
           0,
           0,
           0,
           0,
           0,
           0,
           0,
           0,
           0,
           0,
           0,
           0,
           0,
           0,
           0,
           0,
           0,
           0,
           0,
           0,
           0,
           0,
           0,
           0,
           0,
           0,
           0,
           0,
           0,
           0,
           0,
           0,
           0,
           0,
           0,
           0,
           0,
           0,
           0,
           0,
           0,
           0,
           0,
           0,
           0,
           0,
           0,
           0,
           0,
           0,
           0,
           0,
           0,
           0,
           0,
           0,
           0,
           0,
           0,
           0,
           0,
           0,
           0,
           0,
           0,
           0,
           0,
           0,
           0,
           0,
           0,
           0,
           0,
           0,
           0,
           0,
           0,
           0,
           0,
           0,
           0,
           0,
           0,
           0,
           0,
           0,
           0,
           0,
           0,
           0,
           0,
           0,
           0,
           0,
           0,
           0,
           0,
           0,
           0,
           0,
           0,
           0,
           0,
           0,
           0,
           0,
           0,
           0,
           0,
           0,
           0,
           0,
           0,
           0,
           0,
           0,
           0,
           0,
           0,
           0,
           0,
           0,
           0,
           0,
           0,
           0,
           0,
           0,
           0,
           0,
           0,
           0,
           0,
           0,
           0,
           0,
           0,
           0,
           0,
           0,
           0,
           0,
           0,
           0,
           0,
           0,
           0,
           0,
           0,
           0,
           0,
           0,
           0,
           0,
           0,
           0,
           0,
           0,
           0,
           0,
           0.18518518518518517,
           0.33333333333333337,
           0.3333333333333333,
           0.33333333333333337,
           0.3,
           0.33333333333333337,
           0.2727272727272727,
           0.25925925925925924,
           0.33333333333333337,
           0.037037037037037035,
           0,
           0,
           0,
           0,
           0,
           0,
           0.2962962962962963,
           0.30303030303030304,
           0.2962962962962963,
           0.0303030303030303,
           0,
           0.2333333333333333,
           0.06666666666666667,
           0,
           0,
           0.037037037037037035,
           0.2121212121212121,
           0.1111111111111111,
           0.0606060606060606,
           0.3333333333333333,
           0.3,
           0.1,
           0,
           0,
           0,
           0,
           0,
           0,
           0,
           0,
           0,
           0,
           0,
           0,
           0,
           0,
           0,
           0,
           0,
           0,
           0,
           0,
           0,
           0,
           0,
           0,
           0,
           0,
           0,
           0,
           0,
           0,
           0,
           0,
           0,
           0,
           0,
           0,
           0,
           0,
           0,
           0,
           0,
           0,
           0,
           0,
           0,
           0,
           0,
           0,
           0,
           0,
           0,
           0,
           0,
           0,
           0,
           0,
           0,
           0,
           0,
           0,
           0,
           0,
           0,
           0,
           0,
           0,
           0,
           0,
           0,
           0,
           0,
           0,
           0,
           0,
           0,
           0,
           0,
           0,
           0,
           0,
           0,
           0,
           0,
           0,
           0,
           0,
           0,
           0,
           0,
           0,
           0,
           0,
           0,
           0,
           0,
           0,
           0,
           0,
           0,
           0,
           0,
           1,
           1,
           1,
           1,
           1,
           1,
           1,
           1,
           1,
           1,
           1,
           1,
           1,
           1,
           1,
           1,
           1,
           1,
           1,
           1,
           1,
           1,
           1,
           1,
           1,
           1,
           1,
           1,
           1,
           1,
           0,
           0,
           0.9,
           1,
           1,
           1,
           1,
           1,
           1,
           1,
           1,
           1,
           1,
           1,
           1,
           1,
           1,
           1,
           1,
           1,
           1,
           1,
           1,
           1,
           1,
           1,
           1,
           1,
           1,
           1,
           0,
           0,
           0,
           0,
           0,
           0,
           0,
           0,
           0,
           0,
           0,
           0,
           0,
           0,
           0,
           0,
           0,
           0,
           0,
           0,
           0,
           0,
           0,
           0,
           0,
           0,
           0,
           0,
           0,
           0,
           0,
           0,
           0,
           0,
           0,
           0,
           0,
           0,
           0,
           0,
           0,
           0,
           0,
           0,
           0,
           0,
           0,
           0,
           0,
           0,
           0,
           0,
           0,
           0,
           0,
           0,
           0,
           0,
           0,
           0,
           0,
           0,
           0,
           0,
           0,
           0,
           0,
           0,
           0,
           0,
           0,
           0,
           0,
           0,
           0,
           0,
           0,
           0,
           0,
           0,
           0,
           0,
           0,
           0,
           1,
           1,
           1,
           1,
           1,
           1,
           1,
           1,
           1,
           1,
           1,
           1,
           1,
           1,
           1,
           1,
           1,
           1,
           1,
           1,
           1,
           1,
           1,
           1,
           1,
           1,
           1,
           1,
           1,
           1,
           0,
           0,
           0.9,
           1,
           1,
           1,
           1,
           1,
           1,
           1,
           1,
           1,
           1,
           1,
           1,
           1,
           1,
           1,
           1,
           1,
           1,
           1,
           1,
           1,
           1,
           1,
           1,
           1,
           1,
           1,
           0.19999999999999998,
           0,
           0,
           0,
           0,
           0.37037037037037035,
           0.5757575757575757,
           0.3333333333333333,
           0.33333333333333337,
           0.33333333333333337,
           0.33333333333333337,
           0.33333333333333337,
           0.3333333333333333,
           0.33333333333333337,
           0.3333333333333333,
           0.33333333333333337,
           0.3333333333333333,
           0.33333333333333337,
           0.33333333333333337,
           0.33333333333333337,
           0.5757575757575758,
           0.44444444444444453,
           0.33333333333333337,
           0.3333333333333333,
           0.33333333333333337,
           0.3333333333333333,
           0.33333333333333337,
           0.33333333333333337,
           0.33333333333333337,
           0.3939393939393939,
           0,
           0,
           0,
           0,
           0.1111111111111111,
           0.1,
           0,
           0.19999999999999998,
           0,
           0.037037037037037035,
           0.4242424242424242,
           0.3333333333333333,
           0.33333333333333337,
           0.3333333333333333,
           0.33333333333333337,
           0.33333333333333337,
           0.39999999999999997,
           0.42424242424242425,
           0.2222222222222222,
           0,
           0,
           0.2121212121212121,
           0.3333333333333333,
           0.33333333333333337,
           0.13333333333333333,
           0.3,
           0.33333333333333337,
           0.3333333333333333,
           0.33333333333333337,
           0.3333333333333333,
           0.33333333333333337,
           0.3333333333333333,
           0.33333333333333337,
           0.33333333333333337,
           0.33333333333333337,
           0.33333333333333337,
           0.3333333333333333,
           0.33333333333333337,
           0.3333333333333333,
           0.33333333333333337,
           0.3333333333333333,
           0.33333333333333337,
           0.33333333333333337,
           0.33333333333333337,
           0.33333333333333337,
           0.3333333333333333,
           0.33333333333333337,
           0.3333333333333333,
           0.33333333333333337,
           0.3333333333333333,
           0.33333333333333337,
           0.33333333333333337,
           0.33333333333333337,
           0.33333333333333337,
           1,
           1,
           1,
           1,
           1,
           1,
           1,
           1
          ],
          "coloraxis": "coloraxis",
          "pattern": {
           "shape": ""
          }
         },
         "name": "",
         "offsetgroup": "",
         "orientation": "v",
         "showlegend": false,
         "textposition": "auto",
         "type": "bar",
         "x": [
          "2017-02-04T00:00:00",
          "2017-02-04T00:10:00",
          "2017-02-04T00:20:00",
          "2017-02-04T00:30:00",
          "2017-02-04T00:40:00",
          "2017-02-04T00:50:00",
          "2017-02-04T01:00:00",
          "2017-02-04T01:10:00",
          "2017-02-04T01:20:00",
          "2017-02-04T01:30:00",
          "2017-02-04T01:40:00",
          "2017-02-04T01:50:00",
          "2017-02-04T02:00:00",
          "2017-02-04T02:10:00",
          "2017-02-04T02:20:00",
          "2017-02-04T02:30:00",
          "2017-02-04T02:40:00",
          "2017-02-04T02:50:00",
          "2017-02-04T03:00:00",
          "2017-02-04T03:10:00",
          "2017-02-04T03:20:00",
          "2017-02-04T03:30:00",
          "2017-02-04T03:40:00",
          "2017-02-04T03:50:00",
          "2017-02-04T04:00:00",
          "2017-02-04T04:10:00",
          "2017-02-04T04:20:00",
          "2017-02-04T04:30:00",
          "2017-02-04T04:40:00",
          "2017-02-04T04:50:00",
          "2017-02-04T05:00:00",
          "2017-02-04T05:10:00",
          "2017-02-04T05:20:00",
          "2017-02-04T05:30:00",
          "2017-02-04T05:40:00",
          "2017-02-04T05:50:00",
          "2017-02-04T06:00:00",
          "2017-02-04T06:10:00",
          "2017-02-04T06:20:00",
          "2017-02-04T06:30:00",
          "2017-02-04T06:40:00",
          "2017-02-04T06:50:00",
          "2017-02-04T07:00:00",
          "2017-02-04T07:10:00",
          "2017-02-04T07:20:00",
          "2017-02-04T07:30:00",
          "2017-02-04T07:40:00",
          "2017-02-04T07:50:00",
          "2017-02-04T08:00:00",
          "2017-02-04T08:10:00",
          "2017-02-04T08:20:00",
          "2017-02-04T08:30:00",
          "2017-02-04T08:40:00",
          "2017-02-04T08:50:00",
          "2017-02-04T09:00:00",
          "2017-02-04T09:10:00",
          "2017-02-04T09:20:00",
          "2017-02-04T09:30:00",
          "2017-02-04T09:40:00",
          "2017-02-04T09:50:00",
          "2017-02-04T10:00:00",
          "2017-02-04T10:10:00",
          "2017-02-04T10:20:00",
          "2017-02-04T10:30:00",
          "2017-02-04T10:40:00",
          "2017-02-04T10:50:00",
          "2017-02-04T11:00:00",
          "2017-02-04T11:10:00",
          "2017-02-04T11:20:00",
          "2017-02-04T11:30:00",
          "2017-02-04T11:40:00",
          "2017-02-04T11:50:00",
          "2017-02-04T12:00:00",
          "2017-02-04T12:10:00",
          "2017-02-04T12:20:00",
          "2017-02-04T12:30:00",
          "2017-02-04T12:40:00",
          "2017-02-04T12:50:00",
          "2017-02-04T13:00:00",
          "2017-02-04T13:10:00",
          "2017-02-04T13:20:00",
          "2017-02-04T13:30:00",
          "2017-02-04T13:40:00",
          "2017-02-04T13:50:00",
          "2017-02-04T14:00:00",
          "2017-02-04T14:10:00",
          "2017-02-04T14:20:00",
          "2017-02-04T14:30:00",
          "2017-02-04T14:40:00",
          "2017-02-04T14:50:00",
          "2017-02-04T15:00:00",
          "2017-02-04T15:10:00",
          "2017-02-04T15:20:00",
          "2017-02-04T15:30:00",
          "2017-02-04T15:40:00",
          "2017-02-04T15:50:00",
          "2017-02-04T16:00:00",
          "2017-02-04T16:10:00",
          "2017-02-04T16:20:00",
          "2017-02-04T16:30:00",
          "2017-02-04T16:40:00",
          "2017-02-04T16:50:00",
          "2017-02-04T17:00:00",
          "2017-02-04T17:10:00",
          "2017-02-04T17:20:00",
          "2017-02-04T17:30:00",
          "2017-02-04T17:40:00",
          "2017-02-04T17:50:00",
          "2017-02-04T18:00:00",
          "2017-02-04T18:10:00",
          "2017-02-04T18:20:00",
          "2017-02-04T18:30:00",
          "2017-02-04T18:40:00",
          "2017-02-04T18:50:00",
          "2017-02-04T19:00:00",
          "2017-02-04T19:10:00",
          "2017-02-04T19:20:00",
          "2017-02-04T19:30:00",
          "2017-02-04T19:40:00",
          "2017-02-04T19:50:00",
          "2017-02-04T20:00:00",
          "2017-02-04T20:10:00",
          "2017-02-04T20:20:00",
          "2017-02-04T20:30:00",
          "2017-02-04T20:40:00",
          "2017-02-04T20:50:00",
          "2017-02-04T21:00:00",
          "2017-02-04T21:10:00",
          "2017-02-04T21:20:00",
          "2017-02-04T21:30:00",
          "2017-02-04T21:40:00",
          "2017-02-04T21:50:00",
          "2017-02-04T22:00:00",
          "2017-02-04T22:10:00",
          "2017-02-04T22:20:00",
          "2017-02-04T22:30:00",
          "2017-02-04T22:40:00",
          "2017-02-04T22:50:00",
          "2017-02-04T23:00:00",
          "2017-02-04T23:10:00",
          "2017-02-04T23:20:00",
          "2017-02-04T23:30:00",
          "2017-02-04T23:40:00",
          "2017-02-04T23:50:00",
          "2017-02-05T00:00:00",
          "2017-02-05T00:10:00",
          "2017-02-05T00:20:00",
          "2017-02-05T00:30:00",
          "2017-02-05T00:40:00",
          "2017-02-05T00:50:00",
          "2017-02-05T01:00:00",
          "2017-02-05T01:10:00",
          "2017-02-05T01:20:00",
          "2017-02-05T01:30:00",
          "2017-02-05T01:40:00",
          "2017-02-05T01:50:00",
          "2017-02-05T02:00:00",
          "2017-02-05T02:10:00",
          "2017-02-05T02:20:00",
          "2017-02-05T02:30:00",
          "2017-02-05T02:40:00",
          "2017-02-05T02:50:00",
          "2017-02-05T03:00:00",
          "2017-02-05T03:10:00",
          "2017-02-05T03:20:00",
          "2017-02-05T03:30:00",
          "2017-02-05T03:40:00",
          "2017-02-05T03:50:00",
          "2017-02-05T04:00:00",
          "2017-02-05T04:10:00",
          "2017-02-05T04:20:00",
          "2017-02-05T04:30:00",
          "2017-02-05T04:40:00",
          "2017-02-05T04:50:00",
          "2017-02-05T05:00:00",
          "2017-02-05T05:10:00",
          "2017-02-05T05:20:00",
          "2017-02-05T05:30:00",
          "2017-02-05T05:40:00",
          "2017-02-05T05:50:00",
          "2017-02-05T06:00:00",
          "2017-02-05T06:10:00",
          "2017-02-05T06:20:00",
          "2017-02-05T06:30:00",
          "2017-02-05T06:40:00",
          "2017-02-05T06:50:00",
          "2017-02-05T07:00:00",
          "2017-02-05T07:10:00",
          "2017-02-05T07:20:00",
          "2017-02-05T07:30:00",
          "2017-02-05T07:40:00",
          "2017-02-05T07:50:00",
          "2017-02-05T08:00:00",
          "2017-02-05T08:10:00",
          "2017-02-05T08:20:00",
          "2017-02-05T08:30:00",
          "2017-02-05T08:40:00",
          "2017-02-05T08:50:00",
          "2017-02-05T09:00:00",
          "2017-02-05T09:10:00",
          "2017-02-05T09:20:00",
          "2017-02-05T09:30:00",
          "2017-02-05T09:40:00",
          "2017-02-05T09:50:00",
          "2017-02-05T10:00:00",
          "2017-02-05T10:10:00",
          "2017-02-05T10:20:00",
          "2017-02-05T10:30:00",
          "2017-02-05T10:40:00",
          "2017-02-05T10:50:00",
          "2017-02-05T11:00:00",
          "2017-02-05T11:10:00",
          "2017-02-05T11:20:00",
          "2017-02-05T11:30:00",
          "2017-02-05T11:40:00",
          "2017-02-05T11:50:00",
          "2017-02-05T12:00:00",
          "2017-02-05T12:10:00",
          "2017-02-05T12:20:00",
          "2017-02-05T12:30:00",
          "2017-02-05T12:40:00",
          "2017-02-05T12:50:00",
          "2017-02-05T13:00:00",
          "2017-02-05T13:10:00",
          "2017-02-05T13:20:00",
          "2017-02-05T13:30:00",
          "2017-02-05T13:40:00",
          "2017-02-05T13:50:00",
          "2017-02-05T14:00:00",
          "2017-02-05T14:10:00",
          "2017-02-05T14:20:00",
          "2017-02-05T14:30:00",
          "2017-02-05T14:40:00",
          "2017-02-05T14:50:00",
          "2017-02-05T15:00:00",
          "2017-02-05T15:10:00",
          "2017-02-05T15:20:00",
          "2017-02-05T15:30:00",
          "2017-02-05T15:40:00",
          "2017-02-05T15:50:00",
          "2017-02-05T16:00:00",
          "2017-02-05T16:10:00",
          "2017-02-05T16:20:00",
          "2017-02-05T16:30:00",
          "2017-02-05T16:40:00",
          "2017-02-05T16:50:00",
          "2017-02-05T17:00:00",
          "2017-02-05T17:10:00",
          "2017-02-05T17:20:00",
          "2017-02-05T17:30:00",
          "2017-02-05T17:40:00",
          "2017-02-05T17:50:00",
          "2017-02-05T18:00:00",
          "2017-02-05T18:10:00",
          "2017-02-05T18:20:00",
          "2017-02-05T18:30:00",
          "2017-02-05T18:40:00",
          "2017-02-05T18:50:00",
          "2017-02-05T19:00:00",
          "2017-02-05T19:10:00",
          "2017-02-05T19:20:00",
          "2017-02-05T19:30:00",
          "2017-02-05T19:40:00",
          "2017-02-05T19:50:00",
          "2017-02-05T20:00:00",
          "2017-02-05T20:10:00",
          "2017-02-05T20:20:00",
          "2017-02-05T20:30:00",
          "2017-02-05T20:40:00",
          "2017-02-05T20:50:00",
          "2017-02-05T21:00:00",
          "2017-02-05T21:10:00",
          "2017-02-05T21:20:00",
          "2017-02-05T21:30:00",
          "2017-02-05T21:40:00",
          "2017-02-05T21:50:00",
          "2017-02-05T22:00:00",
          "2017-02-05T22:10:00",
          "2017-02-05T22:20:00",
          "2017-02-05T22:30:00",
          "2017-02-05T22:40:00",
          "2017-02-05T22:50:00",
          "2017-02-05T23:00:00",
          "2017-02-05T23:10:00",
          "2017-02-05T23:20:00",
          "2017-02-05T23:30:00",
          "2017-02-05T23:40:00",
          "2017-02-05T23:50:00",
          "2017-02-06T00:00:00",
          "2017-02-06T00:10:00",
          "2017-02-06T00:20:00",
          "2017-02-06T00:30:00",
          "2017-02-06T00:40:00",
          "2017-02-06T00:50:00",
          "2017-02-06T01:00:00",
          "2017-02-06T01:10:00",
          "2017-02-06T01:20:00",
          "2017-02-06T01:30:00",
          "2017-02-06T01:40:00",
          "2017-02-06T01:50:00",
          "2017-02-06T02:00:00",
          "2017-02-06T02:10:00",
          "2017-02-06T02:20:00",
          "2017-02-06T02:30:00",
          "2017-02-06T02:40:00",
          "2017-02-06T02:50:00",
          "2017-02-06T03:00:00",
          "2017-02-06T03:10:00",
          "2017-02-06T03:20:00",
          "2017-02-06T03:30:00",
          "2017-02-06T03:40:00",
          "2017-02-06T03:50:00",
          "2017-02-06T04:00:00",
          "2017-02-06T04:10:00",
          "2017-02-06T04:20:00",
          "2017-02-06T04:30:00",
          "2017-02-06T04:40:00",
          "2017-02-06T04:50:00",
          "2017-02-06T05:00:00",
          "2017-02-06T05:10:00",
          "2017-02-06T05:20:00",
          "2017-02-06T05:30:00",
          "2017-02-06T05:40:00",
          "2017-02-06T05:50:00",
          "2017-02-06T06:00:00",
          "2017-02-06T06:10:00",
          "2017-02-06T06:20:00",
          "2017-02-06T06:30:00",
          "2017-02-06T06:40:00",
          "2017-02-06T06:50:00",
          "2017-02-06T07:00:00",
          "2017-02-06T07:10:00",
          "2017-02-06T07:20:00",
          "2017-02-06T07:30:00",
          "2017-02-06T07:40:00",
          "2017-02-06T07:50:00",
          "2017-02-06T08:00:00",
          "2017-02-06T08:10:00",
          "2017-02-06T08:20:00",
          "2017-02-06T08:30:00",
          "2017-02-06T08:40:00",
          "2017-02-06T08:50:00",
          "2017-02-06T09:00:00",
          "2017-02-06T09:10:00",
          "2017-02-06T09:20:00",
          "2017-02-06T09:30:00",
          "2017-02-06T09:40:00",
          "2017-02-06T09:50:00",
          "2017-02-06T10:00:00",
          "2017-02-06T10:10:00",
          "2017-02-06T10:20:00",
          "2017-02-06T10:30:00",
          "2017-02-06T10:40:00",
          "2017-02-06T10:50:00",
          "2017-02-06T11:00:00",
          "2017-02-06T11:10:00",
          "2017-02-06T11:20:00",
          "2017-02-06T11:30:00",
          "2017-02-06T11:40:00",
          "2017-02-06T11:50:00",
          "2017-02-06T12:00:00",
          "2017-02-06T12:10:00",
          "2017-02-06T12:20:00",
          "2017-02-06T12:30:00",
          "2017-02-06T12:40:00",
          "2017-02-06T12:50:00",
          "2017-02-06T13:00:00",
          "2017-02-06T13:10:00",
          "2017-02-06T13:20:00",
          "2017-02-06T13:30:00",
          "2017-02-06T13:40:00",
          "2017-02-06T13:50:00",
          "2017-02-06T14:00:00",
          "2017-02-06T14:10:00",
          "2017-02-06T14:20:00",
          "2017-02-06T14:30:00",
          "2017-02-06T14:40:00",
          "2017-02-06T14:50:00",
          "2017-02-06T15:00:00",
          "2017-02-06T15:10:00",
          "2017-02-06T15:20:00",
          "2017-02-06T15:30:00",
          "2017-02-06T15:40:00",
          "2017-02-06T15:50:00",
          "2017-02-06T16:00:00",
          "2017-02-06T16:10:00",
          "2017-02-06T16:20:00",
          "2017-02-06T16:30:00",
          "2017-02-06T16:40:00",
          "2017-02-06T16:50:00",
          "2017-02-06T17:00:00",
          "2017-02-06T17:10:00",
          "2017-02-06T17:20:00",
          "2017-02-06T17:30:00",
          "2017-02-06T17:40:00",
          "2017-02-06T17:50:00",
          "2017-02-06T18:00:00",
          "2017-02-06T18:10:00",
          "2017-02-06T18:20:00",
          "2017-02-06T18:30:00",
          "2017-02-06T18:40:00",
          "2017-02-06T18:50:00",
          "2017-02-06T19:00:00",
          "2017-02-06T19:10:00",
          "2017-02-06T19:20:00",
          "2017-02-06T19:30:00",
          "2017-02-06T19:40:00",
          "2017-02-06T19:50:00",
          "2017-02-06T20:00:00",
          "2017-02-06T20:10:00",
          "2017-02-06T20:20:00",
          "2017-02-06T20:30:00",
          "2017-02-06T20:40:00",
          "2017-02-06T20:50:00",
          "2017-02-06T21:00:00",
          "2017-02-06T21:10:00",
          "2017-02-06T21:20:00",
          "2017-02-06T21:30:00",
          "2017-02-06T21:40:00",
          "2017-02-06T21:50:00",
          "2017-02-06T22:00:00",
          "2017-02-06T22:10:00",
          "2017-02-06T22:20:00",
          "2017-02-06T22:30:00",
          "2017-02-06T22:40:00",
          "2017-02-06T22:50:00",
          "2017-02-06T23:00:00",
          "2017-02-06T23:10:00",
          "2017-02-06T23:20:00",
          "2017-02-06T23:30:00",
          "2017-02-06T23:40:00",
          "2017-02-06T23:50:00",
          "2017-02-07T00:00:00",
          "2017-02-07T00:10:00",
          "2017-02-07T00:20:00",
          "2017-02-07T00:30:00",
          "2017-02-07T00:40:00",
          "2017-02-07T00:50:00",
          "2017-02-07T01:00:00",
          "2017-02-07T01:10:00",
          "2017-02-07T01:20:00",
          "2017-02-07T01:30:00",
          "2017-02-07T01:40:00",
          "2017-02-07T01:50:00",
          "2017-02-07T02:00:00",
          "2017-02-07T02:10:00",
          "2017-02-07T02:20:00",
          "2017-02-07T02:30:00",
          "2017-02-07T02:40:00",
          "2017-02-07T02:50:00",
          "2017-02-07T03:00:00",
          "2017-02-07T03:10:00",
          "2017-02-07T03:20:00",
          "2017-02-07T03:30:00",
          "2017-02-07T03:40:00",
          "2017-02-07T03:50:00",
          "2017-02-07T04:00:00",
          "2017-02-07T04:10:00",
          "2017-02-07T04:20:00",
          "2017-02-07T04:30:00",
          "2017-02-07T04:40:00",
          "2017-02-07T04:50:00",
          "2017-02-07T05:00:00",
          "2017-02-07T05:10:00",
          "2017-02-07T05:20:00",
          "2017-02-07T05:30:00",
          "2017-02-07T05:40:00",
          "2017-02-07T05:50:00",
          "2017-02-07T06:00:00",
          "2017-02-07T06:10:00",
          "2017-02-07T06:20:00",
          "2017-02-07T06:30:00",
          "2017-02-07T06:40:00",
          "2017-02-07T06:50:00",
          "2017-02-07T07:00:00",
          "2017-02-07T07:10:00",
          "2017-02-07T07:20:00",
          "2017-02-07T07:30:00",
          "2017-02-07T07:40:00",
          "2017-02-07T07:50:00",
          "2017-02-07T08:00:00",
          "2017-02-07T08:10:00",
          "2017-02-07T08:20:00",
          "2017-02-07T08:30:00",
          "2017-02-07T08:40:00",
          "2017-02-07T08:50:00",
          "2017-02-07T09:00:00",
          "2017-02-07T09:10:00",
          "2017-02-07T09:20:00",
          "2017-02-07T09:30:00",
          "2017-02-07T09:40:00",
          "2017-02-07T09:50:00",
          "2017-02-07T10:00:00",
          "2017-02-07T10:10:00",
          "2017-02-07T10:20:00",
          "2017-02-07T10:30:00",
          "2017-02-07T10:40:00",
          "2017-02-07T10:50:00",
          "2017-02-07T11:00:00",
          "2017-02-07T11:10:00",
          "2017-02-07T11:20:00",
          "2017-02-07T11:30:00",
          "2017-02-07T11:40:00",
          "2017-02-07T11:50:00",
          "2017-02-07T12:00:00",
          "2017-02-07T12:10:00",
          "2017-02-07T12:20:00",
          "2017-02-07T12:30:00",
          "2017-02-07T12:40:00",
          "2017-02-07T12:50:00",
          "2017-02-07T13:00:00",
          "2017-02-07T13:10:00",
          "2017-02-07T13:20:00",
          "2017-02-07T13:30:00",
          "2017-02-07T13:40:00",
          "2017-02-07T13:50:00",
          "2017-02-07T14:00:00",
          "2017-02-07T14:10:00",
          "2017-02-07T14:20:00",
          "2017-02-07T14:30:00",
          "2017-02-07T14:40:00",
          "2017-02-07T14:50:00",
          "2017-02-07T15:00:00",
          "2017-02-07T15:10:00",
          "2017-02-07T15:20:00",
          "2017-02-07T15:30:00",
          "2017-02-07T15:40:00",
          "2017-02-07T15:50:00",
          "2017-02-07T16:00:00",
          "2017-02-07T16:10:00",
          "2017-02-07T16:20:00",
          "2017-02-07T16:30:00",
          "2017-02-07T16:40:00",
          "2017-02-07T16:50:00",
          "2017-02-07T17:00:00",
          "2017-02-07T17:10:00",
          "2017-02-07T17:20:00",
          "2017-02-07T17:30:00",
          "2017-02-07T17:40:00",
          "2017-02-07T17:50:00",
          "2017-02-07T18:00:00",
          "2017-02-07T18:10:00",
          "2017-02-07T18:20:00",
          "2017-02-07T18:30:00",
          "2017-02-07T18:40:00",
          "2017-02-07T18:50:00",
          "2017-02-07T19:00:00",
          "2017-02-07T19:10:00",
          "2017-02-07T19:20:00",
          "2017-02-07T19:30:00",
          "2017-02-07T19:40:00",
          "2017-02-07T19:50:00",
          "2017-02-07T20:00:00",
          "2017-02-07T20:10:00",
          "2017-02-07T20:20:00",
          "2017-02-07T20:30:00",
          "2017-02-07T20:40:00",
          "2017-02-07T20:50:00",
          "2017-02-07T21:00:00",
          "2017-02-07T21:10:00",
          "2017-02-07T21:20:00",
          "2017-02-07T21:30:00",
          "2017-02-07T21:40:00",
          "2017-02-07T21:50:00",
          "2017-02-07T22:00:00",
          "2017-02-07T22:10:00",
          "2017-02-07T22:20:00",
          "2017-02-07T22:30:00",
          "2017-02-07T22:40:00",
          "2017-02-07T22:50:00",
          "2017-02-07T23:00:00",
          "2017-02-07T23:10:00",
          "2017-02-07T23:20:00",
          "2017-02-07T23:30:00",
          "2017-02-07T23:40:00",
          "2017-02-07T23:50:00",
          "2017-02-08T00:00:00",
          "2017-02-08T00:10:00",
          "2017-02-08T00:20:00",
          "2017-02-08T00:30:00",
          "2017-02-08T00:40:00",
          "2017-02-08T00:50:00",
          "2017-02-08T01:00:00",
          "2017-02-08T01:10:00",
          "2017-02-08T01:20:00",
          "2017-02-08T01:30:00",
          "2017-02-08T01:40:00",
          "2017-02-08T01:50:00",
          "2017-02-08T02:00:00",
          "2017-02-08T02:10:00",
          "2017-02-08T02:20:00",
          "2017-02-08T02:30:00",
          "2017-02-08T02:40:00",
          "2017-02-08T02:50:00",
          "2017-02-08T03:00:00",
          "2017-02-08T03:10:00",
          "2017-02-08T03:20:00",
          "2017-02-08T03:30:00",
          "2017-02-08T03:40:00",
          "2017-02-08T03:50:00",
          "2017-02-08T04:00:00",
          "2017-02-08T04:10:00",
          "2017-02-08T04:20:00",
          "2017-02-08T04:30:00",
          "2017-02-08T04:40:00",
          "2017-02-08T04:50:00",
          "2017-02-08T05:00:00",
          "2017-02-08T05:10:00",
          "2017-02-08T05:20:00",
          "2017-02-08T05:30:00",
          "2017-02-08T05:40:00",
          "2017-02-08T05:50:00",
          "2017-02-08T06:00:00",
          "2017-02-08T06:10:00",
          "2017-02-08T06:20:00",
          "2017-02-08T06:30:00",
          "2017-02-08T06:40:00",
          "2017-02-08T06:50:00",
          "2017-02-08T07:00:00",
          "2017-02-08T07:10:00",
          "2017-02-08T07:20:00",
          "2017-02-08T07:30:00",
          "2017-02-08T07:40:00",
          "2017-02-08T07:50:00",
          "2017-02-08T08:00:00",
          "2017-02-08T08:10:00",
          "2017-02-08T08:20:00",
          "2017-02-08T08:30:00",
          "2017-02-08T08:40:00",
          "2017-02-08T08:50:00",
          "2017-02-08T09:00:00",
          "2017-02-08T09:10:00"
         ],
         "xaxis": "x",
         "y": [
          506.7962962962963,
          504.15,
          505.8939393939394,
          505.22222222222223,
          502.65909090909093,
          503.3148148148149,
          501.72727272727275,
          501.51851851851853,
          502.6,
          504.85,
          501.7833333333334,
          504.8181818181818,
          505.00925925925924,
          504.33333333333337,
          503.2037037037037,
          505.9621212121212,
          503.3703703703703,
          504.5333333333334,
          503.7166666666667,
          503.725,
          503.83333333333337,
          502.537037037037,
          499.66666666666663,
          502.59259259259255,
          501.2878787878788,
          501.4814814814815,
          499.6,
          503.4666666666667,
          501.2166666666667,
          501.30303030303025,
          502.82407407407413,
          504.05303030303037,
          503.90740740740745,
          503.439393939394,
          503.3888888888889,
          502.5,
          503.775,
          502.9083333333334,
          504.72727272727275,
          506.2037037037037,
          503.95454545454544,
          507.72222222222223,
          508.18939393939394,
          504.8518518518519,
          503.9833333333333,
          506.4,
          505.85,
          505.8181818181818,
          510.462962962963,
          505.3939393939394,
          504.3703703703703,
          504.18939393939394,
          506.5833333333333,
          506.4583333333333,
          504.5999999999999,
          505.5,
          503.32575757575756,
          505.70370370370375,
          504.79545454545456,
          505.6018518518518,
          505.98484848484856,
          507.9537037037037,
          510.1,
          507.975,
          513.4000000000001,
          515.2727272727273,
          511.50925925925924,
          507.2121212121212,
          502.72222222222223,
          503.67424242424255,
          505.80555555555554,
          509.6583333333333,
          507.3166666666667,
          509.275,
          510.75757575757575,
          508.3611111111111,
          502.79545454545456,
          498.1481481481481,
          496.75757575757575,
          498.77777777777777,
          498.575,
          504.9333333333333,
          501.6583333333333,
          505.04545454545456,
          505.425925925926,
          507.01515151515156,
          508.074074074074,
          510.1530303030302,
          508.40740740740733,
          509.1333333333333,
          510.3416666666667,
          508.6083333333333,
          512.4242424242425,
          512.3055555555555,
          511.99696969696976,
          510.8518518518519,
          512.2651515151515,
          515.2777777777778,
          514.8666666666666,
          515.7583333333333,
          515.1333333333334,
          514.4545454545455,
          515.1481481481482,
          515.9393939393939,
          519.4074074074074,
          516.0454545454545,
          518.2407407407408,
          516.6166666666667,
          514.3833333333333,
          517.95,
          519.6136363636364,
          522.2962962962963,
          519.2727272727273,
          521.6388888888889,
          522.969696969697,
          520.3518518518518,
          526.5666666666666,
          522.6166666666666,
          521.9166666666666,
          514.7727272727273,
          513.4166666666666,
          522.2348484848485,
          528.4814814814814,
          529.1363636363636,
          531.962962962963,
          528.8,
          533.475,
          534.1,
          534.0757575757575,
          531.1388888888889,
          529.219696969697,
          534,
          533.0151515151515,
          529.5370370370371,
          531.45,
          532.5166666666667,
          533.5833333333333,
          535.4090909090909,
          531.7962962962963,
          536.3484848484849,
          536.2962962962962,
          536.4393939393939,
          539.3888888888889,
          537.5083333333333,
          538.3833333333333,
          535.5916666666666,
          538.2727272727273,
          539.2037037037037,
          539.5606060606061,
          541.7592592592592,
          538.4848484848485,
          542.0555555555555,
          540.35,
          538.8500000000001,
          541.4333333333333,
          541.560606060606,
          540.4259259259259,
          543.2424242424241,
          542.7037037037038,
          543.1363636363636,
          543.925925925926,
          545.6833333333333,
          546.5833333333334,
          546.45,
          549.7196969696969,
          550.3333333333334,
          553.2121212121211,
          553.9074074074074,
          554.9090909090909,
          556.0185185185186,
          559.225,
          559.4666666666667,
          564.8666666666667,
          567.9090909090909,
          566.5462962962963,
          566.219696969697,
          568.1111111111111,
          567.9242424242425,
          567.9259259259259,
          569.6333333333333,
          571.0333333333333,
          573.95,
          575.8181818181819,
          578.4375,
          579.060606060606,
          580.6759259259259,
          582.8636363636364,
          588.287037037037,
          586.95,
          591.6,
          595.2166666666667,
          602.439393939394,
          606.175925925926,
          605.4,
          605.9444444444445,
          611.1742424242424,
          609.1666666666666,
          613.5,
          617.8666666666666,
          617.4416666666667,
          623.6136363636364,
          627.7592592592592,
          636.8939393939395,
          641.7592592592592,
          643.5530303030304,
          644.3518518518518,
          640.0583333333333,
          638.2833333333334,
          637.2833333333334,
          634.6742424242425,
          629.8611111111111,
          632.7651515151515,
          629.2222222222222,
          630.8863636363636,
          627.9259259259259,
          628.6899999999998,
          629.95,
          633.9333333333334,
          632.6515151515151,
          633.4074074074074,
          630.1666666666667,
          632.0648148148149,
          639.5833333333334,
          641.537037037037,
          649.5416666666667,
          655.9416666666667,
          658.775,
          658.3257575757576,
          661.4351851851852,
          664.4469696969697,
          674.0092592592594,
          681.4545454545455,
          682.0925925925926,
          663.6583333333333,
          655.2716666666668,
          655.6666666666667,
          657.5681818181819,
          657.2222222222222,
          662.8560606060605,
          660.5625,
          662.6666666666666,
          663.1851851851852,
          668.5083333333333,
          667.1916666666667,
          670.8833333333333,
          683.1287878787879,
          689.1296296296296,
          682.7727272727271,
          678.8425925925926,
          676.4848484848485,
          672.3194444444445,
          676.1833333333333,
          672.7,
          674.7333333333333,
          675.1818181818181,
          668.425925925926,
          649.439393939394,
          654.4259259259259,
          652.0757575757575,
          657.0925925925926,
          658.5833333333333,
          665.1333333333333,
          668.1583333333333,
          675.1969696969697,
          675.8333333333334,
          678.7121212121211,
          679.9259259259259,
          685.1363636363636,
          690.7962962962962,
          692.9,
          694.6666666666667,
          701.4833333333333,
          700.6363636363636,
          707.2222222222222,
          707.9393939393939,
          712.8148148148149,
          717.8636363636364,
          720.1296296296297,
          718.25,
          722.2166666666667,
          714.85,
          721.6060606060605,
          729.074074074074,
          731.2727272727273,
          729.8333333333334,
          729.1212121212121,
          730.2592592592592,
          731.3,
          732.3833333333333,
          729.8,
          732.969696969697,
          714.2592592592592,
          775.6363636363636,
          798.5555555555555,
          808.5666666666667,
          817.4259259259259,
          826.3166666666666,
          903.9166666666666,
          862.9333333333332,
          854.4848484848484,
          854.3055555555555,
          854.1212121212124,
          861.5,
          858.8181818181819,
          861.3333333333334,
          861.75,
          864.6,
          867.2,
          865.3560606060607,
          859.7222222222222,
          857.9393939393939,
          858.2962962962963,
          849.1818181818181,
          845.3333333333334,
          822.65,
          801.1333333333333,
          800.25,
          790.0151515151515,
          785,
          788.0909090909091,
          794.7407407407408,
          793.6818181818181,
          798.962962962963,
          795.3666666666667,
          799.75,
          801.1833333333333,
          802.1666666666665,
          802.2222222222222,
          806.8484848484848,
          810.3888888888889,
          811.7954545454545,
          811.574074074074,
          805.8333333333333,
          808.55,
          813.4333333333333,
          818.5530303030304,
          819.2037037037038,
          821.8181818181819,
          825.3981481481482,
          826.4696969696971,
          848.8333333333334,
          879.1133333333333,
          902.325,
          966.9583333333333,
          1005.4393939393937,
          1013.4537037037034,
          1002.5757575757575,
          1012.194444444444,
          977.7196969696969,
          971.3851851851853,
          968.8083333333334,
          971.275,
          969.9333333333332,
          1006.1590909090905,
          1044.5370370370376,
          1038.078787878788,
          1012.3611111111111,
          1002.7878787878791,
          983.7407407407409,
          964.9916666666668,
          939.725,
          911.945,
          924.8484848484848,
          910.675925925926,
          906.4545454545455,
          898.6203703703703,
          895.6499999999997,
          890.6296296296297,
          872.7583333333332,
          861.5,
          854.3833333333332,
          837.0075757575756,
          846.2037037037037,
          884.3257575757576,
          908.9722222222222,
          917.9378787878787,
          908.0740740740741,
          907.3416666666668,
          899.2333333333332,
          870.2333333333333,
          862.9772727272727,
          882.3148148148148,
          892.4015151515151,
          892.0833333333334,
          905.4393939393939,
          924.0462962962964,
          921.225,
          928.7333333333332,
          916.875,
          906.6818181818181,
          927.7314814814815,
          976.742424242424,
          974.2407407407409,
          978.1515151515152,
          986.962962962963,
          982.025,
          973.2166666666668,
          944.0166666666668,
          925.4393939393939,
          888.0185185185186,
          854.3636363636364,
          834.1666666666666,
          815.189393939394,
          795.4814814814814,
          773.3166666666666,
          765.4416666666666,
          762.8,
          754.4545454545455,
          747.9074074074074,
          742.8787878787879,
          739.8888888888889,
          730.9242424242425,
          724.962962962963,
          725.8500000000001,
          723.95,
          724.575,
          721.6515151515151,
          723.2407407407408,
          722.2878787878789,
          719.2222222222222,
          713.6212121212121,
          714.4814814814814,
          718.6500000000001,
          712.4833333333333,
          716.15,
          716.7575757575758,
          714.8703703703703,
          714.280303030303,
          713.462962962963,
          712.5227272727273,
          714.537037037037,
          714.4166666666666,
          712.5166666666667,
          715.1333333333333,
          717.6515151515151,
          713.2037037037038,
          713.2045454545455,
          715.7777777777778,
          711.0757575757575,
          713.5833333333334,
          713.4666666666667,
          712.7666666666667,
          721.2333333333333,
          714.9242424242424,
          719.2962962962963,
          717.4621212121211,
          717.074074074074,
          716.7272727272729,
          714.6666666666666,
          717.9333333333333,
          722,
          721.75,
          721.0454545454545,
          724.925925925926,
          725.9166666666667,
          731.0833333333334,
          731.2575757575758,
          730.5925925925926,
          733.2333333333333,
          734.5833333333333,
          736.0666666666666,
          737.8030303030303,
          738.462962962963,
          740.0151515151515,
          739.4166666666666,
          734.8257575757576,
          735.2037037037037,
          742.525,
          742.2583333333333,
          744.3666666666667,
          750.7272727272727,
          751.3148148148149,
          756.3181818181819,
          756.0925925925926,
          760.8181818181819,
          765.5740740740741,
          766.75,
          773.2833333333334,
          773.75,
          777.1818181818181,
          780.4444444444445,
          784.5,
          788.1111111111111,
          792.7651515151516,
          820.9814814814815,
          835,
          847.2666666666668,
          873.95,
          926.3030303030304,
          938.6111111111111,
          945.5606060606061,
          946.2074074074072,
          961.6742424242425,
          960.5370370370371,
          967.3833333333336,
          980.6416666666668,
          988.9537037037036,
          1005.9318181818181,
          1042.0370370370367,
          1074.2196969696972,
          1099.259259259259,
          1081.9242424242427,
          1110.0277777777778,
          1155.2666666666669,
          1222.825,
          1348.775,
          1258.69696969697,
          1196.3555555555556,
          1157.590909090909,
          1150.7259259259254,
          1153.7727272727273,
          1130.829629629629,
          1119.266666666666,
          1141.333333333333,
          1165.041666666667,
          1180.7575757575762,
          1211.9555555555555,
          1255.5681818181818,
          1298.259259259259,
          1322.2424242424238,
          1346.25,
          1352.908333333333,
          1391.15,
          1410.5166666666669,
          1411.775000000001,
          1466.3981481481478,
          1384.1742424242418,
          1404.3333333333323,
          1420.6893939393938,
          1489.111111111111,
          1517.4,
          1459.033333333333,
          1472.1416666666669,
          1494.6363636363637,
          1483.4814814814822,
          1513.515151515152,
          1547.731481481481,
          1749.9469696969702,
          1700.9537037037035,
          1668.6666666666672,
          1602.725,
          1557.525,
          1532.8181818181818,
          1498.0370370370367,
          1478.4318181818182,
          1482.8148148148146,
          1473.1212121212118,
          1468.2037037037035,
          1468.541666666667,
          1472.6,
          1489.3,
          1500.9545454545455,
          1520.1666666666667,
          1489.7727272727273,
          1505.8148148148146,
          1520.6515151515146,
          1518.6851851851845,
          1505.383333333333,
          1515.216666666667,
          1546.85,
          1704.7424242424238,
          1686.2222222222222,
          1535.909090909091,
          1513.7037037037035,
          1556.575757575757,
          1507.740740740741,
          1424.866666666667,
          1486.4333333333338,
          1582.2666666666669,
          1572.39393939394,
          1154.481481481481,
          1152.7424242424245,
          1192.4444444444443,
          1207.712121212121,
          1238.8333333333333,
          1225.55,
          1216.9333333333338,
          1283.05,
          1068.7424242424245,
          1218.9629629629624,
          1548.9545454545462,
          1338,
          1388.2878787878783,
          1313.4722222222222,
          1320.733333333334,
          1343.5166666666669,
          1559.708333333333,
          1620.7272727272727,
          1269.111111111111,
          1213.8636363636363,
          1225.2777777777778,
          1253.5151515151517,
          1268.981481481481,
          1261.991666666666,
          1248.6833333333338,
          1262.75,
          1359.60606060606,
          1361.759259259259,
          1368.8484848484845,
          1396.3981481481478,
          1418.462121212121,
          1410.9444444444443,
          1457.825,
          1488.716666666667,
          1501.85,
          1542.9318181818182,
          1494.9629629629633,
          1504.2272727272727,
          1519.9074074074078,
          1535.2272727272727,
          1553.4444444444443,
          1558.1,
          1531.866666666667,
          1550.35,
          1525,
          1478.111111111111,
          1483.4242424242427,
          1503.0925925925933,
          1510.7121212121208,
          1500.5277777777778,
          1463.366666666667,
          1436.025,
          1415.7333333333331,
          1420.69696969697,
          1417.0555555555557,
          1430.2727272727273,
          1443.9351851851854,
          1444,
          1413.611111111111,
          1485.0149999999999,
          1452.783333333334,
          1545.375
         ],
         "yaxis": "y"
        }
       ],
       "layout": {
        "barmode": "relative",
        "coloraxis": {
         "colorbar": {
          "title": {
           "text": "color"
          }
         },
         "colorscale": [
          [
           0,
           "#0d0887"
          ],
          [
           0.1111111111111111,
           "#46039f"
          ],
          [
           0.2222222222222222,
           "#7201a8"
          ],
          [
           0.3333333333333333,
           "#9c179e"
          ],
          [
           0.4444444444444444,
           "#bd3786"
          ],
          [
           0.5555555555555556,
           "#d8576b"
          ],
          [
           0.6666666666666666,
           "#ed7953"
          ],
          [
           0.7777777777777778,
           "#fb9f3a"
          ],
          [
           0.8888888888888888,
           "#fdca26"
          ],
          [
           1,
           "#f0f921"
          ]
         ]
        },
        "legend": {
         "tracegroupgap": 0
        },
        "margin": {
         "t": 60
        },
        "template": {
         "data": {
          "bar": [
           {
            "error_x": {
             "color": "#2a3f5f"
            },
            "error_y": {
             "color": "#2a3f5f"
            },
            "marker": {
             "line": {
              "color": "#E5ECF6",
              "width": 0.5
             },
             "pattern": {
              "fillmode": "overlay",
              "size": 10,
              "solidity": 0.2
             }
            },
            "type": "bar"
           }
          ],
          "barpolar": [
           {
            "marker": {
             "line": {
              "color": "#E5ECF6",
              "width": 0.5
             },
             "pattern": {
              "fillmode": "overlay",
              "size": 10,
              "solidity": 0.2
             }
            },
            "type": "barpolar"
           }
          ],
          "carpet": [
           {
            "aaxis": {
             "endlinecolor": "#2a3f5f",
             "gridcolor": "white",
             "linecolor": "white",
             "minorgridcolor": "white",
             "startlinecolor": "#2a3f5f"
            },
            "baxis": {
             "endlinecolor": "#2a3f5f",
             "gridcolor": "white",
             "linecolor": "white",
             "minorgridcolor": "white",
             "startlinecolor": "#2a3f5f"
            },
            "type": "carpet"
           }
          ],
          "choropleth": [
           {
            "colorbar": {
             "outlinewidth": 0,
             "ticks": ""
            },
            "type": "choropleth"
           }
          ],
          "contour": [
           {
            "colorbar": {
             "outlinewidth": 0,
             "ticks": ""
            },
            "colorscale": [
             [
              0,
              "#0d0887"
             ],
             [
              0.1111111111111111,
              "#46039f"
             ],
             [
              0.2222222222222222,
              "#7201a8"
             ],
             [
              0.3333333333333333,
              "#9c179e"
             ],
             [
              0.4444444444444444,
              "#bd3786"
             ],
             [
              0.5555555555555556,
              "#d8576b"
             ],
             [
              0.6666666666666666,
              "#ed7953"
             ],
             [
              0.7777777777777778,
              "#fb9f3a"
             ],
             [
              0.8888888888888888,
              "#fdca26"
             ],
             [
              1,
              "#f0f921"
             ]
            ],
            "type": "contour"
           }
          ],
          "contourcarpet": [
           {
            "colorbar": {
             "outlinewidth": 0,
             "ticks": ""
            },
            "type": "contourcarpet"
           }
          ],
          "heatmap": [
           {
            "colorbar": {
             "outlinewidth": 0,
             "ticks": ""
            },
            "colorscale": [
             [
              0,
              "#0d0887"
             ],
             [
              0.1111111111111111,
              "#46039f"
             ],
             [
              0.2222222222222222,
              "#7201a8"
             ],
             [
              0.3333333333333333,
              "#9c179e"
             ],
             [
              0.4444444444444444,
              "#bd3786"
             ],
             [
              0.5555555555555556,
              "#d8576b"
             ],
             [
              0.6666666666666666,
              "#ed7953"
             ],
             [
              0.7777777777777778,
              "#fb9f3a"
             ],
             [
              0.8888888888888888,
              "#fdca26"
             ],
             [
              1,
              "#f0f921"
             ]
            ],
            "type": "heatmap"
           }
          ],
          "heatmapgl": [
           {
            "colorbar": {
             "outlinewidth": 0,
             "ticks": ""
            },
            "colorscale": [
             [
              0,
              "#0d0887"
             ],
             [
              0.1111111111111111,
              "#46039f"
             ],
             [
              0.2222222222222222,
              "#7201a8"
             ],
             [
              0.3333333333333333,
              "#9c179e"
             ],
             [
              0.4444444444444444,
              "#bd3786"
             ],
             [
              0.5555555555555556,
              "#d8576b"
             ],
             [
              0.6666666666666666,
              "#ed7953"
             ],
             [
              0.7777777777777778,
              "#fb9f3a"
             ],
             [
              0.8888888888888888,
              "#fdca26"
             ],
             [
              1,
              "#f0f921"
             ]
            ],
            "type": "heatmapgl"
           }
          ],
          "histogram": [
           {
            "marker": {
             "pattern": {
              "fillmode": "overlay",
              "size": 10,
              "solidity": 0.2
             }
            },
            "type": "histogram"
           }
          ],
          "histogram2d": [
           {
            "colorbar": {
             "outlinewidth": 0,
             "ticks": ""
            },
            "colorscale": [
             [
              0,
              "#0d0887"
             ],
             [
              0.1111111111111111,
              "#46039f"
             ],
             [
              0.2222222222222222,
              "#7201a8"
             ],
             [
              0.3333333333333333,
              "#9c179e"
             ],
             [
              0.4444444444444444,
              "#bd3786"
             ],
             [
              0.5555555555555556,
              "#d8576b"
             ],
             [
              0.6666666666666666,
              "#ed7953"
             ],
             [
              0.7777777777777778,
              "#fb9f3a"
             ],
             [
              0.8888888888888888,
              "#fdca26"
             ],
             [
              1,
              "#f0f921"
             ]
            ],
            "type": "histogram2d"
           }
          ],
          "histogram2dcontour": [
           {
            "colorbar": {
             "outlinewidth": 0,
             "ticks": ""
            },
            "colorscale": [
             [
              0,
              "#0d0887"
             ],
             [
              0.1111111111111111,
              "#46039f"
             ],
             [
              0.2222222222222222,
              "#7201a8"
             ],
             [
              0.3333333333333333,
              "#9c179e"
             ],
             [
              0.4444444444444444,
              "#bd3786"
             ],
             [
              0.5555555555555556,
              "#d8576b"
             ],
             [
              0.6666666666666666,
              "#ed7953"
             ],
             [
              0.7777777777777778,
              "#fb9f3a"
             ],
             [
              0.8888888888888888,
              "#fdca26"
             ],
             [
              1,
              "#f0f921"
             ]
            ],
            "type": "histogram2dcontour"
           }
          ],
          "mesh3d": [
           {
            "colorbar": {
             "outlinewidth": 0,
             "ticks": ""
            },
            "type": "mesh3d"
           }
          ],
          "parcoords": [
           {
            "line": {
             "colorbar": {
              "outlinewidth": 0,
              "ticks": ""
             }
            },
            "type": "parcoords"
           }
          ],
          "pie": [
           {
            "automargin": true,
            "type": "pie"
           }
          ],
          "scatter": [
           {
            "marker": {
             "colorbar": {
              "outlinewidth": 0,
              "ticks": ""
             }
            },
            "type": "scatter"
           }
          ],
          "scatter3d": [
           {
            "line": {
             "colorbar": {
              "outlinewidth": 0,
              "ticks": ""
             }
            },
            "marker": {
             "colorbar": {
              "outlinewidth": 0,
              "ticks": ""
             }
            },
            "type": "scatter3d"
           }
          ],
          "scattercarpet": [
           {
            "marker": {
             "colorbar": {
              "outlinewidth": 0,
              "ticks": ""
             }
            },
            "type": "scattercarpet"
           }
          ],
          "scattergeo": [
           {
            "marker": {
             "colorbar": {
              "outlinewidth": 0,
              "ticks": ""
             }
            },
            "type": "scattergeo"
           }
          ],
          "scattergl": [
           {
            "marker": {
             "colorbar": {
              "outlinewidth": 0,
              "ticks": ""
             }
            },
            "type": "scattergl"
           }
          ],
          "scattermapbox": [
           {
            "marker": {
             "colorbar": {
              "outlinewidth": 0,
              "ticks": ""
             }
            },
            "type": "scattermapbox"
           }
          ],
          "scatterpolar": [
           {
            "marker": {
             "colorbar": {
              "outlinewidth": 0,
              "ticks": ""
             }
            },
            "type": "scatterpolar"
           }
          ],
          "scatterpolargl": [
           {
            "marker": {
             "colorbar": {
              "outlinewidth": 0,
              "ticks": ""
             }
            },
            "type": "scatterpolargl"
           }
          ],
          "scatterternary": [
           {
            "marker": {
             "colorbar": {
              "outlinewidth": 0,
              "ticks": ""
             }
            },
            "type": "scatterternary"
           }
          ],
          "surface": [
           {
            "colorbar": {
             "outlinewidth": 0,
             "ticks": ""
            },
            "colorscale": [
             [
              0,
              "#0d0887"
             ],
             [
              0.1111111111111111,
              "#46039f"
             ],
             [
              0.2222222222222222,
              "#7201a8"
             ],
             [
              0.3333333333333333,
              "#9c179e"
             ],
             [
              0.4444444444444444,
              "#bd3786"
             ],
             [
              0.5555555555555556,
              "#d8576b"
             ],
             [
              0.6666666666666666,
              "#ed7953"
             ],
             [
              0.7777777777777778,
              "#fb9f3a"
             ],
             [
              0.8888888888888888,
              "#fdca26"
             ],
             [
              1,
              "#f0f921"
             ]
            ],
            "type": "surface"
           }
          ],
          "table": [
           {
            "cells": {
             "fill": {
              "color": "#EBF0F8"
             },
             "line": {
              "color": "white"
             }
            },
            "header": {
             "fill": {
              "color": "#C8D4E3"
             },
             "line": {
              "color": "white"
             }
            },
            "type": "table"
           }
          ]
         },
         "layout": {
          "annotationdefaults": {
           "arrowcolor": "#2a3f5f",
           "arrowhead": 0,
           "arrowwidth": 1
          },
          "autotypenumbers": "strict",
          "coloraxis": {
           "colorbar": {
            "outlinewidth": 0,
            "ticks": ""
           }
          },
          "colorscale": {
           "diverging": [
            [
             0,
             "#8e0152"
            ],
            [
             0.1,
             "#c51b7d"
            ],
            [
             0.2,
             "#de77ae"
            ],
            [
             0.3,
             "#f1b6da"
            ],
            [
             0.4,
             "#fde0ef"
            ],
            [
             0.5,
             "#f7f7f7"
            ],
            [
             0.6,
             "#e6f5d0"
            ],
            [
             0.7,
             "#b8e186"
            ],
            [
             0.8,
             "#7fbc41"
            ],
            [
             0.9,
             "#4d9221"
            ],
            [
             1,
             "#276419"
            ]
           ],
           "sequential": [
            [
             0,
             "#0d0887"
            ],
            [
             0.1111111111111111,
             "#46039f"
            ],
            [
             0.2222222222222222,
             "#7201a8"
            ],
            [
             0.3333333333333333,
             "#9c179e"
            ],
            [
             0.4444444444444444,
             "#bd3786"
            ],
            [
             0.5555555555555556,
             "#d8576b"
            ],
            [
             0.6666666666666666,
             "#ed7953"
            ],
            [
             0.7777777777777778,
             "#fb9f3a"
            ],
            [
             0.8888888888888888,
             "#fdca26"
            ],
            [
             1,
             "#f0f921"
            ]
           ],
           "sequentialminus": [
            [
             0,
             "#0d0887"
            ],
            [
             0.1111111111111111,
             "#46039f"
            ],
            [
             0.2222222222222222,
             "#7201a8"
            ],
            [
             0.3333333333333333,
             "#9c179e"
            ],
            [
             0.4444444444444444,
             "#bd3786"
            ],
            [
             0.5555555555555556,
             "#d8576b"
            ],
            [
             0.6666666666666666,
             "#ed7953"
            ],
            [
             0.7777777777777778,
             "#fb9f3a"
            ],
            [
             0.8888888888888888,
             "#fdca26"
            ],
            [
             1,
             "#f0f921"
            ]
           ]
          },
          "colorway": [
           "#636efa",
           "#EF553B",
           "#00cc96",
           "#ab63fa",
           "#FFA15A",
           "#19d3f3",
           "#FF6692",
           "#B6E880",
           "#FF97FF",
           "#FECB52"
          ],
          "font": {
           "color": "#2a3f5f"
          },
          "geo": {
           "bgcolor": "white",
           "lakecolor": "white",
           "landcolor": "#E5ECF6",
           "showlakes": true,
           "showland": true,
           "subunitcolor": "white"
          },
          "hoverlabel": {
           "align": "left"
          },
          "hovermode": "closest",
          "mapbox": {
           "style": "light"
          },
          "paper_bgcolor": "white",
          "plot_bgcolor": "#E5ECF6",
          "polar": {
           "angularaxis": {
            "gridcolor": "white",
            "linecolor": "white",
            "ticks": ""
           },
           "bgcolor": "#E5ECF6",
           "radialaxis": {
            "gridcolor": "white",
            "linecolor": "white",
            "ticks": ""
           }
          },
          "scene": {
           "xaxis": {
            "backgroundcolor": "#E5ECF6",
            "gridcolor": "white",
            "gridwidth": 2,
            "linecolor": "white",
            "showbackground": true,
            "ticks": "",
            "zerolinecolor": "white"
           },
           "yaxis": {
            "backgroundcolor": "#E5ECF6",
            "gridcolor": "white",
            "gridwidth": 2,
            "linecolor": "white",
            "showbackground": true,
            "ticks": "",
            "zerolinecolor": "white"
           },
           "zaxis": {
            "backgroundcolor": "#E5ECF6",
            "gridcolor": "white",
            "gridwidth": 2,
            "linecolor": "white",
            "showbackground": true,
            "ticks": "",
            "zerolinecolor": "white"
           }
          },
          "shapedefaults": {
           "line": {
            "color": "#2a3f5f"
           }
          },
          "ternary": {
           "aaxis": {
            "gridcolor": "white",
            "linecolor": "white",
            "ticks": ""
           },
           "baxis": {
            "gridcolor": "white",
            "linecolor": "white",
            "ticks": ""
           },
           "bgcolor": "#E5ECF6",
           "caxis": {
            "gridcolor": "white",
            "linecolor": "white",
            "ticks": ""
           }
          },
          "title": {
           "x": 0.05
          },
          "xaxis": {
           "automargin": true,
           "gridcolor": "white",
           "linecolor": "white",
           "ticks": "",
           "title": {
            "standoff": 15
           },
           "zerolinecolor": "white",
           "zerolinewidth": 2
          },
          "yaxis": {
           "automargin": true,
           "gridcolor": "white",
           "linecolor": "white",
           "ticks": "",
           "title": {
            "standoff": 15
           },
           "zerolinecolor": "white",
           "zerolinewidth": 2
          }
         }
        },
        "xaxis": {
         "anchor": "y",
         "domain": [
          0,
          1
         ],
         "title": {
          "text": "Datum"
         }
        },
        "yaxis": {
         "anchor": "x",
         "domain": [
          0,
          1
         ],
         "title": {
          "text": "CO2"
         }
        }
       }
      },
      "text/html": [
       "<div>                            <div id=\"058b1c95-101f-4448-b6f7-493dabe95d58\" class=\"plotly-graph-div\" style=\"height:525px; width:100%;\"></div>            <script type=\"text/javascript\">                require([\"plotly\"], function(Plotly) {                    window.PLOTLYENV=window.PLOTLYENV || {};                                    if (document.getElementById(\"058b1c95-101f-4448-b6f7-493dabe95d58\")) {                    Plotly.newPlot(                        \"058b1c95-101f-4448-b6f7-493dabe95d58\",                        [{\"alignmentgroup\":\"True\",\"hovertemplate\":\"Datum=%{x}<br>CO2=%{y}<br>color=%{marker.color}<extra></extra>\",\"legendgroup\":\"\",\"marker\":{\"color\":[0.0,0.0,0.0,0.0,0.0,0.0,0.0,0.0,0.0,0.0,0.0,0.0,0.0,0.0,0.0,0.0,0.0,0.0,0.0,0.0,0.0,0.0,0.0,0.0,0.0,0.0,0.0,0.0,0.0,0.0,0.0,0.0,0.0,0.0,0.0,0.0,0.0,0.0,0.0,0.0,0.0,0.0,0.0,0.0,0.0,0.0,0.0,0.0,0.0,0.0,0.0,0.0,0.0,0.0,0.0,0.0,0.0,0.0,0.0,0.0,0.0,0.0,0.0,0.0,0.0,0.0,0.0,0.0,0.0,0.0,0.0,0.0,0.0,0.0,0.0,0.0,0.0,0.0,0.0,0.0,0.0,0.0,0.0,0.0,0.0,0.0,0.0,0.0,0.0,0.0,0.0,0.0,0.0,0.0,0.0,0.0,0.0,0.0,0.0,0.0,0.0,0.0,0.0,0.0,0.0,0.0,0.0,0.0,0.0,0.0,0.0,0.0,0.0,0.0,0.0,0.0,0.0,0.0,0.0,0.0,0.0,0.0,0.0,0.0,0.0,0.0,0.0,0.0,0.0,0.0,0.0,0.0,0.0,0.0,0.0,0.0,0.0,0.0,0.0,0.0,0.0,0.0,0.0,0.0,0.0,0.0,0.0,0.0,0.0,0.0,0.0,0.0,0.0,0.0,0.0,0.0,0.0,0.0,0.0,0.0,0.0,0.0,0.0,0.0,0.0,0.0,0.0,0.0,0.0,0.0,0.0,0.0,0.0,0.0,0.0,0.0,0.0,0.0,0.0,0.0,0.0,0.0,0.0,0.0,0.0,0.0,0.0,0.0,0.0,0.0,0.0,0.0,0.0,0.0,0.0,0.0,0.0,0.0,0.0,0.0,0.0,0.0,0.0,0.18518518518518517,0.33333333333333337,0.3333333333333333,0.33333333333333337,0.3,0.33333333333333337,0.2727272727272727,0.25925925925925924,0.33333333333333337,0.037037037037037035,0.0,0.0,0.0,0.0,0.0,0.0,0.2962962962962963,0.30303030303030304,0.2962962962962963,0.0303030303030303,0.0,0.2333333333333333,0.06666666666666667,0.0,0.0,0.037037037037037035,0.2121212121212121,0.1111111111111111,0.0606060606060606,0.3333333333333333,0.3,0.1,0.0,0.0,0.0,0.0,0.0,0.0,0.0,0.0,0.0,0.0,0.0,0.0,0.0,0.0,0.0,0.0,0.0,0.0,0.0,0.0,0.0,0.0,0.0,0.0,0.0,0.0,0.0,0.0,0.0,0.0,0.0,0.0,0.0,0.0,0.0,0.0,0.0,0.0,0.0,0.0,0.0,0.0,0.0,0.0,0.0,0.0,0.0,0.0,0.0,0.0,0.0,0.0,0.0,0.0,0.0,0.0,0.0,0.0,0.0,0.0,0.0,0.0,0.0,0.0,0.0,0.0,0.0,0.0,0.0,0.0,0.0,0.0,0.0,0.0,0.0,0.0,0.0,0.0,0.0,0.0,0.0,0.0,0.0,0.0,0.0,0.0,0.0,0.0,0.0,0.0,0.0,0.0,0.0,0.0,0.0,0.0,0.0,0.0,0.0,0.0,0.0,1.0,1.0,1.0,1.0,1.0,1.0,1.0,1.0,1.0,1.0,1.0,1.0,1.0,1.0,1.0,1.0,1.0,1.0,1.0,1.0,1.0,1.0,1.0,1.0,1.0,1.0,1.0,1.0,1.0,1.0,0.0,0.0,0.9,1.0,1.0,1.0,1.0,1.0,1.0,1.0,1.0,1.0,1.0,1.0,1.0,1.0,1.0,1.0,1.0,1.0,1.0,1.0,1.0,1.0,1.0,1.0,1.0,1.0,1.0,1.0,0.0,0.0,0.0,0.0,0.0,0.0,0.0,0.0,0.0,0.0,0.0,0.0,0.0,0.0,0.0,0.0,0.0,0.0,0.0,0.0,0.0,0.0,0.0,0.0,0.0,0.0,0.0,0.0,0.0,0.0,0.0,0.0,0.0,0.0,0.0,0.0,0.0,0.0,0.0,0.0,0.0,0.0,0.0,0.0,0.0,0.0,0.0,0.0,0.0,0.0,0.0,0.0,0.0,0.0,0.0,0.0,0.0,0.0,0.0,0.0,0.0,0.0,0.0,0.0,0.0,0.0,0.0,0.0,0.0,0.0,0.0,0.0,0.0,0.0,0.0,0.0,0.0,0.0,0.0,0.0,0.0,0.0,0.0,0.0,1.0,1.0,1.0,1.0,1.0,1.0,1.0,1.0,1.0,1.0,1.0,1.0,1.0,1.0,1.0,1.0,1.0,1.0,1.0,1.0,1.0,1.0,1.0,1.0,1.0,1.0,1.0,1.0,1.0,1.0,0.0,0.0,0.9,1.0,1.0,1.0,1.0,1.0,1.0,1.0,1.0,1.0,1.0,1.0,1.0,1.0,1.0,1.0,1.0,1.0,1.0,1.0,1.0,1.0,1.0,1.0,1.0,1.0,1.0,1.0,0.19999999999999998,0.0,0.0,0.0,0.0,0.37037037037037035,0.5757575757575757,0.3333333333333333,0.33333333333333337,0.33333333333333337,0.33333333333333337,0.33333333333333337,0.3333333333333333,0.33333333333333337,0.3333333333333333,0.33333333333333337,0.3333333333333333,0.33333333333333337,0.33333333333333337,0.33333333333333337,0.5757575757575758,0.44444444444444453,0.33333333333333337,0.3333333333333333,0.33333333333333337,0.3333333333333333,0.33333333333333337,0.33333333333333337,0.33333333333333337,0.3939393939393939,0.0,0.0,0.0,0.0,0.1111111111111111,0.1,0.0,0.19999999999999998,0.0,0.037037037037037035,0.4242424242424242,0.3333333333333333,0.33333333333333337,0.3333333333333333,0.33333333333333337,0.33333333333333337,0.39999999999999997,0.42424242424242425,0.2222222222222222,0.0,0.0,0.2121212121212121,0.3333333333333333,0.33333333333333337,0.13333333333333333,0.3,0.33333333333333337,0.3333333333333333,0.33333333333333337,0.3333333333333333,0.33333333333333337,0.3333333333333333,0.33333333333333337,0.33333333333333337,0.33333333333333337,0.33333333333333337,0.3333333333333333,0.33333333333333337,0.3333333333333333,0.33333333333333337,0.3333333333333333,0.33333333333333337,0.33333333333333337,0.33333333333333337,0.33333333333333337,0.3333333333333333,0.33333333333333337,0.3333333333333333,0.33333333333333337,0.3333333333333333,0.33333333333333337,0.33333333333333337,0.33333333333333337,0.33333333333333337,1.0,1.0,1.0,1.0,1.0,1.0,1.0,1.0],\"coloraxis\":\"coloraxis\",\"pattern\":{\"shape\":\"\"}},\"name\":\"\",\"offsetgroup\":\"\",\"orientation\":\"v\",\"showlegend\":false,\"textposition\":\"auto\",\"type\":\"bar\",\"x\":[\"2017-02-04T00:00:00\",\"2017-02-04T00:10:00\",\"2017-02-04T00:20:00\",\"2017-02-04T00:30:00\",\"2017-02-04T00:40:00\",\"2017-02-04T00:50:00\",\"2017-02-04T01:00:00\",\"2017-02-04T01:10:00\",\"2017-02-04T01:20:00\",\"2017-02-04T01:30:00\",\"2017-02-04T01:40:00\",\"2017-02-04T01:50:00\",\"2017-02-04T02:00:00\",\"2017-02-04T02:10:00\",\"2017-02-04T02:20:00\",\"2017-02-04T02:30:00\",\"2017-02-04T02:40:00\",\"2017-02-04T02:50:00\",\"2017-02-04T03:00:00\",\"2017-02-04T03:10:00\",\"2017-02-04T03:20:00\",\"2017-02-04T03:30:00\",\"2017-02-04T03:40:00\",\"2017-02-04T03:50:00\",\"2017-02-04T04:00:00\",\"2017-02-04T04:10:00\",\"2017-02-04T04:20:00\",\"2017-02-04T04:30:00\",\"2017-02-04T04:40:00\",\"2017-02-04T04:50:00\",\"2017-02-04T05:00:00\",\"2017-02-04T05:10:00\",\"2017-02-04T05:20:00\",\"2017-02-04T05:30:00\",\"2017-02-04T05:40:00\",\"2017-02-04T05:50:00\",\"2017-02-04T06:00:00\",\"2017-02-04T06:10:00\",\"2017-02-04T06:20:00\",\"2017-02-04T06:30:00\",\"2017-02-04T06:40:00\",\"2017-02-04T06:50:00\",\"2017-02-04T07:00:00\",\"2017-02-04T07:10:00\",\"2017-02-04T07:20:00\",\"2017-02-04T07:30:00\",\"2017-02-04T07:40:00\",\"2017-02-04T07:50:00\",\"2017-02-04T08:00:00\",\"2017-02-04T08:10:00\",\"2017-02-04T08:20:00\",\"2017-02-04T08:30:00\",\"2017-02-04T08:40:00\",\"2017-02-04T08:50:00\",\"2017-02-04T09:00:00\",\"2017-02-04T09:10:00\",\"2017-02-04T09:20:00\",\"2017-02-04T09:30:00\",\"2017-02-04T09:40:00\",\"2017-02-04T09:50:00\",\"2017-02-04T10:00:00\",\"2017-02-04T10:10:00\",\"2017-02-04T10:20:00\",\"2017-02-04T10:30:00\",\"2017-02-04T10:40:00\",\"2017-02-04T10:50:00\",\"2017-02-04T11:00:00\",\"2017-02-04T11:10:00\",\"2017-02-04T11:20:00\",\"2017-02-04T11:30:00\",\"2017-02-04T11:40:00\",\"2017-02-04T11:50:00\",\"2017-02-04T12:00:00\",\"2017-02-04T12:10:00\",\"2017-02-04T12:20:00\",\"2017-02-04T12:30:00\",\"2017-02-04T12:40:00\",\"2017-02-04T12:50:00\",\"2017-02-04T13:00:00\",\"2017-02-04T13:10:00\",\"2017-02-04T13:20:00\",\"2017-02-04T13:30:00\",\"2017-02-04T13:40:00\",\"2017-02-04T13:50:00\",\"2017-02-04T14:00:00\",\"2017-02-04T14:10:00\",\"2017-02-04T14:20:00\",\"2017-02-04T14:30:00\",\"2017-02-04T14:40:00\",\"2017-02-04T14:50:00\",\"2017-02-04T15:00:00\",\"2017-02-04T15:10:00\",\"2017-02-04T15:20:00\",\"2017-02-04T15:30:00\",\"2017-02-04T15:40:00\",\"2017-02-04T15:50:00\",\"2017-02-04T16:00:00\",\"2017-02-04T16:10:00\",\"2017-02-04T16:20:00\",\"2017-02-04T16:30:00\",\"2017-02-04T16:40:00\",\"2017-02-04T16:50:00\",\"2017-02-04T17:00:00\",\"2017-02-04T17:10:00\",\"2017-02-04T17:20:00\",\"2017-02-04T17:30:00\",\"2017-02-04T17:40:00\",\"2017-02-04T17:50:00\",\"2017-02-04T18:00:00\",\"2017-02-04T18:10:00\",\"2017-02-04T18:20:00\",\"2017-02-04T18:30:00\",\"2017-02-04T18:40:00\",\"2017-02-04T18:50:00\",\"2017-02-04T19:00:00\",\"2017-02-04T19:10:00\",\"2017-02-04T19:20:00\",\"2017-02-04T19:30:00\",\"2017-02-04T19:40:00\",\"2017-02-04T19:50:00\",\"2017-02-04T20:00:00\",\"2017-02-04T20:10:00\",\"2017-02-04T20:20:00\",\"2017-02-04T20:30:00\",\"2017-02-04T20:40:00\",\"2017-02-04T20:50:00\",\"2017-02-04T21:00:00\",\"2017-02-04T21:10:00\",\"2017-02-04T21:20:00\",\"2017-02-04T21:30:00\",\"2017-02-04T21:40:00\",\"2017-02-04T21:50:00\",\"2017-02-04T22:00:00\",\"2017-02-04T22:10:00\",\"2017-02-04T22:20:00\",\"2017-02-04T22:30:00\",\"2017-02-04T22:40:00\",\"2017-02-04T22:50:00\",\"2017-02-04T23:00:00\",\"2017-02-04T23:10:00\",\"2017-02-04T23:20:00\",\"2017-02-04T23:30:00\",\"2017-02-04T23:40:00\",\"2017-02-04T23:50:00\",\"2017-02-05T00:00:00\",\"2017-02-05T00:10:00\",\"2017-02-05T00:20:00\",\"2017-02-05T00:30:00\",\"2017-02-05T00:40:00\",\"2017-02-05T00:50:00\",\"2017-02-05T01:00:00\",\"2017-02-05T01:10:00\",\"2017-02-05T01:20:00\",\"2017-02-05T01:30:00\",\"2017-02-05T01:40:00\",\"2017-02-05T01:50:00\",\"2017-02-05T02:00:00\",\"2017-02-05T02:10:00\",\"2017-02-05T02:20:00\",\"2017-02-05T02:30:00\",\"2017-02-05T02:40:00\",\"2017-02-05T02:50:00\",\"2017-02-05T03:00:00\",\"2017-02-05T03:10:00\",\"2017-02-05T03:20:00\",\"2017-02-05T03:30:00\",\"2017-02-05T03:40:00\",\"2017-02-05T03:50:00\",\"2017-02-05T04:00:00\",\"2017-02-05T04:10:00\",\"2017-02-05T04:20:00\",\"2017-02-05T04:30:00\",\"2017-02-05T04:40:00\",\"2017-02-05T04:50:00\",\"2017-02-05T05:00:00\",\"2017-02-05T05:10:00\",\"2017-02-05T05:20:00\",\"2017-02-05T05:30:00\",\"2017-02-05T05:40:00\",\"2017-02-05T05:50:00\",\"2017-02-05T06:00:00\",\"2017-02-05T06:10:00\",\"2017-02-05T06:20:00\",\"2017-02-05T06:30:00\",\"2017-02-05T06:40:00\",\"2017-02-05T06:50:00\",\"2017-02-05T07:00:00\",\"2017-02-05T07:10:00\",\"2017-02-05T07:20:00\",\"2017-02-05T07:30:00\",\"2017-02-05T07:40:00\",\"2017-02-05T07:50:00\",\"2017-02-05T08:00:00\",\"2017-02-05T08:10:00\",\"2017-02-05T08:20:00\",\"2017-02-05T08:30:00\",\"2017-02-05T08:40:00\",\"2017-02-05T08:50:00\",\"2017-02-05T09:00:00\",\"2017-02-05T09:10:00\",\"2017-02-05T09:20:00\",\"2017-02-05T09:30:00\",\"2017-02-05T09:40:00\",\"2017-02-05T09:50:00\",\"2017-02-05T10:00:00\",\"2017-02-05T10:10:00\",\"2017-02-05T10:20:00\",\"2017-02-05T10:30:00\",\"2017-02-05T10:40:00\",\"2017-02-05T10:50:00\",\"2017-02-05T11:00:00\",\"2017-02-05T11:10:00\",\"2017-02-05T11:20:00\",\"2017-02-05T11:30:00\",\"2017-02-05T11:40:00\",\"2017-02-05T11:50:00\",\"2017-02-05T12:00:00\",\"2017-02-05T12:10:00\",\"2017-02-05T12:20:00\",\"2017-02-05T12:30:00\",\"2017-02-05T12:40:00\",\"2017-02-05T12:50:00\",\"2017-02-05T13:00:00\",\"2017-02-05T13:10:00\",\"2017-02-05T13:20:00\",\"2017-02-05T13:30:00\",\"2017-02-05T13:40:00\",\"2017-02-05T13:50:00\",\"2017-02-05T14:00:00\",\"2017-02-05T14:10:00\",\"2017-02-05T14:20:00\",\"2017-02-05T14:30:00\",\"2017-02-05T14:40:00\",\"2017-02-05T14:50:00\",\"2017-02-05T15:00:00\",\"2017-02-05T15:10:00\",\"2017-02-05T15:20:00\",\"2017-02-05T15:30:00\",\"2017-02-05T15:40:00\",\"2017-02-05T15:50:00\",\"2017-02-05T16:00:00\",\"2017-02-05T16:10:00\",\"2017-02-05T16:20:00\",\"2017-02-05T16:30:00\",\"2017-02-05T16:40:00\",\"2017-02-05T16:50:00\",\"2017-02-05T17:00:00\",\"2017-02-05T17:10:00\",\"2017-02-05T17:20:00\",\"2017-02-05T17:30:00\",\"2017-02-05T17:40:00\",\"2017-02-05T17:50:00\",\"2017-02-05T18:00:00\",\"2017-02-05T18:10:00\",\"2017-02-05T18:20:00\",\"2017-02-05T18:30:00\",\"2017-02-05T18:40:00\",\"2017-02-05T18:50:00\",\"2017-02-05T19:00:00\",\"2017-02-05T19:10:00\",\"2017-02-05T19:20:00\",\"2017-02-05T19:30:00\",\"2017-02-05T19:40:00\",\"2017-02-05T19:50:00\",\"2017-02-05T20:00:00\",\"2017-02-05T20:10:00\",\"2017-02-05T20:20:00\",\"2017-02-05T20:30:00\",\"2017-02-05T20:40:00\",\"2017-02-05T20:50:00\",\"2017-02-05T21:00:00\",\"2017-02-05T21:10:00\",\"2017-02-05T21:20:00\",\"2017-02-05T21:30:00\",\"2017-02-05T21:40:00\",\"2017-02-05T21:50:00\",\"2017-02-05T22:00:00\",\"2017-02-05T22:10:00\",\"2017-02-05T22:20:00\",\"2017-02-05T22:30:00\",\"2017-02-05T22:40:00\",\"2017-02-05T22:50:00\",\"2017-02-05T23:00:00\",\"2017-02-05T23:10:00\",\"2017-02-05T23:20:00\",\"2017-02-05T23:30:00\",\"2017-02-05T23:40:00\",\"2017-02-05T23:50:00\",\"2017-02-06T00:00:00\",\"2017-02-06T00:10:00\",\"2017-02-06T00:20:00\",\"2017-02-06T00:30:00\",\"2017-02-06T00:40:00\",\"2017-02-06T00:50:00\",\"2017-02-06T01:00:00\",\"2017-02-06T01:10:00\",\"2017-02-06T01:20:00\",\"2017-02-06T01:30:00\",\"2017-02-06T01:40:00\",\"2017-02-06T01:50:00\",\"2017-02-06T02:00:00\",\"2017-02-06T02:10:00\",\"2017-02-06T02:20:00\",\"2017-02-06T02:30:00\",\"2017-02-06T02:40:00\",\"2017-02-06T02:50:00\",\"2017-02-06T03:00:00\",\"2017-02-06T03:10:00\",\"2017-02-06T03:20:00\",\"2017-02-06T03:30:00\",\"2017-02-06T03:40:00\",\"2017-02-06T03:50:00\",\"2017-02-06T04:00:00\",\"2017-02-06T04:10:00\",\"2017-02-06T04:20:00\",\"2017-02-06T04:30:00\",\"2017-02-06T04:40:00\",\"2017-02-06T04:50:00\",\"2017-02-06T05:00:00\",\"2017-02-06T05:10:00\",\"2017-02-06T05:20:00\",\"2017-02-06T05:30:00\",\"2017-02-06T05:40:00\",\"2017-02-06T05:50:00\",\"2017-02-06T06:00:00\",\"2017-02-06T06:10:00\",\"2017-02-06T06:20:00\",\"2017-02-06T06:30:00\",\"2017-02-06T06:40:00\",\"2017-02-06T06:50:00\",\"2017-02-06T07:00:00\",\"2017-02-06T07:10:00\",\"2017-02-06T07:20:00\",\"2017-02-06T07:30:00\",\"2017-02-06T07:40:00\",\"2017-02-06T07:50:00\",\"2017-02-06T08:00:00\",\"2017-02-06T08:10:00\",\"2017-02-06T08:20:00\",\"2017-02-06T08:30:00\",\"2017-02-06T08:40:00\",\"2017-02-06T08:50:00\",\"2017-02-06T09:00:00\",\"2017-02-06T09:10:00\",\"2017-02-06T09:20:00\",\"2017-02-06T09:30:00\",\"2017-02-06T09:40:00\",\"2017-02-06T09:50:00\",\"2017-02-06T10:00:00\",\"2017-02-06T10:10:00\",\"2017-02-06T10:20:00\",\"2017-02-06T10:30:00\",\"2017-02-06T10:40:00\",\"2017-02-06T10:50:00\",\"2017-02-06T11:00:00\",\"2017-02-06T11:10:00\",\"2017-02-06T11:20:00\",\"2017-02-06T11:30:00\",\"2017-02-06T11:40:00\",\"2017-02-06T11:50:00\",\"2017-02-06T12:00:00\",\"2017-02-06T12:10:00\",\"2017-02-06T12:20:00\",\"2017-02-06T12:30:00\",\"2017-02-06T12:40:00\",\"2017-02-06T12:50:00\",\"2017-02-06T13:00:00\",\"2017-02-06T13:10:00\",\"2017-02-06T13:20:00\",\"2017-02-06T13:30:00\",\"2017-02-06T13:40:00\",\"2017-02-06T13:50:00\",\"2017-02-06T14:00:00\",\"2017-02-06T14:10:00\",\"2017-02-06T14:20:00\",\"2017-02-06T14:30:00\",\"2017-02-06T14:40:00\",\"2017-02-06T14:50:00\",\"2017-02-06T15:00:00\",\"2017-02-06T15:10:00\",\"2017-02-06T15:20:00\",\"2017-02-06T15:30:00\",\"2017-02-06T15:40:00\",\"2017-02-06T15:50:00\",\"2017-02-06T16:00:00\",\"2017-02-06T16:10:00\",\"2017-02-06T16:20:00\",\"2017-02-06T16:30:00\",\"2017-02-06T16:40:00\",\"2017-02-06T16:50:00\",\"2017-02-06T17:00:00\",\"2017-02-06T17:10:00\",\"2017-02-06T17:20:00\",\"2017-02-06T17:30:00\",\"2017-02-06T17:40:00\",\"2017-02-06T17:50:00\",\"2017-02-06T18:00:00\",\"2017-02-06T18:10:00\",\"2017-02-06T18:20:00\",\"2017-02-06T18:30:00\",\"2017-02-06T18:40:00\",\"2017-02-06T18:50:00\",\"2017-02-06T19:00:00\",\"2017-02-06T19:10:00\",\"2017-02-06T19:20:00\",\"2017-02-06T19:30:00\",\"2017-02-06T19:40:00\",\"2017-02-06T19:50:00\",\"2017-02-06T20:00:00\",\"2017-02-06T20:10:00\",\"2017-02-06T20:20:00\",\"2017-02-06T20:30:00\",\"2017-02-06T20:40:00\",\"2017-02-06T20:50:00\",\"2017-02-06T21:00:00\",\"2017-02-06T21:10:00\",\"2017-02-06T21:20:00\",\"2017-02-06T21:30:00\",\"2017-02-06T21:40:00\",\"2017-02-06T21:50:00\",\"2017-02-06T22:00:00\",\"2017-02-06T22:10:00\",\"2017-02-06T22:20:00\",\"2017-02-06T22:30:00\",\"2017-02-06T22:40:00\",\"2017-02-06T22:50:00\",\"2017-02-06T23:00:00\",\"2017-02-06T23:10:00\",\"2017-02-06T23:20:00\",\"2017-02-06T23:30:00\",\"2017-02-06T23:40:00\",\"2017-02-06T23:50:00\",\"2017-02-07T00:00:00\",\"2017-02-07T00:10:00\",\"2017-02-07T00:20:00\",\"2017-02-07T00:30:00\",\"2017-02-07T00:40:00\",\"2017-02-07T00:50:00\",\"2017-02-07T01:00:00\",\"2017-02-07T01:10:00\",\"2017-02-07T01:20:00\",\"2017-02-07T01:30:00\",\"2017-02-07T01:40:00\",\"2017-02-07T01:50:00\",\"2017-02-07T02:00:00\",\"2017-02-07T02:10:00\",\"2017-02-07T02:20:00\",\"2017-02-07T02:30:00\",\"2017-02-07T02:40:00\",\"2017-02-07T02:50:00\",\"2017-02-07T03:00:00\",\"2017-02-07T03:10:00\",\"2017-02-07T03:20:00\",\"2017-02-07T03:30:00\",\"2017-02-07T03:40:00\",\"2017-02-07T03:50:00\",\"2017-02-07T04:00:00\",\"2017-02-07T04:10:00\",\"2017-02-07T04:20:00\",\"2017-02-07T04:30:00\",\"2017-02-07T04:40:00\",\"2017-02-07T04:50:00\",\"2017-02-07T05:00:00\",\"2017-02-07T05:10:00\",\"2017-02-07T05:20:00\",\"2017-02-07T05:30:00\",\"2017-02-07T05:40:00\",\"2017-02-07T05:50:00\",\"2017-02-07T06:00:00\",\"2017-02-07T06:10:00\",\"2017-02-07T06:20:00\",\"2017-02-07T06:30:00\",\"2017-02-07T06:40:00\",\"2017-02-07T06:50:00\",\"2017-02-07T07:00:00\",\"2017-02-07T07:10:00\",\"2017-02-07T07:20:00\",\"2017-02-07T07:30:00\",\"2017-02-07T07:40:00\",\"2017-02-07T07:50:00\",\"2017-02-07T08:00:00\",\"2017-02-07T08:10:00\",\"2017-02-07T08:20:00\",\"2017-02-07T08:30:00\",\"2017-02-07T08:40:00\",\"2017-02-07T08:50:00\",\"2017-02-07T09:00:00\",\"2017-02-07T09:10:00\",\"2017-02-07T09:20:00\",\"2017-02-07T09:30:00\",\"2017-02-07T09:40:00\",\"2017-02-07T09:50:00\",\"2017-02-07T10:00:00\",\"2017-02-07T10:10:00\",\"2017-02-07T10:20:00\",\"2017-02-07T10:30:00\",\"2017-02-07T10:40:00\",\"2017-02-07T10:50:00\",\"2017-02-07T11:00:00\",\"2017-02-07T11:10:00\",\"2017-02-07T11:20:00\",\"2017-02-07T11:30:00\",\"2017-02-07T11:40:00\",\"2017-02-07T11:50:00\",\"2017-02-07T12:00:00\",\"2017-02-07T12:10:00\",\"2017-02-07T12:20:00\",\"2017-02-07T12:30:00\",\"2017-02-07T12:40:00\",\"2017-02-07T12:50:00\",\"2017-02-07T13:00:00\",\"2017-02-07T13:10:00\",\"2017-02-07T13:20:00\",\"2017-02-07T13:30:00\",\"2017-02-07T13:40:00\",\"2017-02-07T13:50:00\",\"2017-02-07T14:00:00\",\"2017-02-07T14:10:00\",\"2017-02-07T14:20:00\",\"2017-02-07T14:30:00\",\"2017-02-07T14:40:00\",\"2017-02-07T14:50:00\",\"2017-02-07T15:00:00\",\"2017-02-07T15:10:00\",\"2017-02-07T15:20:00\",\"2017-02-07T15:30:00\",\"2017-02-07T15:40:00\",\"2017-02-07T15:50:00\",\"2017-02-07T16:00:00\",\"2017-02-07T16:10:00\",\"2017-02-07T16:20:00\",\"2017-02-07T16:30:00\",\"2017-02-07T16:40:00\",\"2017-02-07T16:50:00\",\"2017-02-07T17:00:00\",\"2017-02-07T17:10:00\",\"2017-02-07T17:20:00\",\"2017-02-07T17:30:00\",\"2017-02-07T17:40:00\",\"2017-02-07T17:50:00\",\"2017-02-07T18:00:00\",\"2017-02-07T18:10:00\",\"2017-02-07T18:20:00\",\"2017-02-07T18:30:00\",\"2017-02-07T18:40:00\",\"2017-02-07T18:50:00\",\"2017-02-07T19:00:00\",\"2017-02-07T19:10:00\",\"2017-02-07T19:20:00\",\"2017-02-07T19:30:00\",\"2017-02-07T19:40:00\",\"2017-02-07T19:50:00\",\"2017-02-07T20:00:00\",\"2017-02-07T20:10:00\",\"2017-02-07T20:20:00\",\"2017-02-07T20:30:00\",\"2017-02-07T20:40:00\",\"2017-02-07T20:50:00\",\"2017-02-07T21:00:00\",\"2017-02-07T21:10:00\",\"2017-02-07T21:20:00\",\"2017-02-07T21:30:00\",\"2017-02-07T21:40:00\",\"2017-02-07T21:50:00\",\"2017-02-07T22:00:00\",\"2017-02-07T22:10:00\",\"2017-02-07T22:20:00\",\"2017-02-07T22:30:00\",\"2017-02-07T22:40:00\",\"2017-02-07T22:50:00\",\"2017-02-07T23:00:00\",\"2017-02-07T23:10:00\",\"2017-02-07T23:20:00\",\"2017-02-07T23:30:00\",\"2017-02-07T23:40:00\",\"2017-02-07T23:50:00\",\"2017-02-08T00:00:00\",\"2017-02-08T00:10:00\",\"2017-02-08T00:20:00\",\"2017-02-08T00:30:00\",\"2017-02-08T00:40:00\",\"2017-02-08T00:50:00\",\"2017-02-08T01:00:00\",\"2017-02-08T01:10:00\",\"2017-02-08T01:20:00\",\"2017-02-08T01:30:00\",\"2017-02-08T01:40:00\",\"2017-02-08T01:50:00\",\"2017-02-08T02:00:00\",\"2017-02-08T02:10:00\",\"2017-02-08T02:20:00\",\"2017-02-08T02:30:00\",\"2017-02-08T02:40:00\",\"2017-02-08T02:50:00\",\"2017-02-08T03:00:00\",\"2017-02-08T03:10:00\",\"2017-02-08T03:20:00\",\"2017-02-08T03:30:00\",\"2017-02-08T03:40:00\",\"2017-02-08T03:50:00\",\"2017-02-08T04:00:00\",\"2017-02-08T04:10:00\",\"2017-02-08T04:20:00\",\"2017-02-08T04:30:00\",\"2017-02-08T04:40:00\",\"2017-02-08T04:50:00\",\"2017-02-08T05:00:00\",\"2017-02-08T05:10:00\",\"2017-02-08T05:20:00\",\"2017-02-08T05:30:00\",\"2017-02-08T05:40:00\",\"2017-02-08T05:50:00\",\"2017-02-08T06:00:00\",\"2017-02-08T06:10:00\",\"2017-02-08T06:20:00\",\"2017-02-08T06:30:00\",\"2017-02-08T06:40:00\",\"2017-02-08T06:50:00\",\"2017-02-08T07:00:00\",\"2017-02-08T07:10:00\",\"2017-02-08T07:20:00\",\"2017-02-08T07:30:00\",\"2017-02-08T07:40:00\",\"2017-02-08T07:50:00\",\"2017-02-08T08:00:00\",\"2017-02-08T08:10:00\",\"2017-02-08T08:20:00\",\"2017-02-08T08:30:00\",\"2017-02-08T08:40:00\",\"2017-02-08T08:50:00\",\"2017-02-08T09:00:00\",\"2017-02-08T09:10:00\"],\"xaxis\":\"x\",\"y\":[506.7962962962963,504.15,505.8939393939394,505.22222222222223,502.65909090909093,503.3148148148149,501.72727272727275,501.51851851851853,502.6,504.85,501.7833333333334,504.8181818181818,505.00925925925924,504.33333333333337,503.2037037037037,505.9621212121212,503.3703703703703,504.5333333333334,503.7166666666667,503.725,503.83333333333337,502.537037037037,499.66666666666663,502.59259259259255,501.2878787878788,501.4814814814815,499.6,503.4666666666667,501.2166666666667,501.30303030303025,502.82407407407413,504.05303030303037,503.90740740740745,503.439393939394,503.3888888888889,502.5,503.775,502.9083333333334,504.72727272727275,506.2037037037037,503.95454545454544,507.72222222222223,508.18939393939394,504.8518518518519,503.9833333333333,506.4,505.85,505.8181818181818,510.462962962963,505.3939393939394,504.3703703703703,504.18939393939394,506.5833333333333,506.4583333333333,504.5999999999999,505.5,503.32575757575756,505.70370370370375,504.79545454545456,505.6018518518518,505.98484848484856,507.9537037037037,510.1,507.975,513.4000000000001,515.2727272727273,511.50925925925924,507.2121212121212,502.72222222222223,503.67424242424255,505.80555555555554,509.6583333333333,507.3166666666667,509.275,510.75757575757575,508.3611111111111,502.79545454545456,498.1481481481481,496.75757575757575,498.77777777777777,498.575,504.9333333333333,501.6583333333333,505.04545454545456,505.425925925926,507.01515151515156,508.074074074074,510.1530303030302,508.40740740740733,509.1333333333333,510.3416666666667,508.6083333333333,512.4242424242425,512.3055555555555,511.99696969696976,510.8518518518519,512.2651515151515,515.2777777777778,514.8666666666666,515.7583333333333,515.1333333333334,514.4545454545455,515.1481481481482,515.9393939393939,519.4074074074074,516.0454545454545,518.2407407407408,516.6166666666667,514.3833333333333,517.95,519.6136363636364,522.2962962962963,519.2727272727273,521.6388888888889,522.969696969697,520.3518518518518,526.5666666666666,522.6166666666666,521.9166666666666,514.7727272727273,513.4166666666666,522.2348484848485,528.4814814814814,529.1363636363636,531.962962962963,528.8,533.475,534.1,534.0757575757575,531.1388888888889,529.219696969697,534.0,533.0151515151515,529.5370370370371,531.45,532.5166666666667,533.5833333333333,535.4090909090909,531.7962962962963,536.3484848484849,536.2962962962962,536.4393939393939,539.3888888888889,537.5083333333333,538.3833333333333,535.5916666666666,538.2727272727273,539.2037037037037,539.5606060606061,541.7592592592592,538.4848484848485,542.0555555555555,540.35,538.8500000000001,541.4333333333333,541.560606060606,540.4259259259259,543.2424242424241,542.7037037037038,543.1363636363636,543.925925925926,545.6833333333333,546.5833333333334,546.45,549.7196969696969,550.3333333333334,553.2121212121211,553.9074074074074,554.9090909090909,556.0185185185186,559.225,559.4666666666667,564.8666666666667,567.9090909090909,566.5462962962963,566.219696969697,568.1111111111111,567.9242424242425,567.9259259259259,569.6333333333333,571.0333333333333,573.95,575.8181818181819,578.4375,579.060606060606,580.6759259259259,582.8636363636364,588.287037037037,586.95,591.6,595.2166666666667,602.439393939394,606.175925925926,605.4,605.9444444444445,611.1742424242424,609.1666666666666,613.5,617.8666666666666,617.4416666666667,623.6136363636364,627.7592592592592,636.8939393939395,641.7592592592592,643.5530303030304,644.3518518518518,640.0583333333333,638.2833333333334,637.2833333333334,634.6742424242425,629.8611111111111,632.7651515151515,629.2222222222222,630.8863636363636,627.9259259259259,628.6899999999998,629.95,633.9333333333334,632.6515151515151,633.4074074074074,630.1666666666667,632.0648148148149,639.5833333333334,641.537037037037,649.5416666666667,655.9416666666667,658.775,658.3257575757576,661.4351851851852,664.4469696969697,674.0092592592594,681.4545454545455,682.0925925925926,663.6583333333333,655.2716666666668,655.6666666666667,657.5681818181819,657.2222222222222,662.8560606060605,660.5625,662.6666666666666,663.1851851851852,668.5083333333333,667.1916666666667,670.8833333333333,683.1287878787879,689.1296296296296,682.7727272727271,678.8425925925926,676.4848484848485,672.3194444444445,676.1833333333333,672.7,674.7333333333333,675.1818181818181,668.425925925926,649.439393939394,654.4259259259259,652.0757575757575,657.0925925925926,658.5833333333333,665.1333333333333,668.1583333333333,675.1969696969697,675.8333333333334,678.7121212121211,679.9259259259259,685.1363636363636,690.7962962962962,692.9,694.6666666666667,701.4833333333333,700.6363636363636,707.2222222222222,707.9393939393939,712.8148148148149,717.8636363636364,720.1296296296297,718.25,722.2166666666667,714.85,721.6060606060605,729.074074074074,731.2727272727273,729.8333333333334,729.1212121212121,730.2592592592592,731.3,732.3833333333333,729.8,732.969696969697,714.2592592592592,775.6363636363636,798.5555555555555,808.5666666666667,817.4259259259259,826.3166666666666,903.9166666666666,862.9333333333332,854.4848484848484,854.3055555555555,854.1212121212124,861.5,858.8181818181819,861.3333333333334,861.75,864.6,867.2,865.3560606060607,859.7222222222222,857.9393939393939,858.2962962962963,849.1818181818181,845.3333333333334,822.65,801.1333333333333,800.25,790.0151515151515,785.0,788.0909090909091,794.7407407407408,793.6818181818181,798.962962962963,795.3666666666667,799.75,801.1833333333333,802.1666666666665,802.2222222222222,806.8484848484848,810.3888888888889,811.7954545454545,811.574074074074,805.8333333333333,808.55,813.4333333333333,818.5530303030304,819.2037037037038,821.8181818181819,825.3981481481482,826.4696969696971,848.8333333333334,879.1133333333333,902.325,966.9583333333333,1005.4393939393937,1013.4537037037034,1002.5757575757575,1012.194444444444,977.7196969696969,971.3851851851853,968.8083333333334,971.275,969.9333333333332,1006.1590909090905,1044.5370370370376,1038.078787878788,1012.3611111111111,1002.7878787878791,983.7407407407409,964.9916666666668,939.725,911.945,924.8484848484848,910.675925925926,906.4545454545455,898.6203703703703,895.6499999999997,890.6296296296297,872.7583333333332,861.5,854.3833333333332,837.0075757575756,846.2037037037037,884.3257575757576,908.9722222222222,917.9378787878787,908.0740740740741,907.3416666666668,899.2333333333332,870.2333333333333,862.9772727272727,882.3148148148148,892.4015151515151,892.0833333333334,905.4393939393939,924.0462962962964,921.225,928.7333333333332,916.875,906.6818181818181,927.7314814814815,976.742424242424,974.2407407407409,978.1515151515152,986.962962962963,982.025,973.2166666666668,944.0166666666668,925.4393939393939,888.0185185185186,854.3636363636364,834.1666666666666,815.189393939394,795.4814814814814,773.3166666666666,765.4416666666666,762.8,754.4545454545455,747.9074074074074,742.8787878787879,739.8888888888889,730.9242424242425,724.962962962963,725.8500000000001,723.95,724.575,721.6515151515151,723.2407407407408,722.2878787878789,719.2222222222222,713.6212121212121,714.4814814814814,718.6500000000001,712.4833333333333,716.15,716.7575757575758,714.8703703703703,714.280303030303,713.462962962963,712.5227272727273,714.537037037037,714.4166666666666,712.5166666666667,715.1333333333333,717.6515151515151,713.2037037037038,713.2045454545455,715.7777777777778,711.0757575757575,713.5833333333334,713.4666666666667,712.7666666666667,721.2333333333333,714.9242424242424,719.2962962962963,717.4621212121211,717.074074074074,716.7272727272729,714.6666666666666,717.9333333333333,722.0,721.75,721.0454545454545,724.925925925926,725.9166666666667,731.0833333333334,731.2575757575758,730.5925925925926,733.2333333333333,734.5833333333333,736.0666666666666,737.8030303030303,738.462962962963,740.0151515151515,739.4166666666666,734.8257575757576,735.2037037037037,742.525,742.2583333333333,744.3666666666667,750.7272727272727,751.3148148148149,756.3181818181819,756.0925925925926,760.8181818181819,765.5740740740741,766.75,773.2833333333334,773.75,777.1818181818181,780.4444444444445,784.5,788.1111111111111,792.7651515151516,820.9814814814815,835.0,847.2666666666668,873.95,926.3030303030304,938.6111111111111,945.5606060606061,946.2074074074072,961.6742424242425,960.5370370370371,967.3833333333336,980.6416666666668,988.9537037037036,1005.9318181818181,1042.0370370370367,1074.2196969696972,1099.259259259259,1081.9242424242427,1110.0277777777778,1155.2666666666669,1222.825,1348.775,1258.69696969697,1196.3555555555556,1157.590909090909,1150.7259259259254,1153.7727272727273,1130.829629629629,1119.266666666666,1141.333333333333,1165.041666666667,1180.7575757575762,1211.9555555555555,1255.5681818181818,1298.259259259259,1322.2424242424238,1346.25,1352.908333333333,1391.15,1410.5166666666669,1411.775000000001,1466.3981481481478,1384.1742424242418,1404.3333333333323,1420.6893939393938,1489.111111111111,1517.4,1459.033333333333,1472.1416666666669,1494.6363636363637,1483.4814814814822,1513.515151515152,1547.731481481481,1749.9469696969702,1700.9537037037035,1668.6666666666672,1602.725,1557.525,1532.8181818181818,1498.0370370370367,1478.4318181818182,1482.8148148148146,1473.1212121212118,1468.2037037037035,1468.541666666667,1472.6,1489.3,1500.9545454545455,1520.1666666666667,1489.7727272727273,1505.8148148148146,1520.6515151515146,1518.6851851851845,1505.383333333333,1515.216666666667,1546.85,1704.7424242424238,1686.2222222222222,1535.909090909091,1513.7037037037035,1556.575757575757,1507.740740740741,1424.866666666667,1486.4333333333338,1582.2666666666669,1572.39393939394,1154.481481481481,1152.7424242424245,1192.4444444444443,1207.712121212121,1238.8333333333333,1225.55,1216.9333333333338,1283.05,1068.7424242424245,1218.9629629629624,1548.9545454545462,1338.0,1388.2878787878783,1313.4722222222222,1320.733333333334,1343.5166666666669,1559.708333333333,1620.7272727272727,1269.111111111111,1213.8636363636363,1225.2777777777778,1253.5151515151517,1268.981481481481,1261.991666666666,1248.6833333333338,1262.75,1359.60606060606,1361.759259259259,1368.8484848484845,1396.3981481481478,1418.462121212121,1410.9444444444443,1457.825,1488.716666666667,1501.85,1542.9318181818182,1494.9629629629633,1504.2272727272727,1519.9074074074078,1535.2272727272727,1553.4444444444443,1558.1,1531.866666666667,1550.35,1525.0,1478.111111111111,1483.4242424242427,1503.0925925925933,1510.7121212121208,1500.5277777777778,1463.366666666667,1436.025,1415.7333333333331,1420.69696969697,1417.0555555555557,1430.2727272727273,1443.9351851851854,1444.0,1413.611111111111,1485.0149999999999,1452.783333333334,1545.375],\"yaxis\":\"y\"}],                        {\"barmode\":\"relative\",\"coloraxis\":{\"colorbar\":{\"title\":{\"text\":\"color\"}},\"colorscale\":[[0.0,\"#0d0887\"],[0.1111111111111111,\"#46039f\"],[0.2222222222222222,\"#7201a8\"],[0.3333333333333333,\"#9c179e\"],[0.4444444444444444,\"#bd3786\"],[0.5555555555555556,\"#d8576b\"],[0.6666666666666666,\"#ed7953\"],[0.7777777777777778,\"#fb9f3a\"],[0.8888888888888888,\"#fdca26\"],[1.0,\"#f0f921\"]]},\"legend\":{\"tracegroupgap\":0},\"margin\":{\"t\":60},\"template\":{\"data\":{\"bar\":[{\"error_x\":{\"color\":\"#2a3f5f\"},\"error_y\":{\"color\":\"#2a3f5f\"},\"marker\":{\"line\":{\"color\":\"#E5ECF6\",\"width\":0.5},\"pattern\":{\"fillmode\":\"overlay\",\"size\":10,\"solidity\":0.2}},\"type\":\"bar\"}],\"barpolar\":[{\"marker\":{\"line\":{\"color\":\"#E5ECF6\",\"width\":0.5},\"pattern\":{\"fillmode\":\"overlay\",\"size\":10,\"solidity\":0.2}},\"type\":\"barpolar\"}],\"carpet\":[{\"aaxis\":{\"endlinecolor\":\"#2a3f5f\",\"gridcolor\":\"white\",\"linecolor\":\"white\",\"minorgridcolor\":\"white\",\"startlinecolor\":\"#2a3f5f\"},\"baxis\":{\"endlinecolor\":\"#2a3f5f\",\"gridcolor\":\"white\",\"linecolor\":\"white\",\"minorgridcolor\":\"white\",\"startlinecolor\":\"#2a3f5f\"},\"type\":\"carpet\"}],\"choropleth\":[{\"colorbar\":{\"outlinewidth\":0,\"ticks\":\"\"},\"type\":\"choropleth\"}],\"contour\":[{\"colorbar\":{\"outlinewidth\":0,\"ticks\":\"\"},\"colorscale\":[[0.0,\"#0d0887\"],[0.1111111111111111,\"#46039f\"],[0.2222222222222222,\"#7201a8\"],[0.3333333333333333,\"#9c179e\"],[0.4444444444444444,\"#bd3786\"],[0.5555555555555556,\"#d8576b\"],[0.6666666666666666,\"#ed7953\"],[0.7777777777777778,\"#fb9f3a\"],[0.8888888888888888,\"#fdca26\"],[1.0,\"#f0f921\"]],\"type\":\"contour\"}],\"contourcarpet\":[{\"colorbar\":{\"outlinewidth\":0,\"ticks\":\"\"},\"type\":\"contourcarpet\"}],\"heatmap\":[{\"colorbar\":{\"outlinewidth\":0,\"ticks\":\"\"},\"colorscale\":[[0.0,\"#0d0887\"],[0.1111111111111111,\"#46039f\"],[0.2222222222222222,\"#7201a8\"],[0.3333333333333333,\"#9c179e\"],[0.4444444444444444,\"#bd3786\"],[0.5555555555555556,\"#d8576b\"],[0.6666666666666666,\"#ed7953\"],[0.7777777777777778,\"#fb9f3a\"],[0.8888888888888888,\"#fdca26\"],[1.0,\"#f0f921\"]],\"type\":\"heatmap\"}],\"heatmapgl\":[{\"colorbar\":{\"outlinewidth\":0,\"ticks\":\"\"},\"colorscale\":[[0.0,\"#0d0887\"],[0.1111111111111111,\"#46039f\"],[0.2222222222222222,\"#7201a8\"],[0.3333333333333333,\"#9c179e\"],[0.4444444444444444,\"#bd3786\"],[0.5555555555555556,\"#d8576b\"],[0.6666666666666666,\"#ed7953\"],[0.7777777777777778,\"#fb9f3a\"],[0.8888888888888888,\"#fdca26\"],[1.0,\"#f0f921\"]],\"type\":\"heatmapgl\"}],\"histogram\":[{\"marker\":{\"pattern\":{\"fillmode\":\"overlay\",\"size\":10,\"solidity\":0.2}},\"type\":\"histogram\"}],\"histogram2d\":[{\"colorbar\":{\"outlinewidth\":0,\"ticks\":\"\"},\"colorscale\":[[0.0,\"#0d0887\"],[0.1111111111111111,\"#46039f\"],[0.2222222222222222,\"#7201a8\"],[0.3333333333333333,\"#9c179e\"],[0.4444444444444444,\"#bd3786\"],[0.5555555555555556,\"#d8576b\"],[0.6666666666666666,\"#ed7953\"],[0.7777777777777778,\"#fb9f3a\"],[0.8888888888888888,\"#fdca26\"],[1.0,\"#f0f921\"]],\"type\":\"histogram2d\"}],\"histogram2dcontour\":[{\"colorbar\":{\"outlinewidth\":0,\"ticks\":\"\"},\"colorscale\":[[0.0,\"#0d0887\"],[0.1111111111111111,\"#46039f\"],[0.2222222222222222,\"#7201a8\"],[0.3333333333333333,\"#9c179e\"],[0.4444444444444444,\"#bd3786\"],[0.5555555555555556,\"#d8576b\"],[0.6666666666666666,\"#ed7953\"],[0.7777777777777778,\"#fb9f3a\"],[0.8888888888888888,\"#fdca26\"],[1.0,\"#f0f921\"]],\"type\":\"histogram2dcontour\"}],\"mesh3d\":[{\"colorbar\":{\"outlinewidth\":0,\"ticks\":\"\"},\"type\":\"mesh3d\"}],\"parcoords\":[{\"line\":{\"colorbar\":{\"outlinewidth\":0,\"ticks\":\"\"}},\"type\":\"parcoords\"}],\"pie\":[{\"automargin\":true,\"type\":\"pie\"}],\"scatter\":[{\"marker\":{\"colorbar\":{\"outlinewidth\":0,\"ticks\":\"\"}},\"type\":\"scatter\"}],\"scatter3d\":[{\"line\":{\"colorbar\":{\"outlinewidth\":0,\"ticks\":\"\"}},\"marker\":{\"colorbar\":{\"outlinewidth\":0,\"ticks\":\"\"}},\"type\":\"scatter3d\"}],\"scattercarpet\":[{\"marker\":{\"colorbar\":{\"outlinewidth\":0,\"ticks\":\"\"}},\"type\":\"scattercarpet\"}],\"scattergeo\":[{\"marker\":{\"colorbar\":{\"outlinewidth\":0,\"ticks\":\"\"}},\"type\":\"scattergeo\"}],\"scattergl\":[{\"marker\":{\"colorbar\":{\"outlinewidth\":0,\"ticks\":\"\"}},\"type\":\"scattergl\"}],\"scattermapbox\":[{\"marker\":{\"colorbar\":{\"outlinewidth\":0,\"ticks\":\"\"}},\"type\":\"scattermapbox\"}],\"scatterpolar\":[{\"marker\":{\"colorbar\":{\"outlinewidth\":0,\"ticks\":\"\"}},\"type\":\"scatterpolar\"}],\"scatterpolargl\":[{\"marker\":{\"colorbar\":{\"outlinewidth\":0,\"ticks\":\"\"}},\"type\":\"scatterpolargl\"}],\"scatterternary\":[{\"marker\":{\"colorbar\":{\"outlinewidth\":0,\"ticks\":\"\"}},\"type\":\"scatterternary\"}],\"surface\":[{\"colorbar\":{\"outlinewidth\":0,\"ticks\":\"\"},\"colorscale\":[[0.0,\"#0d0887\"],[0.1111111111111111,\"#46039f\"],[0.2222222222222222,\"#7201a8\"],[0.3333333333333333,\"#9c179e\"],[0.4444444444444444,\"#bd3786\"],[0.5555555555555556,\"#d8576b\"],[0.6666666666666666,\"#ed7953\"],[0.7777777777777778,\"#fb9f3a\"],[0.8888888888888888,\"#fdca26\"],[1.0,\"#f0f921\"]],\"type\":\"surface\"}],\"table\":[{\"cells\":{\"fill\":{\"color\":\"#EBF0F8\"},\"line\":{\"color\":\"white\"}},\"header\":{\"fill\":{\"color\":\"#C8D4E3\"},\"line\":{\"color\":\"white\"}},\"type\":\"table\"}]},\"layout\":{\"annotationdefaults\":{\"arrowcolor\":\"#2a3f5f\",\"arrowhead\":0,\"arrowwidth\":1},\"autotypenumbers\":\"strict\",\"coloraxis\":{\"colorbar\":{\"outlinewidth\":0,\"ticks\":\"\"}},\"colorscale\":{\"diverging\":[[0,\"#8e0152\"],[0.1,\"#c51b7d\"],[0.2,\"#de77ae\"],[0.3,\"#f1b6da\"],[0.4,\"#fde0ef\"],[0.5,\"#f7f7f7\"],[0.6,\"#e6f5d0\"],[0.7,\"#b8e186\"],[0.8,\"#7fbc41\"],[0.9,\"#4d9221\"],[1,\"#276419\"]],\"sequential\":[[0.0,\"#0d0887\"],[0.1111111111111111,\"#46039f\"],[0.2222222222222222,\"#7201a8\"],[0.3333333333333333,\"#9c179e\"],[0.4444444444444444,\"#bd3786\"],[0.5555555555555556,\"#d8576b\"],[0.6666666666666666,\"#ed7953\"],[0.7777777777777778,\"#fb9f3a\"],[0.8888888888888888,\"#fdca26\"],[1.0,\"#f0f921\"]],\"sequentialminus\":[[0.0,\"#0d0887\"],[0.1111111111111111,\"#46039f\"],[0.2222222222222222,\"#7201a8\"],[0.3333333333333333,\"#9c179e\"],[0.4444444444444444,\"#bd3786\"],[0.5555555555555556,\"#d8576b\"],[0.6666666666666666,\"#ed7953\"],[0.7777777777777778,\"#fb9f3a\"],[0.8888888888888888,\"#fdca26\"],[1.0,\"#f0f921\"]]},\"colorway\":[\"#636efa\",\"#EF553B\",\"#00cc96\",\"#ab63fa\",\"#FFA15A\",\"#19d3f3\",\"#FF6692\",\"#B6E880\",\"#FF97FF\",\"#FECB52\"],\"font\":{\"color\":\"#2a3f5f\"},\"geo\":{\"bgcolor\":\"white\",\"lakecolor\":\"white\",\"landcolor\":\"#E5ECF6\",\"showlakes\":true,\"showland\":true,\"subunitcolor\":\"white\"},\"hoverlabel\":{\"align\":\"left\"},\"hovermode\":\"closest\",\"mapbox\":{\"style\":\"light\"},\"paper_bgcolor\":\"white\",\"plot_bgcolor\":\"#E5ECF6\",\"polar\":{\"angularaxis\":{\"gridcolor\":\"white\",\"linecolor\":\"white\",\"ticks\":\"\"},\"bgcolor\":\"#E5ECF6\",\"radialaxis\":{\"gridcolor\":\"white\",\"linecolor\":\"white\",\"ticks\":\"\"}},\"scene\":{\"xaxis\":{\"backgroundcolor\":\"#E5ECF6\",\"gridcolor\":\"white\",\"gridwidth\":2,\"linecolor\":\"white\",\"showbackground\":true,\"ticks\":\"\",\"zerolinecolor\":\"white\"},\"yaxis\":{\"backgroundcolor\":\"#E5ECF6\",\"gridcolor\":\"white\",\"gridwidth\":2,\"linecolor\":\"white\",\"showbackground\":true,\"ticks\":\"\",\"zerolinecolor\":\"white\"},\"zaxis\":{\"backgroundcolor\":\"#E5ECF6\",\"gridcolor\":\"white\",\"gridwidth\":2,\"linecolor\":\"white\",\"showbackground\":true,\"ticks\":\"\",\"zerolinecolor\":\"white\"}},\"shapedefaults\":{\"line\":{\"color\":\"#2a3f5f\"}},\"ternary\":{\"aaxis\":{\"gridcolor\":\"white\",\"linecolor\":\"white\",\"ticks\":\"\"},\"baxis\":{\"gridcolor\":\"white\",\"linecolor\":\"white\",\"ticks\":\"\"},\"bgcolor\":\"#E5ECF6\",\"caxis\":{\"gridcolor\":\"white\",\"linecolor\":\"white\",\"ticks\":\"\"}},\"title\":{\"x\":0.05},\"xaxis\":{\"automargin\":true,\"gridcolor\":\"white\",\"linecolor\":\"white\",\"ticks\":\"\",\"title\":{\"standoff\":15},\"zerolinecolor\":\"white\",\"zerolinewidth\":2},\"yaxis\":{\"automargin\":true,\"gridcolor\":\"white\",\"linecolor\":\"white\",\"ticks\":\"\",\"title\":{\"standoff\":15},\"zerolinecolor\":\"white\",\"zerolinewidth\":2}}},\"xaxis\":{\"anchor\":\"y\",\"domain\":[0.0,1.0],\"title\":{\"text\":\"Datum\"}},\"yaxis\":{\"anchor\":\"x\",\"domain\":[0.0,1.0],\"title\":{\"text\":\"CO2\"}}},                        {\"responsive\": true}                    ).then(function(){\n",
       "                            \n",
       "var gd = document.getElementById('058b1c95-101f-4448-b6f7-493dabe95d58');\n",
       "var x = new MutationObserver(function (mutations, observer) {{\n",
       "        var display = window.getComputedStyle(gd).display;\n",
       "        if (!display || display === 'none') {{\n",
       "            console.log([gd, 'removed!']);\n",
       "            Plotly.purge(gd);\n",
       "            observer.disconnect();\n",
       "        }}\n",
       "}});\n",
       "\n",
       "// Listen for the removal of the full notebook cells\n",
       "var notebookContainer = gd.closest('#notebook-container');\n",
       "if (notebookContainer) {{\n",
       "    x.observe(notebookContainer, {childList: true});\n",
       "}}\n",
       "\n",
       "// Listen for the clearing of the current output cell\n",
       "var outputEl = gd.closest('.output');\n",
       "if (outputEl) {{\n",
       "    x.observe(outputEl, {childList: true});\n",
       "}}\n",
       "\n",
       "                        })                };                });            </script>        </div>"
      ]
     },
     "metadata": {},
     "output_type": "display_data"
    }
   ],
   "source": [
    "df_temp = pd.DataFrame(df_test.index,index=df_test.index)\n",
    "df_temp[\"Anwesenheit\"] = (mRF.predict(df_test) + mLR.predict(df_test) + mDT.predict(df_test))/3\n",
    "#df_temp[\"CO2\"] = df_test[\"CO2\"]\n",
    "px.bar(df_test.resample(\"10min\").mean(),y=\"CO2\",color=df_temp.resample(\"10min\").mean()[\"Anwesenheit\"])"
   ]
  },
  {
   "cell_type": "markdown",
   "metadata": {},
   "source": [
    "## XGB Classifier"
   ]
  },
  {
   "cell_type": "code",
   "execution_count": 584,
   "metadata": {},
   "outputs": [
    {
     "ename": "SyntaxError",
     "evalue": "invalid syntax (<ipython-input-584-8b86fe311398>, line 1)",
     "output_type": "error",
     "traceback": [
      "\u001b[1;36m  File \u001b[1;32m\"<ipython-input-584-8b86fe311398>\"\u001b[1;36m, line \u001b[1;32m1\u001b[0m\n\u001b[1;33m    train_model(classifier=XGBClassifier,scaler=MinMaxScaler,args=use_label_encoder=False)\u001b[0m\n\u001b[1;37m                                                                                   ^\u001b[0m\n\u001b[1;31mSyntaxError\u001b[0m\u001b[1;31m:\u001b[0m invalid syntax\n"
     ]
    }
   ],
   "source": [
    "train_model(classifier=XGBClassifier,scaler=MinMaxScaler,args=use_label_encoder=False)"
   ]
  },
  {
   "cell_type": "markdown",
   "metadata": {},
   "source": [
    "## SVC"
   ]
  },
  {
   "cell_type": "code",
   "execution_count": 585,
   "metadata": {},
   "outputs": [
    {
     "name": "stdout",
     "output_type": "stream",
     "text": [
      "Empty DataFrame\n",
      "Columns: [Temperatur, Luftfeuchtigkeit, CO2, Anwesenheit, Arbeitszeit]\n",
      "Index: []\n"
     ]
    },
    {
     "ename": "NameError",
     "evalue": "name 'args' is not defined",
     "output_type": "error",
     "traceback": [
      "\u001b[1;31m---------------------------------------------------------------------------\u001b[0m",
      "\u001b[1;31mNameError\u001b[0m                                 Traceback (most recent call last)",
      "\u001b[1;32m<ipython-input-585-824863593372>\u001b[0m in \u001b[0;36m<module>\u001b[1;34m\u001b[0m\n\u001b[1;32m----> 1\u001b[1;33m \u001b[0mtrain_model\u001b[0m\u001b[1;33m(\u001b[0m\u001b[0mclassifier\u001b[0m\u001b[1;33m=\u001b[0m\u001b[0mSVC\u001b[0m\u001b[1;33m,\u001b[0m\u001b[0mscaler\u001b[0m\u001b[1;33m=\u001b[0m\u001b[0mStandardScaler\u001b[0m\u001b[1;33m)\u001b[0m\u001b[1;33m\u001b[0m\u001b[1;33m\u001b[0m\u001b[0m\n\u001b[0m",
      "\u001b[1;32m<ipython-input-578-518c7bf2eed2>\u001b[0m in \u001b[0;36mtrain_model\u001b[1;34m(classifier, label, scaler)\u001b[0m\n\u001b[0;32m     20\u001b[0m     \u001b[0mX_train\u001b[0m\u001b[1;33m,\u001b[0m \u001b[0mX_test\u001b[0m\u001b[1;33m,\u001b[0m \u001b[0my_train\u001b[0m\u001b[1;33m,\u001b[0m \u001b[0my_test\u001b[0m \u001b[1;33m=\u001b[0m \u001b[0mtrain_test_split\u001b[0m\u001b[1;33m(\u001b[0m\u001b[0mX\u001b[0m\u001b[1;33m,\u001b[0m\u001b[0my\u001b[0m\u001b[1;33m,\u001b[0m \u001b[0mtest_size\u001b[0m\u001b[1;33m=\u001b[0m\u001b[1;36m0.25\u001b[0m\u001b[1;33m)\u001b[0m\u001b[1;33m\u001b[0m\u001b[1;33m\u001b[0m\u001b[0m\n\u001b[0;32m     21\u001b[0m \u001b[1;33m\u001b[0m\u001b[0m\n\u001b[1;32m---> 22\u001b[1;33m     \u001b[0mm\u001b[0m \u001b[1;33m=\u001b[0m \u001b[0mclassifier\u001b[0m\u001b[1;33m(\u001b[0m\u001b[0margs\u001b[0m\u001b[1;33m)\u001b[0m\u001b[1;33m\u001b[0m\u001b[1;33m\u001b[0m\u001b[0m\n\u001b[0m\u001b[0;32m     23\u001b[0m     \u001b[0mget_ipython\u001b[0m\u001b[1;33m(\u001b[0m\u001b[1;33m)\u001b[0m\u001b[1;33m.\u001b[0m\u001b[0mrun_line_magic\u001b[0m\u001b[1;33m(\u001b[0m\u001b[1;34m'time'\u001b[0m\u001b[1;33m,\u001b[0m \u001b[1;34m'm.fit(X_train, y_train)'\u001b[0m\u001b[1;33m)\u001b[0m\u001b[1;33m\u001b[0m\u001b[1;33m\u001b[0m\u001b[0m\n\u001b[0;32m     24\u001b[0m     \u001b[0mprint\u001b[0m\u001b[1;33m(\u001b[0m\u001b[1;34m\"Trainingsdaten:\\n\"\u001b[0m\u001b[1;33m,\u001b[0m\u001b[0mclassification_report\u001b[0m\u001b[1;33m(\u001b[0m\u001b[0my_train\u001b[0m\u001b[1;33m,\u001b[0m\u001b[0mm\u001b[0m\u001b[1;33m.\u001b[0m\u001b[0mpredict\u001b[0m\u001b[1;33m(\u001b[0m\u001b[0mX_train\u001b[0m\u001b[1;33m)\u001b[0m\u001b[1;33m)\u001b[0m\u001b[1;33m)\u001b[0m\u001b[1;33m\u001b[0m\u001b[1;33m\u001b[0m\u001b[0m\n",
      "\u001b[1;31mNameError\u001b[0m: name 'args' is not defined"
     ]
    }
   ],
   "source": [
    "train_model(classifier=SVC,scaler=StandardScaler)"
   ]
  },
  {
   "cell_type": "code",
   "execution_count": 600,
   "metadata": {},
   "outputs": [
    {
     "name": "stderr",
     "output_type": "stream",
     "text": [
      "warning: LF will be replaced by CRLF in HVAC.ipynb.\n",
      "The file will have its original line endings in your working directory\n"
     ]
    }
   ],
   "source": [
    "!git add HVAC.ipynb\n",
    "!git commit -m \"\"\n",
    "#!git push"
   ]
  }
 ],
 "metadata": {
  "kernelspec": {
   "display_name": "Python 3",
   "language": "python",
   "name": "python3"
  },
  "language_info": {
   "codemirror_mode": {
    "name": "ipython",
    "version": 3
   },
   "file_extension": ".py",
   "mimetype": "text/x-python",
   "name": "python",
   "nbconvert_exporter": "python",
   "pygments_lexer": "ipython3",
   "version": "3.8.3"
  }
 },
 "nbformat": 4,
 "nbformat_minor": 5
}
